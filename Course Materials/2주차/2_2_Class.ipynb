{
  "nbformat": 4,
  "nbformat_minor": 0,
  "metadata": {
    "colab": {
      "provenance": []
    },
    "kernelspec": {
      "name": "python3",
      "display_name": "Python 3"
    },
    "language_info": {
      "name": "python"
    }
  },
  "cells": [
    {
      "cell_type": "markdown",
      "source": [
        "# Create a Class\n",
        "\n",
        "```python\n",
        "class ClassName:\n",
        "    def __init__(self):\n",
        "        pass\n",
        "    \n",
        "    def func_name(self):\n",
        "        pass\n",
        "\n",
        "obj = ClassName()\n",
        "```\n",
        "\n",
        "- Python은 객체(object)지향형 언어.\n",
        "- Python에서 사용하는 거의 대부분은 object임.\n",
        "- class를 통해 object를 지정한 후 정의한 함수를 사용하기 위해서는 첫 인자로 `self`를 작성해야함.\n",
        "\n",
        "**Example**\n",
        "- `class`: 과자를 담아내는 틀\n",
        "- `object`: class로 만들어진 과자\n",
        "\n",
        "**Class Name Convention**\n",
        "\n",
        "- class 이름은 주로 CapWords convention을 따름. [ [PEP 8 - Class name](https://peps.python.org/pep-0008/#class-names) ]\n",
        "- 첫 글자는 항상 대문자로 시작하며 단어를 구분할 때도 마찬가지로 대문자로 시작하여 구분.\n",
        "- ex) ClassName, MyClass, DataLoader, ..."
      ],
      "metadata": {
        "id": "x6upK1oCtWdV"
      }
    },
    {
      "cell_type": "code",
      "source": [
        "class Temp:\n",
        "    x = 5"
      ],
      "metadata": {
        "id": "dkEuvW1suNDd"
      },
      "execution_count": 26,
      "outputs": []
    },
    {
      "cell_type": "markdown",
      "source": [
        "# Create objects\n",
        "\n",
        "아래 예시에서 `c_ex`는 object이자 `Temp` class의 instance 임"
      ],
      "metadata": {
        "id": "EkyQKuOUuNkT"
      }
    },
    {
      "cell_type": "code",
      "source": [
        "c_ex = Temp()\n",
        "print('c_ex.x: ',c_ex.x)"
      ],
      "metadata": {
        "id": "KH5hckLBuO3G",
        "colab": {
          "base_uri": "https://localhost:8080/"
        },
        "outputId": "aaa8db3e-d359-4a4d-f027-7d3d8a249ee2"
      },
      "execution_count": 27,
      "outputs": [
        {
          "output_type": "stream",
          "name": "stdout",
          "text": [
            "c_ex.x:  5\n"
          ]
        }
      ]
    },
    {
      "cell_type": "code",
      "source": [
        "c1 = Temp()\n",
        "c2 = Temp()\n",
        "\n",
        "print('id(c1): ', id(c1))\n",
        "print('id(c2): ', id(c2))"
      ],
      "metadata": {
        "id": "YjBRJAyVigdK",
        "colab": {
          "base_uri": "https://localhost:8080/"
        },
        "outputId": "3ff0c65a-e9d1-4e67-98ec-8cd4fadf3e3a"
      },
      "execution_count": 28,
      "outputs": [
        {
          "output_type": "stream",
          "name": "stdout",
          "text": [
            "id(c1):  138281463576384\n",
            "id(c2):  138281463862704\n"
          ]
        }
      ]
    },
    {
      "cell_type": "markdown",
      "source": [
        "# `__init__()` function\n",
        "\n",
        "- 앞서 작성한 `Temp`라는 class는 간단히 작성한 예시임.\n",
        "- 그러나 실제로 class의 초기값을 지정할 때는 `__init__`을 사용하는 것이 일반적임.\n"
      ],
      "metadata": {
        "id": "6GYK2IKfuPyS"
      }
    },
    {
      "cell_type": "code",
      "source": [
        "class Temp:\n",
        "    def __init__(self):\n",
        "        self.x = 5\n",
        "\n",
        "c_ex = Temp()\n",
        "print('c_ex.x: ',c_ex.x)"
      ],
      "metadata": {
        "id": "Mml9yw_KuSDW",
        "colab": {
          "base_uri": "https://localhost:8080/"
        },
        "outputId": "db7142dd-8dec-40cc-d392-475cdd62a81a"
      },
      "execution_count": 29,
      "outputs": [
        {
          "output_type": "stream",
          "name": "stdout",
          "text": [
            "c_ex.x:  5\n"
          ]
        }
      ]
    },
    {
      "cell_type": "code",
      "source": [
        "class Temp:\n",
        "    def __init__(self, x = 5):\n",
        "        self.x = x\n",
        "\n",
        "c_ex = Temp()\n",
        "print('c_ex.x: ',c_ex.x)"
      ],
      "metadata": {
        "id": "VS8vU8Dqxm4h",
        "colab": {
          "base_uri": "https://localhost:8080/"
        },
        "outputId": "82a2555f-39a5-4ed4-88bc-5e901ebae874"
      },
      "execution_count": 30,
      "outputs": [
        {
          "output_type": "stream",
          "name": "stdout",
          "text": [
            "c_ex.x:  5\n"
          ]
        }
      ]
    },
    {
      "cell_type": "code",
      "source": [
        "c_ex = Temp(x=10)\n",
        "print('c_ex.x: ',c_ex.x)"
      ],
      "metadata": {
        "id": "OioBEYs8xrKH",
        "colab": {
          "base_uri": "https://localhost:8080/"
        },
        "outputId": "d58e753d-dc9c-4d2d-8baf-dc50c6675e02"
      },
      "execution_count": 31,
      "outputs": [
        {
          "output_type": "stream",
          "name": "stdout",
          "text": [
            "c_ex.x:  10\n"
          ]
        }
      ]
    },
    {
      "cell_type": "markdown",
      "source": [
        "# Object methods\n",
        "\n",
        "- class 내에서 함수를 정의할 수 있음.\n",
        "- class 내에서 정의된 함수를 `method`라고함\n",
        "- 단, class로 생성한 object에서 함수를 사용할 때 첫 번째 인자로 `self` 작성해야 함."
      ],
      "metadata": {
        "id": "ZoRfB9y6uiti"
      }
    },
    {
      "cell_type": "code",
      "source": [
        "class WhoAmI:\n",
        "    def __init__(self, name):\n",
        "        self.name = name\n",
        "\n",
        "    def introduce_myself(self):\n",
        "        print(f'My name is {self.name}')"
      ],
      "metadata": {
        "id": "EWAr_ShbukcP"
      },
      "execution_count": 32,
      "outputs": []
    },
    {
      "cell_type": "code",
      "source": [
        "person = WhoAmI(name='Seonho Yoo')\n",
        "person.introduce_myself()"
      ],
      "metadata": {
        "id": "7DgpAGjhsgXn",
        "colab": {
          "base_uri": "https://localhost:8080/"
        },
        "outputId": "b9f404e8-1dde-4115-ca40-f9d652a14022"
      },
      "execution_count": 33,
      "outputs": [
        {
          "output_type": "stream",
          "name": "stdout",
          "text": [
            "My name is Seonho Yoo\n"
          ]
        }
      ]
    },
    {
      "cell_type": "markdown",
      "source": [
        "# `self`?\n",
        "\n",
        "- `self`란 instance를 의미함.\n",
        "- 반드시 self라고 작성해야 하는 것은 아니나 관습에 따라 self로 작성하는 것이 일반적임.\n"
      ],
      "metadata": {
        "id": "hbEHawSGgeb2"
      }
    },
    {
      "cell_type": "code",
      "source": [
        "class Temp:\n",
        "    def func1(self):\n",
        "        print('id(self): ',id(self))\n",
        "        print('func 1')\n",
        "\n",
        "\n",
        "    def func2():\n",
        "        print('func 2')"
      ],
      "metadata": {
        "id": "Vd6TY-pwiAg9"
      },
      "execution_count": 34,
      "outputs": []
    },
    {
      "cell_type": "code",
      "source": [
        "c = Temp()\n",
        "\n",
        "print('id(c): ',id(c))\n",
        "c.func1()"
      ],
      "metadata": {
        "id": "U35HFOUdiVVY",
        "colab": {
          "base_uri": "https://localhost:8080/"
        },
        "outputId": "8f42be73-b3a8-4c05-fb74-e1c254c03555"
      },
      "execution_count": 35,
      "outputs": [
        {
          "output_type": "stream",
          "name": "stdout",
          "text": [
            "id(c):  138281453900704\n",
            "id(self):  138281453900704\n",
            "func 1\n"
          ]
        }
      ]
    },
    {
      "cell_type": "code",
      "source": [
        "c2 = Temp()\n",
        "\n",
        "print('id(c2): ',id(c2))\n",
        "c2.func1()"
      ],
      "metadata": {
        "id": "oop9Wj5-jgCB",
        "colab": {
          "base_uri": "https://localhost:8080/"
        },
        "outputId": "047d702c-56f8-4c21-c959-7418c9dd56a0"
      },
      "execution_count": 36,
      "outputs": [
        {
          "output_type": "stream",
          "name": "stdout",
          "text": [
            "id(c2):  138281464635872\n",
            "id(self):  138281464635872\n",
            "func 1\n"
          ]
        }
      ]
    },
    {
      "cell_type": "code",
      "source": [
        "# instance를 받아 올 self가 지정되어 있지 않기 때문에 오류\n",
        "c.func2()"
      ],
      "metadata": {
        "id": "LZtf87pui55y",
        "colab": {
          "base_uri": "https://localhost:8080/",
          "height": 167
        },
        "outputId": "c796eba0-82fe-4dbf-fbd9-344cfa0d2338"
      },
      "execution_count": 37,
      "outputs": [
        {
          "output_type": "error",
          "ename": "TypeError",
          "evalue": "Temp.func2() takes 0 positional arguments but 1 was given",
          "traceback": [
            "\u001b[0;31m---------------------------------------------------------------------------\u001b[0m",
            "\u001b[0;31mTypeError\u001b[0m                                 Traceback (most recent call last)",
            "\u001b[0;32m/tmp/ipython-input-4084120588.py\u001b[0m in \u001b[0;36m<cell line: 0>\u001b[0;34m()\u001b[0m\n\u001b[1;32m      1\u001b[0m \u001b[0;31m# instance를 받아 올 self가 지정되어 있지 않기 때문에 오류\u001b[0m\u001b[0;34m\u001b[0m\u001b[0;34m\u001b[0m\u001b[0m\n\u001b[0;32m----> 2\u001b[0;31m \u001b[0mc\u001b[0m\u001b[0;34m.\u001b[0m\u001b[0mfunc2\u001b[0m\u001b[0;34m(\u001b[0m\u001b[0;34m)\u001b[0m\u001b[0;34m\u001b[0m\u001b[0;34m\u001b[0m\u001b[0m\n\u001b[0m",
            "\u001b[0;31mTypeError\u001b[0m: Temp.func2() takes 0 positional arguments but 1 was given"
          ]
        }
      ]
    },
    {
      "cell_type": "code",
      "source": [
        "Temp.func2()"
      ],
      "metadata": {
        "id": "Nqorf8F1pdXX",
        "colab": {
          "base_uri": "https://localhost:8080/"
        },
        "outputId": "05539d6f-0a7b-4b36-bf0d-b5b3211daeb0"
      },
      "execution_count": 38,
      "outputs": [
        {
          "output_type": "stream",
          "name": "stdout",
          "text": [
            "func 2\n"
          ]
        }
      ]
    },
    {
      "cell_type": "markdown",
      "source": [
        "# Modify object properties\n",
        "\n",
        "- class에서 정의한 변수 또한 변경 가능"
      ],
      "metadata": {
        "id": "SDO-p77iuv04"
      }
    },
    {
      "cell_type": "code",
      "source": [
        "class WhoAmI:\n",
        "    def __init__(self, name):\n",
        "        self.name = name\n",
        "\n",
        "    def introduce_myself(self):\n",
        "        print(f'My name is {self.name}')"
      ],
      "metadata": {
        "id": "SFBmYPZ7u1LQ"
      },
      "execution_count": 39,
      "outputs": []
    },
    {
      "cell_type": "code",
      "source": [
        "person = WhoAmI(name='Seonho Yoo')\n",
        "person.introduce_myself()"
      ],
      "metadata": {
        "id": "hvBHVtWfsxO1",
        "colab": {
          "base_uri": "https://localhost:8080/"
        },
        "outputId": "a46b6a02-ea08-48a3-b853-178db3992932"
      },
      "execution_count": 40,
      "outputs": [
        {
          "output_type": "stream",
          "name": "stdout",
          "text": [
            "My name is Seonho Yoo\n"
          ]
        }
      ]
    },
    {
      "cell_type": "code",
      "source": [
        "person.name = 'Jaejune Jeong'\n",
        "person.introduce_myself()"
      ],
      "metadata": {
        "id": "XExiXafJsyEp",
        "colab": {
          "base_uri": "https://localhost:8080/"
        },
        "outputId": "7ab62f83-e858-4116-d3bc-3b3488090e63"
      },
      "execution_count": 41,
      "outputs": [
        {
          "output_type": "stream",
          "name": "stdout",
          "text": [
            "My name is Jaejune Jeong\n"
          ]
        }
      ]
    },
    {
      "cell_type": "markdown",
      "source": [
        "# Delete object properties\n",
        "\n",
        "- 마찬가지로 `del`을 통해 class 내에서 정의한 변수를 삭제할 수 있음"
      ],
      "metadata": {
        "id": "nX26rVJUu1fZ"
      }
    },
    {
      "cell_type": "code",
      "source": [
        "person.introduce_myself()"
      ],
      "metadata": {
        "id": "TzvGzO_iu3uF",
        "colab": {
          "base_uri": "https://localhost:8080/"
        },
        "outputId": "09bb2d8c-3034-4016-d94b-a5321604e74d"
      },
      "execution_count": 42,
      "outputs": [
        {
          "output_type": "stream",
          "name": "stdout",
          "text": [
            "My name is Jaejune Jeong\n"
          ]
        }
      ]
    },
    {
      "cell_type": "code",
      "source": [
        "del person.name"
      ],
      "metadata": {
        "id": "kk9Q-gELteAK"
      },
      "execution_count": 43,
      "outputs": []
    },
    {
      "cell_type": "code",
      "source": [
        "person.introduce_myself()"
      ],
      "metadata": {
        "id": "TjlS-E1Rtfz2",
        "colab": {
          "base_uri": "https://localhost:8080/",
          "height": 241
        },
        "outputId": "64e7e533-829c-4f60-c75a-51c9c1c2cf1a"
      },
      "execution_count": 44,
      "outputs": [
        {
          "output_type": "error",
          "ename": "AttributeError",
          "evalue": "'WhoAmI' object has no attribute 'name'",
          "traceback": [
            "\u001b[0;31m---------------------------------------------------------------------------\u001b[0m",
            "\u001b[0;31mAttributeError\u001b[0m                            Traceback (most recent call last)",
            "\u001b[0;32m/tmp/ipython-input-1533108497.py\u001b[0m in \u001b[0;36m<cell line: 0>\u001b[0;34m()\u001b[0m\n\u001b[0;32m----> 1\u001b[0;31m \u001b[0mperson\u001b[0m\u001b[0;34m.\u001b[0m\u001b[0mintroduce_myself\u001b[0m\u001b[0;34m(\u001b[0m\u001b[0;34m)\u001b[0m\u001b[0;34m\u001b[0m\u001b[0;34m\u001b[0m\u001b[0m\n\u001b[0m",
            "\u001b[0;32m/tmp/ipython-input-579139323.py\u001b[0m in \u001b[0;36mintroduce_myself\u001b[0;34m(self)\u001b[0m\n\u001b[1;32m      4\u001b[0m \u001b[0;34m\u001b[0m\u001b[0m\n\u001b[1;32m      5\u001b[0m     \u001b[0;32mdef\u001b[0m \u001b[0mintroduce_myself\u001b[0m\u001b[0;34m(\u001b[0m\u001b[0mself\u001b[0m\u001b[0;34m)\u001b[0m\u001b[0;34m:\u001b[0m\u001b[0;34m\u001b[0m\u001b[0;34m\u001b[0m\u001b[0m\n\u001b[0;32m----> 6\u001b[0;31m         \u001b[0mprint\u001b[0m\u001b[0;34m(\u001b[0m\u001b[0;34mf'My name is {self.name}'\u001b[0m\u001b[0;34m)\u001b[0m\u001b[0;34m\u001b[0m\u001b[0;34m\u001b[0m\u001b[0m\n\u001b[0m",
            "\u001b[0;31mAttributeError\u001b[0m: 'WhoAmI' object has no attribute 'name'"
          ]
        }
      ]
    },
    {
      "cell_type": "markdown",
      "source": [
        "# Inheritance\n",
        "\n",
        "- class는 다른 class에 상속(inheritance)하여 사용할 수 있음.\n",
        "- Python에서 상속은 class를 활용하는 핵심 개념임.\n",
        "- 기준이 되는 class를 구성한 후 상속하여 사용하면 효율적이고 확장성있게 코드를 작성할 수 있음\n",
        "\n",
        "**Example**\n",
        "```python\n",
        "class A:\n",
        "    def __init__(self):\n",
        "        self.x = 10\n",
        "\n",
        "class B(A):\n",
        "    def __init__(self):\n",
        "        super().__init__()\n",
        "```\n",
        "\n",
        "- class 상속을 위해서는 위 예시와 같이 class 이름 옆에 상속하고자 하는 class의 이름을 작성하여야 함.\n",
        "- 상속할 class의 속성을 받아오기 위해서는 `super`를 사용하여야 함."
      ],
      "metadata": {
        "id": "FGCROEv2u75v"
      }
    },
    {
      "cell_type": "markdown",
      "source": [
        "## Create a Parent Class\n"
      ],
      "metadata": {
        "id": "qynhjZxSu9vf"
      }
    },
    {
      "cell_type": "code",
      "source": [
        "class A:\n",
        "    def __init__(self):\n",
        "        self.x = 10\n",
        "\n",
        "a = A()\n",
        "a.x"
      ],
      "metadata": {
        "id": "tQs2UlLPu9eR",
        "colab": {
          "base_uri": "https://localhost:8080/"
        },
        "outputId": "eee67395-53a2-4fd8-d723-07e367101954"
      },
      "execution_count": 45,
      "outputs": [
        {
          "output_type": "execute_result",
          "data": {
            "text/plain": [
              "10"
            ]
          },
          "metadata": {},
          "execution_count": 45
        }
      ]
    },
    {
      "cell_type": "markdown",
      "source": [
        "## Create a Child Class"
      ],
      "metadata": {
        "id": "x7YvWsSqvAtF"
      }
    },
    {
      "cell_type": "code",
      "source": [
        "class B(A):\n",
        "    def __init__(self):\n",
        "        super().__init__()\n",
        "\n",
        "b = B()\n",
        "b.x"
      ],
      "metadata": {
        "id": "2UGeyRRVvC6O",
        "colab": {
          "base_uri": "https://localhost:8080/"
        },
        "outputId": "ac3adad6-54c5-41c9-bc68-2a6c157a0a18"
      },
      "execution_count": 46,
      "outputs": [
        {
          "output_type": "execute_result",
          "data": {
            "text/plain": [
              "10"
            ]
          },
          "metadata": {},
          "execution_count": 46
        }
      ]
    },
    {
      "cell_type": "code",
      "source": [
        "# 만약 super를 사용하지 않으면 상속한 class의 속성을 사용할 수 없음\n",
        "class B(A):\n",
        "    def __init__(self):\n",
        "        pass\n",
        "\n",
        "b = B()\n",
        "b.x"
      ],
      "metadata": {
        "id": "3-KR8pKTft_B",
        "colab": {
          "base_uri": "https://localhost:8080/",
          "height": 185
        },
        "outputId": "a524c0da-8617-4948-eb83-29297a7b9789"
      },
      "execution_count": 47,
      "outputs": [
        {
          "output_type": "error",
          "ename": "AttributeError",
          "evalue": "'B' object has no attribute 'x'",
          "traceback": [
            "\u001b[0;31m---------------------------------------------------------------------------\u001b[0m",
            "\u001b[0;31mAttributeError\u001b[0m                            Traceback (most recent call last)",
            "\u001b[0;32m/tmp/ipython-input-2845235366.py\u001b[0m in \u001b[0;36m<cell line: 0>\u001b[0;34m()\u001b[0m\n\u001b[1;32m      5\u001b[0m \u001b[0;34m\u001b[0m\u001b[0m\n\u001b[1;32m      6\u001b[0m \u001b[0mb\u001b[0m \u001b[0;34m=\u001b[0m \u001b[0mB\u001b[0m\u001b[0;34m(\u001b[0m\u001b[0;34m)\u001b[0m\u001b[0;34m\u001b[0m\u001b[0;34m\u001b[0m\u001b[0m\n\u001b[0;32m----> 7\u001b[0;31m \u001b[0mb\u001b[0m\u001b[0;34m.\u001b[0m\u001b[0mx\u001b[0m\u001b[0;34m\u001b[0m\u001b[0;34m\u001b[0m\u001b[0m\n\u001b[0m",
            "\u001b[0;31mAttributeError\u001b[0m: 'B' object has no attribute 'x'"
          ]
        }
      ]
    },
    {
      "cell_type": "markdown",
      "source": [
        "## Example 1\n",
        "\n",
        "- class 상속은 상속한 class의 method도 같이 받아올 수 있음.\n",
        "- 또한, 새롭게 method를 정의하여 사용할 수 있음."
      ],
      "metadata": {
        "id": "eapjwYM3pcHG"
      }
    },
    {
      "cell_type": "code",
      "source": [
        "class A:\n",
        "    def __init__(self):\n",
        "        self.x = 10\n",
        "\n",
        "    def add_1(self):\n",
        "        self.x += 1\n",
        "\n",
        "class B(A):\n",
        "    def __init__(self):\n",
        "        super().__init__()\n",
        "\n",
        "    def minus_2(self):\n",
        "        self.x -= 2\n",
        "\n",
        "b = B()\n",
        "b.x"
      ],
      "metadata": {
        "id": "AUTEaOMUpbrh",
        "colab": {
          "base_uri": "https://localhost:8080/"
        },
        "outputId": "8ff7b705-e193-4a89-ec50-13b230a740b5"
      },
      "execution_count": 48,
      "outputs": [
        {
          "output_type": "execute_result",
          "data": {
            "text/plain": [
              "10"
            ]
          },
          "metadata": {},
          "execution_count": 48
        }
      ]
    },
    {
      "cell_type": "code",
      "source": [
        "b.add_1()\n",
        "b.x"
      ],
      "metadata": {
        "id": "ihsRn3fJpo4C",
        "colab": {
          "base_uri": "https://localhost:8080/"
        },
        "outputId": "b3d6370b-1771-4bbc-a3ad-21e8ac258dc8"
      },
      "execution_count": 49,
      "outputs": [
        {
          "output_type": "execute_result",
          "data": {
            "text/plain": [
              "11"
            ]
          },
          "metadata": {},
          "execution_count": 49
        }
      ]
    },
    {
      "cell_type": "code",
      "source": [
        "b.minus_2()\n",
        "b.x"
      ],
      "metadata": {
        "id": "X5xaVSknp7GQ",
        "colab": {
          "base_uri": "https://localhost:8080/"
        },
        "outputId": "f0ef1769-619a-4e95-b3fa-539dd218e94c"
      },
      "execution_count": 50,
      "outputs": [
        {
          "output_type": "execute_result",
          "data": {
            "text/plain": [
              "9"
            ]
          },
          "metadata": {},
          "execution_count": 50
        }
      ]
    },
    {
      "cell_type": "markdown",
      "source": [
        "## Example 2\n",
        "\n",
        "1. `ClassInfo`: 수강학생들에 대한 정보를 기입하기 위한 class를 생성.\n",
        "2. `{class name}`: `ClassInfo`를 상속받아서 수업 정보와 수강한 학생들 정보를 작성"
      ],
      "metadata": {
        "id": "pcyIpJf2gKJh"
      }
    },
    {
      "cell_type": "code",
      "source": [
        "class ClassInfo:\n",
        "    def __init__(self, prof_name: str, class_name: str):\n",
        "        '''\n",
        "        Args:\n",
        "        - prof_name(str): professor's name\n",
        "        - class_name(str): class name\n",
        "        '''\n",
        "        self.prof_name = prof_name\n",
        "        self.class_name = class_name\n",
        "        self.students = {}\n",
        "\n",
        "    def class_info(self):\n",
        "        print(f'\\n[Class: {self.class_name}]')\n",
        "        print(f\"Professor's name is {self.prof_name}\")\n",
        "        print(f'Number of students is {len(self.students)}')\n",
        "\n",
        "    def student_list(self):\n",
        "        print(f'\\n[Total student: {len(self.students)}]')\n",
        "        for k in self.students.keys():\n",
        "            print(k)\n",
        "\n",
        "    def update_student_info(\n",
        "        self, name: str, major: str,\n",
        "        f_food: str, f_place: str, f_restaurant: str, interest: list):\n",
        "\n",
        "        '''\n",
        "        Update student's information\n",
        "\n",
        "        Args:\n",
        "        - name(str): student's name\n",
        "        - major(str): student's major\n",
        "        - f_food(str): favorite food\n",
        "        - f_place(str): favorite place\n",
        "        - f_restaurant(str): favorite restaurant\n",
        "        - interest(list): things student might be interested in\n",
        "        '''\n",
        "\n",
        "        if name in self.students:\n",
        "            print('This student is already enrolled.')\n",
        "        else:\n",
        "            info = {\n",
        "                name : {\n",
        "                    'major': major,\n",
        "                    'f_food': f_food,\n",
        "                    'f_place': f_place,\n",
        "                    'f_restaurant': f_restaurant,\n",
        "                    'interest': interest\n",
        "                }\n",
        "            }\n",
        "\n",
        "            self.students.update(info)\n",
        "\n",
        "    def find_student(self, name):\n",
        "        '''\n",
        "        Find student's information\n",
        "\n",
        "        Args:\n",
        "        - name(str): student's name\n",
        "        '''\n",
        "        print(f'\\n[Student: {name}]')\n",
        "        for k, v in self.students[name].items():\n",
        "          print(f'{k}: {v}')"
      ],
      "metadata": {
        "id": "3pBCRRi9f5j1"
      },
      "execution_count": 51,
      "outputs": []
    },
    {
      "cell_type": "code",
      "source": [
        "class YoutubeClass(ClassInfo):\n",
        "    def __init__(self, prof_name: str, class_name: str):\n",
        "        '''\n",
        "        Args:\n",
        "        - prof_name(str): professor's name\n",
        "        - class_name(str): class name\n",
        "        '''\n",
        "        super().__init__(prof_name=prof_name, class_name=class_name)\n",
        "\n",
        "\n",
        "class TwitchClass(ClassInfo):\n",
        "    def __init__(self, prof_name: str, class_name: str):\n",
        "        '''\n",
        "        Args:\n",
        "        - prof_name(str): professor's name\n",
        "        - class_name(str): class name\n",
        "        '''\n",
        "        super().__init__(prof_name=prof_name, class_name=class_name)"
      ],
      "metadata": {
        "id": "8dUa8o3avV29"
      },
      "execution_count": 52,
      "outputs": []
    },
    {
      "cell_type": "code",
      "source": [
        "youtube_class = YoutubeClass(prof_name='곽준빈', class_name='youtube')\n",
        "twitch_class = TwitchClass(prof_name='침착맨', class_name='twitch')"
      ],
      "metadata": {
        "id": "LdRC8USArSz5"
      },
      "execution_count": 53,
      "outputs": []
    },
    {
      "cell_type": "markdown",
      "source": [
        "---\n",
        "Youtube Class\n",
        "\n",
        "---"
      ],
      "metadata": {
        "id": "6SZaKLU7t2Fm"
      }
    },
    {
      "cell_type": "code",
      "source": [
        "youtube_class.class_info()"
      ],
      "metadata": {
        "id": "ZbXnZdQSryrA",
        "colab": {
          "base_uri": "https://localhost:8080/"
        },
        "outputId": "2015161f-aecc-43ac-98e2-622c0bad4f8e"
      },
      "execution_count": 54,
      "outputs": [
        {
          "output_type": "stream",
          "name": "stdout",
          "text": [
            "\n",
            "[Class: youtube]\n",
            "Professor's name is 곽준빈\n",
            "Number of students is 0\n"
          ]
        }
      ]
    },
    {
      "cell_type": "code",
      "source": [
        "youtube_class.update_student_info(\n",
        "    name = '유선호',\n",
        "    major = '산업경영공학',\n",
        "    f_food = '김치찌개',\n",
        "    f_place = '개운산',\n",
        "    f_restaurant = '전주 외할머니댁',\n",
        "    interest = ['졸업 언제하지','커서 뭐하지','오늘 저녁은 뭐먹지']\n",
        ")"
      ],
      "metadata": {
        "id": "kMCebTScr_fb"
      },
      "execution_count": 55,
      "outputs": []
    },
    {
      "cell_type": "code",
      "source": [
        "youtube_class.class_info()"
      ],
      "metadata": {
        "id": "0lVN5vHzsu3j",
        "colab": {
          "base_uri": "https://localhost:8080/"
        },
        "outputId": "b68b56a3-70ac-4f87-bc5c-a5ee78c55922"
      },
      "execution_count": 56,
      "outputs": [
        {
          "output_type": "stream",
          "name": "stdout",
          "text": [
            "\n",
            "[Class: youtube]\n",
            "Professor's name is 곽준빈\n",
            "Number of students is 1\n"
          ]
        }
      ]
    },
    {
      "cell_type": "code",
      "source": [
        "youtube_class.find_student(name='유선호')"
      ],
      "metadata": {
        "id": "9poTwOSeswgK",
        "colab": {
          "base_uri": "https://localhost:8080/"
        },
        "outputId": "91607ce3-9d60-4279-f8c7-830e802c057b"
      },
      "execution_count": 57,
      "outputs": [
        {
          "output_type": "stream",
          "name": "stdout",
          "text": [
            "\n",
            "[Student: 유선호]\n",
            "major: 산업경영공학\n",
            "f_food: 김치찌개\n",
            "f_place: 개운산\n",
            "f_restaurant: 전주 외할머니댁\n",
            "interest: ['졸업 언제하지', '커서 뭐하지', '오늘 저녁은 뭐먹지']\n"
          ]
        }
      ]
    },
    {
      "cell_type": "code",
      "source": [
        "youtube_class.update_student_info(\n",
        "    name = '유선호',\n",
        "    major = '산업경영공학',\n",
        "    f_food = '김치찌개',\n",
        "    f_place = '개운산',\n",
        "    f_restaurant = '전주 외할머니댁',\n",
        "    interest = ['졸업 언제하지','커서 뭐하지','오늘 저녁은 뭐먹지']\n",
        ")"
      ],
      "metadata": {
        "id": "iOqYe1_MtYkX",
        "colab": {
          "base_uri": "https://localhost:8080/"
        },
        "outputId": "e7ae33cb-5ac8-438d-b422-7bc783115d5f"
      },
      "execution_count": 58,
      "outputs": [
        {
          "output_type": "stream",
          "name": "stdout",
          "text": [
            "This student is already enrolled.\n"
          ]
        }
      ]
    },
    {
      "cell_type": "code",
      "source": [
        "youtube_class.student_list()"
      ],
      "metadata": {
        "id": "NrQZlMetueLy",
        "colab": {
          "base_uri": "https://localhost:8080/"
        },
        "outputId": "cc0addb2-f45a-4213-b213-1915765cb821"
      },
      "execution_count": 59,
      "outputs": [
        {
          "output_type": "stream",
          "name": "stdout",
          "text": [
            "\n",
            "[Total student: 1]\n",
            "유선호\n"
          ]
        }
      ]
    },
    {
      "cell_type": "markdown",
      "source": [
        "---\n",
        "Twich Class\n",
        "\n",
        "---"
      ],
      "metadata": {
        "id": "DvD1rmK6tqT8"
      }
    },
    {
      "cell_type": "code",
      "source": [
        "twitch_class.class_info()"
      ],
      "metadata": {
        "id": "li8TGWS-r18A",
        "colab": {
          "base_uri": "https://localhost:8080/"
        },
        "outputId": "9efea043-3493-42e8-d7b3-23113a7bae57"
      },
      "execution_count": 60,
      "outputs": [
        {
          "output_type": "stream",
          "name": "stdout",
          "text": [
            "\n",
            "[Class: twitch]\n",
            "Professor's name is 침착맨\n",
            "Number of students is 0\n"
          ]
        }
      ]
    },
    {
      "cell_type": "code",
      "source": [],
      "metadata": {
        "id": "iZwIK4E9bp6R"
      },
      "execution_count": null,
      "outputs": []
    }
  ]
}