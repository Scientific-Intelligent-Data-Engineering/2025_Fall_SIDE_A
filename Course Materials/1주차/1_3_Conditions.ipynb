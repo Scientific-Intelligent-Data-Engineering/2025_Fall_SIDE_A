{
  "nbformat": 4,
  "nbformat_minor": 0,
  "metadata": {
    "colab": {
      "provenance": [],
      "toc_visible": true
    },
    "kernelspec": {
      "name": "python3",
      "display_name": "Python 3"
    },
    "language_info": {
      "name": "python"
    }
  },
  "cells": [
    {
      "cell_type": "markdown",
      "source": [
        "# Conditions\n",
        "\n",
        "Contidion의 결과는 `True` 또는 `False`로 반환됨\n",
        "\n",
        "- `a == b`: Equals.\n",
        "- `a != b`: Not Equals.\n",
        "- `a < b`: Less than\n",
        "- `a <= b`: Less than or equal to\n",
        "- `a > b`: Greater than\n",
        "- `a >= b`: Greater than or equal to"
      ],
      "metadata": {
        "id": "wUHYCE5j8EYt"
      }
    },
    {
      "cell_type": "markdown",
      "source": [
        "`a == b`: Equals."
      ],
      "metadata": {
        "id": "fyTFQJfz-8M-"
      }
    },
    {
      "cell_type": "code",
      "source": [
        "a = '1'\n",
        "b = '1'\n",
        "print('a: ',a)\n",
        "print('b: ',b)\n",
        "print('a == b: ', a == b)"
      ],
      "metadata": {
        "id": "tf7BH-kA-7Pm",
        "colab": {
          "base_uri": "https://localhost:8080/"
        },
        "outputId": "2e94292e-2424-4d61-9ffb-bd5ddc0ab141"
      },
      "execution_count": null,
      "outputs": [
        {
          "output_type": "stream",
          "name": "stdout",
          "text": [
            "a:  1\n",
            "b:  1\n",
            "a == b:  True\n"
          ]
        }
      ]
    },
    {
      "cell_type": "code",
      "source": [
        "a = '1'\n",
        "b = 1\n",
        "print('a: ',a)\n",
        "print('b: ',b)\n",
        "print('a == b: ', a == b)"
      ],
      "metadata": {
        "id": "8gehUhfS615r",
        "colab": {
          "base_uri": "https://localhost:8080/"
        },
        "outputId": "ba14862c-6cb5-4d7f-f327-e47ee7878703"
      },
      "execution_count": null,
      "outputs": [
        {
          "output_type": "stream",
          "name": "stdout",
          "text": [
            "a:  1\n",
            "b:  1\n",
            "a == b:  False\n"
          ]
        }
      ]
    },
    {
      "cell_type": "markdown",
      "source": [
        "`a != b`: Not Equals."
      ],
      "metadata": {
        "id": "mYC8nlZm-_R4"
      }
    },
    {
      "cell_type": "code",
      "execution_count": null,
      "metadata": {
        "id": "ZE88AlXwsmoO",
        "colab": {
          "base_uri": "https://localhost:8080/"
        },
        "outputId": "00b6a8c6-758d-4df5-9936-30afcf52b3f4"
      },
      "outputs": [
        {
          "output_type": "stream",
          "name": "stdout",
          "text": [
            "a:  1111111\n",
            "b:  11111111\n",
            "a != b:  True\n"
          ]
        }
      ],
      "source": [
        "a = '1111111'\n",
        "b = '11111111'\n",
        "print('a: ',a)\n",
        "print('b: ',b)\n",
        "print('a != b: ', a != b)"
      ]
    },
    {
      "cell_type": "code",
      "source": [
        "print(f\"a.count('1'): {a.count('1')}\")\n",
        "print(f\"b.count('1'): {b.count('1')}\")"
      ],
      "metadata": {
        "id": "BO_dmV17E6PQ",
        "colab": {
          "base_uri": "https://localhost:8080/"
        },
        "outputId": "c2e87850-32ee-448c-8f91-49a1c318558c"
      },
      "execution_count": null,
      "outputs": [
        {
          "output_type": "stream",
          "name": "stdout",
          "text": [
            "a.count('1'): 7\n",
            "b.count('1'): 8\n"
          ]
        }
      ]
    },
    {
      "cell_type": "code",
      "source": [
        "a = '11111111'\n",
        "b = '11111111'\n",
        "print('a: ',a)\n",
        "print('b: ',b)\n",
        "print('a != b: ', a != b)"
      ],
      "metadata": {
        "id": "nLuVbCpzBZGU",
        "colab": {
          "base_uri": "https://localhost:8080/"
        },
        "outputId": "6c4d2ac6-bc81-4cef-b0f4-d3c2191e086e"
      },
      "execution_count": null,
      "outputs": [
        {
          "output_type": "stream",
          "name": "stdout",
          "text": [
            "a:  11111111\n",
            "b:  11111111\n",
            "a != b:  False\n"
          ]
        }
      ]
    },
    {
      "cell_type": "markdown",
      "source": [
        "`a < b`: Less than"
      ],
      "metadata": {
        "id": "WLzhaxlo_B2e"
      }
    },
    {
      "cell_type": "code",
      "source": [
        "a = 1\n",
        "b = 10\n",
        "print('a: ',a)\n",
        "print('b: ',b)\n",
        "print('a < b: ', a < b)"
      ],
      "metadata": {
        "id": "xQUzLdFu_Dni",
        "colab": {
          "base_uri": "https://localhost:8080/"
        },
        "outputId": "52610ffc-982c-4ff9-8d72-78e0d8ccc47f"
      },
      "execution_count": null,
      "outputs": [
        {
          "output_type": "stream",
          "name": "stdout",
          "text": [
            "a:  1\n",
            "b:  10\n",
            "a < b:  True\n"
          ]
        }
      ]
    },
    {
      "cell_type": "markdown",
      "source": [
        "`a <= b`: Less than or equal to"
      ],
      "metadata": {
        "id": "67mY7ngJ_ESQ"
      }
    },
    {
      "cell_type": "code",
      "source": [
        "a = 1\n",
        "b = 1\n",
        "print('a: ',a)\n",
        "print('b: ',b)\n",
        "print('a <= b: ', a <= b)"
      ],
      "metadata": {
        "id": "zLdDvHep_Frz",
        "colab": {
          "base_uri": "https://localhost:8080/"
        },
        "outputId": "1aefe48d-898c-4f34-8aca-685599ad3e5c"
      },
      "execution_count": null,
      "outputs": [
        {
          "output_type": "stream",
          "name": "stdout",
          "text": [
            "a:  1\n",
            "b:  1\n",
            "a <= b:  True\n"
          ]
        }
      ]
    },
    {
      "cell_type": "code",
      "source": [
        "a = 1\n",
        "b = 10\n",
        "print('a: ',a)\n",
        "print('b: ',b)\n",
        "print('a <= b: ', a <= b)"
      ],
      "metadata": {
        "id": "WvftLsq6FdiV",
        "colab": {
          "base_uri": "https://localhost:8080/"
        },
        "outputId": "0a6fa5e8-c889-4f58-be38-2e9b3c71a242"
      },
      "execution_count": null,
      "outputs": [
        {
          "output_type": "stream",
          "name": "stdout",
          "text": [
            "a:  1\n",
            "b:  10\n",
            "a <= b:  True\n"
          ]
        }
      ]
    },
    {
      "cell_type": "code",
      "source": [
        "a = 1\n",
        "b = 0\n",
        "print('a: ',a)\n",
        "print('b: ',b)\n",
        "print('a <= b: ', a <= b)"
      ],
      "metadata": {
        "id": "7VDEcl84Fff-",
        "colab": {
          "base_uri": "https://localhost:8080/"
        },
        "outputId": "64a678c9-6e9d-457b-e022-b2282bd8ed14"
      },
      "execution_count": null,
      "outputs": [
        {
          "output_type": "stream",
          "name": "stdout",
          "text": [
            "a:  1\n",
            "b:  0\n",
            "a <= b:  False\n"
          ]
        }
      ]
    },
    {
      "cell_type": "code",
      "source": [
        "a = 1\n",
        "b = 0.9\n",
        "print('a: ',a)\n",
        "print('b: ',b)\n",
        "print('a <= b: ', a <= b)"
      ],
      "metadata": {
        "id": "jWdYonMYFgXe",
        "colab": {
          "base_uri": "https://localhost:8080/"
        },
        "outputId": "1b071d74-fbcd-419f-9790-7536f458afc4"
      },
      "execution_count": null,
      "outputs": [
        {
          "output_type": "stream",
          "name": "stdout",
          "text": [
            "a:  1\n",
            "b:  0.9\n",
            "a <= b:  False\n"
          ]
        }
      ]
    },
    {
      "cell_type": "code",
      "source": [
        "a = 1\n",
        "b = 0.9999999\n",
        "print('a: ',a)\n",
        "print('b: ',b)\n",
        "print('a <= b: ', a <= b)"
      ],
      "metadata": {
        "id": "C_hpdyuuFhgu",
        "colab": {
          "base_uri": "https://localhost:8080/"
        },
        "outputId": "69d06b09-2f19-4229-c43b-6af85e5ad67b"
      },
      "execution_count": null,
      "outputs": [
        {
          "output_type": "stream",
          "name": "stdout",
          "text": [
            "a:  1\n",
            "b:  0.9999999\n",
            "a <= b:  False\n"
          ]
        }
      ]
    },
    {
      "cell_type": "markdown",
      "source": [
        "`a > b`: Greater than"
      ],
      "metadata": {
        "id": "9df0yqLq_GI6"
      }
    },
    {
      "cell_type": "code",
      "source": [
        "a = 1\n",
        "b = 1\n",
        "print('a: ',a)\n",
        "print('b: ',b)\n",
        "print('a > b: ', a > b)"
      ],
      "metadata": {
        "id": "WRxN9DgQ_H-F"
      },
      "execution_count": null,
      "outputs": []
    },
    {
      "cell_type": "markdown",
      "source": [
        "`a >= b`: Greater than or equal to"
      ],
      "metadata": {
        "id": "Ev28ymcl_I4a"
      }
    },
    {
      "cell_type": "code",
      "source": [
        "a = 10\n",
        "b = 1\n",
        "print('a: ',a)\n",
        "print('b: ',b)\n",
        "print('a >= b: ', a >= b)"
      ],
      "metadata": {
        "id": "30lIi9IY_HXh"
      },
      "execution_count": null,
      "outputs": []
    },
    {
      "cell_type": "code",
      "source": [
        "a = 0.9\n",
        "b = 1\n",
        "print('a: ',a)\n",
        "print('b: ',b)\n",
        "print('a >= b: ', a >= b)"
      ],
      "metadata": {
        "id": "qDfhf2tJGtKy"
      },
      "execution_count": null,
      "outputs": []
    },
    {
      "cell_type": "markdown",
      "source": [
        "## and(&), or(|)\n"
      ],
      "metadata": {
        "id": "sJ2wO_MI98_Q"
      }
    },
    {
      "cell_type": "markdown",
      "source": [
        "**and**: 논리 연산자. 두 조건이 모두 `True`인 경우만 `True`로 반환. 나머지는 `False`  \n",
        "**&**: 비교 연산자. 두 개의 bit가 모두 1이면 결과 bit가 1. 나머지는 0\n",
        "\n",
        "**Notice**\n",
        "- 비교 연산자를 사용하는 경우 condition에 ()를 사용하여 반드시 우선 순위를 지정할 것.\n",
        "- 비교 연산자는 논리 연산자보다 우선 순위가 높기 때문에 잘못된 결과를 초래할 수 있음."
      ],
      "metadata": {
        "id": "fj9GYDJpIU_p"
      }
    },
    {
      "cell_type": "code",
      "source": [
        "print('True and True: ',True and True)\n",
        "print('True and False: ',True and False)\n",
        "print('False and True: ',False and True)\n",
        "print('False and False: ',False and False)"
      ],
      "metadata": {
        "id": "4yZbeHyS-Qq5"
      },
      "execution_count": null,
      "outputs": []
    },
    {
      "cell_type": "code",
      "source": [
        "a = 1\n",
        "b = 10\n",
        "x = 2\n",
        "print('a: ',a)\n",
        "print('b: ',b)\n",
        "print('x: ',x)\n",
        "print(\"x > a and x < b: \", x > a and x < b)\n",
        "print(\"x > a and x <= b: \", x > a and x <= b)"
      ],
      "metadata": {
        "id": "cUXbTQ8bQMoT"
      },
      "execution_count": null,
      "outputs": []
    },
    {
      "cell_type": "code",
      "source": [
        "# &를 사용하는 경우 condition에 반드시 ()로 묶을 것!\n",
        "print(\"x > a & x < b: \", (x > a) & (x < b))\n",
        "print(\"x > a & x <= b: \", (x > a) & (x <= b))"
      ],
      "metadata": {
        "id": "h0cF3xeZR6rz"
      },
      "execution_count": null,
      "outputs": []
    },
    {
      "cell_type": "code",
      "source": [
        "epoch = 1\n",
        "is_train = True\n",
        "print('epoch: ',epoch)\n",
        "print('is_train: ',is_train)\n",
        "print('epoch > 1 and is_train: ', epoch > 1 and is_train)"
      ],
      "metadata": {
        "id": "3nafRIhEciTK"
      },
      "execution_count": null,
      "outputs": []
    },
    {
      "cell_type": "markdown",
      "source": [
        "**or**: 논리 연산자. 두 조건이 모두 `False`인 경우만 `False`로 반환. 나머지는 `True`  \n",
        "**|**: 비교 연산자. 두 개의 bit 중 하나가 1이면 결과 bit가 1. 나머지는 0"
      ],
      "metadata": {
        "id": "4tLMwlNrIUnR"
      }
    },
    {
      "cell_type": "code",
      "source": [
        "print('True or True: ',True or True)\n",
        "print('True or False: ',True or False)\n",
        "print('False or True: ',False or True)\n",
        "print('False or False: ',False or False)"
      ],
      "metadata": {
        "id": "65tt_A3lMwtU",
        "colab": {
          "base_uri": "https://localhost:8080/"
        },
        "outputId": "13d97559-0166-43ac-dc01-cbff975fabb1"
      },
      "execution_count": null,
      "outputs": [
        {
          "output_type": "stream",
          "name": "stdout",
          "text": [
            "True or True:  True\n",
            "True or False:  True\n",
            "False or True:  True\n",
            "False or False:  False\n"
          ]
        }
      ]
    },
    {
      "cell_type": "code",
      "source": [
        "a = 1\n",
        "b = 10\n",
        "x = 2\n",
        "print('a: ',a)\n",
        "print('b: ',b)\n",
        "print('x: ',x)\n",
        "print(\"x > a or x < b: \", x > a or x < b)\n",
        "print(\"x > a or x == b: \", x > a or x == b)"
      ],
      "metadata": {
        "id": "tGbjVNSIF6b1",
        "colab": {
          "base_uri": "https://localhost:8080/"
        },
        "outputId": "7dc14bd3-4832-4da6-a018-4a9597986b25"
      },
      "execution_count": null,
      "outputs": [
        {
          "output_type": "stream",
          "name": "stdout",
          "text": [
            "a:  1\n",
            "b:  10\n",
            "x:  2\n",
            "x > a or x < b:  True\n",
            "x > a or x == b:  True\n"
          ]
        }
      ]
    },
    {
      "cell_type": "code",
      "source": [
        "print(\"(x > a) | (x < b): \", (x > a) | (x < b))\n",
        "print(\"(x > a) | (x == b): \", (x > a) | (x == b))"
      ],
      "metadata": {
        "id": "QUU66qJrcmyj",
        "colab": {
          "base_uri": "https://localhost:8080/"
        },
        "outputId": "101e3580-8b4d-4b4b-96cb-e5f306f0e152"
      },
      "execution_count": null,
      "outputs": [
        {
          "output_type": "stream",
          "name": "stdout",
          "text": [
            "(x > a) | (x < b):  True\n",
            "(x > a) | (x == b):  True\n"
          ]
        }
      ]
    },
    {
      "cell_type": "code",
      "source": [
        "epoch = 1\n",
        "is_train = True\n",
        "print('epoch: ',epoch)\n",
        "print('is_train: ',is_train)\n",
        "print('epoch > 1 or is_train: ', epoch > 1 or is_train)"
      ],
      "metadata": {
        "id": "5P0I_j2HcOuI",
        "colab": {
          "base_uri": "https://localhost:8080/"
        },
        "outputId": "6d7dd558-1c6d-4168-a6f9-7b1d0cc6a5bc"
      },
      "execution_count": null,
      "outputs": [
        {
          "output_type": "stream",
          "name": "stdout",
          "text": [
            "epoch:  1\n",
            "is_train:  True\n",
            "epoch > 1 or is_train:  True\n"
          ]
        }
      ]
    },
    {
      "cell_type": "markdown",
      "source": [
        "## is, not\n",
        "\n",
        "`==`와 같이 `is`로도 두 변수가 서로 같은 지 비교 가능한 관계 연산자.  \n",
        "단, 둘의 차이점은 `==`은 값을, `is`는 주소를 비교하는 관계연산자.  \n",
        "\n",
        "(`not`은 `!=`와 동일)"
      ],
      "metadata": {
        "id": "358GE-mAGCZj"
      }
    },
    {
      "cell_type": "code",
      "source": [
        "a = '유선호'\n",
        "b = '유선호'\n",
        "print(f'a: {a}, id(a): {id(a)}')\n",
        "print(f'b: {b}, id(b): {id(b)}')\n",
        "print('a is b: ',a is b)"
      ],
      "metadata": {
        "id": "Fg0dEWV5F_31",
        "colab": {
          "base_uri": "https://localhost:8080/"
        },
        "outputId": "72f5a45a-0eec-48f1-fb4c-d4d9d78032f9"
      },
      "execution_count": null,
      "outputs": [
        {
          "output_type": "stream",
          "name": "stdout",
          "text": [
            "a: 유선호, id(a): 135518034812784\n",
            "b: 유선호, id(b): 135518034811744\n",
            "a is b:  False\n"
          ]
        }
      ]
    },
    {
      "cell_type": "code",
      "source": [
        "a = b = '유선호'\n",
        "print(f'a: {a}, id(a): {id(a)}')\n",
        "print(f'b: {b}, id(b): {id(b)}')\n",
        "print('a is b: ',a is b)"
      ],
      "metadata": {
        "id": "vcIkNUN8gu1y",
        "colab": {
          "base_uri": "https://localhost:8080/"
        },
        "outputId": "a9e4c37a-11c9-495d-b4c7-ce98628b3a0a"
      },
      "execution_count": null,
      "outputs": [
        {
          "output_type": "stream",
          "name": "stdout",
          "text": [
            "a: 유선호, id(a): 135518034412608\n",
            "b: 유선호, id(b): 135518034412608\n",
            "a is b:  True\n"
          ]
        }
      ]
    },
    {
      "cell_type": "code",
      "source": [
        "a = '유선호'\n",
        "b = '유선호'\n",
        "print(f'a: {a}, id(a): {id(a)}')\n",
        "print(f'b: {b}, id(b): {id(b)}')\n",
        "print('a is not b: ',a is not b)"
      ],
      "metadata": {
        "id": "V2hzuhu8gzEN",
        "colab": {
          "base_uri": "https://localhost:8080/"
        },
        "outputId": "c7a3b922-1454-490e-efad-3a59a509805a"
      },
      "execution_count": null,
      "outputs": [
        {
          "output_type": "stream",
          "name": "stdout",
          "text": [
            "a: 유선호, id(a): 135518034811664\n",
            "b: 유선호, id(b): 135518034810544\n",
            "a is not b:  True\n"
          ]
        }
      ]
    },
    {
      "cell_type": "markdown",
      "source": [
        "# if .. elif .. else\n",
        "\n",
        "condition을 기준으로 `True`인 경우 if 문 안에 내용이 실행됨. `False`인 경우 pass.  \n",
        "Notice indentation.\n",
        "\n",
        "**example**\n",
        "```python\n",
        "if condition1:\n",
        "    pass\n",
        "elif condition2:\n",
        "    pass\n",
        "else:\n",
        "    pass\n",
        "```"
      ],
      "metadata": {
        "id": "qxFVUrOd9hpD"
      }
    },
    {
      "cell_type": "code",
      "source": [
        "a = 10\n",
        "\n",
        "if a < 0:\n",
        "    print('a is less than 0')\n",
        "elif a < 8:\n",
        "    print('a is less than 8 and greater than or equal to 0')\n",
        "else:\n",
        "    print('a is 10')"
      ],
      "metadata": {
        "id": "LAHP_n239jHG"
      },
      "execution_count": null,
      "outputs": []
    },
    {
      "cell_type": "code",
      "source": [
        "score = 86\n",
        "\n",
        "if score >= 95:\n",
        "    print('A+')\n",
        "elif score >= 90:\n",
        "    print('A')\n",
        "elif score >= 85:\n",
        "    print('B+')\n",
        "elif score >= 80:\n",
        "    print('B')\n",
        "elif score >= 75:\n",
        "    print('C+')\n",
        "elif score >= 70:\n",
        "    print('C')\n",
        "else:\n",
        "    print('F')"
      ],
      "metadata": {
        "id": "9T0uLS-3jEod"
      },
      "execution_count": null,
      "outputs": []
    },
    {
      "cell_type": "code",
      "source": [
        "score = 86\n",
        "\n",
        "if score >= 95:\n",
        "    print('A+')\n",
        "elif score >= 90:\n",
        "    print('A')\n",
        "elif score >= 85:\n",
        "    print('B+')\n",
        "if score >= 80:\n",
        "    print('B')\n",
        "elif score >= 75:\n",
        "    print('C+')\n",
        "elif score >= 70:\n",
        "    print('C')\n",
        "else:\n",
        "    print('F')"
      ],
      "metadata": {
        "id": "U0tNeFYs1kbz"
      },
      "execution_count": null,
      "outputs": []
    },
    {
      "cell_type": "markdown",
      "source": [
        "## pass\n",
        "\n",
        "pass문은 코드를 실행하지 않고 넘길 때 사용"
      ],
      "metadata": {
        "id": "z0Vvbree90TB"
      }
    },
    {
      "cell_type": "code",
      "source": [
        "a = '첫 사랑 얘기해주세요~'\n",
        "\n",
        "if a == '첫 사랑 얘기해주세요~':\n",
        "    pass"
      ],
      "metadata": {
        "id": "2kWOo51491lI"
      },
      "execution_count": null,
      "outputs": []
    },
    {
      "cell_type": "markdown",
      "source": [
        "## Short hand if .. else"
      ],
      "metadata": {
        "id": "FnGIoHIf9q36"
      }
    },
    {
      "cell_type": "code",
      "source": [
        "a = 1\n",
        "print('a: ',a)\n",
        "\n",
        "cond = True if a > 0 else False\n",
        "print('a > 0: ',cond)"
      ],
      "metadata": {
        "id": "aGSkbXK5ADEU",
        "colab": {
          "base_uri": "https://localhost:8080/"
        },
        "outputId": "90e17dbb-8ac9-403f-b537-0dff7b7976ef"
      },
      "execution_count": null,
      "outputs": [
        {
          "output_type": "stream",
          "name": "stdout",
          "text": [
            "a:  1\n",
            "a > 0:  True\n"
          ]
        }
      ]
    },
    {
      "cell_type": "code",
      "source": [
        "a = 1\n",
        "cond = 'a is ' + 'greater than 0' if a > 0 else 'less than or 0'\n",
        "cond"
      ],
      "metadata": {
        "id": "9vWDo7Rf9uiG",
        "colab": {
          "base_uri": "https://localhost:8080/",
          "height": 36
        },
        "outputId": "3dc66440-da4c-4ccf-ed25-a9f1f9398311"
      },
      "execution_count": null,
      "outputs": [
        {
          "output_type": "execute_result",
          "data": {
            "text/plain": [
              "'a is greater than 0'"
            ],
            "application/vnd.google.colaboratory.intrinsic+json": {
              "type": "string"
            }
          },
          "metadata": {},
          "execution_count": 21
        }
      ]
    },
    {
      "cell_type": "code",
      "source": [
        "a = -1\n",
        "cond = 'a is ' + 'greater than 0' if a > 0 else 'a is ' + 'less than or 0'\n",
        "cond"
      ],
      "metadata": {
        "id": "m5iFmr3x_6ke",
        "colab": {
          "base_uri": "https://localhost:8080/",
          "height": 36
        },
        "outputId": "6a7c709d-f499-4dd9-b9c8-ab582201fcb6"
      },
      "execution_count": null,
      "outputs": [
        {
          "output_type": "execute_result",
          "data": {
            "text/plain": [
              "'a is less than or 0'"
            ],
            "application/vnd.google.colaboratory.intrinsic+json": {
              "type": "string"
            }
          },
          "metadata": {},
          "execution_count": 22
        }
      ]
    }
  ]
}