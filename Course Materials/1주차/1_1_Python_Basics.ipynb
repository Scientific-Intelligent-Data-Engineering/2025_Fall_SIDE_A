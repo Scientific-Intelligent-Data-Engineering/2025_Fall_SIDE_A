{
  "cells": [
    {
      "cell_type": "markdown",
      "metadata": {
        "id": "wp9fFd9k0-Jf"
      },
      "source": [
        "# __* 파이썬 기초문__"
      ]
    },
    {
      "cell_type": "markdown",
      "metadata": {
        "id": "tUqYXQ_40-Ji"
      },
      "source": [
        "# 1. 주석\n",
        "- 코드 내에 하는 메모로 파일 실행시 프로그램에서 읽지 않는 부분"
      ]
    },
    {
      "cell_type": "code",
      "execution_count": null,
      "metadata": {
        "colab": {
          "base_uri": "https://localhost:8080/"
        },
        "id": "_sSKXpux0-Ji",
        "outputId": "154a347d-8ecd-4bc7-8711-e5f3d878d6de"
      },
      "outputs": [
        {
          "output_type": "stream",
          "name": "stdout",
          "text": [
            "이 줄은 프린트가 되지만\n"
          ]
        }
      ],
      "source": [
        "#샵을 적은 후에 한 칸 띄우고 글을 적으면 주석이 된다\n",
        "print('이 줄은 프린트가 되지만')\n",
        "# print('이 줄은 프린트가 되지 않는다')"
      ]
    },
    {
      "cell_type": "markdown",
      "metadata": {
        "id": "3IfMl9W20-Jj"
      },
      "source": [
        "# 2. 변수\n",
        "- 파이썬에서는 '='를 통하여 변수에 원하는 값을 할당할 수 있음\n"
      ]
    },
    {
      "cell_type": "code",
      "execution_count": null,
      "metadata": {
        "colab": {
          "base_uri": "https://localhost:8080/"
        },
        "id": "Gf4rMafv0-Jj",
        "outputId": "82c10ebe-7275-4453-bdf0-9ed23087ee1e"
      },
      "outputs": [
        {
          "output_type": "execute_result",
          "data": {
            "text/plain": [
              "3"
            ]
          },
          "metadata": {},
          "execution_count": 2
        }
      ],
      "source": [
        "a = 3\n",
        "a"
      ]
    },
    {
      "cell_type": "code",
      "execution_count": null,
      "metadata": {
        "colab": {
          "base_uri": "https://localhost:8080/"
        },
        "id": "2jlWc5Jl0-Jj",
        "outputId": "429ee771-2910-40f7-fea3-b0027adbee5b"
      },
      "outputs": [
        {
          "output_type": "execute_result",
          "data": {
            "text/plain": [
              "(3, 2)"
            ]
          },
          "metadata": {},
          "execution_count": 3
        }
      ],
      "source": [
        "a, b = 3, 2 # 쉼표를 이용해 여러 개의 변수를 한 번에 할당할 수 있다.\n",
        "a, b"
      ]
    },
    {
      "cell_type": "code",
      "source": [
        "a = b = c = 1\n",
        "a, b, c"
      ],
      "metadata": {
        "colab": {
          "base_uri": "https://localhost:8080/"
        },
        "id": "2EbxkVssAW1h",
        "outputId": "5747bd0a-4214-4720-8c39-be0656672abb"
      },
      "execution_count": null,
      "outputs": [
        {
          "output_type": "execute_result",
          "data": {
            "text/plain": [
              "(1, 1, 1)"
            ]
          },
          "metadata": {},
          "execution_count": 4
        }
      ]
    },
    {
      "cell_type": "markdown",
      "metadata": {
        "id": "_-El44xI0-Jk"
      },
      "source": [
        "- 변수에 할당된 값이 있는 경우에 새로운 값을 할당하면 새로운 값만 남음"
      ]
    },
    {
      "cell_type": "code",
      "source": [
        "a"
      ],
      "metadata": {
        "colab": {
          "base_uri": "https://localhost:8080/"
        },
        "id": "rhp91IlwAsDT",
        "outputId": "25f4d65e-d34c-4c07-ec9d-b2fa73fbf46e"
      },
      "execution_count": null,
      "outputs": [
        {
          "output_type": "execute_result",
          "data": {
            "text/plain": [
              "1"
            ]
          },
          "metadata": {},
          "execution_count": 5
        }
      ]
    },
    {
      "cell_type": "code",
      "execution_count": null,
      "metadata": {
        "colab": {
          "base_uri": "https://localhost:8080/"
        },
        "id": "rAZ2AOgB0-Jk",
        "outputId": "048388f2-7c59-429e-a592-2360f2cebdf7"
      },
      "outputs": [
        {
          "output_type": "execute_result",
          "data": {
            "text/plain": [
              "7"
            ]
          },
          "metadata": {},
          "execution_count": 6
        }
      ],
      "source": [
        "a = 7\n",
        "a"
      ]
    },
    {
      "cell_type": "markdown",
      "source": [
        "## 2.1 변수명 규칙\n",
        "\n",
        "- 변수명으로 사용 가능한 문자: `소문자`(a - z), `대문자`(A - Z), `숫자`(0 - 9), `언더바`(_)\n",
        "- 변수명은 숫자로 시작할 수 없음\n",
        "- 변수명에서 대소문자는 서로 다른 문자로 인식. ex) dsba, DSBA\n",
        "- Python 문법에 사용되는 예약어는 변수명으로 사용할 수 없음. ex) if, else, for, False, True\n",
        "\n",
        "Python 내장 함수(built-in function)을 변수명으로 사용하는 것은 지양해야함. [ [내장함수 목록](https://wikidocs.net/32) ]\n",
        "\n",
        "**예약어 확인 방법**\n",
        "```python\n",
        "import keyword\n",
        "\n",
        "print(keyword.kwlist)\n",
        "```\n",
        "\n",
        "Python convention에 맞춰서 변수명을 지정하는 것이 좋음. [ [PEP 8 - Variable name](https://peps.python.org/pep-0008/#function-and-variable-names) ]"
      ],
      "metadata": {
        "id": "batS6hYKNc6n"
      }
    },
    {
      "cell_type": "code",
      "source": [
        "dsba = 1\n",
        "DSBA = 2\n",
        "korea_univ = 'test'"
      ],
      "metadata": {
        "id": "BMU3IJETNlqN"
      },
      "execution_count": null,
      "outputs": []
    },
    {
      "cell_type": "code",
      "source": [
        "01012341234 = 'phone_number'"
      ],
      "metadata": {
        "colab": {
          "base_uri": "https://localhost:8080/",
          "height": 111
        },
        "id": "jWnk_TC5O0Hy",
        "outputId": "977feb8e-6b43-4fbd-8954-de9de8bf5ef8"
      },
      "execution_count": null,
      "outputs": [
        {
          "output_type": "error",
          "ename": "SyntaxError",
          "evalue": "leading zeros in decimal integer literals are not permitted; use an 0o prefix for octal integers (ipython-input-3218723789.py, line 1)",
          "traceback": [
            "\u001b[0;36m  File \u001b[0;32m\"/tmp/ipython-input-3218723789.py\"\u001b[0;36m, line \u001b[0;32m1\u001b[0m\n\u001b[0;31m    01012341234 = 'phone_number'\u001b[0m\n\u001b[0m    ^\u001b[0m\n\u001b[0;31mSyntaxError\u001b[0m\u001b[0;31m:\u001b[0m leading zeros in decimal integer literals are not permitted; use an 0o prefix for octal integers\n"
          ]
        }
      ]
    },
    {
      "cell_type": "code",
      "source": [
        "False = 'wrong'"
      ],
      "metadata": {
        "colab": {
          "base_uri": "https://localhost:8080/",
          "height": 111
        },
        "id": "idyLGQEuO_If",
        "outputId": "2cb0a373-8e62-4f66-c10a-433a4934cffd"
      },
      "execution_count": null,
      "outputs": [
        {
          "output_type": "error",
          "ename": "SyntaxError",
          "evalue": "cannot assign to False (ipython-input-2735641435.py, line 1)",
          "traceback": [
            "\u001b[0;36m  File \u001b[0;32m\"/tmp/ipython-input-2735641435.py\"\u001b[0;36m, line \u001b[0;32m1\u001b[0m\n\u001b[0;31m    False = 'wrong'\u001b[0m\n\u001b[0m    ^\u001b[0m\n\u001b[0;31mSyntaxError\u001b[0m\u001b[0;31m:\u001b[0m cannot assign to False\n"
          ]
        }
      ]
    },
    {
      "cell_type": "code",
      "source": [
        "import keyword\n",
        "\n",
        "print(keyword.kwlist)"
      ],
      "metadata": {
        "colab": {
          "base_uri": "https://localhost:8080/"
        },
        "id": "CTt7Awy9BLsU",
        "outputId": "b6abb470-fdff-42c6-ae64-d41f1e64a885"
      },
      "execution_count": null,
      "outputs": [
        {
          "output_type": "stream",
          "name": "stdout",
          "text": [
            "['False', 'None', 'True', 'and', 'as', 'assert', 'async', 'await', 'break', 'class', 'continue', 'def', 'del', 'elif', 'else', 'except', 'finally', 'for', 'from', 'global', 'if', 'import', 'in', 'is', 'lambda', 'nonlocal', 'not', 'or', 'pass', 'raise', 'return', 'try', 'while', 'with', 'yield']\n"
          ]
        }
      ]
    },
    {
      "cell_type": "code",
      "source": [
        "# 내장함수를 변수로 지정하면 내장함수를 사용할 수 없음\n",
        "\n",
        "value = 1.23456\n",
        "round(value, 4)"
      ],
      "metadata": {
        "colab": {
          "base_uri": "https://localhost:8080/"
        },
        "id": "plvrAWJFBtTe",
        "outputId": "860619ff-509b-4253-c9ad-e373b5aac463"
      },
      "execution_count": null,
      "outputs": [
        {
          "output_type": "execute_result",
          "data": {
            "text/plain": [
              "1.2346"
            ]
          },
          "metadata": {},
          "execution_count": 153
        }
      ]
    },
    {
      "cell_type": "code",
      "source": [
        "round = 1.23456\n",
        "round(round)"
      ],
      "metadata": {
        "colab": {
          "base_uri": "https://localhost:8080/",
          "height": 167
        },
        "id": "KydZmlbPB6Ri",
        "outputId": "617d1aff-6bee-4f34-e085-3213fdc4d933"
      },
      "execution_count": null,
      "outputs": [
        {
          "output_type": "error",
          "ename": "TypeError",
          "evalue": "'float' object is not callable",
          "traceback": [
            "\u001b[0;31m---------------------------------------------------------------------------\u001b[0m",
            "\u001b[0;31mTypeError\u001b[0m                                 Traceback (most recent call last)",
            "\u001b[0;32m/tmp/ipython-input-2647529907.py\u001b[0m in \u001b[0;36m<cell line: 0>\u001b[0;34m()\u001b[0m\n\u001b[1;32m      1\u001b[0m \u001b[0mround\u001b[0m \u001b[0;34m=\u001b[0m \u001b[0;36m1.23456\u001b[0m\u001b[0;34m\u001b[0m\u001b[0;34m\u001b[0m\u001b[0m\n\u001b[0;32m----> 2\u001b[0;31m \u001b[0mround\u001b[0m\u001b[0;34m(\u001b[0m\u001b[0mround\u001b[0m\u001b[0;34m)\u001b[0m\u001b[0;34m\u001b[0m\u001b[0;34m\u001b[0m\u001b[0m\n\u001b[0m",
            "\u001b[0;31mTypeError\u001b[0m: 'float' object is not callable"
          ]
        }
      ]
    },
    {
      "cell_type": "code",
      "source": [
        "del round"
      ],
      "metadata": {
        "id": "fl7xSiZVcHVd"
      },
      "execution_count": null,
      "outputs": []
    },
    {
      "cell_type": "markdown",
      "source": [
        "# Types"
      ],
      "metadata": {
        "id": "0VGEhjkjeEW5"
      }
    },
    {
      "cell_type": "markdown",
      "source": [
        "- String (str)\n",
        "- Interger (int)\n",
        "- Float (float)\n",
        "- Bool (bool)\n",
        "- None\n",
        "- Tuple (tuple)\n",
        "- List (list)\n",
        "- Dictionary (dict)\n",
        "- Set (set)\n",
        "\n",
        "Python에서 변수의 유형(type)을 `type(변수명)`으로 확인할 수 있음"
      ],
      "metadata": {
        "id": "0ouZnHxVfN2a"
      }
    },
    {
      "cell_type": "markdown",
      "source": [
        "## String\n",
        "\n",
        "문자열 변수를 뜻함. `''` 또는 `\"\"`로 감싸진 영역은 문자열로 취급됨"
      ],
      "metadata": {
        "id": "AoGg3yN5fZnC"
      }
    },
    {
      "cell_type": "code",
      "source": [
        "lab = \"DSBA\"\n",
        "type(lab)"
      ],
      "metadata": {
        "colab": {
          "base_uri": "https://localhost:8080/"
        },
        "id": "NCQJRpF8fmhz",
        "outputId": "8fa4c21a-fc0e-471f-8fdd-0999e599cae0"
      },
      "execution_count": null,
      "outputs": [
        {
          "output_type": "execute_result",
          "data": {
            "text/plain": [
              "str"
            ]
          },
          "metadata": {},
          "execution_count": 156
        }
      ]
    },
    {
      "cell_type": "code",
      "source": [
        "# 내용은 숫자지만 '' 또는 \"\"로 감싸진 경우에는 문자열로 지정됨\n",
        "value = \"1234\"\n",
        "type(value)"
      ],
      "metadata": {
        "colab": {
          "base_uri": "https://localhost:8080/"
        },
        "id": "4N1tgNqbgV9C",
        "outputId": "395bff2b-92b9-4ec7-955f-07be05c44071"
      },
      "execution_count": null,
      "outputs": [
        {
          "output_type": "execute_result",
          "data": {
            "text/plain": [
              "str"
            ]
          },
          "metadata": {},
          "execution_count": 157
        }
      ]
    },
    {
      "cell_type": "code",
      "source": [
        "# str()을 통해 문자열로 바꿀 수 있음\n",
        "value = 123\n",
        "type(value)"
      ],
      "metadata": {
        "colab": {
          "base_uri": "https://localhost:8080/"
        },
        "id": "oDOH0jdi8dd_",
        "outputId": "bc0bb1ca-2755-4ae7-d6d3-8def2c41c4e8"
      },
      "execution_count": null,
      "outputs": [
        {
          "output_type": "execute_result",
          "data": {
            "text/plain": [
              "int"
            ]
          },
          "metadata": {},
          "execution_count": 158
        }
      ]
    },
    {
      "cell_type": "code",
      "source": [
        "value = str(123)\n",
        "type(value)"
      ],
      "metadata": {
        "colab": {
          "base_uri": "https://localhost:8080/"
        },
        "id": "8ID2Jg0K8kw2",
        "outputId": "2e671fda-c086-4e98-bf76-d40f141ec94a"
      },
      "execution_count": null,
      "outputs": [
        {
          "output_type": "execute_result",
          "data": {
            "text/plain": [
              "str"
            ]
          },
          "metadata": {},
          "execution_count": 159
        }
      ]
    },
    {
      "cell_type": "markdown",
      "source": [
        "문자열은 서로 덧셈을 통해 합치는 것이 가능"
      ],
      "metadata": {
        "id": "Tnyqn2AgJSmw"
      }
    },
    {
      "cell_type": "code",
      "source": [
        "DS = 'Data Science '\n",
        "BA = 'Business Analytics'\n",
        "DS+BA"
      ],
      "metadata": {
        "colab": {
          "base_uri": "https://localhost:8080/",
          "height": 36
        },
        "id": "zXNmNscqIT5t",
        "outputId": "13a10aea-6c2c-45ae-b76f-4bc02fffd926"
      },
      "execution_count": null,
      "outputs": [
        {
          "output_type": "execute_result",
          "data": {
            "text/plain": [
              "'Data Science Business Analytics'"
            ],
            "application/vnd.google.colaboratory.intrinsic+json": {
              "type": "string"
            }
          },
          "metadata": {},
          "execution_count": 160
        }
      ]
    },
    {
      "cell_type": "markdown",
      "source": [
        "문자열을 곱해서 반복할 수 있음"
      ],
      "metadata": {
        "id": "ksjNDuwXM-J0"
      }
    },
    {
      "cell_type": "code",
      "source": [
        "dog = '반복되고 강조되는 문자열은 코드를 불안정하게해요. '\n",
        "dog*20"
      ],
      "metadata": {
        "colab": {
          "base_uri": "https://localhost:8080/",
          "height": 91
        },
        "id": "08tXzBgTM9I8",
        "outputId": "0e80cd43-f976-4404-be84-7f2b1ee18775"
      },
      "execution_count": null,
      "outputs": [
        {
          "output_type": "execute_result",
          "data": {
            "text/plain": [
              "'반복되고 강조되는 문자열은 코드를 불안정하게해요. 반복되고 강조되는 문자열은 코드를 불안정하게해요. 반복되고 강조되는 문자열은 코드를 불안정하게해요. 반복되고 강조되는 문자열은 코드를 불안정하게해요. 반복되고 강조되는 문자열은 코드를 불안정하게해요. 반복되고 강조되는 문자열은 코드를 불안정하게해요. 반복되고 강조되는 문자열은 코드를 불안정하게해요. 반복되고 강조되는 문자열은 코드를 불안정하게해요. 반복되고 강조되는 문자열은 코드를 불안정하게해요. 반복되고 강조되는 문자열은 코드를 불안정하게해요. 반복되고 강조되는 문자열은 코드를 불안정하게해요. 반복되고 강조되는 문자열은 코드를 불안정하게해요. 반복되고 강조되는 문자열은 코드를 불안정하게해요. 반복되고 강조되는 문자열은 코드를 불안정하게해요. 반복되고 강조되는 문자열은 코드를 불안정하게해요. 반복되고 강조되는 문자열은 코드를 불안정하게해요. 반복되고 강조되는 문자열은 코드를 불안정하게해요. 반복되고 강조되는 문자열은 코드를 불안정하게해요. 반복되고 강조되는 문자열은 코드를 불안정하게해요. 반복되고 강조되는 문자열은 코드를 불안정하게해요. '"
            ],
            "application/vnd.google.colaboratory.intrinsic+json": {
              "type": "string"
            }
          },
          "metadata": {},
          "execution_count": 161
        }
      ]
    },
    {
      "cell_type": "markdown",
      "source": [
        "문자열 내 ' 또는 \" 이 포함된 경우 역슬래시(\\)로 표현"
      ],
      "metadata": {
        "id": "HW5oVoxbJQif"
      }
    },
    {
      "cell_type": "code",
      "source": [
        "'it's not easy'"
      ],
      "metadata": {
        "colab": {
          "base_uri": "https://localhost:8080/",
          "height": 111
        },
        "id": "ridCvQT9Ili8",
        "outputId": "aa551a82-4570-43cd-ce48-48c292c5b0e6"
      },
      "execution_count": null,
      "outputs": [
        {
          "output_type": "error",
          "ename": "SyntaxError",
          "evalue": "unterminated string literal (detected at line 1) (ipython-input-962635650.py, line 1)",
          "traceback": [
            "\u001b[0;36m  File \u001b[0;32m\"/tmp/ipython-input-962635650.py\"\u001b[0;36m, line \u001b[0;32m1\u001b[0m\n\u001b[0;31m    'it's not easy'\u001b[0m\n\u001b[0m                  ^\u001b[0m\n\u001b[0;31mSyntaxError\u001b[0m\u001b[0;31m:\u001b[0m unterminated string literal (detected at line 1)\n"
          ]
        }
      ]
    },
    {
      "cell_type": "code",
      "source": [
        "'it\\'s easy'"
      ],
      "metadata": {
        "colab": {
          "base_uri": "https://localhost:8080/",
          "height": 36
        },
        "id": "LaUtrnGrJDQO",
        "outputId": "da5b5f24-f7a7-42b2-f2c8-324d2d5c9750"
      },
      "execution_count": null,
      "outputs": [
        {
          "output_type": "execute_result",
          "data": {
            "text/plain": [
              "\"it's easy\""
            ],
            "application/vnd.google.colaboratory.intrinsic+json": {
              "type": "string"
            }
          },
          "metadata": {},
          "execution_count": 163
        }
      ]
    },
    {
      "cell_type": "code",
      "source": [
        "\"it's easy, too\""
      ],
      "metadata": {
        "colab": {
          "base_uri": "https://localhost:8080/",
          "height": 36
        },
        "id": "8Jg-Q6HBJGiZ",
        "outputId": "452cae1d-b19f-4ed7-c3b5-725a563cb314"
      },
      "execution_count": null,
      "outputs": [
        {
          "output_type": "execute_result",
          "data": {
            "text/plain": [
              "\"it's easy, too\""
            ],
            "application/vnd.google.colaboratory.intrinsic+json": {
              "type": "string"
            }
          },
          "metadata": {},
          "execution_count": 164
        }
      ]
    },
    {
      "cell_type": "markdown",
      "source": [
        "**대표적인 문자열 functions**\n",
        "\n",
        "- **'string'.upper()**: 모든 글자를 대문자로 치환\n",
        "- **'string'.title()**: 모든 문자의 첫 글자를 대문자로 치환\n",
        "- **'string'.capitalize()**: 첫 글자를 대문자로 치환\n",
        "- **'string'.lower()**: 모든 글자를 소문자로 치환\n",
        "- **'string'.swapcase()**: 소문자와 대문자를 서로 치환\n",
        "- **'string'.count(value)**: 문자열 내 특정 값 빈도\n",
        "- **'string'.find(value)**: 문자열 내 특정 값 탐색\n",
        "- **'string'.split(value)**: 특정 값을 기준으로 문자열 분리\n",
        "- **'string'.lstrip(object)**: 왼쪽을 기준으로 object 값 제거. Default는 공백\n",
        "- **'string'.rstrip(object)**: 오른쪽을 기준으로 object 값 제거. Default는 공백\n",
        "- **'string'.strip(object)**: 양쪽을 기준으로 object 값 제거. Default는 공백"
      ],
      "metadata": {
        "id": "2nGOv0nVKPTA"
      }
    },
    {
      "cell_type": "code",
      "source": [
        "lab = 'data science business analytics'\n",
        "lab.upper()"
      ],
      "metadata": {
        "colab": {
          "base_uri": "https://localhost:8080/",
          "height": 36
        },
        "id": "yxXqsm0LJM1r",
        "outputId": "62a8325f-b4b5-49f9-e07c-fd2b2ed5f759"
      },
      "execution_count": null,
      "outputs": [
        {
          "output_type": "execute_result",
          "data": {
            "text/plain": [
              "'DATA SCIENCE BUSINESS ANALYTICS'"
            ],
            "application/vnd.google.colaboratory.intrinsic+json": {
              "type": "string"
            }
          },
          "metadata": {},
          "execution_count": 165
        }
      ]
    },
    {
      "cell_type": "code",
      "source": [
        "lab = 'data science business analytics'\n",
        "lab.title()"
      ],
      "metadata": {
        "colab": {
          "base_uri": "https://localhost:8080/",
          "height": 36
        },
        "id": "gy9moFPBKhzO",
        "outputId": "3f831046-632c-4ddc-c888-bb0eed7bee96"
      },
      "execution_count": null,
      "outputs": [
        {
          "output_type": "execute_result",
          "data": {
            "text/plain": [
              "'Data Science Business Analytics'"
            ],
            "application/vnd.google.colaboratory.intrinsic+json": {
              "type": "string"
            }
          },
          "metadata": {},
          "execution_count": 166
        }
      ]
    },
    {
      "cell_type": "code",
      "source": [
        "lab = 'data science business analytics'\n",
        "lab.capitalize()"
      ],
      "metadata": {
        "colab": {
          "base_uri": "https://localhost:8080/",
          "height": 36
        },
        "id": "QeM-WagvLozo",
        "outputId": "33535700-298f-4b70-f22b-4d39efc8ee2e"
      },
      "execution_count": null,
      "outputs": [
        {
          "output_type": "execute_result",
          "data": {
            "text/plain": [
              "'Data science business analytics'"
            ],
            "application/vnd.google.colaboratory.intrinsic+json": {
              "type": "string"
            }
          },
          "metadata": {},
          "execution_count": 168
        }
      ]
    },
    {
      "cell_type": "code",
      "source": [
        "lab = 'Data Science Business Analytics'\n",
        "lab.lower()"
      ],
      "metadata": {
        "colab": {
          "base_uri": "https://localhost:8080/",
          "height": 36
        },
        "id": "3Tu_nCKiLuWB",
        "outputId": "a813753f-405f-4110-ab1e-08da2eec61ac"
      },
      "execution_count": null,
      "outputs": [
        {
          "output_type": "execute_result",
          "data": {
            "text/plain": [
              "'data science business analytics'"
            ],
            "application/vnd.google.colaboratory.intrinsic+json": {
              "type": "string"
            }
          },
          "metadata": {},
          "execution_count": 167
        }
      ]
    },
    {
      "cell_type": "code",
      "source": [
        "lab = 'Data Science Business Analytics'\n",
        "lab.swapcase()"
      ],
      "metadata": {
        "colab": {
          "base_uri": "https://localhost:8080/",
          "height": 36
        },
        "id": "1T576B9OLyzp",
        "outputId": "5d62d682-35f5-43bd-d125-b31c8c1f8006"
      },
      "execution_count": null,
      "outputs": [
        {
          "output_type": "execute_result",
          "data": {
            "text/plain": [
              "'dATA sCIENCE bUSINESS aNALYTICS'"
            ],
            "application/vnd.google.colaboratory.intrinsic+json": {
              "type": "string"
            }
          },
          "metadata": {},
          "execution_count": 169
        }
      ]
    },
    {
      "cell_type": "code",
      "source": [
        "name = 'IIIlIIII'\n",
        "name.count('I')"
      ],
      "metadata": {
        "colab": {
          "base_uri": "https://localhost:8080/"
        },
        "id": "YRxdlF_fL-Nm",
        "outputId": "e09aeaad-4b34-4ba4-939c-a5fdc883eb08"
      },
      "execution_count": null,
      "outputs": [
        {
          "output_type": "execute_result",
          "data": {
            "text/plain": [
              "7"
            ]
          },
          "metadata": {},
          "execution_count": 170
        }
      ]
    },
    {
      "cell_type": "code",
      "source": [
        "name.count('l')"
      ],
      "metadata": {
        "colab": {
          "base_uri": "https://localhost:8080/"
        },
        "id": "n9JWLiIJMD7f",
        "outputId": "130aeb72-95b7-436a-acfc-0fb095c4fe51"
      },
      "execution_count": null,
      "outputs": [
        {
          "output_type": "execute_result",
          "data": {
            "text/plain": [
              "1"
            ]
          },
          "metadata": {},
          "execution_count": 172
        }
      ]
    },
    {
      "cell_type": "code",
      "source": [
        "name.find('l')"
      ],
      "metadata": {
        "colab": {
          "base_uri": "https://localhost:8080/"
        },
        "id": "KYMi9jYUMGBM",
        "outputId": "bfd93f9b-acb8-415d-fa00-7d85219f9060"
      },
      "execution_count": null,
      "outputs": [
        {
          "output_type": "execute_result",
          "data": {
            "text/plain": [
              "3"
            ]
          },
          "metadata": {},
          "execution_count": 173
        }
      ]
    },
    {
      "cell_type": "code",
      "source": [
        "name[3]"
      ],
      "metadata": {
        "colab": {
          "base_uri": "https://localhost:8080/",
          "height": 36
        },
        "id": "4jqAJJ2CMIO7",
        "outputId": "8b7d4650-4df9-4d1c-d5d7-451fb0d927e6"
      },
      "execution_count": null,
      "outputs": [
        {
          "output_type": "execute_result",
          "data": {
            "text/plain": [
              "'l'"
            ],
            "application/vnd.google.colaboratory.intrinsic+json": {
              "type": "string"
            }
          },
          "metadata": {},
          "execution_count": 174
        }
      ]
    },
    {
      "cell_type": "code",
      "source": [
        "lab = 'Data Science Business Analytics'\n",
        "lab.split(' ') # list로 반환됨"
      ],
      "metadata": {
        "colab": {
          "base_uri": "https://localhost:8080/"
        },
        "id": "Z6TS7iv3MJVg",
        "outputId": "129d7eb7-746a-4b84-e708-a7ec638b1755"
      },
      "execution_count": null,
      "outputs": [
        {
          "output_type": "execute_result",
          "data": {
            "text/plain": [
              "['Data', 'Science', 'Business', 'Analytics']"
            ]
          },
          "metadata": {},
          "execution_count": 9
        }
      ]
    },
    {
      "cell_type": "code",
      "source": [
        "'    (-  _-)'.lstrip()"
      ],
      "metadata": {
        "colab": {
          "base_uri": "https://localhost:8080/",
          "height": 36
        },
        "id": "S1USeRIZ9G9E",
        "outputId": "a3f1387c-5ddc-4f86-ce55-d5044c80a134"
      },
      "execution_count": null,
      "outputs": [
        {
          "output_type": "execute_result",
          "data": {
            "text/plain": [
              "'(-  _-)'"
            ],
            "application/vnd.google.colaboratory.intrinsic+json": {
              "type": "string"
            }
          },
          "metadata": {},
          "execution_count": 10
        }
      ]
    },
    {
      "cell_type": "code",
      "source": [
        "'(-_  -)    '.rstrip()"
      ],
      "metadata": {
        "colab": {
          "base_uri": "https://localhost:8080/",
          "height": 36
        },
        "id": "AEJtLBu99NhG",
        "outputId": "e6d52ed3-1f2b-4906-e249-f941eabd57a6"
      },
      "execution_count": null,
      "outputs": [
        {
          "output_type": "execute_result",
          "data": {
            "text/plain": [
              "'(-_  -)'"
            ],
            "application/vnd.google.colaboratory.intrinsic+json": {
              "type": "string"
            }
          },
          "metadata": {},
          "execution_count": 11
        }
      ]
    },
    {
      "cell_type": "code",
      "source": [
        "'    (-_-)     '.strip()"
      ],
      "metadata": {
        "colab": {
          "base_uri": "https://localhost:8080/",
          "height": 36
        },
        "id": "I5cgwfbu9SYp",
        "outputId": "07090702-5faf-44ab-c2dd-e82ff6db237b"
      },
      "execution_count": null,
      "outputs": [
        {
          "output_type": "execute_result",
          "data": {
            "text/plain": [
              "'(-_-)'"
            ],
            "application/vnd.google.colaboratory.intrinsic+json": {
              "type": "string"
            }
          },
          "metadata": {},
          "execution_count": 12
        }
      ]
    },
    {
      "cell_type": "code",
      "source": [
        "'ㄹㅇㅋㅋ'.rstrip('ㅋ')"
      ],
      "metadata": {
        "colab": {
          "base_uri": "https://localhost:8080/",
          "height": 36
        },
        "id": "DHjLAxia9Z7F",
        "outputId": "f0e0f4d2-ab9c-4e8d-9a91-ca7feb67122c"
      },
      "execution_count": null,
      "outputs": [
        {
          "output_type": "execute_result",
          "data": {
            "text/plain": [
              "'ㄹㅇ'"
            ],
            "application/vnd.google.colaboratory.intrinsic+json": {
              "type": "string"
            }
          },
          "metadata": {},
          "execution_count": 13
        }
      ]
    },
    {
      "cell_type": "code",
      "source": [
        "'ㅋㅋ뭐해?'.lstrip('ㅋ')"
      ],
      "metadata": {
        "colab": {
          "base_uri": "https://localhost:8080/",
          "height": 36
        },
        "id": "R5BaeZ9L9eJ4",
        "outputId": "fbdb7bfe-f601-434b-cf36-70853c03adca"
      },
      "execution_count": null,
      "outputs": [
        {
          "output_type": "execute_result",
          "data": {
            "text/plain": [
              "'뭐해?'"
            ],
            "application/vnd.google.colaboratory.intrinsic+json": {
              "type": "string"
            }
          },
          "metadata": {},
          "execution_count": 14
        }
      ]
    },
    {
      "cell_type": "code",
      "source": [
        "'ㅋㅋㅋㅋㅋㅋㅋㅋㅋㅋㅋㅋㅋ개웃겨ㅋㅋㅋㅋㅋㅋㅋ'.strip('ㅋ')"
      ],
      "metadata": {
        "colab": {
          "base_uri": "https://localhost:8080/",
          "height": 36
        },
        "id": "2UfolVrY9soU",
        "outputId": "67f24e87-4a1e-4a73-ef92-bb587bab899f"
      },
      "execution_count": null,
      "outputs": [
        {
          "output_type": "execute_result",
          "data": {
            "text/plain": [
              "'개웃겨'"
            ],
            "application/vnd.google.colaboratory.intrinsic+json": {
              "type": "string"
            }
          },
          "metadata": {},
          "execution_count": 15
        }
      ]
    },
    {
      "cell_type": "code",
      "source": [
        "'이름: 유선호'.lstrip('이름: ')"
      ],
      "metadata": {
        "colab": {
          "base_uri": "https://localhost:8080/",
          "height": 36
        },
        "id": "r3WbN96P-XaU",
        "outputId": "2b0905c4-0b94-4d8b-8d20-f25d2d032c2c"
      },
      "execution_count": null,
      "outputs": [
        {
          "output_type": "execute_result",
          "data": {
            "text/plain": [
              "'유선호'"
            ],
            "application/vnd.google.colaboratory.intrinsic+json": {
              "type": "string"
            }
          },
          "metadata": {},
          "execution_count": 16
        }
      ]
    },
    {
      "cell_type": "markdown",
      "source": [
        "## Integer\n",
        "\n",
        "정수형 변수"
      ],
      "metadata": {
        "id": "dqp45rxXfat1"
      }
    },
    {
      "cell_type": "code",
      "source": [
        "value = 1000\n",
        "type(value)"
      ],
      "metadata": {
        "colab": {
          "base_uri": "https://localhost:8080/"
        },
        "id": "2ZVeRBHjfmUa",
        "outputId": "303ddf4b-61d1-4641-b84f-988bbc643778"
      },
      "execution_count": null,
      "outputs": [
        {
          "output_type": "execute_result",
          "data": {
            "text/plain": [
              "int"
            ]
          },
          "metadata": {},
          "execution_count": 17
        }
      ]
    },
    {
      "cell_type": "code",
      "source": [
        "value = -1000\n",
        "type(value)"
      ],
      "metadata": {
        "colab": {
          "base_uri": "https://localhost:8080/"
        },
        "id": "lqRySCB282vD",
        "outputId": "93c26e0e-13b8-497d-bd6c-6dc243d4059f"
      },
      "execution_count": null,
      "outputs": [
        {
          "output_type": "execute_result",
          "data": {
            "text/plain": [
              "int"
            ]
          },
          "metadata": {},
          "execution_count": 18
        }
      ]
    },
    {
      "cell_type": "code",
      "source": [
        "# int()를 통해 정수형으로 바꿀 수 있음\n",
        "value = int('123')\n",
        "type(value)"
      ],
      "metadata": {
        "colab": {
          "base_uri": "https://localhost:8080/"
        },
        "id": "bPnvgP9v8o4V",
        "outputId": "86bf99d0-0f04-43d3-b572-1014cf63920d"
      },
      "execution_count": null,
      "outputs": [
        {
          "output_type": "execute_result",
          "data": {
            "text/plain": [
              "int"
            ]
          },
          "metadata": {},
          "execution_count": 19
        }
      ]
    },
    {
      "cell_type": "markdown",
      "source": [
        "## Float\n",
        "\n",
        "실수형 변수"
      ],
      "metadata": {
        "id": "eXA2c1J4fcMo"
      }
    },
    {
      "cell_type": "code",
      "source": [
        "value = 2.71828\n",
        "type(value)"
      ],
      "metadata": {
        "colab": {
          "base_uri": "https://localhost:8080/"
        },
        "id": "wCRPOJWHfmIE",
        "outputId": "faece3f2-3cad-4c55-afeb-b536e70a2507"
      },
      "execution_count": null,
      "outputs": [
        {
          "output_type": "execute_result",
          "data": {
            "text/plain": [
              "float"
            ]
          },
          "metadata": {},
          "execution_count": 20
        }
      ]
    },
    {
      "cell_type": "code",
      "source": [
        "# float()를 통해 실수형으로 바꿀 수 있음\n",
        "value = float('2.71828')\n",
        "type(value)"
      ],
      "metadata": {
        "colab": {
          "base_uri": "https://localhost:8080/"
        },
        "id": "RYsc8nps8yO0",
        "outputId": "2d5b8084-82d0-43c6-9006-b290561cf740"
      },
      "execution_count": null,
      "outputs": [
        {
          "output_type": "execute_result",
          "data": {
            "text/plain": [
              "float"
            ]
          },
          "metadata": {},
          "execution_count": 21
        }
      ]
    },
    {
      "cell_type": "code",
      "source": [
        "# float을 int로 변환하는 경우 소수점 첫째 자리 이하 버림이 적용됨\n",
        "value = int(2.71828)\n",
        "value"
      ],
      "metadata": {
        "colab": {
          "base_uri": "https://localhost:8080/"
        },
        "id": "tTyRp-DF99OO",
        "outputId": "b88dc01d-e7d3-4f73-8b0c-77dfd6c199e9"
      },
      "execution_count": null,
      "outputs": [
        {
          "output_type": "execute_result",
          "data": {
            "text/plain": [
              "2"
            ]
          },
          "metadata": {},
          "execution_count": 22
        }
      ]
    },
    {
      "cell_type": "code",
      "source": [
        "# 지수(e)를 이용해서 표현 가능.\n",
        "value = 1e-3 # 1e-3 == 1 * 10^{-3}\n",
        "value"
      ],
      "metadata": {
        "colab": {
          "base_uri": "https://localhost:8080/"
        },
        "id": "dh2Ct3cYGtAA",
        "outputId": "e7ac9416-5c1b-48dc-a911-58b93042d692"
      },
      "execution_count": null,
      "outputs": [
        {
          "output_type": "execute_result",
          "data": {
            "text/plain": [
              "0.001"
            ]
          },
          "metadata": {},
          "execution_count": 23
        }
      ]
    },
    {
      "cell_type": "code",
      "source": [
        "value = 1e+3 # 1e+3 == 1 * 10^3\n",
        "value"
      ],
      "metadata": {
        "colab": {
          "base_uri": "https://localhost:8080/"
        },
        "id": "FLJsbAPXG-Dv",
        "outputId": "cb5f936c-696b-40db-c2f0-df39613a9677"
      },
      "execution_count": null,
      "outputs": [
        {
          "output_type": "execute_result",
          "data": {
            "text/plain": [
              "1000.0"
            ]
          },
          "metadata": {},
          "execution_count": 24
        }
      ]
    },
    {
      "cell_type": "markdown",
      "source": [
        "## Bool (boolean)\n",
        "\n",
        "논리 자료형 변수 (True, False)"
      ],
      "metadata": {
        "id": "ryP_rUx1fdfc"
      }
    },
    {
      "cell_type": "code",
      "source": [
        "value = True\n",
        "type(True)"
      ],
      "metadata": {
        "colab": {
          "base_uri": "https://localhost:8080/"
        },
        "id": "pfhdvcdffl3I",
        "outputId": "820c6e72-18ef-49c9-99dc-087ed5b21ea8"
      },
      "execution_count": null,
      "outputs": [
        {
          "output_type": "execute_result",
          "data": {
            "text/plain": [
              "bool"
            ]
          },
          "metadata": {},
          "execution_count": 25
        }
      ]
    },
    {
      "cell_type": "code",
      "source": [
        "value = False\n",
        "type(value)"
      ],
      "metadata": {
        "colab": {
          "base_uri": "https://localhost:8080/"
        },
        "id": "1yP4Nt-ld9fG",
        "outputId": "6ed4f5f6-8238-445e-bcf8-07bfb48afbf8"
      },
      "execution_count": null,
      "outputs": [
        {
          "output_type": "execute_result",
          "data": {
            "text/plain": [
              "bool"
            ]
          },
          "metadata": {},
          "execution_count": 26
        }
      ]
    },
    {
      "cell_type": "markdown",
      "source": [
        "True는 1, False는 0과 동일.  \n",
        "`==`는 비교를 위한 부호. 같으면 True, 다르면 False"
      ],
      "metadata": {
        "id": "Zivyfcrp_UYh"
      }
    },
    {
      "cell_type": "code",
      "source": [
        "True == 1"
      ],
      "metadata": {
        "colab": {
          "base_uri": "https://localhost:8080/"
        },
        "id": "ZuC03PJG-1nF",
        "outputId": "cd5cb77e-9a17-4122-9707-140efa9b7c0f"
      },
      "execution_count": null,
      "outputs": [
        {
          "output_type": "execute_result",
          "data": {
            "text/plain": [
              "True"
            ]
          },
          "metadata": {},
          "execution_count": 27
        }
      ]
    },
    {
      "cell_type": "code",
      "source": [
        "True == 0"
      ],
      "metadata": {
        "colab": {
          "base_uri": "https://localhost:8080/"
        },
        "id": "uSiwYtLK_ZYf",
        "outputId": "ca130d25-092a-46c9-c84b-ed2b18ebc774"
      },
      "execution_count": null,
      "outputs": [
        {
          "output_type": "execute_result",
          "data": {
            "text/plain": [
              "False"
            ]
          },
          "metadata": {},
          "execution_count": 28
        }
      ]
    },
    {
      "cell_type": "code",
      "source": [
        "False == 0"
      ],
      "metadata": {
        "colab": {
          "base_uri": "https://localhost:8080/"
        },
        "id": "AOWUzMrv_CLq",
        "outputId": "e2db4cc9-408e-4c99-a91b-aead15d96a2e"
      },
      "execution_count": null,
      "outputs": [
        {
          "output_type": "execute_result",
          "data": {
            "text/plain": [
              "True"
            ]
          },
          "metadata": {},
          "execution_count": 29
        }
      ]
    },
    {
      "cell_type": "code",
      "source": [
        "False == 1"
      ],
      "metadata": {
        "colab": {
          "base_uri": "https://localhost:8080/"
        },
        "id": "bOX06k68_DGQ",
        "outputId": "1fef0394-7c36-4530-c624-7f8c49bc34ad"
      },
      "execution_count": null,
      "outputs": [
        {
          "output_type": "execute_result",
          "data": {
            "text/plain": [
              "False"
            ]
          },
          "metadata": {},
          "execution_count": 30
        }
      ]
    },
    {
      "cell_type": "code",
      "source": [
        "# bool()을 통해 논리 자료형으로 바꿀 수 있음.\n",
        "value = bool(0)\n",
        "value"
      ],
      "metadata": {
        "colab": {
          "base_uri": "https://localhost:8080/"
        },
        "id": "v_3BwWKI-q5w",
        "outputId": "ac2d6220-12eb-4efd-e828-7d17005442f9"
      },
      "execution_count": null,
      "outputs": [
        {
          "output_type": "execute_result",
          "data": {
            "text/plain": [
              "False"
            ]
          },
          "metadata": {},
          "execution_count": 31
        }
      ]
    },
    {
      "cell_type": "code",
      "source": [
        "# 단, 0이 아닌 값은 모두 True로 반환\n",
        "value = bool(2)\n",
        "value"
      ],
      "metadata": {
        "colab": {
          "base_uri": "https://localhost:8080/"
        },
        "id": "62JpZTlg-yDY",
        "outputId": "967faff6-bfc0-4ea5-b5d8-1e839f3e79b6"
      },
      "execution_count": null,
      "outputs": [
        {
          "output_type": "execute_result",
          "data": {
            "text/plain": [
              "True"
            ]
          },
          "metadata": {},
          "execution_count": 32
        }
      ]
    },
    {
      "cell_type": "code",
      "source": [
        "value = bool('0')\n",
        "value"
      ],
      "metadata": {
        "colab": {
          "base_uri": "https://localhost:8080/"
        },
        "id": "FQbyeyFG_jt1",
        "outputId": "8e6c6403-8899-405c-87d4-9a4365eea078"
      },
      "execution_count": null,
      "outputs": [
        {
          "output_type": "execute_result",
          "data": {
            "text/plain": [
              "True"
            ]
          },
          "metadata": {},
          "execution_count": 33
        }
      ]
    },
    {
      "cell_type": "markdown",
      "source": [
        "## None (NoneType)\n",
        "\n",
        "값이 없음을 의미."
      ],
      "metadata": {
        "id": "bFPz_qIBxkPb"
      }
    },
    {
      "cell_type": "code",
      "source": [
        "value = None\n",
        "type(None)"
      ],
      "metadata": {
        "colab": {
          "base_uri": "https://localhost:8080/"
        },
        "id": "pmtPR5m8xhzQ",
        "outputId": "384e74aa-4484-4f34-acfc-7a4dd7bd02c3"
      },
      "execution_count": null,
      "outputs": [
        {
          "output_type": "execute_result",
          "data": {
            "text/plain": [
              "NoneType"
            ]
          },
          "metadata": {},
          "execution_count": 34
        }
      ]
    },
    {
      "cell_type": "code",
      "source": [
        "# None type은 값이 없기 때문에 출력되는 값이 없음\n",
        "value"
      ],
      "metadata": {
        "id": "VvpOknODxreY"
      },
      "execution_count": null,
      "outputs": []
    },
    {
      "cell_type": "markdown",
      "source": [
        "## Tuple\n",
        "\n",
        "`(`와 `)`로 감싸진 배열. Tuple은 내부 값을 변경할 수 없음.  \n",
        "Tuple 내 원소는 다양한 type 가능  \n",
        "tuple((`element1`, `element2`, ...)) 또는 tuple([`element1`, `element2`, ...])와 같이 생성 가능\n",
        "\n"
      ],
      "metadata": {
        "id": "9lvqlJhafe4B"
      }
    },
    {
      "cell_type": "code",
      "source": [
        "arr = (21, 26, 27, 32, 34, 42)\n",
        "type(arr)"
      ],
      "metadata": {
        "colab": {
          "base_uri": "https://localhost:8080/"
        },
        "id": "OAxjUi2sfk-d",
        "outputId": "00ec2f9f-ca23-4e02-907b-1c95b8371078"
      },
      "execution_count": null,
      "outputs": [
        {
          "output_type": "execute_result",
          "data": {
            "text/plain": [
              "tuple"
            ]
          },
          "metadata": {},
          "execution_count": 36
        }
      ]
    },
    {
      "cell_type": "code",
      "source": [
        "arr = tuple((21, 26, 27, 32, 34, 42))\n",
        "arr"
      ],
      "metadata": {
        "colab": {
          "base_uri": "https://localhost:8080/"
        },
        "id": "lttcgUMritg5",
        "outputId": "478e1ba7-81c8-403b-e00b-a0a72385448d"
      },
      "execution_count": null,
      "outputs": [
        {
          "output_type": "execute_result",
          "data": {
            "text/plain": [
              "(21, 26, 27, 32, 34, 42)"
            ]
          },
          "metadata": {},
          "execution_count": 37
        }
      ]
    },
    {
      "cell_type": "code",
      "source": [
        "arr = tuple([21, 26, 27, 32, 34, 42])\n",
        "arr"
      ],
      "metadata": {
        "colab": {
          "base_uri": "https://localhost:8080/"
        },
        "id": "nVGT59OEivo0",
        "outputId": "eb24ed98-7a70-4f4f-de9c-c311ed8301da"
      },
      "execution_count": null,
      "outputs": [
        {
          "output_type": "execute_result",
          "data": {
            "text/plain": [
              "(21, 26, 27, 32, 34, 42)"
            ]
          },
          "metadata": {},
          "execution_count": 38
        }
      ]
    },
    {
      "cell_type": "code",
      "source": [
        "arr[0] = 10"
      ],
      "metadata": {
        "colab": {
          "base_uri": "https://localhost:8080/",
          "height": 148
        },
        "id": "wEtg04xEfPxK",
        "outputId": "61fadbc7-9932-49a3-d9f5-066aad748095"
      },
      "execution_count": null,
      "outputs": [
        {
          "output_type": "error",
          "ename": "TypeError",
          "evalue": "'tuple' object does not support item assignment",
          "traceback": [
            "\u001b[0;31m---------------------------------------------------------------------------\u001b[0m",
            "\u001b[0;31mTypeError\u001b[0m                                 Traceback (most recent call last)",
            "\u001b[0;32m/tmp/ipython-input-3669286969.py\u001b[0m in \u001b[0;36m<cell line: 0>\u001b[0;34m()\u001b[0m\n\u001b[0;32m----> 1\u001b[0;31m \u001b[0marr\u001b[0m\u001b[0;34m[\u001b[0m\u001b[0;36m0\u001b[0m\u001b[0;34m]\u001b[0m \u001b[0;34m=\u001b[0m \u001b[0;36m10\u001b[0m\u001b[0;34m\u001b[0m\u001b[0;34m\u001b[0m\u001b[0m\n\u001b[0m",
            "\u001b[0;31mTypeError\u001b[0m: 'tuple' object does not support item assignment"
          ]
        }
      ]
    },
    {
      "cell_type": "code",
      "source": [
        "# 원소가 하나인 tuple은 끝에 콤마(,)를 써야함\n",
        "arr = (1,)\n",
        "arr"
      ],
      "metadata": {
        "colab": {
          "base_uri": "https://localhost:8080/"
        },
        "id": "nrxTU8ab-2ro",
        "outputId": "7b0a4e97-e31a-40b7-a147-272e2297d652"
      },
      "execution_count": null,
      "outputs": [
        {
          "output_type": "execute_result",
          "data": {
            "text/plain": [
              "(1,)"
            ]
          },
          "metadata": {},
          "execution_count": 40
        }
      ]
    },
    {
      "cell_type": "code",
      "source": [
        "arr = 1,\n",
        "arr"
      ],
      "metadata": {
        "colab": {
          "base_uri": "https://localhost:8080/"
        },
        "id": "xmyzKlxY_D8E",
        "outputId": "abbb6a6e-be86-49b3-d940-e222f2346206"
      },
      "execution_count": null,
      "outputs": [
        {
          "output_type": "execute_result",
          "data": {
            "text/plain": [
              "(1,)"
            ]
          },
          "metadata": {},
          "execution_count": 175
        }
      ]
    },
    {
      "cell_type": "code",
      "source": [
        "arr = (1) # ,를 기입하지 않으면 tuple로 생성되지 않음\n",
        "arr"
      ],
      "metadata": {
        "colab": {
          "base_uri": "https://localhost:8080/"
        },
        "id": "zdKhXwIl_BA_",
        "outputId": "bfe9a4fe-3422-4207-cc1d-de786917c656"
      },
      "execution_count": null,
      "outputs": [
        {
          "output_type": "execute_result",
          "data": {
            "text/plain": [
              "1"
            ]
          },
          "metadata": {},
          "execution_count": 42
        }
      ]
    },
    {
      "cell_type": "code",
      "source": [
        "# 순서를 통해 조회 가능\n",
        "arr[0]"
      ],
      "metadata": {
        "colab": {
          "base_uri": "https://localhost:8080/"
        },
        "id": "t4PI8AFTfjZ0",
        "outputId": "15ca0659-cc96-4096-a258-09fea714db49"
      },
      "execution_count": null,
      "outputs": [
        {
          "output_type": "execute_result",
          "data": {
            "text/plain": [
              "1"
            ]
          },
          "metadata": {},
          "execution_count": 176
        }
      ]
    },
    {
      "cell_type": "code",
      "source": [
        "arr[1]"
      ],
      "metadata": {
        "id": "11IZ-vTmfmuL",
        "colab": {
          "base_uri": "https://localhost:8080/",
          "height": 148
        },
        "outputId": "93b6e912-c5f6-4428-d7f6-e3e28c6b1fe0"
      },
      "execution_count": null,
      "outputs": [
        {
          "output_type": "error",
          "ename": "IndexError",
          "evalue": "tuple index out of range",
          "traceback": [
            "\u001b[0;31m---------------------------------------------------------------------------\u001b[0m",
            "\u001b[0;31mIndexError\u001b[0m                                Traceback (most recent call last)",
            "\u001b[0;32m/tmp/ipython-input-326934285.py\u001b[0m in \u001b[0;36m<cell line: 0>\u001b[0;34m()\u001b[0m\n\u001b[0;32m----> 1\u001b[0;31m \u001b[0marr\u001b[0m\u001b[0;34m[\u001b[0m\u001b[0;36m1\u001b[0m\u001b[0;34m]\u001b[0m\u001b[0;34m\u001b[0m\u001b[0;34m\u001b[0m\u001b[0m\n\u001b[0m",
            "\u001b[0;31mIndexError\u001b[0m: tuple index out of range"
          ]
        }
      ]
    },
    {
      "cell_type": "code",
      "source": [
        "arr = (1, 'a', 1.23, False)\n",
        "arr"
      ],
      "metadata": {
        "colab": {
          "base_uri": "https://localhost:8080/"
        },
        "id": "Qq3Yk6L4KE09",
        "outputId": "71847cc2-7ca6-487f-c64e-2599e8c085ef"
      },
      "execution_count": null,
      "outputs": [
        {
          "output_type": "execute_result",
          "data": {
            "text/plain": [
              "(1, 'a', 1.23, False)"
            ]
          },
          "metadata": {},
          "execution_count": 178
        }
      ]
    },
    {
      "cell_type": "markdown",
      "source": [
        "Tuple은 덧셈/곱셈 연산을 통해 반복할 수 있음"
      ],
      "metadata": {
        "id": "30lRFcgSPd9q"
      }
    },
    {
      "cell_type": "code",
      "source": [
        "arr = (1,2,3)\n",
        "arr + arr"
      ],
      "metadata": {
        "colab": {
          "base_uri": "https://localhost:8080/"
        },
        "id": "yAdNmpZIPgy6",
        "outputId": "c09660a5-d1ea-40d5-ba00-b821fa65f2ef"
      },
      "execution_count": null,
      "outputs": [
        {
          "output_type": "execute_result",
          "data": {
            "text/plain": [
              "(1, 2, 3, 1, 2, 3)"
            ]
          },
          "metadata": {},
          "execution_count": 46
        }
      ]
    },
    {
      "cell_type": "code",
      "source": [
        "arr = (1,2,3)\n",
        "arr + arr"
      ],
      "metadata": {
        "colab": {
          "base_uri": "https://localhost:8080/"
        },
        "id": "fN8I1gFSPWNp",
        "outputId": "15507d57-b1ca-4652-a9f9-73c73b6a03c8"
      },
      "execution_count": null,
      "outputs": [
        {
          "output_type": "execute_result",
          "data": {
            "text/plain": [
              "(1, 2, 3, 1, 2, 3)"
            ]
          },
          "metadata": {},
          "execution_count": 47
        }
      ]
    },
    {
      "cell_type": "markdown",
      "source": [
        "## List\n",
        "\n",
        "`[`와 `]`로 감싸진 배열. List는 원소 값을 변경할 수 있음.  \n",
        "List 내 원소는 다양한 type 사용 가능  \n",
        "list((`element1`, `element2`, ...)) 또는 list([`element1`, `element2`, ...])와 같이 생성 가능"
      ],
      "metadata": {
        "id": "z4cdgw1Hff0Y"
      }
    },
    {
      "cell_type": "code",
      "source": [
        "arr = [21, 26, 27, 32, 34, 42]\n",
        "type(arr)"
      ],
      "metadata": {
        "colab": {
          "base_uri": "https://localhost:8080/"
        },
        "id": "rfSARDXqflUl",
        "outputId": "d445b9b8-142c-4de3-9860-8e87ba7c9e00"
      },
      "execution_count": null,
      "outputs": [
        {
          "output_type": "execute_result",
          "data": {
            "text/plain": [
              "list"
            ]
          },
          "metadata": {},
          "execution_count": 48
        }
      ]
    },
    {
      "cell_type": "code",
      "source": [
        "arr = list([21, 26, 27, 32, 34, 42])\n",
        "arr"
      ],
      "metadata": {
        "colab": {
          "base_uri": "https://localhost:8080/"
        },
        "id": "CTaHxsxzicNb",
        "outputId": "0f8bae1c-d0bf-481e-a9d9-a8000c8f8f6a"
      },
      "execution_count": null,
      "outputs": [
        {
          "output_type": "execute_result",
          "data": {
            "text/plain": [
              "[21, 26, 27, 32, 34, 42]"
            ]
          },
          "metadata": {},
          "execution_count": 49
        }
      ]
    },
    {
      "cell_type": "code",
      "source": [
        "arr = list((21, 26, 27, 32, 34, 42))\n",
        "arr"
      ],
      "metadata": {
        "colab": {
          "base_uri": "https://localhost:8080/"
        },
        "id": "3FfevLIGifp5",
        "outputId": "f0a35137-b95f-4de6-90e9-830de1dfa8fb"
      },
      "execution_count": null,
      "outputs": [
        {
          "output_type": "execute_result",
          "data": {
            "text/plain": [
              "[21, 26, 27, 32, 34, 42]"
            ]
          },
          "metadata": {},
          "execution_count": 50
        }
      ]
    },
    {
      "cell_type": "code",
      "source": [
        "arr[0]"
      ],
      "metadata": {
        "colab": {
          "base_uri": "https://localhost:8080/"
        },
        "id": "rEBfzwhgf2iY",
        "outputId": "17754f9b-37a7-4fd9-94f0-70af9fd288e9"
      },
      "execution_count": null,
      "outputs": [
        {
          "output_type": "execute_result",
          "data": {
            "text/plain": [
              "21"
            ]
          },
          "metadata": {},
          "execution_count": 51
        }
      ]
    },
    {
      "cell_type": "code",
      "source": [
        "arr[0] = 10\n",
        "arr[0]"
      ],
      "metadata": {
        "colab": {
          "base_uri": "https://localhost:8080/"
        },
        "id": "PD7rOV2Sf3ps",
        "outputId": "52ee7fc1-7c19-49e3-9347-db1322b86f95"
      },
      "execution_count": null,
      "outputs": [
        {
          "output_type": "execute_result",
          "data": {
            "text/plain": [
              "10"
            ]
          },
          "metadata": {},
          "execution_count": 52
        }
      ]
    },
    {
      "cell_type": "code",
      "source": [
        "arr = [1, 'a', (1,2)]\n",
        "arr"
      ],
      "metadata": {
        "colab": {
          "base_uri": "https://localhost:8080/"
        },
        "id": "UAoZUmeiJ5JO",
        "outputId": "421056f9-cde6-4d42-8b40-a81bb12e09d5"
      },
      "execution_count": null,
      "outputs": [
        {
          "output_type": "execute_result",
          "data": {
            "text/plain": [
              "[1, 'a', (1, 2)]"
            ]
          },
          "metadata": {},
          "execution_count": 53
        }
      ]
    },
    {
      "cell_type": "markdown",
      "source": [
        "List는 덧셈/곱셈 연산을 통해 반복할 수 있음"
      ],
      "metadata": {
        "id": "Ki13jcvCP0u5"
      }
    },
    {
      "cell_type": "code",
      "source": [
        "arr = [1,2,3]\n",
        "arr + arr"
      ],
      "metadata": {
        "colab": {
          "base_uri": "https://localhost:8080/"
        },
        "id": "rQveSu9qPo8w",
        "outputId": "0a31729e-ec9f-4cd7-a22b-cbb33b5c1989"
      },
      "execution_count": null,
      "outputs": [
        {
          "output_type": "execute_result",
          "data": {
            "text/plain": [
              "[1, 2, 3, 1, 2, 3]"
            ]
          },
          "metadata": {},
          "execution_count": 54
        }
      ]
    },
    {
      "cell_type": "code",
      "source": [
        "arr * 2"
      ],
      "metadata": {
        "colab": {
          "base_uri": "https://localhost:8080/"
        },
        "id": "HYTLuJQ8P6Fs",
        "outputId": "a096c932-56c8-45d3-dd6e-aa99af92b738"
      },
      "execution_count": null,
      "outputs": [
        {
          "output_type": "execute_result",
          "data": {
            "text/plain": [
              "[1, 2, 3, 1, 2, 3]"
            ]
          },
          "metadata": {},
          "execution_count": 55
        }
      ]
    },
    {
      "cell_type": "markdown",
      "source": [
        "## Dictionary\n",
        "\n",
        "`Key`와 `Value`가 맵핑되어 있는 집합. `Key`는 바꿀 수 없지만 `Value`는 변경 가능함.  \n",
        "{`key`: `value`} 또는 dict([(`key`, `value`)]) 와 같이 생성.  \n",
        "`Value`는 다양한 type 가능.\n"
      ],
      "metadata": {
        "id": "nUxoyxhkfg7v"
      }
    },
    {
      "cell_type": "code",
      "source": [
        "values = {'lotto_number': [21, 26, 27, 32, 34, 42], 'date': 20230826}\n",
        "type(values)"
      ],
      "metadata": {
        "colab": {
          "base_uri": "https://localhost:8080/"
        },
        "id": "krXY2CaUfkni",
        "outputId": "6a690365-c563-4e13-a6b1-a7c47bbd2268"
      },
      "execution_count": null,
      "outputs": [
        {
          "output_type": "execute_result",
          "data": {
            "text/plain": [
              "dict"
            ]
          },
          "metadata": {},
          "execution_count": 56
        }
      ]
    },
    {
      "cell_type": "code",
      "source": [
        "values = dict([('lotto_number', [21, 26, 27, 32, 34, 42]), ('date', 20230826)])\n",
        "values"
      ],
      "metadata": {
        "colab": {
          "base_uri": "https://localhost:8080/"
        },
        "id": "8U94X-cMh0D_",
        "outputId": "ff396187-b173-4fff-9e38-93574fbf9644"
      },
      "execution_count": null,
      "outputs": [
        {
          "output_type": "execute_result",
          "data": {
            "text/plain": [
              "{'lotto_number': [21, 26, 27, 32, 34, 42], 'date': 20230826}"
            ]
          },
          "metadata": {},
          "execution_count": 57
        }
      ]
    },
    {
      "cell_type": "code",
      "source": [
        "# Key를 통해 value를 조회할 수 있음\n",
        "key = 'lotto_number'\n",
        "values[key]"
      ],
      "metadata": {
        "colab": {
          "base_uri": "https://localhost:8080/"
        },
        "id": "ugL7t2l8g-qd",
        "outputId": "2ee06b38-d759-4721-d617-d5ef947c9a02"
      },
      "execution_count": null,
      "outputs": [
        {
          "output_type": "execute_result",
          "data": {
            "text/plain": [
              "[21, 26, 27, 32, 34, 42]"
            ]
          },
          "metadata": {},
          "execution_count": 58
        }
      ]
    },
    {
      "cell_type": "code",
      "source": [
        "new_key = 'bonus number'\n",
        "new_value = 31\n",
        "values[new_key] = new_value\n",
        "values"
      ],
      "metadata": {
        "colab": {
          "base_uri": "https://localhost:8080/"
        },
        "id": "4vHKWnFogrqQ",
        "outputId": "2c42b574-d32e-417e-d011-e77f7ed9f861"
      },
      "execution_count": null,
      "outputs": [
        {
          "output_type": "execute_result",
          "data": {
            "text/plain": [
              "{'lotto_number': [21, 26, 27, 32, 34, 42],\n",
              " 'date': 20230826,\n",
              " 'bonus number': 31}"
            ]
          },
          "metadata": {},
          "execution_count": 59
        }
      ]
    },
    {
      "cell_type": "markdown",
      "source": [
        "## Set\n",
        "\n",
        "수학에서의 집합 개념과 동일. Unique 원소를 반환함.   \n",
        "원소는 list와 dictionary와 같이 가변적인 유형을 제외하고 가능함."
      ],
      "metadata": {
        "id": "397X6gFVfibI"
      }
    },
    {
      "cell_type": "code",
      "source": [
        "values = {1,1,2,2,3,3}\n",
        "type(values)"
      ],
      "metadata": {
        "colab": {
          "base_uri": "https://localhost:8080/"
        },
        "id": "fnYGD0kKfkJr",
        "outputId": "9a6fe2ef-9faf-4998-d42f-4c4974182fd7"
      },
      "execution_count": null,
      "outputs": [
        {
          "output_type": "execute_result",
          "data": {
            "text/plain": [
              "set"
            ]
          },
          "metadata": {},
          "execution_count": 60
        }
      ]
    },
    {
      "cell_type": "code",
      "source": [
        "values = set([1,1,2,2,3,3])\n",
        "values"
      ],
      "metadata": {
        "colab": {
          "base_uri": "https://localhost:8080/"
        },
        "id": "kav_NRy4hwoN",
        "outputId": "a7f81249-4a6f-4038-df23-d4466b6fb228"
      },
      "execution_count": null,
      "outputs": [
        {
          "output_type": "execute_result",
          "data": {
            "text/plain": [
              "{1, 2, 3}"
            ]
          },
          "metadata": {},
          "execution_count": 61
        }
      ]
    },
    {
      "cell_type": "code",
      "source": [
        "values = {'D','D','S','S','B','B','A','A','a'}\n",
        "values"
      ],
      "metadata": {
        "colab": {
          "base_uri": "https://localhost:8080/"
        },
        "id": "191BzZKxeuQV",
        "outputId": "9c7e0e01-4640-45a0-deb5-e4c95dacd512"
      },
      "execution_count": null,
      "outputs": [
        {
          "output_type": "execute_result",
          "data": {
            "text/plain": [
              "{'A', 'B', 'D', 'S', 'a'}"
            ]
          },
          "metadata": {},
          "execution_count": 62
        }
      ]
    },
    {
      "cell_type": "code",
      "source": [
        "values = {123, 'qwer', (1,2)}\n",
        "values"
      ],
      "metadata": {
        "colab": {
          "base_uri": "https://localhost:8080/"
        },
        "id": "gptZL8UpeyL_",
        "outputId": "9a337703-ede1-4507-d887-bab54d1ef3a3"
      },
      "execution_count": null,
      "outputs": [
        {
          "output_type": "execute_result",
          "data": {
            "text/plain": [
              "{(1, 2), 123, 'qwer'}"
            ]
          },
          "metadata": {},
          "execution_count": 63
        }
      ]
    },
    {
      "cell_type": "code",
      "source": [
        "values = {123, [1,2]}"
      ],
      "metadata": {
        "colab": {
          "base_uri": "https://localhost:8080/",
          "height": 148
        },
        "id": "xJsIsxp-lm1f",
        "outputId": "2850eb90-2b0a-4413-8152-5f849a919f38"
      },
      "execution_count": null,
      "outputs": [
        {
          "output_type": "error",
          "ename": "TypeError",
          "evalue": "unhashable type: 'list'",
          "traceback": [
            "\u001b[0;31m---------------------------------------------------------------------------\u001b[0m",
            "\u001b[0;31mTypeError\u001b[0m                                 Traceback (most recent call last)",
            "\u001b[0;32m/tmp/ipython-input-1658183939.py\u001b[0m in \u001b[0;36m<cell line: 0>\u001b[0;34m()\u001b[0m\n\u001b[0;32m----> 1\u001b[0;31m \u001b[0mvalues\u001b[0m \u001b[0;34m=\u001b[0m \u001b[0;34m{\u001b[0m\u001b[0;36m123\u001b[0m\u001b[0;34m,\u001b[0m \u001b[0;34m[\u001b[0m\u001b[0;36m1\u001b[0m\u001b[0;34m,\u001b[0m\u001b[0;36m2\u001b[0m\u001b[0;34m]\u001b[0m\u001b[0;34m}\u001b[0m\u001b[0;34m\u001b[0m\u001b[0;34m\u001b[0m\u001b[0m\n\u001b[0m",
            "\u001b[0;31mTypeError\u001b[0m: unhashable type: 'list'"
          ]
        }
      ]
    },
    {
      "cell_type": "code",
      "source": [
        "values = {1,2,3, {'a':1}}"
      ],
      "metadata": {
        "id": "VbnuVbmPlpRg",
        "colab": {
          "base_uri": "https://localhost:8080/",
          "height": 148
        },
        "outputId": "38bbce42-e672-45ac-90d2-4f3f0862b872"
      },
      "execution_count": null,
      "outputs": [
        {
          "output_type": "error",
          "ename": "TypeError",
          "evalue": "unhashable type: 'dict'",
          "traceback": [
            "\u001b[0;31m---------------------------------------------------------------------------\u001b[0m",
            "\u001b[0;31mTypeError\u001b[0m                                 Traceback (most recent call last)",
            "\u001b[0;32m/tmp/ipython-input-2745927187.py\u001b[0m in \u001b[0;36m<cell line: 0>\u001b[0;34m()\u001b[0m\n\u001b[0;32m----> 1\u001b[0;31m \u001b[0mvalues\u001b[0m \u001b[0;34m=\u001b[0m \u001b[0;34m{\u001b[0m\u001b[0;36m1\u001b[0m\u001b[0;34m,\u001b[0m\u001b[0;36m2\u001b[0m\u001b[0;34m,\u001b[0m\u001b[0;36m3\u001b[0m\u001b[0;34m,\u001b[0m \u001b[0;34m{\u001b[0m\u001b[0;34m'a'\u001b[0m\u001b[0;34m:\u001b[0m\u001b[0;36m1\u001b[0m\u001b[0;34m}\u001b[0m\u001b[0;34m}\u001b[0m\u001b[0;34m\u001b[0m\u001b[0;34m\u001b[0m\u001b[0m\n\u001b[0m",
            "\u001b[0;31mTypeError\u001b[0m: unhashable type: 'dict'"
          ]
        }
      ]
    },
    {
      "cell_type": "markdown",
      "source": [
        "# Indexing & Slicing\n",
        "\n",
        "Python에서는 list와 tuple과 같은 배열에서 특정 값을 조회하거나 특정 값들을 잘라내는 방법이 있음.  "
      ],
      "metadata": {
        "id": "zaVyX8XYl6AY"
      }
    },
    {
      "cell_type": "code",
      "source": [
        "values = [0,1,2,3,4,5,6,7,8,9]"
      ],
      "metadata": {
        "id": "iOLTGlkuvtjF"
      },
      "execution_count": null,
      "outputs": []
    },
    {
      "cell_type": "markdown",
      "source": [
        "## Indexing\n",
        "\n",
        "Python에서 index는 0부터 시작함."
      ],
      "metadata": {
        "id": "zMWeKMXgwCRT"
      }
    },
    {
      "cell_type": "code",
      "source": [
        "values[0]"
      ],
      "metadata": {
        "colab": {
          "base_uri": "https://localhost:8080/"
        },
        "id": "5_AaWqQ9l5QL",
        "outputId": "7fe1d660-56ef-4dca-ef46-d62eecfc926f"
      },
      "execution_count": null,
      "outputs": [
        {
          "output_type": "execute_result",
          "data": {
            "text/plain": [
              "0"
            ]
          },
          "metadata": {},
          "execution_count": 67
        }
      ]
    },
    {
      "cell_type": "code",
      "source": [
        "values[2]"
      ],
      "metadata": {
        "colab": {
          "base_uri": "https://localhost:8080/"
        },
        "id": "l7jqemudv3Qn",
        "outputId": "a6200d05-ce53-47b8-ed77-d2e273b52b97"
      },
      "execution_count": null,
      "outputs": [
        {
          "output_type": "execute_result",
          "data": {
            "text/plain": [
              "2"
            ]
          },
          "metadata": {},
          "execution_count": 68
        }
      ]
    },
    {
      "cell_type": "code",
      "source": [
        "values[10]"
      ],
      "metadata": {
        "colab": {
          "base_uri": "https://localhost:8080/",
          "height": 148
        },
        "id": "GahEM46Cv4oz",
        "outputId": "c297a0fc-5c34-4bd0-d45b-97d5b4e936a7"
      },
      "execution_count": null,
      "outputs": [
        {
          "output_type": "error",
          "ename": "IndexError",
          "evalue": "list index out of range",
          "traceback": [
            "\u001b[0;31m---------------------------------------------------------------------------\u001b[0m",
            "\u001b[0;31mIndexError\u001b[0m                                Traceback (most recent call last)",
            "\u001b[0;32m/tmp/ipython-input-3828063895.py\u001b[0m in \u001b[0;36m<cell line: 0>\u001b[0;34m()\u001b[0m\n\u001b[0;32m----> 1\u001b[0;31m \u001b[0mvalues\u001b[0m\u001b[0;34m[\u001b[0m\u001b[0;36m10\u001b[0m\u001b[0;34m]\u001b[0m\u001b[0;34m\u001b[0m\u001b[0;34m\u001b[0m\u001b[0m\n\u001b[0m",
            "\u001b[0;31mIndexError\u001b[0m: list index out of range"
          ]
        }
      ]
    },
    {
      "cell_type": "code",
      "source": [
        "# 음수를 넣어서 뒤에서 부터 index를 조회하는 것도 가능\n",
        "values[-1]"
      ],
      "metadata": {
        "id": "bhDk6y0gv6S8",
        "colab": {
          "base_uri": "https://localhost:8080/"
        },
        "outputId": "d6e3ef37-4769-4d66-ce12-bbd374ad7d67"
      },
      "execution_count": null,
      "outputs": [
        {
          "output_type": "execute_result",
          "data": {
            "text/plain": [
              "9"
            ]
          },
          "metadata": {},
          "execution_count": 70
        }
      ]
    },
    {
      "cell_type": "markdown",
      "source": [
        "문자열도 index 조회가 가능"
      ],
      "metadata": {
        "id": "Ox-rdkgGJbjJ"
      }
    },
    {
      "cell_type": "code",
      "source": [
        "name = 'abcdefg'\n",
        "name[0]"
      ],
      "metadata": {
        "colab": {
          "base_uri": "https://localhost:8080/",
          "height": 36
        },
        "id": "QiDbSG9PJaVA",
        "outputId": "f4789ccf-7b8b-4ffd-90c0-842f31fb9ea2"
      },
      "execution_count": null,
      "outputs": [
        {
          "output_type": "execute_result",
          "data": {
            "text/plain": [
              "'a'"
            ],
            "application/vnd.google.colaboratory.intrinsic+json": {
              "type": "string"
            }
          },
          "metadata": {},
          "execution_count": 71
        }
      ]
    },
    {
      "cell_type": "code",
      "source": [
        "name[-1]"
      ],
      "metadata": {
        "colab": {
          "base_uri": "https://localhost:8080/",
          "height": 36
        },
        "id": "D8n6fL_6Jk0Z",
        "outputId": "10b042ba-77fa-4090-9550-d8d32ada8f90"
      },
      "execution_count": null,
      "outputs": [
        {
          "output_type": "execute_result",
          "data": {
            "text/plain": [
              "'g'"
            ],
            "application/vnd.google.colaboratory.intrinsic+json": {
              "type": "string"
            }
          },
          "metadata": {},
          "execution_count": 72
        }
      ]
    },
    {
      "cell_type": "markdown",
      "source": [
        "## Slicing\n",
        "\n",
        "Slicing은 `:`을 통해 특정 index까지의 값을 조회함. ex) `start index: end index`  또는 `start index: end index: interval`  \n",
        "`::`을 통해 특정 간격을 기준으로 값을 조회할 수 있음. `start index::interval`"
      ],
      "metadata": {
        "id": "Ur6TB-JLwEYM"
      }
    },
    {
      "cell_type": "code",
      "source": [
        "values[2:6]"
      ],
      "metadata": {
        "colab": {
          "base_uri": "https://localhost:8080/"
        },
        "id": "qPwFBTGqwqjs",
        "outputId": "697a02ad-be83-462e-f9fc-2f729adb826d"
      },
      "execution_count": null,
      "outputs": [
        {
          "output_type": "execute_result",
          "data": {
            "text/plain": [
              "[2, 3, 4, 5]"
            ]
          },
          "metadata": {},
          "execution_count": 73
        }
      ]
    },
    {
      "cell_type": "code",
      "source": [
        "values[1:8:2]"
      ],
      "metadata": {
        "colab": {
          "base_uri": "https://localhost:8080/"
        },
        "id": "Qyu5L12jU1jr",
        "outputId": "bab191c2-dd92-425e-b860-47080cbb5be9"
      },
      "execution_count": null,
      "outputs": [
        {
          "output_type": "execute_result",
          "data": {
            "text/plain": [
              "[1, 3, 5, 7]"
            ]
          },
          "metadata": {},
          "execution_count": 74
        }
      ]
    },
    {
      "cell_type": "code",
      "source": [
        "# \":index\" 는 index 0부터 index 5까지를 의미함\n",
        "values[:5]"
      ],
      "metadata": {
        "colab": {
          "base_uri": "https://localhost:8080/"
        },
        "id": "BRbm80avv_Cq",
        "outputId": "3c54f5d2-8c1c-45af-f57e-7649d94f7c4d"
      },
      "execution_count": null,
      "outputs": [
        {
          "output_type": "execute_result",
          "data": {
            "text/plain": [
              "[0, 1, 2, 3, 4]"
            ]
          },
          "metadata": {},
          "execution_count": 75
        }
      ]
    },
    {
      "cell_type": "code",
      "source": [
        "# 반대로도 가능\n",
        "values[-5:-2]"
      ],
      "metadata": {
        "colab": {
          "base_uri": "https://localhost:8080/"
        },
        "id": "PvAOKcJowi-K",
        "outputId": "3c6c2fed-c85e-413c-e667-3ea854a7c221"
      },
      "execution_count": null,
      "outputs": [
        {
          "output_type": "execute_result",
          "data": {
            "text/plain": [
              "[5, 6, 7]"
            ]
          },
          "metadata": {},
          "execution_count": 76
        }
      ]
    },
    {
      "cell_type": "code",
      "source": [
        "values[-5:]"
      ],
      "metadata": {
        "colab": {
          "base_uri": "https://localhost:8080/"
        },
        "id": "_TMHHCewwWdX",
        "outputId": "98c5711c-8dd5-4f14-d674-c4de088777b1"
      },
      "execution_count": null,
      "outputs": [
        {
          "output_type": "execute_result",
          "data": {
            "text/plain": [
              "[5, 6, 7, 8, 9]"
            ]
          },
          "metadata": {},
          "execution_count": 77
        }
      ]
    },
    {
      "cell_type": "code",
      "source": [
        "# `::`을 통해 특정 간격 마다 조회 가능\n",
        "values[::2]"
      ],
      "metadata": {
        "colab": {
          "base_uri": "https://localhost:8080/"
        },
        "id": "5UobYncZwXkz",
        "outputId": "79f2282f-7b2b-4aea-9364-b36298197cba"
      },
      "execution_count": null,
      "outputs": [
        {
          "output_type": "execute_result",
          "data": {
            "text/plain": [
              "[0, 2, 4, 6, 8]"
            ]
          },
          "metadata": {},
          "execution_count": 78
        }
      ]
    },
    {
      "cell_type": "code",
      "source": [
        "values[1::2]"
      ],
      "metadata": {
        "colab": {
          "base_uri": "https://localhost:8080/"
        },
        "id": "Xv5Uq1vLxC18",
        "outputId": "588e787e-f617-4a87-9178-bb362bba8adb"
      },
      "execution_count": null,
      "outputs": [
        {
          "output_type": "execute_result",
          "data": {
            "text/plain": [
              "[1, 3, 5, 7, 9]"
            ]
          },
          "metadata": {},
          "execution_count": 79
        }
      ]
    },
    {
      "cell_type": "code",
      "source": [
        "values[-4::2]"
      ],
      "metadata": {
        "colab": {
          "base_uri": "https://localhost:8080/"
        },
        "id": "NQtI_joXxD2N",
        "outputId": "c406369f-4709-4075-b3e3-e3eb6353000f"
      },
      "execution_count": null,
      "outputs": [
        {
          "output_type": "execute_result",
          "data": {
            "text/plain": [
              "[6, 8]"
            ]
          },
          "metadata": {},
          "execution_count": 80
        }
      ]
    },
    {
      "cell_type": "code",
      "source": [
        "values[-4::]"
      ],
      "metadata": {
        "colab": {
          "base_uri": "https://localhost:8080/"
        },
        "id": "7XhqLoEhxHd8",
        "outputId": "c06f9d83-6943-46ff-bf24-437262957f66"
      },
      "execution_count": null,
      "outputs": [
        {
          "output_type": "execute_result",
          "data": {
            "text/plain": [
              "[6, 7, 8, 9]"
            ]
          },
          "metadata": {},
          "execution_count": 81
        }
      ]
    },
    {
      "cell_type": "code",
      "source": [
        "values[::2][:3]"
      ],
      "metadata": {
        "colab": {
          "base_uri": "https://localhost:8080/"
        },
        "id": "wk3MHvSYxQRP",
        "outputId": "734961ec-df84-4b83-d13a-f2b24558547c"
      },
      "execution_count": null,
      "outputs": [
        {
          "output_type": "execute_result",
          "data": {
            "text/plain": [
              "[0, 2, 4]"
            ]
          },
          "metadata": {},
          "execution_count": 82
        }
      ]
    },
    {
      "cell_type": "markdown",
      "source": [
        "문자열도 slicing 가능"
      ],
      "metadata": {
        "id": "fXo5lMUQJtEb"
      }
    },
    {
      "cell_type": "code",
      "source": [
        "name = 'abcdefg'\n",
        "name[:4]"
      ],
      "metadata": {
        "colab": {
          "base_uri": "https://localhost:8080/",
          "height": 36
        },
        "id": "Kfzw85n9JqFm",
        "outputId": "bee0d51a-9b12-4864-c46f-3084144e8c15"
      },
      "execution_count": null,
      "outputs": [
        {
          "output_type": "execute_result",
          "data": {
            "text/plain": [
              "'abcd'"
            ],
            "application/vnd.google.colaboratory.intrinsic+json": {
              "type": "string"
            }
          },
          "metadata": {},
          "execution_count": 83
        }
      ]
    },
    {
      "cell_type": "markdown",
      "source": [
        "# Arithmetic operators\n",
        "\n",
        "- add : `+`\n",
        "- minus : `-`\n",
        "- division : `/`\n",
        "- share: `//`\n",
        "- remainder: `%`\n",
        "- multiplication: `*`\n",
        "- square: `**`"
      ],
      "metadata": {
        "id": "081nLtWeR0QG"
      }
    },
    {
      "cell_type": "code",
      "source": [
        "a = 1\n",
        "b = 2\n",
        "add_ab = a + b\n",
        "add_ab"
      ],
      "metadata": {
        "colab": {
          "base_uri": "https://localhost:8080/"
        },
        "id": "sYkKJnKOSHFS",
        "outputId": "deb5d672-4227-4f1e-e0ec-ca0ab1d48c8e"
      },
      "execution_count": null,
      "outputs": [
        {
          "output_type": "execute_result",
          "data": {
            "text/plain": [
              "3"
            ]
          },
          "metadata": {},
          "execution_count": 84
        }
      ]
    },
    {
      "cell_type": "code",
      "source": [
        "# python에서는 arithmetic operators와 define을 함께 할 수 있음\n",
        "sum_value = 1\n",
        "sum_value += 2\n",
        "sum_value"
      ],
      "metadata": {
        "colab": {
          "base_uri": "https://localhost:8080/"
        },
        "id": "DTizRmh4KX0y",
        "outputId": "61fe3c1e-45ec-4ea3-d31f-7e0ffd716e8d"
      },
      "execution_count": null,
      "outputs": [
        {
          "output_type": "execute_result",
          "data": {
            "text/plain": [
              "3"
            ]
          },
          "metadata": {},
          "execution_count": 85
        }
      ]
    },
    {
      "cell_type": "code",
      "source": [
        "a = 1\n",
        "b = 2\n",
        "minus_ab = a - b\n",
        "minus_ab"
      ],
      "metadata": {
        "colab": {
          "base_uri": "https://localhost:8080/"
        },
        "id": "fCBozmCPSnGv",
        "outputId": "c9234033-cdd3-4fb1-9832-37149aaa621b"
      },
      "execution_count": null,
      "outputs": [
        {
          "output_type": "execute_result",
          "data": {
            "text/plain": [
              "-1"
            ]
          },
          "metadata": {},
          "execution_count": 86
        }
      ]
    },
    {
      "cell_type": "code",
      "source": [
        "a = 1\n",
        "b = 3\n",
        "divide_ab = a / b\n",
        "divide_ab"
      ],
      "metadata": {
        "colab": {
          "base_uri": "https://localhost:8080/"
        },
        "id": "fvdaSachSoUG",
        "outputId": "e84b1e71-3c03-4c29-ab24-45cee80ab8bf"
      },
      "execution_count": null,
      "outputs": [
        {
          "output_type": "execute_result",
          "data": {
            "text/plain": [
              "0.3333333333333333"
            ]
          },
          "metadata": {},
          "execution_count": 87
        }
      ]
    },
    {
      "cell_type": "code",
      "source": [
        "a = 5\n",
        "b = 2\n",
        "share_ab = a // b\n",
        "share_ab"
      ],
      "metadata": {
        "colab": {
          "base_uri": "https://localhost:8080/"
        },
        "id": "pgAZW1ZlSpXa",
        "outputId": "da797733-4821-4a5c-8fa7-7a835185771d"
      },
      "execution_count": null,
      "outputs": [
        {
          "output_type": "execute_result",
          "data": {
            "text/plain": [
              "2"
            ]
          },
          "metadata": {},
          "execution_count": 88
        }
      ]
    },
    {
      "cell_type": "code",
      "source": [
        "a = 5\n",
        "b = 2\n",
        "remainder_ab = a % b\n",
        "remainder_ab"
      ],
      "metadata": {
        "colab": {
          "base_uri": "https://localhost:8080/"
        },
        "id": "bEZe5YloS3Iw",
        "outputId": "1672d4fe-119b-4943-8900-1e91c0e9a109"
      },
      "execution_count": null,
      "outputs": [
        {
          "output_type": "execute_result",
          "data": {
            "text/plain": [
              "1"
            ]
          },
          "metadata": {},
          "execution_count": 89
        }
      ]
    },
    {
      "cell_type": "code",
      "source": [
        "a = 5\n",
        "b = 2\n",
        "multiply_ab = a * b\n",
        "multiply_ab"
      ],
      "metadata": {
        "colab": {
          "base_uri": "https://localhost:8080/"
        },
        "id": "pAQ-6S_8T8JW",
        "outputId": "b4a26e80-2983-4dad-d48e-5391be6130cb"
      },
      "execution_count": null,
      "outputs": [
        {
          "output_type": "execute_result",
          "data": {
            "text/plain": [
              "10"
            ]
          },
          "metadata": {},
          "execution_count": 90
        }
      ]
    },
    {
      "cell_type": "code",
      "source": [
        "a = 5\n",
        "b = 2\n",
        "square_ab = a ** b\n",
        "square_ab"
      ],
      "metadata": {
        "colab": {
          "base_uri": "https://localhost:8080/"
        },
        "id": "vS0ap8PlT9Fr",
        "outputId": "e6b702e5-3552-4aac-d8fa-b2e617d9ca2c"
      },
      "execution_count": null,
      "outputs": [
        {
          "output_type": "execute_result",
          "data": {
            "text/plain": [
              "25"
            ]
          },
          "metadata": {},
          "execution_count": 91
        }
      ]
    },
    {
      "cell_type": "markdown",
      "source": [
        "# Basic built-in functions\n",
        "\n",
        "Python built-in functions [ [link](https://www.w3schools.com/python/python_ref_functions.asp) ]\n",
        "\n",
        "- len(object) : 변수의 길이를 확인\n",
        "- range(start, stop, step) : 배열을 생성\n",
        "- round(number, digits) : 반올림. degits default value is 0\n",
        "- sorted(iterable, key, reverse): iterable 변수 정렬\n",
        "- zip(*iterable): iterable 변수를 묶음\n",
        "- id(object) : 변수의 주소를 확인\n",
        "- isinstance(object, type): 변수의 type이 맞는지 확인\n",
        "\n",
        "\\+ del : 변수를 삭제\n"
      ],
      "metadata": {
        "id": "bd72HfdsVYM9"
      }
    },
    {
      "cell_type": "markdown",
      "source": [
        "len(): 변수의 길이를 확인"
      ],
      "metadata": {
        "id": "xXYJ0YT_ayjQ"
      }
    },
    {
      "cell_type": "code",
      "source": [
        "value = '1234'\n",
        "len(value)"
      ],
      "metadata": {
        "colab": {
          "base_uri": "https://localhost:8080/"
        },
        "id": "dO4cODcRVZ0M",
        "outputId": "89eadfd8-4acb-4333-ce32-35989074c88d"
      },
      "execution_count": null,
      "outputs": [
        {
          "output_type": "execute_result",
          "data": {
            "text/plain": [
              "4"
            ]
          },
          "metadata": {},
          "execution_count": 92
        }
      ]
    },
    {
      "cell_type": "code",
      "source": [
        "value = 1234\n",
        "len(value) # int or float type은 길이를 잴 수 없음"
      ],
      "metadata": {
        "colab": {
          "base_uri": "https://localhost:8080/",
          "height": 167
        },
        "id": "nlPWYKCkaCwR",
        "outputId": "931ed890-a0b4-442e-dbe8-f9017e77e3d1"
      },
      "execution_count": null,
      "outputs": [
        {
          "output_type": "error",
          "ename": "TypeError",
          "evalue": "object of type 'int' has no len()",
          "traceback": [
            "\u001b[0;31m---------------------------------------------------------------------------\u001b[0m",
            "\u001b[0;31mTypeError\u001b[0m                                 Traceback (most recent call last)",
            "\u001b[0;32m/tmp/ipython-input-2339864517.py\u001b[0m in \u001b[0;36m<cell line: 0>\u001b[0;34m()\u001b[0m\n\u001b[1;32m      1\u001b[0m \u001b[0mvalue\u001b[0m \u001b[0;34m=\u001b[0m \u001b[0;36m1234\u001b[0m\u001b[0;34m\u001b[0m\u001b[0;34m\u001b[0m\u001b[0m\n\u001b[0;32m----> 2\u001b[0;31m \u001b[0mlen\u001b[0m\u001b[0;34m(\u001b[0m\u001b[0mvalue\u001b[0m\u001b[0;34m)\u001b[0m \u001b[0;31m# int or float type은 길이를 잴 수 없음\u001b[0m\u001b[0;34m\u001b[0m\u001b[0;34m\u001b[0m\u001b[0m\n\u001b[0m",
            "\u001b[0;31mTypeError\u001b[0m: object of type 'int' has no len()"
          ]
        }
      ]
    },
    {
      "cell_type": "code",
      "source": [
        "arr = [1,2,3]\n",
        "len(arr)"
      ],
      "metadata": {
        "colab": {
          "base_uri": "https://localhost:8080/"
        },
        "id": "VyKtFopKaLQm",
        "outputId": "2a9052f1-7ca3-4e24-d886-afd5bfa8728a"
      },
      "execution_count": null,
      "outputs": [
        {
          "output_type": "execute_result",
          "data": {
            "text/plain": [
              "3"
            ]
          },
          "metadata": {},
          "execution_count": 94
        }
      ]
    },
    {
      "cell_type": "code",
      "source": [
        "values = {'a':1, 'b':[1,2], 'c':{1,2,3,3}}\n",
        "len(values) # dictionary는 key 개수를 길이로 반환함"
      ],
      "metadata": {
        "colab": {
          "base_uri": "https://localhost:8080/"
        },
        "id": "VmfWOhaHaO7u",
        "outputId": "d08c28a4-4e08-4c54-e2d5-1ca0ac38f6dd"
      },
      "execution_count": null,
      "outputs": [
        {
          "output_type": "execute_result",
          "data": {
            "text/plain": [
              "3"
            ]
          },
          "metadata": {},
          "execution_count": 95
        }
      ]
    },
    {
      "cell_type": "markdown",
      "source": [
        "range(start, stop, step) : 배열을 생성"
      ],
      "metadata": {
        "id": "ymd8ptaGauE0"
      }
    },
    {
      "cell_type": "code",
      "source": [
        "range(10) # argument를 하나만 입력하면 입력한 크기만큼 0부터 배열을 반환함"
      ],
      "metadata": {
        "colab": {
          "base_uri": "https://localhost:8080/"
        },
        "id": "Rp4bJgK6XjqM",
        "outputId": "747b64a6-5a84-47a6-dbf6-b4066f8e7bcd"
      },
      "execution_count": null,
      "outputs": [
        {
          "output_type": "execute_result",
          "data": {
            "text/plain": [
              "range(0, 10)"
            ]
          },
          "metadata": {},
          "execution_count": 96
        }
      ]
    },
    {
      "cell_type": "code",
      "source": [
        "list(range(10)) # list를 사용하는 경우 반환된 배열을 list로 반환함"
      ],
      "metadata": {
        "colab": {
          "base_uri": "https://localhost:8080/"
        },
        "id": "oMzjG4JOal9e",
        "outputId": "0db58e45-dd9f-4126-c1e2-93479a6de618"
      },
      "execution_count": null,
      "outputs": [
        {
          "output_type": "execute_result",
          "data": {
            "text/plain": [
              "[0, 1, 2, 3, 4, 5, 6, 7, 8, 9]"
            ]
          },
          "metadata": {},
          "execution_count": 97
        }
      ]
    },
    {
      "cell_type": "code",
      "source": [
        "list(range(2,10)) # argument를 두 개 입력한 경우 첫 번째 argument로 입력한 값부터 1씩 두 번째 argument로 입력한 값 전까지 반환함"
      ],
      "metadata": {
        "colab": {
          "base_uri": "https://localhost:8080/"
        },
        "id": "bW9IO9T0asRO",
        "outputId": "5329efc6-92b8-400d-f92e-e4bcdd8fb868"
      },
      "execution_count": null,
      "outputs": [
        {
          "output_type": "execute_result",
          "data": {
            "text/plain": [
              "[2, 3, 4, 5, 6, 7, 8, 9]"
            ]
          },
          "metadata": {},
          "execution_count": 98
        }
      ]
    },
    {
      "cell_type": "code",
      "source": [
        "list(range(2,10,2)) # start, stop, step"
      ],
      "metadata": {
        "colab": {
          "base_uri": "https://localhost:8080/"
        },
        "id": "sfbXbMFGbGh4",
        "outputId": "aca02228-624e-44ef-c92a-d4f2039a5c17"
      },
      "execution_count": null,
      "outputs": [
        {
          "output_type": "execute_result",
          "data": {
            "text/plain": [
              "[2, 4, 6, 8]"
            ]
          },
          "metadata": {},
          "execution_count": 99
        }
      ]
    },
    {
      "cell_type": "markdown",
      "source": [
        "round() : 반올림"
      ],
      "metadata": {
        "id": "hN8kU990bML2"
      }
    },
    {
      "cell_type": "code",
      "source": [
        "round(1.234)"
      ],
      "metadata": {
        "colab": {
          "base_uri": "https://localhost:8080/"
        },
        "id": "U4tjEhp-Xky3",
        "outputId": "126901e9-205b-481c-88e9-ef5dc5733883"
      },
      "execution_count": null,
      "outputs": [
        {
          "output_type": "execute_result",
          "data": {
            "text/plain": [
              "1"
            ]
          },
          "metadata": {},
          "execution_count": 100
        }
      ]
    },
    {
      "cell_type": "code",
      "source": [
        "round(1.234, 2)"
      ],
      "metadata": {
        "colab": {
          "base_uri": "https://localhost:8080/"
        },
        "id": "NptMoUwPcMle",
        "outputId": "9254be76-6169-4f3a-8386-f187960856a8"
      },
      "execution_count": null,
      "outputs": [
        {
          "output_type": "execute_result",
          "data": {
            "text/plain": [
              "1.23"
            ]
          },
          "metadata": {},
          "execution_count": 101
        }
      ]
    },
    {
      "cell_type": "markdown",
      "source": [
        "sorted(iterable, key, reverse): iterable 변수 정렬"
      ],
      "metadata": {
        "id": "zV-O3mQdC_xl"
      }
    },
    {
      "cell_type": "code",
      "source": [
        "arr = [4,2,3,6]\n",
        "sorted(arr) # default는 오름차순 정렬"
      ],
      "metadata": {
        "colab": {
          "base_uri": "https://localhost:8080/"
        },
        "id": "ZTDw0o_LC_ni",
        "outputId": "f6811a39-d48c-4ef3-895a-f5fb66a15563"
      },
      "execution_count": null,
      "outputs": [
        {
          "output_type": "execute_result",
          "data": {
            "text/plain": [
              "[2, 3, 4, 6]"
            ]
          },
          "metadata": {},
          "execution_count": 102
        }
      ]
    },
    {
      "cell_type": "code",
      "source": [
        "sorted(arr, reverse=True)"
      ],
      "metadata": {
        "colab": {
          "base_uri": "https://localhost:8080/"
        },
        "id": "4SCF2twYDGDm",
        "outputId": "ae31d6e8-3463-40cd-d107-f937e2fa44c3"
      },
      "execution_count": null,
      "outputs": [
        {
          "output_type": "execute_result",
          "data": {
            "text/plain": [
              "[6, 4, 3, 2]"
            ]
          },
          "metadata": {},
          "execution_count": 103
        }
      ]
    },
    {
      "cell_type": "code",
      "source": [
        "arr = ['굳','낫벧','감사합니다', '참말로 감사합니다']\n",
        "sorted(arr)"
      ],
      "metadata": {
        "colab": {
          "base_uri": "https://localhost:8080/"
        },
        "id": "7-erxPReDLsT",
        "outputId": "ebb88a56-a9e6-4ebe-c721-b82b3a46b45e"
      },
      "execution_count": null,
      "outputs": [
        {
          "output_type": "execute_result",
          "data": {
            "text/plain": [
              "['감사합니다', '굳', '낫벧', '참말로 감사합니다']"
            ]
          },
          "metadata": {},
          "execution_count": 104
        }
      ]
    },
    {
      "cell_type": "code",
      "source": [
        "sorted(arr, key=len)"
      ],
      "metadata": {
        "colab": {
          "base_uri": "https://localhost:8080/"
        },
        "id": "ckQ0gMSDDkM-",
        "outputId": "07ac4724-97b9-4c43-d665-4d72541020b3"
      },
      "execution_count": null,
      "outputs": [
        {
          "output_type": "execute_result",
          "data": {
            "text/plain": [
              "['굳', '낫벧', '감사합니다', '참말로 감사합니다']"
            ]
          },
          "metadata": {},
          "execution_count": 105
        }
      ]
    },
    {
      "cell_type": "code",
      "source": [
        "sorted(arr, key=len, reverse=True)"
      ],
      "metadata": {
        "colab": {
          "base_uri": "https://localhost:8080/"
        },
        "id": "7RAYjMTSEq2I",
        "outputId": "7ed96f8c-3188-4886-e437-dcca6d3d98fa"
      },
      "execution_count": null,
      "outputs": [
        {
          "output_type": "execute_result",
          "data": {
            "text/plain": [
              "['참말로 감사합니다', '감사합니다', '낫벧', '굳']"
            ]
          },
          "metadata": {},
          "execution_count": 106
        }
      ]
    },
    {
      "cell_type": "markdown",
      "source": [
        "zip(*iterable): iterable 변수를 묶음 (반복 가능 변수)"
      ],
      "metadata": {
        "id": "4HG8QaJbF7e5"
      }
    },
    {
      "cell_type": "code",
      "source": [
        "arr1 = (1,2,3)\n",
        "arr2 = ('a','b','c')\n",
        "zip(arr1, arr2)"
      ],
      "metadata": {
        "colab": {
          "base_uri": "https://localhost:8080/"
        },
        "id": "vtE7c6m7F7Gm",
        "outputId": "8efaa2d7-83dc-4e6b-ecc0-3d783dfd0473"
      },
      "execution_count": null,
      "outputs": [
        {
          "output_type": "execute_result",
          "data": {
            "text/plain": [
              "<zip at 0x78bb81847540>"
            ]
          },
          "metadata": {},
          "execution_count": 107
        }
      ]
    },
    {
      "cell_type": "code",
      "source": [
        "list(zip(arr1, arr2))"
      ],
      "metadata": {
        "colab": {
          "base_uri": "https://localhost:8080/"
        },
        "id": "L5lZUV9DGAQR",
        "outputId": "dc90eed2-e42a-45ae-fbf8-1a9bf37ef7c8"
      },
      "execution_count": null,
      "outputs": [
        {
          "output_type": "execute_result",
          "data": {
            "text/plain": [
              "[(1, 'a'), (2, 'b'), (3, 'c')]"
            ]
          },
          "metadata": {},
          "execution_count": 108
        }
      ]
    },
    {
      "cell_type": "code",
      "source": [
        "dict(zip(arr1, arr2))"
      ],
      "metadata": {
        "colab": {
          "base_uri": "https://localhost:8080/"
        },
        "id": "QDrzipTcGCWW",
        "outputId": "b3e49098-1b22-4dc1-844a-0f5625fa5073"
      },
      "execution_count": null,
      "outputs": [
        {
          "output_type": "execute_result",
          "data": {
            "text/plain": [
              "{1: 'a', 2: 'b', 3: 'c'}"
            ]
          },
          "metadata": {},
          "execution_count": 109
        }
      ]
    },
    {
      "cell_type": "code",
      "source": [
        "list(zip('1234','abcd'))"
      ],
      "metadata": {
        "colab": {
          "base_uri": "https://localhost:8080/"
        },
        "id": "r1cwmPQ1GMDT",
        "outputId": "0cccee40-517c-480c-a0e7-d60906b28352"
      },
      "execution_count": null,
      "outputs": [
        {
          "output_type": "execute_result",
          "data": {
            "text/plain": [
              "[('1', 'a'), ('2', 'b'), ('3', 'c'), ('4', 'd')]"
            ]
          },
          "metadata": {},
          "execution_count": 110
        }
      ]
    },
    {
      "cell_type": "code",
      "source": [
        "list(zip('1234','abcdefg')) # 길이가 맞지 않는 경우 짧은 길이에 맞춰서 매칭"
      ],
      "metadata": {
        "colab": {
          "base_uri": "https://localhost:8080/"
        },
        "id": "bIaNRxj8GPB6",
        "outputId": "7f70b54b-4762-4f0f-9504-e0db77ead01a"
      },
      "execution_count": null,
      "outputs": [
        {
          "output_type": "execute_result",
          "data": {
            "text/plain": [
              "[('1', 'a'), ('2', 'b'), ('3', 'c'), ('4', 'd')]"
            ]
          },
          "metadata": {},
          "execution_count": 111
        }
      ]
    },
    {
      "cell_type": "markdown",
      "source": [
        "id() : 변수의 주소를 확인"
      ],
      "metadata": {
        "id": "ZdT75ZWFcTWZ"
      }
    },
    {
      "cell_type": "code",
      "source": [
        "name = 'Jaehyuk Heo'\n",
        "id(name)"
      ],
      "metadata": {
        "colab": {
          "base_uri": "https://localhost:8080/"
        },
        "id": "Fi2fD8oGcSN1",
        "outputId": "68014279-63be-4345-fbb3-d12b2b7e8b9d"
      },
      "execution_count": null,
      "outputs": [
        {
          "output_type": "execute_result",
          "data": {
            "text/plain": [
              "132746727158256"
            ]
          },
          "metadata": {},
          "execution_count": 112
        }
      ]
    },
    {
      "cell_type": "code",
      "source": [
        "name2 = 'Jaehyuk Heo'\n",
        "id(name2)"
      ],
      "metadata": {
        "colab": {
          "base_uri": "https://localhost:8080/"
        },
        "id": "d50zIeYhcZGC",
        "outputId": "05c8c956-bd96-4bff-d06c-51944678376d"
      },
      "execution_count": null,
      "outputs": [
        {
          "output_type": "execute_result",
          "data": {
            "text/plain": [
              "132746727160496"
            ]
          },
          "metadata": {},
          "execution_count": 113
        }
      ]
    },
    {
      "cell_type": "code",
      "source": [
        "# 가변 타입의 경우 두 변수가 같은 주소를 가질 때, 한 변수가 값이 바뀌면 같은 주소를 가지는 다른 변수도 값이 바뀜\n",
        "arr = [1,2,3,4]\n",
        "new_arr = arr\n",
        "id(arr)"
      ],
      "metadata": {
        "colab": {
          "base_uri": "https://localhost:8080/"
        },
        "id": "P0-hUBfbcgoZ",
        "outputId": "c5f78a7d-9505-42de-dddb-d0731ef8bd4e"
      },
      "execution_count": null,
      "outputs": [
        {
          "output_type": "execute_result",
          "data": {
            "text/plain": [
              "132746727161408"
            ]
          },
          "metadata": {},
          "execution_count": 114
        }
      ]
    },
    {
      "cell_type": "code",
      "source": [
        "id(new_arr)"
      ],
      "metadata": {
        "colab": {
          "base_uri": "https://localhost:8080/"
        },
        "id": "eHvfAC_rcqrO",
        "outputId": "33554d15-c61a-4344-f5d8-46689f3119a0"
      },
      "execution_count": null,
      "outputs": [
        {
          "output_type": "execute_result",
          "data": {
            "text/plain": [
              "132746727161408"
            ]
          },
          "metadata": {},
          "execution_count": 115
        }
      ]
    },
    {
      "cell_type": "code",
      "source": [
        "new_arr[0] = 10\n",
        "new_arr"
      ],
      "metadata": {
        "colab": {
          "base_uri": "https://localhost:8080/"
        },
        "id": "LK1vVij2cr-R",
        "outputId": "1a1294a7-0a29-4629-fdb0-030fbf7bf013"
      },
      "execution_count": null,
      "outputs": [
        {
          "output_type": "execute_result",
          "data": {
            "text/plain": [
              "[10, 2, 3, 4]"
            ]
          },
          "metadata": {},
          "execution_count": 116
        }
      ]
    },
    {
      "cell_type": "code",
      "source": [
        "arr"
      ],
      "metadata": {
        "colab": {
          "base_uri": "https://localhost:8080/"
        },
        "id": "wus1NC8lcuyo",
        "outputId": "bfecb512-c82d-4f68-ca74-e6c39caf570c"
      },
      "execution_count": null,
      "outputs": [
        {
          "output_type": "execute_result",
          "data": {
            "text/plain": [
              "[10, 2, 3, 4]"
            ]
          },
          "metadata": {},
          "execution_count": 117
        }
      ]
    },
    {
      "cell_type": "code",
      "source": [
        "name = name2 = 'Jaehyuk Heo'\n",
        "id(name)"
      ],
      "metadata": {
        "colab": {
          "base_uri": "https://localhost:8080/"
        },
        "id": "UurHQBEmccaA",
        "outputId": "afbb445b-363d-4f69-b3dc-8fc66236f6c2"
      },
      "execution_count": null,
      "outputs": [
        {
          "output_type": "execute_result",
          "data": {
            "text/plain": [
              "132746727196976"
            ]
          },
          "metadata": {},
          "execution_count": 118
        }
      ]
    },
    {
      "cell_type": "code",
      "source": [
        "id(name2)"
      ],
      "metadata": {
        "colab": {
          "base_uri": "https://localhost:8080/"
        },
        "id": "qlNoXBtIcf2G",
        "outputId": "dd45008c-b1d4-4059-9da2-61797a89dd4f"
      },
      "execution_count": null,
      "outputs": [
        {
          "output_type": "execute_result",
          "data": {
            "text/plain": [
              "132746727196976"
            ]
          },
          "metadata": {},
          "execution_count": 119
        }
      ]
    },
    {
      "cell_type": "code",
      "source": [
        "name2[0] = 's'"
      ],
      "metadata": {
        "colab": {
          "base_uri": "https://localhost:8080/",
          "height": 148
        },
        "id": "L6S4nVSYdSZF",
        "outputId": "994fa00a-8243-4acf-9130-6fd0284a7445"
      },
      "execution_count": null,
      "outputs": [
        {
          "output_type": "error",
          "ename": "TypeError",
          "evalue": "'str' object does not support item assignment",
          "traceback": [
            "\u001b[0;31m---------------------------------------------------------------------------\u001b[0m",
            "\u001b[0;31mTypeError\u001b[0m                                 Traceback (most recent call last)",
            "\u001b[0;32m/tmp/ipython-input-511352933.py\u001b[0m in \u001b[0;36m<cell line: 0>\u001b[0;34m()\u001b[0m\n\u001b[0;32m----> 1\u001b[0;31m \u001b[0mname2\u001b[0m\u001b[0;34m[\u001b[0m\u001b[0;36m0\u001b[0m\u001b[0;34m]\u001b[0m \u001b[0;34m=\u001b[0m \u001b[0;34m's'\u001b[0m\u001b[0;34m\u001b[0m\u001b[0;34m\u001b[0m\u001b[0m\n\u001b[0m",
            "\u001b[0;31mTypeError\u001b[0m: 'str' object does not support item assignment"
          ]
        }
      ]
    },
    {
      "cell_type": "markdown",
      "source": [
        "isinstance(object, type): 변수의 type이 맞는지 확인. 맞다면 `True` 틀리면 `False`로 반환됨"
      ],
      "metadata": {
        "id": "yN-gMKgz4YV7"
      }
    },
    {
      "cell_type": "code",
      "source": [
        "isinstance('123', str)"
      ],
      "metadata": {
        "colab": {
          "base_uri": "https://localhost:8080/"
        },
        "id": "MiadvUg64Xsd",
        "outputId": "ce706dd2-6d94-4bdb-98a6-67315b3ef936"
      },
      "execution_count": null,
      "outputs": [
        {
          "output_type": "execute_result",
          "data": {
            "text/plain": [
              "True"
            ]
          },
          "metadata": {},
          "execution_count": 121
        }
      ]
    },
    {
      "cell_type": "code",
      "source": [
        "isinstance('123', int)"
      ],
      "metadata": {
        "id": "CaBD1tMf4jNW",
        "outputId": "1297a631-5c37-4a18-efaa-fa36050b5c05",
        "colab": {
          "base_uri": "https://localhost:8080/"
        }
      },
      "execution_count": null,
      "outputs": [
        {
          "output_type": "execute_result",
          "data": {
            "text/plain": [
              "False"
            ]
          },
          "metadata": {},
          "execution_count": 122
        }
      ]
    },
    {
      "cell_type": "markdown",
      "source": [
        "del: 변수를 삭제"
      ],
      "metadata": {
        "id": "ohmNczm1dijh"
      }
    },
    {
      "cell_type": "code",
      "source": [
        "value = '1234'\n",
        "value"
      ],
      "metadata": {
        "colab": {
          "base_uri": "https://localhost:8080/",
          "height": 36
        },
        "id": "Sj9WRIJAXmI-",
        "outputId": "ed8f6055-8a90-446f-f234-c99c122fee70"
      },
      "execution_count": null,
      "outputs": [
        {
          "output_type": "execute_result",
          "data": {
            "text/plain": [
              "'1234'"
            ],
            "application/vnd.google.colaboratory.intrinsic+json": {
              "type": "string"
            }
          },
          "metadata": {},
          "execution_count": 123
        }
      ]
    },
    {
      "cell_type": "code",
      "source": [
        "del value\n",
        "value"
      ],
      "metadata": {
        "colab": {
          "base_uri": "https://localhost:8080/",
          "height": 167
        },
        "id": "oG6X6ninXn4w",
        "outputId": "602faf0c-b458-48f6-cf46-b876903674d3"
      },
      "execution_count": null,
      "outputs": [
        {
          "output_type": "error",
          "ename": "NameError",
          "evalue": "name 'value' is not defined",
          "traceback": [
            "\u001b[0;31m---------------------------------------------------------------------------\u001b[0m",
            "\u001b[0;31mNameError\u001b[0m                                 Traceback (most recent call last)",
            "\u001b[0;32m/tmp/ipython-input-2071578180.py\u001b[0m in \u001b[0;36m<cell line: 0>\u001b[0;34m()\u001b[0m\n\u001b[1;32m      1\u001b[0m \u001b[0;32mdel\u001b[0m \u001b[0mvalue\u001b[0m\u001b[0;34m\u001b[0m\u001b[0;34m\u001b[0m\u001b[0m\n\u001b[0;32m----> 2\u001b[0;31m \u001b[0mvalue\u001b[0m\u001b[0;34m\u001b[0m\u001b[0;34m\u001b[0m\u001b[0m\n\u001b[0m",
            "\u001b[0;31mNameError\u001b[0m: name 'value' is not defined"
          ]
        }
      ]
    },
    {
      "cell_type": "markdown",
      "metadata": {
        "id": "-sh4mNoB0-Jk"
      },
      "source": [
        "# 출력 (print)"
      ]
    },
    {
      "cell_type": "markdown",
      "metadata": {
        "id": "cD1pbusQ0-Jl"
      },
      "source": [
        "- 주피터노트북의 경우 한 줄 짜리는 print함수를 사용하지 않아도 출력 가능"
      ]
    },
    {
      "cell_type": "code",
      "execution_count": null,
      "metadata": {
        "colab": {
          "base_uri": "https://localhost:8080/",
          "height": 36
        },
        "id": "orac5_1S0-Jm",
        "outputId": "6ef1fbb3-9abf-4432-b941-337de6a59f58"
      },
      "outputs": [
        {
          "output_type": "execute_result",
          "data": {
            "text/plain": [
              "'오'"
            ],
            "application/vnd.google.colaboratory.intrinsic+json": {
              "type": "string"
            }
          },
          "metadata": {},
          "execution_count": 125
        }
      ],
      "source": [
        "'오'"
      ]
    },
    {
      "cell_type": "markdown",
      "metadata": {
        "id": "9Q4XiGle0-Jm"
      },
      "source": [
        "- 그러나 여러 줄이 있는 경우 마지막 결과만 출력"
      ]
    },
    {
      "cell_type": "code",
      "execution_count": null,
      "metadata": {
        "colab": {
          "base_uri": "https://localhost:8080/",
          "height": 36
        },
        "id": "BSdoLPUw0-Jm",
        "outputId": "f31041dd-ea09-4e37-e7da-c393e3552567"
      },
      "outputs": [
        {
          "output_type": "execute_result",
          "data": {
            "text/plain": [
              "'했게'"
            ],
            "application/vnd.google.colaboratory.intrinsic+json": {
              "type": "string"
            }
          },
          "metadata": {},
          "execution_count": 126
        }
      ],
      "source": [
        "'내가'\n",
        "'뭐라고'\n",
        "'했게'"
      ]
    },
    {
      "cell_type": "code",
      "execution_count": null,
      "metadata": {
        "colab": {
          "base_uri": "https://localhost:8080/"
        },
        "id": "2Nk83-iZ0-Jm",
        "outputId": "5acb420d-f17f-463a-8d29-3d7a7f2e8270"
      },
      "outputs": [
        {
          "output_type": "stream",
          "name": "stdout",
          "text": [
            "오늘 수업\n",
            "재미 없어서\n",
            "집에 가야지\n"
          ]
        }
      ],
      "source": [
        "print('오늘 수업')\n",
        "print('재미 없어서')\n",
        "'힘들지만 끝까지 듣고'\n",
        "print('집에 가야지')"
      ]
    },
    {
      "cell_type": "markdown",
      "metadata": {
        "id": "JdnMxz3y0-Jl"
      },
      "source": [
        "- 가장 기본적으로 사용하는 print() 함수는 여러 값을 쉼표(,)로 구분 가능"
      ]
    },
    {
      "cell_type": "code",
      "execution_count": null,
      "metadata": {
        "colab": {
          "base_uri": "https://localhost:8080/"
        },
        "id": "TpGv-y-a0-Jl",
        "outputId": "8ffcea11-1e1b-4782-89f2-f1a5bb912bf4"
      },
      "outputs": [
        {
          "output_type": "stream",
          "name": "stdout",
          "text": [
            "시계는 영어로 watch\n"
          ]
        }
      ],
      "source": [
        "eng = 'watch'\n",
        "print('시계는 영어로', eng)"
      ]
    },
    {
      "cell_type": "code",
      "execution_count": null,
      "metadata": {
        "colab": {
          "base_uri": "https://localhost:8080/"
        },
        "id": "h8gE5dr40-Jl",
        "outputId": "7331f34a-6c61-40ea-bcb9-f1a89f25b6d8"
      },
      "outputs": [
        {
          "output_type": "stream",
          "name": "stdout",
          "text": [
            "시계는 영어로 watch 교회는 영어로 church\n"
          ]
        }
      ],
      "source": [
        "eng1 = 'watch'\n",
        "eng2 = 'church'\n",
        "print('시계는 영어로', eng1, '교회는 영어로', eng2)"
      ]
    },
    {
      "cell_type": "markdown",
      "source": [
        "## % operation"
      ],
      "metadata": {
        "id": "Nc-2WignyiIj"
      }
    },
    {
      "cell_type": "markdown",
      "source": [
        "출력 문자열과 변수를 `%`를 통해 구분하여 작성할 수 있음\n",
        "- 변수 타입에 따라 다른 타입으로 `%`를 사용해야함. ex) string - %s, integer - %d, float - %f"
      ],
      "metadata": {
        "id": "_segX6DbH8i4"
      }
    },
    {
      "cell_type": "code",
      "source": [
        "eng1 = 'watch'\n",
        "eng2 = 'church'\n",
        "print('시계는 영어로 %s 교회는 영어로 %s' % (eng1, eng2))"
      ],
      "metadata": {
        "colab": {
          "base_uri": "https://localhost:8080/"
        },
        "id": "DtxDaszVH8RK",
        "outputId": "6c5465bd-d986-41a7-c0ef-1a25a9455a25"
      },
      "execution_count": null,
      "outputs": [
        {
          "output_type": "stream",
          "name": "stdout",
          "text": [
            "시계는 영어로 watch 교회는 영어로 church\n"
          ]
        }
      ]
    },
    {
      "cell_type": "code",
      "source": [
        "year = 2025\n",
        "print('올해는 %d년 입니다.' % year)"
      ],
      "metadata": {
        "colab": {
          "base_uri": "https://localhost:8080/"
        },
        "id": "u8qU5530H0Es",
        "outputId": "cf0a4258-13e7-4cb5-bc04-6eb29ae8ffa6"
      },
      "execution_count": null,
      "outputs": [
        {
          "output_type": "stream",
          "name": "stdout",
          "text": [
            "올해는 2025년 입니다.\n"
          ]
        }
      ]
    },
    {
      "cell_type": "code",
      "source": [
        "# %를 % operation 에서 문자열로 사용할 때는 %% 두 번 작성\n",
        "value = 1/3\n",
        "print('1 %% 3 = %f' % value)"
      ],
      "metadata": {
        "colab": {
          "base_uri": "https://localhost:8080/"
        },
        "id": "m15qddDDMsQz",
        "outputId": "2a1b31f8-e039-4508-f77e-7211b03fb460"
      },
      "execution_count": null,
      "outputs": [
        {
          "output_type": "stream",
          "name": "stdout",
          "text": [
            "1 % 3 = 0.333333\n"
          ]
        }
      ]
    },
    {
      "cell_type": "code",
      "source": [
        "# 타입이 안맞으면 에러가 발생\n",
        "name = 'Iron Man'\n",
        "print('type(value): ',type(value))\n",
        "print('I am %d' % name)"
      ],
      "metadata": {
        "colab": {
          "base_uri": "https://localhost:8080/",
          "height": 204
        },
        "id": "Y9wd9GpIQjUn",
        "outputId": "132f7e22-4bbd-440b-d7cb-9f1658b4de1b"
      },
      "execution_count": null,
      "outputs": [
        {
          "output_type": "stream",
          "name": "stdout",
          "text": [
            "type(value):  <class 'float'>\n"
          ]
        },
        {
          "output_type": "error",
          "ename": "TypeError",
          "evalue": "%d format: a real number is required, not str",
          "traceback": [
            "\u001b[0;31m---------------------------------------------------------------------------\u001b[0m",
            "\u001b[0;31mTypeError\u001b[0m                                 Traceback (most recent call last)",
            "\u001b[0;32m/tmp/ipython-input-1246845474.py\u001b[0m in \u001b[0;36m<cell line: 0>\u001b[0;34m()\u001b[0m\n\u001b[1;32m      2\u001b[0m \u001b[0mname\u001b[0m \u001b[0;34m=\u001b[0m \u001b[0;34m'Iron Man'\u001b[0m\u001b[0;34m\u001b[0m\u001b[0;34m\u001b[0m\u001b[0m\n\u001b[1;32m      3\u001b[0m \u001b[0mprint\u001b[0m\u001b[0;34m(\u001b[0m\u001b[0;34m'type(value): '\u001b[0m\u001b[0;34m,\u001b[0m\u001b[0mtype\u001b[0m\u001b[0;34m(\u001b[0m\u001b[0mvalue\u001b[0m\u001b[0;34m)\u001b[0m\u001b[0;34m)\u001b[0m\u001b[0;34m\u001b[0m\u001b[0;34m\u001b[0m\u001b[0m\n\u001b[0;32m----> 4\u001b[0;31m \u001b[0mprint\u001b[0m\u001b[0;34m(\u001b[0m\u001b[0;34m'I am %d'\u001b[0m \u001b[0;34m%\u001b[0m \u001b[0mname\u001b[0m\u001b[0;34m)\u001b[0m\u001b[0;34m\u001b[0m\u001b[0;34m\u001b[0m\u001b[0m\n\u001b[0m",
            "\u001b[0;31mTypeError\u001b[0m: %d format: a real number is required, not str"
          ]
        }
      ]
    },
    {
      "cell_type": "markdown",
      "source": [
        "출력 값에 대한 자리 수를 조정할 수 있음"
      ],
      "metadata": {
        "id": "Kg-PjbsANm0R"
      }
    },
    {
      "cell_type": "code",
      "source": [
        "# 반올림이 적용됨\n",
        "value = 1234.5678\n",
        "print('number: %.1f' % value)\n",
        "print('number: %.2f' % value)\n",
        "print('number: %.3f' % value)"
      ],
      "metadata": {
        "colab": {
          "base_uri": "https://localhost:8080/"
        },
        "id": "mJen3T2bNkHb",
        "outputId": "7aba34e8-701a-419b-8a97-d8d707d7633a"
      },
      "execution_count": null,
      "outputs": [
        {
          "output_type": "stream",
          "name": "stdout",
          "text": [
            "number: 1234.6\n",
            "number: 1234.57\n",
            "number: 1234.568\n"
          ]
        }
      ]
    },
    {
      "cell_type": "code",
      "source": [
        "print('number: %8.1f' % value)\n",
        "print('number: %8.2f' % value)\n",
        "print('number: %8.3f' % value)"
      ],
      "metadata": {
        "colab": {
          "base_uri": "https://localhost:8080/"
        },
        "id": "QeAxSKQSPvTW",
        "outputId": "17dcadba-41cd-4276-ee57-75116e125e28"
      },
      "execution_count": null,
      "outputs": [
        {
          "output_type": "stream",
          "name": "stdout",
          "text": [
            "number:   1234.6\n",
            "number:  1234.57\n",
            "number: 1234.568\n"
          ]
        }
      ]
    },
    {
      "cell_type": "code",
      "source": [
        "print('number: %3d' % 1)\n",
        "print('number: %3d' % 12)\n",
        "print('number: %3d' % 123)"
      ],
      "metadata": {
        "colab": {
          "base_uri": "https://localhost:8080/"
        },
        "id": "vp0z2xFMOEfe",
        "outputId": "0099dd77-25eb-4209-9cf9-f294af051ff1"
      },
      "execution_count": null,
      "outputs": [
        {
          "output_type": "stream",
          "name": "stdout",
          "text": [
            "number:   1\n",
            "number:  12\n",
            "number: 123\n"
          ]
        }
      ]
    },
    {
      "cell_type": "code",
      "source": [
        "print('number: %03d' % 1)\n",
        "print('number: %03d' % 12)\n",
        "print('number: %03d' % 123)"
      ],
      "metadata": {
        "colab": {
          "base_uri": "https://localhost:8080/"
        },
        "id": "weaTiVSNOwIO",
        "outputId": "0ff94984-c1cc-40a5-b4b2-6d03a5713ee6"
      },
      "execution_count": null,
      "outputs": [
        {
          "output_type": "stream",
          "name": "stdout",
          "text": [
            "number: 001\n",
            "number: 012\n",
            "number: 123\n"
          ]
        }
      ]
    },
    {
      "cell_type": "markdown",
      "source": [
        "## str.format"
      ],
      "metadata": {
        "id": "4uGDHDwbyk9y"
      }
    },
    {
      "cell_type": "markdown",
      "metadata": {
        "id": "V9-YXxJC0-Jl"
      },
      "source": [
        "- `Python 3` 부터 사용 가능\n",
        "- type을 지정하지 않아도 됨 (당연히 type을 지정할 수도 있음)\n",
        "- 입력 순서를 지정할 수 있음\n",
        "- 변수를 지정하여 원하는 곳에 지정할 수 있음\n",
        "- `% operation` 과 마찬가지로 type 및 자리수를 조정할 수 있음\n",
        "- `str.format`을 활용하여 출력하고자 하는 변수를 보다 깔끔하게 정리할 수 있다"
      ]
    },
    {
      "cell_type": "code",
      "execution_count": null,
      "metadata": {
        "colab": {
          "base_uri": "https://localhost:8080/"
        },
        "id": "6u2lxCHz0-Jl",
        "outputId": "61f3a721-3c0d-415b-8c38-d98cf14c7b56"
      },
      "outputs": [
        {
          "output_type": "stream",
          "name": "stdout",
          "text": [
            "시계는 영어로 watch 교회는 영어로 church\n"
          ]
        }
      ],
      "source": [
        "eng1 = 'watch'\n",
        "eng2 = 'church'\n",
        "print('시계는 영어로 {} 교회는 영어로 {}'.format(eng1, eng2))"
      ]
    },
    {
      "cell_type": "code",
      "source": [
        "# 입력 순서를 지정할 수 있음\n",
        "print('시계는 영어로 {0} 교회는 영어로 {1}'.format(eng1, eng2))\n",
        "print('시계는 영어로 {1} 교회는 영어로 {0}'.format(eng1, eng2))"
      ],
      "metadata": {
        "colab": {
          "base_uri": "https://localhost:8080/"
        },
        "id": "nQ9cLtjnTyUO",
        "outputId": "329b2b1f-2a37-491f-ca6f-57edab19410f"
      },
      "execution_count": null,
      "outputs": [
        {
          "output_type": "stream",
          "name": "stdout",
          "text": [
            "시계는 영어로 watch 교회는 영어로 church\n",
            "시계는 영어로 church 교회는 영어로 watch\n"
          ]
        }
      ]
    },
    {
      "cell_type": "code",
      "source": [
        "# 변수를 통해 원하는 곳에 지정할 수 있음\n",
        "print('시계는 영어로 {watch} 교회는 영어로 {church}'.format(eng1, eng2))"
      ],
      "metadata": {
        "colab": {
          "base_uri": "https://localhost:8080/",
          "height": 167
        },
        "id": "Gy2Jlkk_UDhv",
        "outputId": "b7a8b85f-ec9c-46c2-c09c-bb7fe02ab033"
      },
      "execution_count": null,
      "outputs": [
        {
          "output_type": "error",
          "ename": "KeyError",
          "evalue": "'watch'",
          "traceback": [
            "\u001b[0;31m---------------------------------------------------------------------------\u001b[0m",
            "\u001b[0;31mKeyError\u001b[0m                                  Traceback (most recent call last)",
            "\u001b[0;32m/tmp/ipython-input-107684793.py\u001b[0m in \u001b[0;36m<cell line: 0>\u001b[0;34m()\u001b[0m\n\u001b[1;32m      1\u001b[0m \u001b[0;31m# 변수를 통해 원하는 곳에 지정할 수 있음\u001b[0m\u001b[0;34m\u001b[0m\u001b[0;34m\u001b[0m\u001b[0m\n\u001b[0;32m----> 2\u001b[0;31m \u001b[0mprint\u001b[0m\u001b[0;34m(\u001b[0m\u001b[0;34m'시계는 영어로 {watch} 교회는 영어로 {church}'\u001b[0m\u001b[0;34m.\u001b[0m\u001b[0mformat\u001b[0m\u001b[0;34m(\u001b[0m\u001b[0meng1\u001b[0m\u001b[0;34m,\u001b[0m \u001b[0meng2\u001b[0m\u001b[0;34m)\u001b[0m\u001b[0;34m)\u001b[0m\u001b[0;34m\u001b[0m\u001b[0;34m\u001b[0m\u001b[0m\n\u001b[0m",
            "\u001b[0;31mKeyError\u001b[0m: 'watch'"
          ]
        }
      ]
    },
    {
      "cell_type": "code",
      "source": [
        "# % operation 과 마찬가지로 type 및 자리수를 조정할 수 있음. 이때 변수명과 `:`를 통해 구분하여 작성\n",
        "print('number: {value:3d}'.format(value=1))\n",
        "print('number: {value:3d}'.format(value=12))\n",
        "print('number: {value:3d}'.format(value=123))"
      ],
      "metadata": {
        "id": "tv58IyO2XBV7",
        "colab": {
          "base_uri": "https://localhost:8080/"
        },
        "outputId": "091854ac-be95-4c5e-f21c-18d9e3600949"
      },
      "execution_count": null,
      "outputs": [
        {
          "output_type": "stream",
          "name": "stdout",
          "text": [
            "number:   1\n",
            "number:  12\n",
            "number: 123\n"
          ]
        }
      ]
    },
    {
      "cell_type": "code",
      "source": [
        "# dictionary를 사용하여 **를 통해 변수명과 key를 매칭하여 value를 삽입\n",
        "eng = {\n",
        "    'eng1' : 'watch',\n",
        "    'eng2' : 'church'\n",
        "}\n",
        "print('시계는 영어로 {eng1} 교회는 영어로 {eng2}'.format(**eng))"
      ],
      "metadata": {
        "colab": {
          "base_uri": "https://localhost:8080/"
        },
        "id": "2YK42ewtZMc0",
        "outputId": "6ab7045d-a4bb-44c6-93ad-2918fad1a23a"
      },
      "execution_count": null,
      "outputs": [
        {
          "output_type": "stream",
          "name": "stdout",
          "text": [
            "시계는 영어로 watch 교회는 영어로 church\n"
          ]
        }
      ]
    },
    {
      "cell_type": "markdown",
      "source": [
        "## f-string"
      ],
      "metadata": {
        "id": "d307HNCwyyrW"
      }
    },
    {
      "cell_type": "markdown",
      "source": [
        "- Python 3.6 이상부터 사용\n",
        "- `str.format` 보다 더 간결하게 사용 가능\n",
        "- `% operation` 과 마찬가지로 type 및 자리수를 조정할 수 있음"
      ],
      "metadata": {
        "id": "XbNSZkCKZ0RN"
      }
    },
    {
      "cell_type": "code",
      "source": [
        "eng1 = 'watch'\n",
        "eng2 = 'church'\n",
        "print(f'시계는 영어로 {eng1} 교회는 영어로 {eng2}')"
      ],
      "metadata": {
        "colab": {
          "base_uri": "https://localhost:8080/"
        },
        "id": "8KsASVW7Zz2o",
        "outputId": "e6c5775c-2178-4e6b-e26f-c0516de71163"
      },
      "execution_count": null,
      "outputs": [
        {
          "output_type": "stream",
          "name": "stdout",
          "text": [
            "시계는 영어로 watch 교회는 영어로 church\n"
          ]
        }
      ]
    },
    {
      "cell_type": "code",
      "source": [
        "# % operation 과 마찬가지로 type 및 자리수를 조정할 수 있음. 이때 변수명과 `:`를 통해 구분하여 작성\n",
        "print(f'number: {1:3d}')\n",
        "print(f'number: {12:3d}')\n",
        "print(f'number: {123:3d}')\n",
        "\n",
        "value=1234.5678\n",
        "print(f'number: {value:8.1f}')\n",
        "print(f'number: {value:8.2f}')\n",
        "print(f'number: {value:8.3f}')"
      ],
      "metadata": {
        "colab": {
          "base_uri": "https://localhost:8080/"
        },
        "id": "_Fq54SK7yyUo",
        "outputId": "3b222a53-3239-4f54-8f70-ae5677b81345"
      },
      "execution_count": null,
      "outputs": [
        {
          "output_type": "stream",
          "name": "stdout",
          "text": [
            "number:   1\n",
            "number:  12\n",
            "number: 123\n",
            "number:   1234.6\n",
            "number:  1234.57\n",
            "number: 1234.568\n"
          ]
        }
      ]
    },
    {
      "cell_type": "markdown",
      "source": [
        "## Print arguments"
      ],
      "metadata": {
        "id": "kIeJTist3QKa"
      }
    },
    {
      "cell_type": "code",
      "source": [
        "# line 건너띄기 위해서는 `\\n` 사용\n",
        "print('아빠가\\n방에\\n들어가신다')"
      ],
      "metadata": {
        "colab": {
          "base_uri": "https://localhost:8080/"
        },
        "id": "EmttB1nZ3Pmj",
        "outputId": "80f3a352-1725-46f6-992d-7cf622008077"
      },
      "execution_count": null,
      "outputs": [
        {
          "output_type": "stream",
          "name": "stdout",
          "text": [
            "아빠가\n",
            "방에\n",
            "들어가신다\n"
          ]
        }
      ]
    },
    {
      "cell_type": "code",
      "execution_count": null,
      "metadata": {
        "colab": {
          "base_uri": "https://localhost:8080/"
        },
        "id": "Yn-lQLpv0-Jm",
        "outputId": "3ff38a78-13dd-466f-97e9-2e960c4e55e3"
      },
      "outputs": [
        {
          "output_type": "stream",
          "name": "stdout",
          "text": [
            "퐁\t당\t퐁\t당\n"
          ]
        }
      ],
      "source": [
        "# tab으로 띄어쓰기를 하기 위해서는 `\\t` 사용\n",
        "print('퐁\\t당\\t퐁\\t당')"
      ]
    },
    {
      "cell_type": "code",
      "execution_count": null,
      "metadata": {
        "colab": {
          "base_uri": "https://localhost:8080/"
        },
        "id": "IQjaDsbk0-Jm",
        "outputId": "c7ebf9f5-c6a2-451a-d866-1cf71ad88838"
      },
      "outputs": [
        {
          "output_type": "stream",
          "name": "stdout",
          "text": [
            "퐁\t당\t퐁\t당\n",
            "얄리얄리얄라셩얄라리얄라\n"
          ]
        }
      ],
      "source": [
        "# print 함수 내 `,`로 구분 된 단어 사이에 sep로 지정한 값이 들어감\n",
        "print('퐁','당','퐁','당', sep='\\t')\n",
        "print('','리','리','라셩','라리','라', sep='얄')"
      ]
    },
    {
      "cell_type": "code",
      "source": [
        "print('내말 아직 ', end='')\n",
        "print('안끝났어')"
      ],
      "metadata": {
        "colab": {
          "base_uri": "https://localhost:8080/"
        },
        "id": "fRqMVeeg5mJ6",
        "outputId": "8f4ec9da-66de-4f1c-f16a-ccbcaefe13d4"
      },
      "execution_count": null,
      "outputs": [
        {
          "output_type": "stream",
          "name": "stdout",
          "text": [
            "내말 아직 안끝났어\n"
          ]
        }
      ]
    },
    {
      "cell_type": "code",
      "source": [
        "print('자 다음으로 ', end='\\n')\n",
        "print('넘어가 볼까요')"
      ],
      "metadata": {
        "colab": {
          "base_uri": "https://localhost:8080/"
        },
        "id": "wsOSO9uU5n1S",
        "outputId": "407469a4-4f3c-4032-d160-695d53310474"
      },
      "execution_count": null,
      "outputs": [
        {
          "output_type": "stream",
          "name": "stdout",
          "text": [
            "자 다음으로 \n",
            "넘어가 볼까요\n"
          ]
        }
      ]
    }
  ],
  "metadata": {
    "kernelspec": {
      "display_name": "Python 3 (ipykernel)",
      "language": "python",
      "name": "python3"
    },
    "language_info": {
      "codemirror_mode": {
        "name": "ipython",
        "version": 3
      },
      "file_extension": ".py",
      "mimetype": "text/x-python",
      "name": "python",
      "nbconvert_exporter": "python",
      "pygments_lexer": "ipython3",
      "version": "3.8.13"
    },
    "colab": {
      "provenance": [],
      "toc_visible": true
    }
  },
  "nbformat": 4,
  "nbformat_minor": 0
}