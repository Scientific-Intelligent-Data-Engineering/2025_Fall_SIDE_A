{
  "nbformat": 4,
  "nbformat_minor": 0,
  "metadata": {
    "colab": {
      "provenance": []
    },
    "kernelspec": {
      "name": "python3",
      "display_name": "Python 3"
    },
    "language_info": {
      "name": "python"
    }
  },
  "cells": [
    {
      "cell_type": "markdown",
      "source": [
        "# Tuple\n",
        "\n",
        "`(`와 `)`로 감싸진 배열. Tuple은 내부 값을 변경할 수 없음.  \n",
        "Tuple 내 원소는 다양한 type 가능  \n",
        "tuple((`element1`, `element2`, ...)) 또는 tuple([`element1`, `element2`, ...])와 같이 생성 가능\n",
        "\n"
      ],
      "metadata": {
        "id": "9b1A6RBZ3OmX"
      }
    },
    {
      "cell_type": "code",
      "execution_count": null,
      "metadata": {
        "colab": {
          "base_uri": "https://localhost:8080/"
        },
        "id": "RUSU6Dv029V9",
        "outputId": "82ad07a0-a14d-4959-f1cb-b1f2261a0ad7"
      },
      "outputs": [
        {
          "output_type": "execute_result",
          "data": {
            "text/plain": [
              "tuple"
            ]
          },
          "metadata": {},
          "execution_count": 1
        }
      ],
      "source": [
        "arr = (21, 26, 27, 32, 34, 42)\n",
        "type(arr)"
      ]
    },
    {
      "cell_type": "code",
      "source": [
        "arr = tuple((21, 26, 27, 32, 34, 42))\n",
        "arr"
      ],
      "metadata": {
        "colab": {
          "base_uri": "https://localhost:8080/"
        },
        "id": "zCF1VkLL3yo5",
        "outputId": "d5ec15c6-d9d6-4383-8195-4d8bf9d323c5"
      },
      "execution_count": null,
      "outputs": [
        {
          "output_type": "execute_result",
          "data": {
            "text/plain": [
              "(21, 26, 27, 32, 34, 42)"
            ]
          },
          "metadata": {},
          "execution_count": 2
        }
      ]
    },
    {
      "cell_type": "code",
      "source": [
        "arr = tuple([21, 26, 27, 32, 34, 42])\n",
        "arr"
      ],
      "metadata": {
        "colab": {
          "base_uri": "https://localhost:8080/"
        },
        "id": "mcXtECmY3z4F",
        "outputId": "9c30ee2b-e6ff-498b-c6f2-7fb7013af25b"
      },
      "execution_count": null,
      "outputs": [
        {
          "output_type": "execute_result",
          "data": {
            "text/plain": [
              "(21, 26, 27, 32, 34, 42)"
            ]
          },
          "metadata": {},
          "execution_count": 3
        }
      ]
    },
    {
      "cell_type": "code",
      "source": [
        "arr[0] = 10"
      ],
      "metadata": {
        "colab": {
          "base_uri": "https://localhost:8080/",
          "height": 179
        },
        "id": "Ow108bEY30ku",
        "outputId": "f9cd85c5-10ea-49d3-bf65-a941ddd63711"
      },
      "execution_count": null,
      "outputs": [
        {
          "output_type": "error",
          "ename": "TypeError",
          "evalue": "ignored",
          "traceback": [
            "\u001b[0;31m---------------------------------------------------------------------------\u001b[0m",
            "\u001b[0;31mTypeError\u001b[0m                                 Traceback (most recent call last)",
            "\u001b[0;32m<ipython-input-4-03469dbadbaf>\u001b[0m in \u001b[0;36m<cell line: 1>\u001b[0;34m()\u001b[0m\n\u001b[0;32m----> 1\u001b[0;31m \u001b[0marr\u001b[0m\u001b[0;34m[\u001b[0m\u001b[0;36m0\u001b[0m\u001b[0;34m]\u001b[0m \u001b[0;34m=\u001b[0m \u001b[0;36m10\u001b[0m\u001b[0;34m\u001b[0m\u001b[0;34m\u001b[0m\u001b[0m\n\u001b[0m",
            "\u001b[0;31mTypeError\u001b[0m: 'tuple' object does not support item assignment"
          ]
        }
      ]
    },
    {
      "cell_type": "code",
      "source": [
        "# 원소가 하나인 tuple은 끝에 콤마(,)를 써야함\n",
        "arr = (1,)\n",
        "arr"
      ],
      "metadata": {
        "id": "gGh03QrY_NuG",
        "colab": {
          "base_uri": "https://localhost:8080/"
        },
        "outputId": "b15795bd-0c3f-4714-ec95-d66d33d6f0c0"
      },
      "execution_count": null,
      "outputs": [
        {
          "output_type": "execute_result",
          "data": {
            "text/plain": [
              "(1,)"
            ]
          },
          "metadata": {},
          "execution_count": 5
        }
      ]
    },
    {
      "cell_type": "code",
      "source": [
        "arr = 1,\n",
        "arr"
      ],
      "metadata": {
        "id": "XgO45P4w_OoH",
        "colab": {
          "base_uri": "https://localhost:8080/"
        },
        "outputId": "8cda8ceb-ceb7-42fb-dc1f-e20dfd9f3564"
      },
      "execution_count": null,
      "outputs": [
        {
          "output_type": "execute_result",
          "data": {
            "text/plain": [
              "(1,)"
            ]
          },
          "metadata": {},
          "execution_count": 6
        }
      ]
    },
    {
      "cell_type": "code",
      "source": [
        "arr = (1) # ,를 기입하지 않으면 tuple로 생성되지 않음\n",
        "arr"
      ],
      "metadata": {
        "id": "rZ1CS4og_Q9w",
        "colab": {
          "base_uri": "https://localhost:8080/"
        },
        "outputId": "732a0718-c750-4a30-f3e1-0179fe8c71fe"
      },
      "execution_count": null,
      "outputs": [
        {
          "output_type": "execute_result",
          "data": {
            "text/plain": [
              "1"
            ]
          },
          "metadata": {},
          "execution_count": 7
        }
      ]
    },
    {
      "cell_type": "code",
      "source": [
        "# 순서를 통해 조회 가능\n",
        "arr[0]"
      ],
      "metadata": {
        "colab": {
          "base_uri": "https://localhost:8080/",
          "height": 197
        },
        "id": "jVXyqYFi31sA",
        "outputId": "0a6ae972-556e-4205-a394-afb3fc3be0b7"
      },
      "execution_count": null,
      "outputs": [
        {
          "output_type": "error",
          "ename": "TypeError",
          "evalue": "ignored",
          "traceback": [
            "\u001b[0;31m---------------------------------------------------------------------------\u001b[0m",
            "\u001b[0;31mTypeError\u001b[0m                                 Traceback (most recent call last)",
            "\u001b[0;32m<ipython-input-8-fb2dd939a2f8>\u001b[0m in \u001b[0;36m<cell line: 2>\u001b[0;34m()\u001b[0m\n\u001b[1;32m      1\u001b[0m \u001b[0;31m# 순서를 통해 조회 가능\u001b[0m\u001b[0;34m\u001b[0m\u001b[0;34m\u001b[0m\u001b[0m\n\u001b[0;32m----> 2\u001b[0;31m \u001b[0marr\u001b[0m\u001b[0;34m[\u001b[0m\u001b[0;36m0\u001b[0m\u001b[0;34m]\u001b[0m\u001b[0;34m\u001b[0m\u001b[0;34m\u001b[0m\u001b[0m\n\u001b[0m",
            "\u001b[0;31mTypeError\u001b[0m: 'int' object is not subscriptable"
          ]
        }
      ]
    },
    {
      "cell_type": "code",
      "source": [
        "arr[1]"
      ],
      "metadata": {
        "colab": {
          "base_uri": "https://localhost:8080/",
          "height": 179
        },
        "id": "Y1etTWtm32mV",
        "outputId": "55c498ce-190a-4308-b139-468db74ec41c"
      },
      "execution_count": null,
      "outputs": [
        {
          "output_type": "error",
          "ename": "TypeError",
          "evalue": "ignored",
          "traceback": [
            "\u001b[0;31m---------------------------------------------------------------------------\u001b[0m",
            "\u001b[0;31mTypeError\u001b[0m                                 Traceback (most recent call last)",
            "\u001b[0;32m<ipython-input-9-be4e4a3bab70>\u001b[0m in \u001b[0;36m<cell line: 1>\u001b[0;34m()\u001b[0m\n\u001b[0;32m----> 1\u001b[0;31m \u001b[0marr\u001b[0m\u001b[0;34m[\u001b[0m\u001b[0;36m1\u001b[0m\u001b[0;34m]\u001b[0m\u001b[0;34m\u001b[0m\u001b[0;34m\u001b[0m\u001b[0m\n\u001b[0m",
            "\u001b[0;31mTypeError\u001b[0m: 'int' object is not subscriptable"
          ]
        }
      ]
    },
    {
      "cell_type": "code",
      "source": [
        "arr = (1, 'a', 1.23, False)\n",
        "arr"
      ],
      "metadata": {
        "id": "H5uSiC0m34tQ"
      },
      "execution_count": null,
      "outputs": []
    },
    {
      "cell_type": "markdown",
      "source": [
        "Tuple은 덧셈/곱셈 연산을 통해 반복할 수 있음"
      ],
      "metadata": {
        "id": "MC9rX0DZ36SW"
      }
    },
    {
      "cell_type": "code",
      "source": [
        "arr = (1,2,3)\n",
        "arr + arr"
      ],
      "metadata": {
        "colab": {
          "base_uri": "https://localhost:8080/"
        },
        "id": "7WnNyBlg36kZ",
        "outputId": "42f36dfe-fb13-4d3b-d6e6-6a9a90415ad7"
      },
      "execution_count": null,
      "outputs": [
        {
          "output_type": "execute_result",
          "data": {
            "text/plain": [
              "(1, 2, 3, 1, 2, 3)"
            ]
          },
          "metadata": {},
          "execution_count": 10
        }
      ]
    },
    {
      "cell_type": "code",
      "source": [
        "arr = (1,2,3)\n",
        "arr + arr"
      ],
      "metadata": {
        "colab": {
          "base_uri": "https://localhost:8080/"
        },
        "id": "FBW5YSc038Ow",
        "outputId": "f928132b-8cd2-453c-cedb-1486c6ebc119"
      },
      "execution_count": null,
      "outputs": [
        {
          "output_type": "execute_result",
          "data": {
            "text/plain": [
              "(1, 2, 3, 1, 2, 3)"
            ]
          },
          "metadata": {},
          "execution_count": 11
        }
      ]
    },
    {
      "cell_type": "markdown",
      "source": [
        "Tuple은 값이 바뀌지 않아야하는 경우 주로 사용.\n",
        "ex) hyper-parameters"
      ],
      "metadata": {
        "id": "r8xyBFWy41Al"
      }
    },
    {
      "cell_type": "code",
      "source": [
        "image_size = (224,224)"
      ],
      "metadata": {
        "id": "0dLslsID411v"
      },
      "execution_count": null,
      "outputs": []
    },
    {
      "cell_type": "markdown",
      "source": [
        "# List\n",
        "\n",
        "`[`와 `]`로 감싸진 배열. List는 원소 값을 변경할 수 있음.  \n",
        "List 내 원소는 다양한 type 사용 가능  \n",
        "list((`element1`, `element2`, ...)) 또는 list([`element1`, `element2`, ...])와 같이 생성 가능"
      ],
      "metadata": {
        "id": "LOkxhbqA3SOR"
      }
    },
    {
      "cell_type": "code",
      "source": [
        "arr = [21, 26, 27, 32, 34, 42]\n",
        "type(arr)"
      ],
      "metadata": {
        "colab": {
          "base_uri": "https://localhost:8080/"
        },
        "id": "N_QvA1-N3TTu",
        "outputId": "c1dab71c-c2e7-41bd-fa5f-d881fbbd1d22"
      },
      "execution_count": null,
      "outputs": [
        {
          "output_type": "execute_result",
          "data": {
            "text/plain": [
              "list"
            ]
          },
          "metadata": {},
          "execution_count": 13
        }
      ]
    },
    {
      "cell_type": "code",
      "source": [
        "arr = list([21, 26, 27, 32, 34, 42])\n",
        "arr"
      ],
      "metadata": {
        "colab": {
          "base_uri": "https://localhost:8080/"
        },
        "id": "OSgKgIwP4AAT",
        "outputId": "20994d48-2a6b-4f1d-e33f-2b421ef297c7"
      },
      "execution_count": null,
      "outputs": [
        {
          "output_type": "execute_result",
          "data": {
            "text/plain": [
              "[21, 26, 27, 32, 34, 42]"
            ]
          },
          "metadata": {},
          "execution_count": 14
        }
      ]
    },
    {
      "cell_type": "code",
      "source": [
        "arr = list((21, 26, 27, 32, 34, 42))\n",
        "arr"
      ],
      "metadata": {
        "colab": {
          "base_uri": "https://localhost:8080/"
        },
        "id": "61QXPwAo4A5I",
        "outputId": "4ca0a960-836a-4eb2-f500-5e1ee8ad4f2b"
      },
      "execution_count": null,
      "outputs": [
        {
          "output_type": "execute_result",
          "data": {
            "text/plain": [
              "[21, 26, 27, 32, 34, 42]"
            ]
          },
          "metadata": {},
          "execution_count": 15
        }
      ]
    },
    {
      "cell_type": "code",
      "source": [
        "arr[0]"
      ],
      "metadata": {
        "colab": {
          "base_uri": "https://localhost:8080/"
        },
        "id": "l6VPtMFZ4B9E",
        "outputId": "c1a45c85-0a70-4892-c11a-6976c9ee85ac"
      },
      "execution_count": null,
      "outputs": [
        {
          "output_type": "execute_result",
          "data": {
            "text/plain": [
              "21"
            ]
          },
          "metadata": {},
          "execution_count": 16
        }
      ]
    },
    {
      "cell_type": "code",
      "source": [
        "arr[0] = 10\n",
        "arr[0]"
      ],
      "metadata": {
        "colab": {
          "base_uri": "https://localhost:8080/"
        },
        "id": "IrWmtmtM4Cps",
        "outputId": "14a0f290-2a0a-420a-d9aa-5468a2db650c"
      },
      "execution_count": null,
      "outputs": [
        {
          "output_type": "execute_result",
          "data": {
            "text/plain": [
              "10"
            ]
          },
          "metadata": {},
          "execution_count": 17
        }
      ]
    },
    {
      "cell_type": "code",
      "source": [
        "arr = [1, 'a', (1,2)]\n",
        "arr"
      ],
      "metadata": {
        "colab": {
          "base_uri": "https://localhost:8080/"
        },
        "id": "J3CPy1iq4DXl",
        "outputId": "f98c9f53-7216-414a-ea90-c32611965b8e"
      },
      "execution_count": null,
      "outputs": [
        {
          "output_type": "execute_result",
          "data": {
            "text/plain": [
              "[1, 'a', (1, 2)]"
            ]
          },
          "metadata": {},
          "execution_count": 18
        }
      ]
    },
    {
      "cell_type": "markdown",
      "source": [
        "List는 덧셈/곱셈 연산을 통해 반복할 수 있음"
      ],
      "metadata": {
        "id": "dbP8LQTE4FIg"
      }
    },
    {
      "cell_type": "code",
      "source": [
        "arr = [1,2,3]\n",
        "arr + arr"
      ],
      "metadata": {
        "colab": {
          "base_uri": "https://localhost:8080/"
        },
        "id": "2fYHh5kd4ElW",
        "outputId": "2572b5ce-d811-41cc-83e3-999aa83eb39e"
      },
      "execution_count": null,
      "outputs": [
        {
          "output_type": "execute_result",
          "data": {
            "text/plain": [
              "[1, 2, 3, 1, 2, 3]"
            ]
          },
          "metadata": {},
          "execution_count": 19
        }
      ]
    },
    {
      "cell_type": "code",
      "source": [
        "arr * 2"
      ],
      "metadata": {
        "colab": {
          "base_uri": "https://localhost:8080/"
        },
        "id": "u5CKzBuN4Gjk",
        "outputId": "b93d238a-2c68-44ee-a237-6c6c9231e5e0"
      },
      "execution_count": null,
      "outputs": [
        {
          "output_type": "execute_result",
          "data": {
            "text/plain": [
              "[1, 2, 3, 1, 2, 3]"
            ]
          },
          "metadata": {},
          "execution_count": 20
        }
      ]
    },
    {
      "cell_type": "markdown",
      "source": [
        "## List functions\n",
        "\n",
        "- `.append(object)`: 리스트에 원소 추가\n",
        "- `.extend(iterable)`: 리스트 확장하기\n",
        "- `.sort(key, reverse)`: 리스트 정렬\n",
        "- `.reverse()`: 리스트 뒤집기\n",
        "- `.index(object)`: 리스트에 있는 원소의 index 찾기\n",
        "- `.insert(index, object)`: 리스트 내 지정한 index로 원소 삽입\n",
        "- `.remove(object)`: 리스트 내 특정 index의 원소 제거\n",
        "- `.pop(index)`: 리스트 원소 꺼내고 지우기\n",
        "- `.count(object)`: 리스트 내 특정 원소 빈도"
      ],
      "metadata": {
        "id": "Ezi9kD3m5X6B"
      }
    },
    {
      "cell_type": "code",
      "source": [
        "# `.append(object)`: 리스트에 원소 추가\n",
        "mat_zip = ['어머니 대성집', '돈냉면']\n",
        "print(f'Before append: {mat_zip}')\n",
        "\n",
        "mat_zip.append('전주 외할머니댁')\n",
        "print(f'After append: {mat_zip}')"
      ],
      "metadata": {
        "colab": {
          "base_uri": "https://localhost:8080/"
        },
        "id": "MKj_mF2w5WdR",
        "outputId": "2a57b3a4-1ac2-499d-fffd-85dd840f3ea6"
      },
      "execution_count": null,
      "outputs": [
        {
          "output_type": "stream",
          "name": "stdout",
          "text": [
            "Before append: ['어머니 대성집', '돈냉면']\n",
            "After append: ['어머니 대성집', '돈냉면', '전주 외할머니댁']\n"
          ]
        }
      ]
    },
    {
      "cell_type": "code",
      "source": [
        "# `.extend(iterable)`: 리스트 확장하기\n",
        "mat_zip = ['어머니 대성집', '돈냉면', '전주 외할머니댁']\n",
        "print(f'Before extend: {mat_zip}')\n",
        "\n",
        "mat_zip.extend(['와가리피순대', '한상차림밥상'])\n",
        "print(f'After extend: {mat_zip}')"
      ],
      "metadata": {
        "colab": {
          "base_uri": "https://localhost:8080/"
        },
        "id": "UaKrkN826F8M",
        "outputId": "929f06da-19c9-4ffa-dced-ab4dd8d7fdf5"
      },
      "execution_count": null,
      "outputs": [
        {
          "output_type": "stream",
          "name": "stdout",
          "text": [
            "Before extend: ['어머니 대성집', '돈냉면', '전주 외할머니댁']\n",
            "After extend: ['어머니 대성집', '돈냉면', '전주 외할머니댁', '와가리피순대', '한상차림밥상']\n"
          ]
        }
      ]
    },
    {
      "cell_type": "code",
      "source": [
        "# `.sort(key, reverse)`: 리스트 정렬. default key는 None, default reverse는 False\n",
        "names = ['남도일','홍장미','유미란','유명한','브라운']\n",
        "print(f'Before sort: {names}')\n",
        "\n",
        "names.sort()\n",
        "print(f'After sort: {names}')"
      ],
      "metadata": {
        "colab": {
          "base_uri": "https://localhost:8080/"
        },
        "id": "hyOtxXjz6Jj5",
        "outputId": "d4c7ea63-6822-469b-e15c-3cb629d1c2fd"
      },
      "execution_count": null,
      "outputs": [
        {
          "output_type": "stream",
          "name": "stdout",
          "text": [
            "Before sort: ['남도일', '홍장미', '유미란', '유명한', '브라운']\n",
            "After sort: ['남도일', '브라운', '유명한', '유미란', '홍장미']\n"
          ]
        }
      ]
    },
    {
      "cell_type": "code",
      "source": [
        "# `.sort(reverse=True)`: 리스트 정렬 (reverse)\n",
        "names = ['남도일','홍장미','유미란','유명한','브라운']\n",
        "print(f'Before reverse sort: {names}')\n",
        "\n",
        "names.sort(reverse=True)\n",
        "print(f'After reverse sort(reverse=True): {names}')"
      ],
      "metadata": {
        "colab": {
          "base_uri": "https://localhost:8080/"
        },
        "id": "HiqQYivtA9r4",
        "outputId": "e708c36b-acbf-4fc7-e15e-d1973d77c6e8"
      },
      "execution_count": null,
      "outputs": [
        {
          "output_type": "stream",
          "name": "stdout",
          "text": [
            "Before reverse sort: ['남도일', '홍장미', '유미란', '유명한', '브라운']\n",
            "After reverse sort(reverse=True): ['홍장미', '유미란', '유명한', '브라운', '남도일']\n"
          ]
        }
      ]
    },
    {
      "cell_type": "code",
      "source": [
        "# `.sort(key, reverse)`: 리스트 정렬 (key)\n",
        "names = ['쿠도 신이치','하이바라 아이','모리 란','모리 코고로','아가사 히로시']\n",
        "print(f'Before sort: {names}')\n",
        "\n",
        "names.sort(key=len)\n",
        "print(f'After sort(key=len): {names}')"
      ],
      "metadata": {
        "colab": {
          "base_uri": "https://localhost:8080/"
        },
        "id": "ZbXLNen2Ck5d",
        "outputId": "21916a8b-8446-4b5d-c737-ae95892cc381"
      },
      "execution_count": null,
      "outputs": [
        {
          "output_type": "stream",
          "name": "stdout",
          "text": [
            "Before sort: ['쿠도 신이치', '하이바라 아이', '모리 란', '모리 코고로', '아가사 히로시']\n",
            "After sort(key=len): ['모리 란', '쿠도 신이치', '모리 코고로', '하이바라 아이', '아가사 히로시']\n"
          ]
        }
      ]
    },
    {
      "cell_type": "code",
      "source": [
        "# `.reverse()`: 리스트 뒤집기\n",
        "happy = ['나', '나', '끝', '제', '언', '업', '수']\n",
        "print(f'Before reverse: {happy}')\n",
        "\n",
        "happy.reverse()\n",
        "print(f'After reverse: {happy}')"
      ],
      "metadata": {
        "colab": {
          "base_uri": "https://localhost:8080/"
        },
        "id": "UAtH6gUI6Lab",
        "outputId": "f737cd67-4fc4-4697-ef71-ae06514a5295"
      },
      "execution_count": null,
      "outputs": [
        {
          "output_type": "stream",
          "name": "stdout",
          "text": [
            "Before reverse: ['나', '나', '끝', '제', '언', '업', '수']\n",
            "After reverse: ['수', '업', '언', '제', '끝', '나', '나']\n"
          ]
        }
      ]
    },
    {
      "cell_type": "code",
      "source": [
        "# `.index(object)`: 리스트에 있는 원소의 index 찾기\n",
        "inputs = ['[CLS]','오늘 저녁은 뭐먹지.','[SEP]','저녁은 카레먹어야지.','[PAD]']\n",
        "sep_idx = inputs.index('[SEP]')\n",
        "\n",
        "print(f\"inputs.index('[SEP]') : {sep_idx}\")\n",
        "print(f'inputs[{sep_idx}]: {inputs[sep_idx]}')"
      ],
      "metadata": {
        "colab": {
          "base_uri": "https://localhost:8080/"
        },
        "id": "5dXVqR796MKJ",
        "outputId": "0b1cab0d-918a-460f-c39c-c63682830d26"
      },
      "execution_count": null,
      "outputs": [
        {
          "output_type": "stream",
          "name": "stdout",
          "text": [
            "inputs.index('[SEP]') : 2\n",
            "inputs[2]: [SEP]\n"
          ]
        }
      ]
    },
    {
      "cell_type": "code",
      "source": [
        "# `.insert(index, object)`: 리스트 내 지정한 index로 원소 삽입\n",
        "inputs = ['코딩은','정말','쉽다']\n",
        "value = '포기하기'\n",
        "print(f'Before insert: {inputs}')\n",
        "inputs.insert(2, value)\n",
        "\n",
        "print(f'After insert: {inputs}')"
      ],
      "metadata": {
        "colab": {
          "base_uri": "https://localhost:8080/"
        },
        "id": "RywBP8XH6Ntd",
        "outputId": "6cfc4743-82c2-4f06-84ca-b4d53279cc6a"
      },
      "execution_count": null,
      "outputs": [
        {
          "output_type": "stream",
          "name": "stdout",
          "text": [
            "Before insert: ['코딩은', '정말', '쉽다']\n",
            "After insert: ['코딩은', '정말', '포기하기', '쉽다']\n"
          ]
        }
      ]
    },
    {
      "cell_type": "code",
      "source": [
        "# `.remove(object)`: 리스트 내 특정 index의 원소 제거\n",
        "inputs = ['어','이','가','없','네']\n",
        "print(f\"Before remove('이'): {inputs}\")\n",
        "inputs.remove('이')\n",
        "\n",
        "print(f\"After remove('이'): {inputs}\")"
      ],
      "metadata": {
        "colab": {
          "base_uri": "https://localhost:8080/"
        },
        "id": "Mfade0Nz6OYy",
        "outputId": "d7bdf088-3157-47b9-e688-2f531e0bffab"
      },
      "execution_count": null,
      "outputs": [
        {
          "output_type": "stream",
          "name": "stdout",
          "text": [
            "Before remove('이'): ['어', '이', '가', '없', '네']\n",
            "After remove('이'): ['어', '가', '없', '네']\n"
          ]
        }
      ]
    },
    {
      "cell_type": "code",
      "source": [
        "# 동일한 원소가 여러 개 있는 경우 가장 앞 원소만 삭제됨\n",
        "inputs = ['간장','공장','공장장','강','공장장']\n",
        "print(f\"Before remove('공장장'): {inputs}\")\n",
        "inputs.remove('공장장')\n",
        "\n",
        "print(f\"After remove('공장장'): {inputs}\")"
      ],
      "metadata": {
        "colab": {
          "base_uri": "https://localhost:8080/"
        },
        "id": "nH18Wfac8iha",
        "outputId": "0c6324de-616d-47d4-8515-be271d05302c"
      },
      "execution_count": null,
      "outputs": [
        {
          "output_type": "stream",
          "name": "stdout",
          "text": [
            "Before remove('공장장'): ['간장', '공장', '공장장', '강', '공장장']\n",
            "After remove('공장장'): ['간장', '공장', '강', '공장장']\n"
          ]
        }
      ]
    },
    {
      "cell_type": "code",
      "source": [
        "# `.pop(index)`: 리스트 원소 꺼내고 지우기\n",
        "inputs = ['어','이','가','없','네']\n",
        "print(f\"Before pop(1): {inputs}\")\n",
        "value = inputs.pop(1)\n",
        "\n",
        "print(f\"After pop(1): {inputs}\")\n",
        "print(f\"value: {value}\")"
      ],
      "metadata": {
        "colab": {
          "base_uri": "https://localhost:8080/"
        },
        "id": "HiNi0pM_6PAm",
        "outputId": "4fada23e-a690-4bd5-c5e7-7c0dde39384b"
      },
      "execution_count": null,
      "outputs": [
        {
          "output_type": "stream",
          "name": "stdout",
          "text": [
            "Before pop(1): ['어', '이', '가', '없', '네']\n",
            "After pop(1): ['어', '가', '없', '네']\n",
            "value: 이\n"
          ]
        }
      ]
    },
    {
      "cell_type": "code",
      "source": [
        "# `.count(object)`: 리스트 내 특정 원소 빈도\n",
        "scores = ['A+','A+','A','A+','A+','A+','A']\n",
        "print(f\"The number of A+ in scores: {scores.count('A+')}\")"
      ],
      "metadata": {
        "colab": {
          "base_uri": "https://localhost:8080/"
        },
        "id": "vqnBgPdj6Pt9",
        "outputId": "a3346b35-5cba-4c82-a1f5-ba2bb865d524"
      },
      "execution_count": null,
      "outputs": [
        {
          "output_type": "stream",
          "name": "stdout",
          "text": [
            "The number of A+ in scores: 5\n"
          ]
        }
      ]
    },
    {
      "cell_type": "markdown",
      "source": [
        "## Dictionary\n",
        "\n",
        "`Key`와 `Value`가 맵핑되어 있는 집합. `Key`는 바꿀 수 없지만 `Value`는 변경 가능함.  \n",
        "{`key`: `value`} 또는 dict([(`key`, `value`)]) 와 같이 생성.  \n",
        "`Value`는 다양한 type 가능.\n"
      ],
      "metadata": {
        "id": "K5TBZQuG3UAu"
      }
    },
    {
      "cell_type": "code",
      "source": [
        "values = {'lotto_number': [21, 26, 27, 32, 34, 42], 'date': 20230826}\n",
        "type(values)"
      ],
      "metadata": {
        "colab": {
          "base_uri": "https://localhost:8080/"
        },
        "id": "zi33I6HA3U00",
        "outputId": "72d00766-88be-46a6-bf94-3e994a0f3727"
      },
      "execution_count": null,
      "outputs": [
        {
          "output_type": "execute_result",
          "data": {
            "text/plain": [
              "dict"
            ]
          },
          "metadata": {},
          "execution_count": 33
        }
      ]
    },
    {
      "cell_type": "code",
      "source": [
        "values = dict([('lotto_number', [21, 26, 27, 32, 34, 42]), ('date', 20230826)])\n",
        "values"
      ],
      "metadata": {
        "colab": {
          "base_uri": "https://localhost:8080/"
        },
        "id": "Kiym6XAC6bKr",
        "outputId": "daa8163a-6481-49bf-f11f-d0aafb7fbfe7"
      },
      "execution_count": null,
      "outputs": [
        {
          "output_type": "execute_result",
          "data": {
            "text/plain": [
              "{'lotto_number': [21, 26, 27, 32, 34, 42], 'date': 20230826}"
            ]
          },
          "metadata": {},
          "execution_count": 34
        }
      ]
    },
    {
      "cell_type": "code",
      "source": [
        "# Key를 통해 value를 조회할 수 있음\n",
        "key = 'lotto_number'\n",
        "values[key]"
      ],
      "metadata": {
        "colab": {
          "base_uri": "https://localhost:8080/"
        },
        "id": "A6Ihhqt16b-6",
        "outputId": "04fa1847-165e-4805-bb16-628d0d9b6081"
      },
      "execution_count": null,
      "outputs": [
        {
          "output_type": "execute_result",
          "data": {
            "text/plain": [
              "[21, 26, 27, 32, 34, 42]"
            ]
          },
          "metadata": {},
          "execution_count": 35
        }
      ]
    },
    {
      "cell_type": "code",
      "source": [
        "new_key = 'bonus number'\n",
        "new_value = 31\n",
        "values[new_key] = new_value\n",
        "values"
      ],
      "metadata": {
        "colab": {
          "base_uri": "https://localhost:8080/"
        },
        "id": "Zxv_m5na6c3Z",
        "outputId": "3ce2eafe-38b2-434c-b3c3-ac9c0e9a9be6"
      },
      "execution_count": null,
      "outputs": [
        {
          "output_type": "execute_result",
          "data": {
            "text/plain": [
              "{'lotto_number': [21, 26, 27, 32, 34, 42],\n",
              " 'date': 20230826,\n",
              " 'bonus number': 31}"
            ]
          },
          "metadata": {},
          "execution_count": 36
        }
      ]
    },
    {
      "cell_type": "markdown",
      "source": [
        "## Dictionary functions\n",
        "\n",
        "- `.keys()`: key 리스트 반환\n",
        "- `.values()`: value 리스트 반환\n",
        "- `.items()`: (key, value) 리스트 반환\n",
        "- `.get()`: key로 value 조회\n",
        "- `.update(dict)`: dictionary 업데이트\n",
        "- `.clear()`: key, value 모두 삭제"
      ],
      "metadata": {
        "id": "_yziJK7H6n68"
      }
    },
    {
      "cell_type": "code",
      "source": [
        "kor_names = ['남도일','홍장미','유미란','유명한','브라운']\n",
        "jpn_names = ['쿠도 신이치','하이바라 아이','모리 란','모리 코고로','아가사 히로시']\n",
        "names = dict(zip(kor_names, jpn_names))\n",
        "names"
      ],
      "metadata": {
        "colab": {
          "base_uri": "https://localhost:8080/"
        },
        "id": "CO9BdJziAF91",
        "outputId": "434c45bf-9086-4683-d495-7850e798baae"
      },
      "execution_count": null,
      "outputs": [
        {
          "output_type": "execute_result",
          "data": {
            "text/plain": [
              "{'남도일': '쿠도 신이치',\n",
              " '홍장미': '하이바라 아이',\n",
              " '유미란': '모리 란',\n",
              " '유명한': '모리 코고로',\n",
              " '브라운': '아가사 히로시'}"
            ]
          },
          "metadata": {},
          "execution_count": 37
        }
      ]
    },
    {
      "cell_type": "code",
      "source": [
        "# `.keys()`: key 리스트 반환\n",
        "names.keys()"
      ],
      "metadata": {
        "colab": {
          "base_uri": "https://localhost:8080/"
        },
        "id": "SBTD0tGA6_iH",
        "outputId": "0b107628-8ffa-4d75-d252-a0aac32c168a"
      },
      "execution_count": null,
      "outputs": [
        {
          "output_type": "execute_result",
          "data": {
            "text/plain": [
              "dict_keys(['남도일', '홍장미', '유미란', '유명한', '브라운'])"
            ]
          },
          "metadata": {},
          "execution_count": 38
        }
      ]
    },
    {
      "cell_type": "code",
      "source": [
        "# `.values()`: value 리스트 반환\n",
        "names.values()"
      ],
      "metadata": {
        "colab": {
          "base_uri": "https://localhost:8080/"
        },
        "id": "4Ur6LaKR7Bxu",
        "outputId": "b28257e2-7eae-4ad6-d5be-2dcf909ca9a7"
      },
      "execution_count": null,
      "outputs": [
        {
          "output_type": "execute_result",
          "data": {
            "text/plain": [
              "dict_values(['쿠도 신이치', '하이바라 아이', '모리 란', '모리 코고로', '아가사 히로시'])"
            ]
          },
          "metadata": {},
          "execution_count": 39
        }
      ]
    },
    {
      "cell_type": "code",
      "source": [
        "# `.items()`: (key, value) 리스트 반환\n",
        "names.items()"
      ],
      "metadata": {
        "colab": {
          "base_uri": "https://localhost:8080/"
        },
        "id": "agP5VDV17ebi",
        "outputId": "2ab1910c-8929-48db-a3fa-6c00f028c2d8"
      },
      "execution_count": null,
      "outputs": [
        {
          "output_type": "execute_result",
          "data": {
            "text/plain": [
              "dict_items([('남도일', '쿠도 신이치'), ('홍장미', '하이바라 아이'), ('유미란', '모리 란'), ('유명한', '모리 코고로'), ('브라운', '아가사 히로시')])"
            ]
          },
          "metadata": {},
          "execution_count": 40
        }
      ]
    },
    {
      "cell_type": "code",
      "source": [
        "# `.get()`: key로 value 조회\n",
        "names.get('남도일')"
      ],
      "metadata": {
        "colab": {
          "base_uri": "https://localhost:8080/",
          "height": 35
        },
        "id": "gHHtnPhm7kXG",
        "outputId": "b84b1a62-1e8f-4fd9-b5e5-abf12f057337"
      },
      "execution_count": null,
      "outputs": [
        {
          "output_type": "execute_result",
          "data": {
            "text/plain": [
              "'쿠도 신이치'"
            ],
            "application/vnd.google.colaboratory.intrinsic+json": {
              "type": "string"
            }
          },
          "metadata": {},
          "execution_count": 41
        }
      ]
    },
    {
      "cell_type": "code",
      "source": [
        "# `.update(dict)`: dictionary 업데이트\n",
        "names.update([('박세모','츠부라야 마츠히코'), ('한아름','요시다 아유미')])\n",
        "names"
      ],
      "metadata": {
        "colab": {
          "base_uri": "https://localhost:8080/"
        },
        "id": "pHtf3MK77lTP",
        "outputId": "29123208-e37b-4e43-a510-962b170446ec"
      },
      "execution_count": null,
      "outputs": [
        {
          "output_type": "execute_result",
          "data": {
            "text/plain": [
              "{'남도일': '쿠도 신이치',\n",
              " '홍장미': '하이바라 아이',\n",
              " '유미란': '모리 란',\n",
              " '유명한': '모리 코고로',\n",
              " '브라운': '아가사 히로시',\n",
              " '박세모': '츠부라야 마츠히코',\n",
              " '한아름': '요시다 아유미'}"
            ]
          },
          "metadata": {},
          "execution_count": 42
        }
      ]
    },
    {
      "cell_type": "code",
      "source": [
        "names.update({'고뭉치':'코지마 겐타'})\n",
        "names"
      ],
      "metadata": {
        "colab": {
          "base_uri": "https://localhost:8080/"
        },
        "id": "nequwgrGA22n",
        "outputId": "77c09c08-8d16-4ad2-efee-d5287c1e4ef4"
      },
      "execution_count": null,
      "outputs": [
        {
          "output_type": "execute_result",
          "data": {
            "text/plain": [
              "{'남도일': '쿠도 신이치',\n",
              " '홍장미': '하이바라 아이',\n",
              " '유미란': '모리 란',\n",
              " '유명한': '모리 코고로',\n",
              " '브라운': '아가사 히로시',\n",
              " '박세모': '츠부라야 마츠히코',\n",
              " '한아름': '요시다 아유미',\n",
              " '고뭉치': '코지마 겐타'}"
            ]
          },
          "metadata": {},
          "execution_count": 43
        }
      ]
    },
    {
      "cell_type": "code",
      "source": [
        "# 기존 key의 value를 update 할 수 있음\n",
        "names.update({'남도일':'에도가와 코난'})\n",
        "names"
      ],
      "metadata": {
        "colab": {
          "base_uri": "https://localhost:8080/"
        },
        "id": "GzWi5aUWA_C5",
        "outputId": "84fff6c4-bc6e-4ad0-d15c-bbdda82b843b"
      },
      "execution_count": null,
      "outputs": [
        {
          "output_type": "execute_result",
          "data": {
            "text/plain": [
              "{'남도일': '에도가와 코난',\n",
              " '홍장미': '하이바라 아이',\n",
              " '유미란': '모리 란',\n",
              " '유명한': '모리 코고로',\n",
              " '브라운': '아가사 히로시',\n",
              " '박세모': '츠부라야 마츠히코',\n",
              " '한아름': '요시다 아유미',\n",
              " '고뭉치': '코지마 겐타'}"
            ]
          },
          "metadata": {},
          "execution_count": 44
        }
      ]
    },
    {
      "cell_type": "code",
      "source": [
        "# `.clear()`: key, value 모두 삭제\n",
        "names.clear()\n",
        "names"
      ],
      "metadata": {
        "colab": {
          "base_uri": "https://localhost:8080/"
        },
        "id": "zrt9CGWs7fun",
        "outputId": "5aecb4e2-b6a7-4b58-cbf3-94c7677bdf18"
      },
      "execution_count": null,
      "outputs": [
        {
          "output_type": "execute_result",
          "data": {
            "text/plain": [
              "{}"
            ]
          },
          "metadata": {},
          "execution_count": 45
        }
      ]
    },
    {
      "cell_type": "markdown",
      "source": [
        "# Set\n",
        "\n",
        "수학에서의 집합 개념과 동일. Unique 원소를 반환함.   \n",
        "원소는 list와 dictionary와 같이 가변적인 유형을 제외하고 가능함."
      ],
      "metadata": {
        "id": "Qy7eJYDi6drN"
      }
    },
    {
      "cell_type": "code",
      "source": [
        "values = {1,1,2,2,3,3}\n",
        "type(values)"
      ],
      "metadata": {
        "colab": {
          "base_uri": "https://localhost:8080/"
        },
        "id": "pnTDbCWj6ezB",
        "outputId": "50fe43cd-d617-47db-e1d1-a20a25f2566e"
      },
      "execution_count": null,
      "outputs": [
        {
          "output_type": "execute_result",
          "data": {
            "text/plain": [
              "set"
            ]
          },
          "metadata": {},
          "execution_count": 46
        }
      ]
    },
    {
      "cell_type": "code",
      "source": [
        "values = set([1,1,2,2,3,3])\n",
        "values"
      ],
      "metadata": {
        "colab": {
          "base_uri": "https://localhost:8080/"
        },
        "id": "6n4UfabL6gKX",
        "outputId": "e425065b-c458-4aef-bef0-cc720e3aa300"
      },
      "execution_count": null,
      "outputs": [
        {
          "output_type": "execute_result",
          "data": {
            "text/plain": [
              "{1, 2, 3}"
            ]
          },
          "metadata": {},
          "execution_count": 47
        }
      ]
    },
    {
      "cell_type": "code",
      "source": [
        "values = {'D','D','S','S','B','B','A','A','a'}\n",
        "values"
      ],
      "metadata": {
        "colab": {
          "base_uri": "https://localhost:8080/"
        },
        "id": "MrDsoAPh6iki",
        "outputId": "9d72d486-3ad9-4ae8-c74a-e3cd0fa5854a"
      },
      "execution_count": null,
      "outputs": [
        {
          "output_type": "execute_result",
          "data": {
            "text/plain": [
              "{'A', 'B', 'D', 'S', 'a'}"
            ]
          },
          "metadata": {},
          "execution_count": 48
        }
      ]
    },
    {
      "cell_type": "code",
      "source": [
        "values = {123, 'qwer', (1,2)}\n",
        "values"
      ],
      "metadata": {
        "colab": {
          "base_uri": "https://localhost:8080/"
        },
        "id": "tf3XdsOv6jME",
        "outputId": "056a5fa5-a767-44a0-aa86-b8bb09c81e38"
      },
      "execution_count": null,
      "outputs": [
        {
          "output_type": "execute_result",
          "data": {
            "text/plain": [
              "{(1, 2), 123, 'qwer'}"
            ]
          },
          "metadata": {},
          "execution_count": 49
        }
      ]
    },
    {
      "cell_type": "code",
      "source": [
        "values = {123, [1,2]}"
      ],
      "metadata": {
        "colab": {
          "base_uri": "https://localhost:8080/",
          "height": 179
        },
        "id": "5L5fYvRv6kE4",
        "outputId": "fc39fcfd-8b3c-4502-ea29-ba476cd282f8"
      },
      "execution_count": null,
      "outputs": [
        {
          "output_type": "error",
          "ename": "TypeError",
          "evalue": "ignored",
          "traceback": [
            "\u001b[0;31m---------------------------------------------------------------------------\u001b[0m",
            "\u001b[0;31mTypeError\u001b[0m                                 Traceback (most recent call last)",
            "\u001b[0;32m<ipython-input-50-5c6843b63a43>\u001b[0m in \u001b[0;36m<cell line: 1>\u001b[0;34m()\u001b[0m\n\u001b[0;32m----> 1\u001b[0;31m \u001b[0mvalues\u001b[0m \u001b[0;34m=\u001b[0m \u001b[0;34m{\u001b[0m\u001b[0;36m123\u001b[0m\u001b[0;34m,\u001b[0m \u001b[0;34m[\u001b[0m\u001b[0;36m1\u001b[0m\u001b[0;34m,\u001b[0m\u001b[0;36m2\u001b[0m\u001b[0;34m]\u001b[0m\u001b[0;34m}\u001b[0m\u001b[0;34m\u001b[0m\u001b[0;34m\u001b[0m\u001b[0m\n\u001b[0m",
            "\u001b[0;31mTypeError\u001b[0m: unhashable type: 'list'"
          ]
        }
      ]
    },
    {
      "cell_type": "code",
      "source": [
        "values = {1,2,3, {'a':1}}"
      ],
      "metadata": {
        "colab": {
          "base_uri": "https://localhost:8080/",
          "height": 179
        },
        "id": "adSaQDaz6lR4",
        "outputId": "80056f98-377f-4a29-9e9e-15ab042c4643"
      },
      "execution_count": null,
      "outputs": [
        {
          "output_type": "error",
          "ename": "TypeError",
          "evalue": "ignored",
          "traceback": [
            "\u001b[0;31m---------------------------------------------------------------------------\u001b[0m",
            "\u001b[0;31mTypeError\u001b[0m                                 Traceback (most recent call last)",
            "\u001b[0;32m<ipython-input-51-fe5bc0b7ebf4>\u001b[0m in \u001b[0;36m<cell line: 1>\u001b[0;34m()\u001b[0m\n\u001b[0;32m----> 1\u001b[0;31m \u001b[0mvalues\u001b[0m \u001b[0;34m=\u001b[0m \u001b[0;34m{\u001b[0m\u001b[0;36m1\u001b[0m\u001b[0;34m,\u001b[0m\u001b[0;36m2\u001b[0m\u001b[0;34m,\u001b[0m\u001b[0;36m3\u001b[0m\u001b[0;34m,\u001b[0m \u001b[0;34m{\u001b[0m\u001b[0;34m'a'\u001b[0m\u001b[0;34m:\u001b[0m\u001b[0;36m1\u001b[0m\u001b[0;34m}\u001b[0m\u001b[0;34m}\u001b[0m\u001b[0;34m\u001b[0m\u001b[0;34m\u001b[0m\u001b[0m\n\u001b[0m",
            "\u001b[0;31mTypeError\u001b[0m: unhashable type: 'dict'"
          ]
        }
      ]
    },
    {
      "cell_type": "markdown",
      "source": [
        "## Set functions\n",
        "\n",
        "- `.add(object)`: 값 추가\n",
        "- `.update(set)`: 값들 추가\n",
        "- `.remove(object)`: 특정 값 제거\n",
        "- `.remove(object)`: 집합 내 object 제거\n",
        "- `.discard(object)`: 집합에 object가 존재하면 제거\n",
        "- `.clear()`: 전체 집합 제거"
      ],
      "metadata": {
        "id": "kCSZ7Esh7sH6"
      }
    },
    {
      "cell_type": "code",
      "source": [
        "# `.add(object)`: 값 추가\n",
        "class1_students = {'영철','상철','정숙','순자','옥순','광수'}\n",
        "print(f'Before add: {class1_students}')\n",
        "\n",
        "class1_students.add('영식')\n",
        "print(f'After add: {class1_students}')"
      ],
      "metadata": {
        "colab": {
          "base_uri": "https://localhost:8080/"
        },
        "id": "3WQqpn6_7-ME",
        "outputId": "d509b3ab-b8e8-405d-cf16-6a2d37138515"
      },
      "execution_count": null,
      "outputs": [
        {
          "output_type": "stream",
          "name": "stdout",
          "text": [
            "Before add: {'순자', '광수', '옥순', '정숙', '상철', '영철'}\n",
            "After add: {'순자', '광수', '옥순', '영식', '정숙', '상철', '영철'}\n"
          ]
        }
      ]
    },
    {
      "cell_type": "code",
      "source": [
        "# `.update(set)`: 값들 추가\n",
        "class1_students = {'영철','상철','정숙','순자','옥순','광수'}\n",
        "print(f'Before update: {class1_students}')\n",
        "\n",
        "class1_students.update({'영식','영수'})\n",
        "print(f\"After update({'영식','영수'}): {class1_students}\")\n",
        "\n",
        "class1_students.update(['영식','현수'])\n",
        "print(f\"After update(['영식', '현수']): {class1_students}\")"
      ],
      "metadata": {
        "colab": {
          "base_uri": "https://localhost:8080/"
        },
        "id": "cJxesb7x_er1",
        "outputId": "465a3592-4723-43e0-b5d6-a90d9d321622"
      },
      "execution_count": null,
      "outputs": [
        {
          "output_type": "stream",
          "name": "stdout",
          "text": [
            "Before update: {'순자', '광수', '옥순', '정숙', '상철', '영철'}\n",
            "After update(('영식', '영수')): {'순자', '광수', '옥순', '영수', '영식', '정숙', '상철', '영철'}\n",
            "After update(['영식', '현수']): {'옥순', '정숙', '광수', '상철', '영수', '영철', '순자', '현수', '영식'}\n"
          ]
        }
      ]
    },
    {
      "cell_type": "code",
      "source": [
        "# `.remove(object)`: 특정 값 제거\n",
        "class1_students = {'영철','상철','정숙','순자','옥순','광수'}\n",
        "print(f'Before remove: {class1_students}')\n",
        "\n",
        "class1_students.remove('영철')\n",
        "print(f\"After remove('영철'): {class1_students}\")"
      ],
      "metadata": {
        "colab": {
          "base_uri": "https://localhost:8080/"
        },
        "id": "LNBheZvG_gVJ",
        "outputId": "2f438fe2-1fdf-476d-c859-07044cb8c1ab"
      },
      "execution_count": null,
      "outputs": [
        {
          "output_type": "stream",
          "name": "stdout",
          "text": [
            "Before remove: {'순자', '광수', '옥순', '정숙', '상철', '영철'}\n",
            "After remove('영철'): {'순자', '광수', '옥순', '정숙', '상철'}\n"
          ]
        }
      ]
    },
    {
      "cell_type": "code",
      "source": [
        "# `.discard(object)`: 집합에 object가 존재하면 제거\n",
        "class1_students = {'영철','상철','정숙','순자','옥순','광수'}\n",
        "print(f'Before remove: {class1_students}')\n",
        "\n",
        "class1_students.discard('영철')\n",
        "print(f\"After discard('영철'): {class1_students}\")\n",
        "\n",
        "class1_students.discard('재혁')\n",
        "print(f\"After discard('재혁'): {class1_students}\")"
      ],
      "metadata": {
        "colab": {
          "base_uri": "https://localhost:8080/"
        },
        "id": "iM24e6FmFaRM",
        "outputId": "0aec65e3-64a0-4a41-9b7f-cf103a6dae41"
      },
      "execution_count": null,
      "outputs": [
        {
          "output_type": "stream",
          "name": "stdout",
          "text": [
            "Before remove: {'순자', '광수', '옥순', '정숙', '상철', '영철'}\n",
            "After discard('영철'): {'순자', '광수', '옥순', '정숙', '상철'}\n",
            "After discard('재혁'): {'순자', '광수', '옥순', '정숙', '상철'}\n"
          ]
        }
      ]
    },
    {
      "cell_type": "code",
      "source": [
        "class1_students.remove('재혁') # remove는 값이 없는 경우 에러 발생"
      ],
      "metadata": {
        "colab": {
          "base_uri": "https://localhost:8080/",
          "height": 179
        },
        "id": "yxkWVF4jSFtD",
        "outputId": "79b78702-0a6c-41b1-ecc7-7dd8df7b0d7b"
      },
      "execution_count": null,
      "outputs": [
        {
          "output_type": "error",
          "ename": "KeyError",
          "evalue": "ignored",
          "traceback": [
            "\u001b[0;31m---------------------------------------------------------------------------\u001b[0m",
            "\u001b[0;31mKeyError\u001b[0m                                  Traceback (most recent call last)",
            "\u001b[0;32m<ipython-input-56-380b516f66df>\u001b[0m in \u001b[0;36m<cell line: 1>\u001b[0;34m()\u001b[0m\n\u001b[0;32m----> 1\u001b[0;31m \u001b[0mclass1_students\u001b[0m\u001b[0;34m.\u001b[0m\u001b[0mremove\u001b[0m\u001b[0;34m(\u001b[0m\u001b[0;34m'재혁'\u001b[0m\u001b[0;34m)\u001b[0m \u001b[0;31m# remove는 값이 없는 경우 에러 발생\u001b[0m\u001b[0;34m\u001b[0m\u001b[0;34m\u001b[0m\u001b[0m\n\u001b[0m",
            "\u001b[0;31mKeyError\u001b[0m: '재혁'"
          ]
        }
      ]
    },
    {
      "cell_type": "code",
      "source": [
        "# `.clear()`: 전체 집합 제거\n",
        "class1_students.clear()\n",
        "print(f'class1_students: {class1_students}')"
      ],
      "metadata": {
        "colab": {
          "base_uri": "https://localhost:8080/"
        },
        "id": "TqcloCUIOrof",
        "outputId": "6dd623f5-ed08-410a-de95-542a4768a4a5"
      },
      "execution_count": null,
      "outputs": [
        {
          "output_type": "stream",
          "name": "stdout",
          "text": [
            "class1_students: set()\n"
          ]
        }
      ]
    },
    {
      "cell_type": "markdown",
      "source": [
        "## *Intersection*, Union, Difference\n",
        "\n",
        "- Intersection: $A \\cap B$\n",
        "- Union: $A \\cup B$\n",
        "- Difference: $A - B$\n",
        "- Symmetric difference: $A \\triangle B = A \\cup B - A \\cap B$"
      ],
      "metadata": {
        "id": "MBbTDh3k_4ZI"
      }
    },
    {
      "cell_type": "code",
      "source": [
        "class1_students = {'영철','상철','정숙','순자','옥순','광수'}\n",
        "class2_students = {'영수','정숙','순자','현숙','광수','상철','영식','영호'}"
      ],
      "metadata": {
        "id": "VHpfCo_uTCO4"
      },
      "execution_count": null,
      "outputs": []
    },
    {
      "cell_type": "code",
      "source": [
        "# Intersection\n",
        "class1_students.intersection(class2_students)"
      ],
      "metadata": {
        "colab": {
          "base_uri": "https://localhost:8080/"
        },
        "id": "8tLLmuIgAIZ7",
        "outputId": "1a0d1824-af2f-43e3-a80e-b059c7c6fe29"
      },
      "execution_count": null,
      "outputs": [
        {
          "output_type": "execute_result",
          "data": {
            "text/plain": [
              "{'광수', '상철', '순자', '정숙'}"
            ]
          },
          "metadata": {},
          "execution_count": 59
        }
      ]
    },
    {
      "cell_type": "code",
      "source": [
        "class1_students & class2_students"
      ],
      "metadata": {
        "colab": {
          "base_uri": "https://localhost:8080/"
        },
        "id": "KdmGerjWSzLK",
        "outputId": "54684726-7357-481d-8f2f-30cc33cd9fa1"
      },
      "execution_count": null,
      "outputs": [
        {
          "output_type": "execute_result",
          "data": {
            "text/plain": [
              "{'광수', '상철', '순자', '정숙'}"
            ]
          },
          "metadata": {},
          "execution_count": 60
        }
      ]
    },
    {
      "cell_type": "code",
      "source": [
        "# Union\n",
        "class1_students.union(class2_students)"
      ],
      "metadata": {
        "colab": {
          "base_uri": "https://localhost:8080/"
        },
        "id": "n7NFdyODANWH",
        "outputId": "47cb1c12-8e88-45d9-ec4f-516521aab719"
      },
      "execution_count": null,
      "outputs": [
        {
          "output_type": "execute_result",
          "data": {
            "text/plain": [
              "{'광수', '상철', '순자', '영수', '영식', '영철', '영호', '옥순', '정숙', '현숙'}"
            ]
          },
          "metadata": {},
          "execution_count": 61
        }
      ]
    },
    {
      "cell_type": "code",
      "source": [
        "class1_students | class2_students"
      ],
      "metadata": {
        "colab": {
          "base_uri": "https://localhost:8080/"
        },
        "id": "TU6wA-skTEd3",
        "outputId": "56827e25-2cb2-44b8-f287-e1119a05df23"
      },
      "execution_count": null,
      "outputs": [
        {
          "output_type": "execute_result",
          "data": {
            "text/plain": [
              "{'광수', '상철', '순자', '영수', '영식', '영철', '영호', '옥순', '정숙', '현숙'}"
            ]
          },
          "metadata": {},
          "execution_count": 62
        }
      ]
    },
    {
      "cell_type": "code",
      "source": [
        "# Difference\n",
        "class1_students.difference(class2_students)"
      ],
      "metadata": {
        "colab": {
          "base_uri": "https://localhost:8080/"
        },
        "id": "LYDFSejAAOPr",
        "outputId": "070322b7-57c0-4ede-f064-515476a96d15"
      },
      "execution_count": null,
      "outputs": [
        {
          "output_type": "execute_result",
          "data": {
            "text/plain": [
              "{'영철', '옥순'}"
            ]
          },
          "metadata": {},
          "execution_count": 63
        }
      ]
    },
    {
      "cell_type": "code",
      "source": [
        "class1_students - class2_students"
      ],
      "metadata": {
        "colab": {
          "base_uri": "https://localhost:8080/"
        },
        "id": "Yj9gwMXifG28",
        "outputId": "557d6775-93ac-4a14-e46d-910d30f861ce"
      },
      "execution_count": null,
      "outputs": [
        {
          "output_type": "execute_result",
          "data": {
            "text/plain": [
              "{'영철', '옥순'}"
            ]
          },
          "metadata": {},
          "execution_count": 64
        }
      ]
    },
    {
      "cell_type": "code",
      "source": [
        "class2_students.difference(class1_students)"
      ],
      "metadata": {
        "colab": {
          "base_uri": "https://localhost:8080/"
        },
        "id": "N_KKrvDQfDLs",
        "outputId": "983df207-548c-4af1-cab7-945aac4e1976"
      },
      "execution_count": null,
      "outputs": [
        {
          "output_type": "execute_result",
          "data": {
            "text/plain": [
              "{'영수', '영식', '영호', '현숙'}"
            ]
          },
          "metadata": {},
          "execution_count": 65
        }
      ]
    },
    {
      "cell_type": "code",
      "source": [
        "class2_students - class1_students"
      ],
      "metadata": {
        "colab": {
          "base_uri": "https://localhost:8080/"
        },
        "id": "fNpuGQwcfJSY",
        "outputId": "e19990db-7c70-4623-fd95-c0fc2a35d8df"
      },
      "execution_count": null,
      "outputs": [
        {
          "output_type": "execute_result",
          "data": {
            "text/plain": [
              "{'영수', '영식', '영호', '현숙'}"
            ]
          },
          "metadata": {},
          "execution_count": 66
        }
      ]
    },
    {
      "cell_type": "code",
      "source": [
        "# Symmetric difference\n",
        "class1_students.symmetric_difference(class2_students)"
      ],
      "metadata": {
        "colab": {
          "base_uri": "https://localhost:8080/"
        },
        "id": "sSzMOLUEfOhS",
        "outputId": "9198ca60-a9c2-4fea-8d5b-dea685bd90fd"
      },
      "execution_count": null,
      "outputs": [
        {
          "output_type": "execute_result",
          "data": {
            "text/plain": [
              "{'영수', '영식', '영철', '영호', '옥순', '현숙'}"
            ]
          },
          "metadata": {},
          "execution_count": 67
        }
      ]
    }
  ]
}