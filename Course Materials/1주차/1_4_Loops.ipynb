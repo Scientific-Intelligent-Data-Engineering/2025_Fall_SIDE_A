{
  "nbformat": 4,
  "nbformat_minor": 0,
  "metadata": {
    "colab": {
      "provenance": [],
      "toc_visible": true
    },
    "kernelspec": {
      "name": "python3",
      "display_name": "Python 3"
    },
    "language_info": {
      "name": "python"
    }
  },
  "cells": [
    {
      "cell_type": "markdown",
      "source": [
        "# while\n",
        "\n",
        "condition이 `True`면 계속 반복 됨\n",
        "\n",
        "**example**\n",
        "```python\n",
        "while condition:\n",
        "    pass\n",
        "```"
      ],
      "metadata": {
        "id": "w4bLuEMJIDxt"
      }
    },
    {
      "cell_type": "code",
      "execution_count": null,
      "metadata": {
        "id": "752vbYVEsuYl"
      },
      "outputs": [],
      "source": [
        "s = 0\n",
        "while s < 10:\n",
        "    s += 1\n",
        "    print('s: ',s)"
      ]
    },
    {
      "cell_type": "code",
      "source": [
        "step = 0\n",
        "total_step = 10\n",
        "is_train = True\n",
        "\n",
        "while is_train:\n",
        "    if step == total_step:\n",
        "        is_train = False\n",
        "\n",
        "    print(f'{step}/{total_step}')\n",
        "    step += 1"
      ],
      "metadata": {
        "id": "eVwQkjiPB4wS"
      },
      "execution_count": null,
      "outputs": []
    },
    {
      "cell_type": "markdown",
      "source": [
        "## break\n",
        "\n",
        "반복문 중간에 break가 있는 경우 반복문을 중단하고 빠져나옴"
      ],
      "metadata": {
        "id": "KACdd917IIJy"
      }
    },
    {
      "cell_type": "code",
      "source": [
        "s = 0\n",
        "stop_n = 5\n",
        "while True:\n",
        "    if s > stop_n:\n",
        "        break\n",
        "\n",
        "    print('s: ',s)\n",
        "    s += 1"
      ],
      "metadata": {
        "id": "4HQc7lwmVMCl"
      },
      "execution_count": null,
      "outputs": []
    },
    {
      "cell_type": "code",
      "source": [
        "step = 0\n",
        "total_step = 10\n",
        "is_train = True\n",
        "\n",
        "while is_train:\n",
        "    # break\n",
        "    if step == 5:\n",
        "        print('Stop!')\n",
        "        break\n",
        "\n",
        "    if step == total_step:\n",
        "        is_train = False\n",
        "\n",
        "    print(f'{step}/{total_step}')\n",
        "    step += 1"
      ],
      "metadata": {
        "id": "7IQrEQuNIK0Y"
      },
      "execution_count": null,
      "outputs": []
    },
    {
      "cell_type": "markdown",
      "source": [
        "## continue\n",
        "\n",
        "반복문 중간에 continue가 있는 경우 현재 반복하던 내용은 건너띄고 다음 반복으로 넘어감"
      ],
      "metadata": {
        "id": "Fjm_79Q3ILG4"
      }
    },
    {
      "cell_type": "code",
      "source": [
        "s = 0\n",
        "while s < 10:\n",
        "    s += 1\n",
        "\n",
        "    # continue\n",
        "    if s % 2 == 0:\n",
        "        continue\n",
        "\n",
        "    print('s: ',s)"
      ],
      "metadata": {
        "id": "29ExN2M2Je1R"
      },
      "execution_count": null,
      "outputs": []
    },
    {
      "cell_type": "markdown",
      "source": [
        "# for\n",
        "\n",
        "iterable 객체가 하나씩 반환되어 for문 안 내용을 실행\n",
        "\n",
        "**example**\n",
        "\n",
        "```python\n",
        "for i in iterable:\n",
        "    pass\n",
        "```"
      ],
      "metadata": {
        "id": "4n4cainEIGP7"
      }
    },
    {
      "cell_type": "code",
      "source": [
        "for i in range(10):\n",
        "    print(i)"
      ],
      "metadata": {
        "id": "qxaFkwgAIG9_",
        "colab": {
          "base_uri": "https://localhost:8080/"
        },
        "outputId": "e440e097-13c6-4ebf-8057-cc37969c6abc"
      },
      "execution_count": null,
      "outputs": [
        {
          "output_type": "stream",
          "name": "stdout",
          "text": [
            "0\n",
            "1\n",
            "2\n",
            "3\n",
            "4\n",
            "5\n",
            "6\n",
            "7\n",
            "8\n",
            "9\n"
          ]
        }
      ]
    },
    {
      "cell_type": "code",
      "source": [
        "for i in range(10):\n",
        "    print('*' * (i+1))"
      ],
      "metadata": {
        "id": "uVRnhAWMTq1j",
        "colab": {
          "base_uri": "https://localhost:8080/"
        },
        "outputId": "75ddf08f-ef39-48be-f23d-9c45d5a6033b"
      },
      "execution_count": null,
      "outputs": [
        {
          "output_type": "stream",
          "name": "stdout",
          "text": [
            "*\n",
            "**\n",
            "***\n",
            "****\n",
            "*****\n",
            "******\n",
            "*******\n",
            "********\n",
            "*********\n",
            "**********\n"
          ]
        }
      ]
    },
    {
      "cell_type": "code",
      "source": [
        "n = 10\n",
        "for i in range(n):\n",
        "    if i < (n//2):\n",
        "        print('*' * (i+1))\n",
        "    else:\n",
        "        print('*' * (n-i))\n"
      ],
      "metadata": {
        "id": "UEx57O9GUFOf",
        "colab": {
          "base_uri": "https://localhost:8080/"
        },
        "outputId": "a3891734-cce4-4318-d59c-0c54d4338e0a"
      },
      "execution_count": null,
      "outputs": [
        {
          "output_type": "stream",
          "name": "stdout",
          "text": [
            "*\n",
            "**\n",
            "***\n",
            "****\n",
            "*****\n",
            "*****\n",
            "****\n",
            "***\n",
            "**\n",
            "*\n"
          ]
        }
      ]
    },
    {
      "cell_type": "code",
      "source": [
        "even_odd = []\n",
        "for i in range(10):\n",
        "    if i % 2 == 0:\n",
        "        even_odd.append('even')\n",
        "    else:\n",
        "        even_odd.append('odd')\n",
        "\n",
        "print('even_odd: ',even_odd)"
      ],
      "metadata": {
        "id": "JcesMxdoUXnw",
        "colab": {
          "base_uri": "https://localhost:8080/"
        },
        "outputId": "c2183827-6083-4087-db50-a6d555e5f63b"
      },
      "execution_count": null,
      "outputs": [
        {
          "output_type": "stream",
          "name": "stdout",
          "text": [
            "even_odd:  ['even', 'odd', 'even', 'odd', 'even', 'odd', 'even', 'odd', 'even', 'odd']\n"
          ]
        }
      ]
    },
    {
      "cell_type": "markdown",
      "source": [
        "## Nested loops"
      ],
      "metadata": {
        "id": "hzci9APwMSnA"
      }
    },
    {
      "cell_type": "markdown",
      "source": [
        "$$\\sum_i^N \\sum_j^M x_iy_j$$"
      ],
      "metadata": {
        "id": "amqCOwahWBvv"
      }
    },
    {
      "cell_type": "code",
      "source": [
        "x = [1,2,3]\n",
        "y = [2,2,2]\n",
        "\n",
        "s = 0\n",
        "for x_i in x:\n",
        "    for y_j in y:\n",
        "        s += x_i*y_j\n",
        "\n",
        "print('s: ',s)"
      ],
      "metadata": {
        "id": "QrR1cIwIMQbX",
        "colab": {
          "base_uri": "https://localhost:8080/"
        },
        "outputId": "3a66d1df-31b7-428f-eef6-337e186fbbd1"
      },
      "execution_count": null,
      "outputs": [
        {
          "output_type": "stream",
          "name": "stdout",
          "text": [
            "s:  36\n"
          ]
        }
      ]
    },
    {
      "cell_type": "code",
      "source": [
        "kor_names = ['남도일','홍장미','유미란','유명한','브라운']\n",
        "jpn_names = ['쿠도 신이치','하이바라 아이','모리 란','모리 코고로','아가사 히로시']\n",
        "names = dict(zip(kor_names, jpn_names))\n",
        "\n",
        "names"
      ],
      "metadata": {
        "id": "HHujZ93jWdS9",
        "colab": {
          "base_uri": "https://localhost:8080/"
        },
        "outputId": "5c120c86-758b-4241-f7df-bcfa982cefc1"
      },
      "execution_count": null,
      "outputs": [
        {
          "output_type": "execute_result",
          "data": {
            "text/plain": [
              "{'남도일': '쿠도 신이치',\n",
              " '홍장미': '하이바라 아이',\n",
              " '유미란': '모리 란',\n",
              " '유명한': '모리 코고로',\n",
              " '브라운': '아가사 히로시'}"
            ]
          },
          "metadata": {},
          "execution_count": 6
        }
      ]
    },
    {
      "cell_type": "code",
      "source": [
        "for kor_name, jpn_name in names.items():\n",
        "    print(f'{kor_name}: {jpn_name}')"
      ],
      "metadata": {
        "id": "-yrhryj0Xq7i",
        "colab": {
          "base_uri": "https://localhost:8080/"
        },
        "outputId": "287ca604-0495-46cf-8938-4f43b4263896"
      },
      "execution_count": null,
      "outputs": [
        {
          "output_type": "stream",
          "name": "stdout",
          "text": [
            "남도일: 쿠도 신이치\n",
            "홍장미: 하이바라 아이\n",
            "유미란: 모리 란\n",
            "유명한: 모리 코고로\n",
            "브라운: 아가사 히로시\n"
          ]
        }
      ]
    },
    {
      "cell_type": "code",
      "source": [
        "find_names = ['남도일','브라운']\n",
        "\n",
        "for f_name in find_names:\n",
        "    print(f'{f_name}: {names[f_name]}')"
      ],
      "metadata": {
        "id": "WKX5eRtLYCT6",
        "colab": {
          "base_uri": "https://localhost:8080/"
        },
        "outputId": "8dfa510b-f4ee-41b1-cc9a-0177ed5cfd89"
      },
      "execution_count": null,
      "outputs": [
        {
          "output_type": "stream",
          "name": "stdout",
          "text": [
            "남도일: 쿠도 신이치\n",
            "브라운: 아가사 히로시\n"
          ]
        }
      ]
    },
    {
      "cell_type": "code",
      "source": [
        "for pair in zip([1,2,3], ['a','b','c']):\n",
        "    print(pair)"
      ],
      "metadata": {
        "id": "TQiQuc2uYSBe",
        "colab": {
          "base_uri": "https://localhost:8080/"
        },
        "outputId": "d80e1509-fa3b-4e71-ce28-cc0de0ee559c"
      },
      "execution_count": null,
      "outputs": [
        {
          "output_type": "stream",
          "name": "stdout",
          "text": [
            "(1, 'a')\n",
            "(2, 'b')\n",
            "(3, 'c')\n"
          ]
        }
      ]
    },
    {
      "cell_type": "code",
      "source": [
        "for n, s in zip([1,2,3], ['a','b','c']):\n",
        "    print(f'{n}, {s}')"
      ],
      "metadata": {
        "id": "EpFo-XXQYkH_",
        "colab": {
          "base_uri": "https://localhost:8080/"
        },
        "outputId": "9927875a-6ee6-4c0b-8641-51288a57bc0e"
      },
      "execution_count": null,
      "outputs": [
        {
          "output_type": "stream",
          "name": "stdout",
          "text": [
            "1, a\n",
            "2, b\n",
            "3, c\n"
          ]
        }
      ]
    },
    {
      "cell_type": "markdown",
      "source": [
        "## Iterators"
      ],
      "metadata": {
        "id": "ZaeO2vFmM6Y0"
      }
    },
    {
      "cell_type": "code",
      "source": [
        "alphabet = iter(['a','b','c','d'])\n",
        "\n",
        "print('next(alphabet): ',next(alphabet))\n",
        "print('next(alphabet): ',next(alphabet))\n",
        "print('next(alphabet): ',next(alphabet))\n",
        "print('next(alphabet): ',next(alphabet))\n",
        "print('next(alphabet): ',next(alphabet))"
      ],
      "metadata": {
        "id": "Rsb3lRTUM1-g",
        "colab": {
          "base_uri": "https://localhost:8080/",
          "height": 260
        },
        "outputId": "050635c1-abb1-4311-cbb4-e3c80884a579"
      },
      "execution_count": null,
      "outputs": [
        {
          "output_type": "stream",
          "name": "stdout",
          "text": [
            "next(alphabet):  a\n",
            "next(alphabet):  b\n",
            "next(alphabet):  c\n",
            "next(alphabet):  d\n"
          ]
        },
        {
          "output_type": "error",
          "ename": "StopIteration",
          "evalue": "",
          "traceback": [
            "\u001b[0;31m---------------------------------------------------------------------------\u001b[0m",
            "\u001b[0;31mStopIteration\u001b[0m                             Traceback (most recent call last)",
            "\u001b[0;32m/tmp/ipython-input-2005484663.py\u001b[0m in \u001b[0;36m<cell line: 0>\u001b[0;34m()\u001b[0m\n\u001b[1;32m      5\u001b[0m \u001b[0mprint\u001b[0m\u001b[0;34m(\u001b[0m\u001b[0;34m'next(alphabet): '\u001b[0m\u001b[0;34m,\u001b[0m\u001b[0mnext\u001b[0m\u001b[0;34m(\u001b[0m\u001b[0malphabet\u001b[0m\u001b[0;34m)\u001b[0m\u001b[0;34m)\u001b[0m\u001b[0;34m\u001b[0m\u001b[0;34m\u001b[0m\u001b[0m\n\u001b[1;32m      6\u001b[0m \u001b[0mprint\u001b[0m\u001b[0;34m(\u001b[0m\u001b[0;34m'next(alphabet): '\u001b[0m\u001b[0;34m,\u001b[0m\u001b[0mnext\u001b[0m\u001b[0;34m(\u001b[0m\u001b[0malphabet\u001b[0m\u001b[0;34m)\u001b[0m\u001b[0;34m)\u001b[0m\u001b[0;34m\u001b[0m\u001b[0;34m\u001b[0m\u001b[0m\n\u001b[0;32m----> 7\u001b[0;31m \u001b[0mprint\u001b[0m\u001b[0;34m(\u001b[0m\u001b[0;34m'next(alphabet): '\u001b[0m\u001b[0;34m,\u001b[0m\u001b[0mnext\u001b[0m\u001b[0;34m(\u001b[0m\u001b[0malphabet\u001b[0m\u001b[0;34m)\u001b[0m\u001b[0;34m)\u001b[0m\u001b[0;34m\u001b[0m\u001b[0;34m\u001b[0m\u001b[0m\n\u001b[0m",
            "\u001b[0;31mStopIteration\u001b[0m: "
          ]
        }
      ]
    },
    {
      "cell_type": "markdown",
      "source": [
        "## enumerate"
      ],
      "metadata": {
        "id": "ruZbP_kiLPXe"
      }
    },
    {
      "cell_type": "code",
      "source": [
        "alphabet = ['a','b','c','d','e']\n",
        "for i, s in enumerate(alphabet):\n",
        "    print(f'{i}: {s}')"
      ],
      "metadata": {
        "id": "GY7XBHT-LP2B",
        "colab": {
          "base_uri": "https://localhost:8080/"
        },
        "outputId": "8e91cf64-5867-41be-fda1-74f2275655ed"
      },
      "execution_count": null,
      "outputs": [
        {
          "output_type": "stream",
          "name": "stdout",
          "text": [
            "0: a\n",
            "1: b\n",
            "2: c\n",
            "3: d\n",
            "4: e\n"
          ]
        }
      ]
    },
    {
      "cell_type": "code",
      "source": [
        "kor_names = ['남도일','홍장미','유미란','유명한','브라운']\n",
        "jpn_names = ['쿠도 신이치','하이바라 아이','모리 란','모리 코고로','아가사 히로시']\n",
        "names = dict(zip(kor_names, jpn_names))\n",
        "\n",
        "for i, (kor_name, jpn_name) in enumerate(names.items()):\n",
        "    print(f'{i} - {kor_name}: {jpn_name}')"
      ],
      "metadata": {
        "id": "GZiGXwAlbmi7",
        "colab": {
          "base_uri": "https://localhost:8080/"
        },
        "outputId": "13179a75-7746-4b0d-cdc7-98f62e811c24"
      },
      "execution_count": null,
      "outputs": [
        {
          "output_type": "stream",
          "name": "stdout",
          "text": [
            "0 - 남도일: 쿠도 신이치\n",
            "1 - 홍장미: 하이바라 아이\n",
            "2 - 유미란: 모리 란\n",
            "3 - 유명한: 모리 코고로\n",
            "4 - 브라운: 아가사 히로시\n"
          ]
        }
      ]
    },
    {
      "cell_type": "markdown",
      "source": [
        "## List comprehension\n",
        "\n",
        "- 리스트를 반환하는 for 반복문을 한 줄에 작성하는 방식\n",
        "- 일반 for문과 동일하지만 최적화가 잘 되어있음"
      ],
      "metadata": {
        "id": "u5nnRosvLQkB"
      }
    },
    {
      "cell_type": "markdown",
      "source": [
        "**Example 1**\n",
        "\n",
        "```python\n",
        "square_values = []\n",
        "for i in range(10):\n",
        "    square_values.append(2 ** i)\n",
        "print('square_values: ',square_values)\n",
        "```"
      ],
      "metadata": {
        "id": "NmHtqbCfrNgp"
      }
    },
    {
      "cell_type": "code",
      "source": [
        "square_values = [2 ** i for i in range(10)]\n",
        "print('square_values: ',square_values)"
      ],
      "metadata": {
        "id": "-TjkHj68ca5M",
        "colab": {
          "base_uri": "https://localhost:8080/"
        },
        "outputId": "9daf19be-fbad-4228-f2f8-32b5eeec7bd8"
      },
      "execution_count": null,
      "outputs": [
        {
          "output_type": "stream",
          "name": "stdout",
          "text": [
            "square_values:  [1, 2, 4, 8, 16, 32, 64, 128, 256, 512]\n"
          ]
        }
      ]
    },
    {
      "cell_type": "markdown",
      "source": [
        "**Example 2**\n",
        "\n",
        "```python\n",
        "square_values = []\n",
        "for i in range(10):\n",
        "    if i % 2 == 0:\n",
        "        square_values.append(2 ** i)\n",
        "print('square_values: ',square_values)\n",
        "```"
      ],
      "metadata": {
        "id": "7if8ssAxRjAW"
      }
    },
    {
      "cell_type": "code",
      "source": [
        "square_values = [2 ** i for i in range(10) if i % 2 == 0]\n",
        "print('square_values: ',square_values)"
      ],
      "metadata": {
        "id": "mmSnqe6nRjDS",
        "colab": {
          "base_uri": "https://localhost:8080/"
        },
        "outputId": "007090aa-9c18-4dd5-82af-bcb92b66f13d"
      },
      "execution_count": null,
      "outputs": [
        {
          "output_type": "stream",
          "name": "stdout",
          "text": [
            "square_values:  [1, 4, 16, 64, 256]\n"
          ]
        }
      ]
    },
    {
      "cell_type": "markdown",
      "source": [
        "**Example 3**\n",
        "```python\n",
        "pair_list = []\n",
        "for i in range(3):\n",
        "    for j in range(2):\n",
        "        pair_list.append([i, j])\n",
        "print('pair_list: ',pair_list)\n",
        "```"
      ],
      "metadata": {
        "id": "c_38gSgKRjGV"
      }
    },
    {
      "cell_type": "code",
      "source": [
        "pair_list = [[i, j] for i in range(3) for j in range(2)]\n",
        "print('pair_list: ',pair_list)"
      ],
      "metadata": {
        "id": "AJbOozL1RjIx",
        "colab": {
          "base_uri": "https://localhost:8080/"
        },
        "outputId": "ab6036a5-9537-41d5-d376-bcf798e1816b"
      },
      "execution_count": null,
      "outputs": [
        {
          "output_type": "stream",
          "name": "stdout",
          "text": [
            "pair_list:  [[0, 0], [0, 1], [1, 0], [1, 1], [2, 0], [2, 1]]\n"
          ]
        }
      ]
    },
    {
      "cell_type": "markdown",
      "source": [
        "**Example 4**\n",
        "\n",
        "```python\n",
        "pair_in_list = []\n",
        "for i in range(2):\n",
        "    pair_list = []\n",
        "    for j in range(3):\n",
        "        pair_list.append([i, j])\n",
        "    pair_in_list.append(pair_list)\n",
        "print('pair_in_list: ',pair_in_list)\n",
        "```"
      ],
      "metadata": {
        "id": "j0_anr3hL6Ii"
      }
    },
    {
      "cell_type": "code",
      "source": [
        "pair_in_list = [[[i, j] for j in range(3)] for i in range(2)]\n",
        "print('pair_in_list: ',pair_in_list)"
      ],
      "metadata": {
        "id": "9sfO7WDDR3vR",
        "colab": {
          "base_uri": "https://localhost:8080/"
        },
        "outputId": "13ae7cdd-2bc4-416a-81dc-95c6ccbace9a"
      },
      "execution_count": null,
      "outputs": [
        {
          "output_type": "stream",
          "name": "stdout",
          "text": [
            "pair_in_list:  [[[0, 0], [0, 1], [0, 2]], [[1, 0], [1, 1], [1, 2]]]\n"
          ]
        }
      ]
    }
  ]
}