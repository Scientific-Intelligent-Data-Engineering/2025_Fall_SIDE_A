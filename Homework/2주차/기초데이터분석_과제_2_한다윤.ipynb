{
 "cells": [
  {
   "cell_type": "markdown",
   "metadata": {
    "id": "UP4WwsDP4A83"
   },
   "source": [
    "**제출 시 파일 제목에 `이름`을 수정하여 제출할 것!**\n",
    "\n",
    "# Assignment 2\n",
    "\n",
    "**범위**\n",
    "\n",
    "- 3.1 Function\n",
    "- 3.2 Class"
   ]
  },
  {
   "cell_type": "markdown",
   "metadata": {
    "id": "MXYufgxmEm2c"
   },
   "source": [
    "# Q1. 세 가지 입력을 가지는 함수(`add_values`)를 작성하시오. 단, 두 개의 파라미터는 기본값으로 각각 1과 2로 설정하시오.\n",
    "\n",
    "**Example**\n",
    "\n",
    "```python\n",
    "print(add_values(1,2,3))\n",
    ">> 6\n",
    "\n",
    "print(add_values(1))\n",
    ">> 4\n",
    "```"
   ]
  },
  {
   "cell_type": "code",
   "execution_count": 1,
   "metadata": {
    "id": "dQjq-6XoEmtG"
   },
   "outputs": [],
   "source": [
    "def add_values(a, b=1, c=2):\n",
    "    return a + b + c"
   ]
  },
  {
   "cell_type": "markdown",
   "metadata": {
    "id": "4xSqOmkUaLHR"
   },
   "source": [
    "# Q2. 정수 n을 입력 받아 n이 -2와 5 사이에 있는 값인지 확인하고, 해당 범위 내에 있는 경우 True, 아닌 경우 False를 출력하는 함수(`check_range`)를 작성하시오.\n",
    "\n",
    "**Example**\n",
    "\n",
    "```python\n",
    "print(check_range(n=3))\n",
    ">> True\n",
    "\n",
    "print(check_range(n=10))\n",
    ">> False\n",
    "\n",
    "```"
   ]
  },
  {
   "cell_type": "code",
   "execution_count": 2,
   "metadata": {
    "id": "-PbYkf6OFYHh"
   },
   "outputs": [],
   "source": [
    "def check_range(n):\n",
    "    return -2 < n < 5"
   ]
  },
  {
   "cell_type": "markdown",
   "metadata": {
    "id": "EVw3zB6HiFv3"
   },
   "source": [
    "# Q3. 리스트를 입력 받아 리스트 내부의 모든 값의 곱을 반환하는 함수(`product_values`)를 작성하시오.\n",
    "\n",
    "**Example**\n",
    "\n",
    "```python\n",
    "a = [1,2,3]\n",
    "v = product_values(a)\n",
    "\n",
    "print(v)\n",
    ">> 6\n",
    "```"
   ]
  },
  {
   "cell_type": "code",
   "execution_count": 3,
   "metadata": {
    "id": "0wyAhmdq_iTv"
   },
   "outputs": [],
   "source": [
    "def product_values(l):\n",
    "    pro = 1\n",
    "    \n",
    "    for n in l:\n",
    "        pro *= n\n",
    "\n",
    "    return pro"
   ]
  },
  {
   "cell_type": "markdown",
   "metadata": {
    "id": "T3s_FKyMa7iw"
   },
   "source": [
    "# Q4. 리스트를 입력 받아 입력 받은 리스트 중 짝수만 list 형으로 반환하는 함수(`get_even`)를 작성하시오.\n",
    "\n",
    "**Example**\n",
    "\n",
    "```python\n",
    "print(get_even([0,1,2,3,4]))\n",
    ">> [0,2,4]\n",
    "```"
   ]
  },
  {
   "cell_type": "code",
   "execution_count": 4,
   "metadata": {
    "id": "6alfZPpMbBma"
   },
   "outputs": [],
   "source": [
    "def get_even(l):\n",
    "    return [n for n in l if n % 2 == 0]"
   ]
  },
  {
   "cell_type": "markdown",
   "metadata": {
    "id": "wBs1Q66fRpET"
   },
   "source": [
    "# Q5. 두 수의 사칙연산을 표현하는 문자열을 입력 받아서 연산 결과를 반환하는 함수(`calc`)을 작성하시오.\n",
    "\n",
    "- 이때, 두 수는 모두 정수\n",
    "\n",
    "**Example**\n",
    "```python\n",
    "print(calc('1+2')) # 더하기\n",
    ">> 3\n",
    "\n",
    "print(calc('1-2')) # 빼기\n",
    ">> -1\n",
    "\n",
    "print(calc('2x3')) # 곱하기\n",
    ">> 6\n",
    "\n",
    "print(calc('3/2')) # 나누기\n",
    ">> 1.5\n",
    "\n",
    "```"
   ]
  },
  {
   "cell_type": "code",
   "execution_count": 5,
   "metadata": {
    "id": "pHXsvL66Rphb"
   },
   "outputs": [],
   "source": [
    "def calc(exp):\n",
    "    if '+' in exp:\n",
    "        x, y = map(int, exp.split('+'))\n",
    "        return x + y\n",
    "    elif '-' in exp:\n",
    "        x, y = map(int, exp.split('-'))\n",
    "        return x - y\n",
    "    elif 'x' in exp:\n",
    "        x, y = map(int, exp.split('x'))\n",
    "        return x * y\n",
    "    elif '/' in exp:\n",
    "        x, y = map(int, exp.split('/'))\n",
    "        return x / y"
   ]
  },
  {
   "cell_type": "markdown",
   "metadata": {
    "id": "0hLESWNUbCGF"
   },
   "source": [
    "# Q6. Hypen(-)으로 구분되어 있는 str을 입력 받아 각 단어를 오름차순으로 정렬하는 함수(`sort_str`)를 작성하시오.\n",
    "\n",
    "**Example**\n",
    "\n",
    "```python\n",
    "name = 'Data-Science-and-Business-Analytics'\n",
    "print(sort_str(name))\n",
    ">> ['Analytics', 'Business', 'Data', 'Science', 'and']\n",
    "\n",
    "```"
   ]
  },
  {
   "cell_type": "code",
   "execution_count": 6,
   "metadata": {
    "id": "4ymUegsSHoon"
   },
   "outputs": [],
   "source": [
    "def sort_str(s):\n",
    "    l = sorted(s.split('-'))\n",
    "    \n",
    "    return l"
   ]
  },
  {
   "cell_type": "markdown",
   "metadata": {
    "id": "dXJJN7EkiZFm"
   },
   "source": [
    "# Q7. str 타입을 입력 받아 숫자인 경우 정수와 실수를 판단하여 변환한 후 반환하는 함수(`convert_input`)를 작성하시오.\n",
    "\n",
    "**Example**\n",
    "\n",
    "```python\n",
    "a = 'text'\n",
    "print(convert_input(a))\n",
    ">> 'text'\n",
    "\n",
    "a = '223'\n",
    "print(convert_input(a))\n",
    ">> 223\n",
    "\n",
    "a = '223.1234'\n",
    "print(convert_input(a))\n",
    ">> 223.1234\n",
    "\n",
    "a = '0223'\n",
    "print(convert_input(a))\n",
    ">> '0223'\n",
    "```"
   ]
  },
  {
   "cell_type": "code",
   "execution_count": 7,
   "metadata": {
    "id": "4dPFVKaoin7T"
   },
   "outputs": [],
   "source": [
    "def convert_input(s):\n",
    "    if (s.isdigit() and s[0] != '0') or s == '0':\n",
    "        return int(s)\n",
    "    elif s[0] == '0':\n",
    "        return s\n",
    "    else:\n",
    "        for c in s:\n",
    "            if c not in list(map(str, range(10))) + ['.']:\n",
    "                return s\n",
    "\n",
    "        return float(s)"
   ]
  },
  {
   "cell_type": "markdown",
   "metadata": {
    "id": "vrmmLbfWD05G"
   },
   "source": [
    "# Q8. Iterable array를 입력으로 받아서 모든 원소를 더하는 함수(`all_add`)를 작성하시오.\n",
    "\n",
    "**Example**\n",
    "\n",
    "```python\n",
    "print(all_add(1,2))\n",
    ">> 3\n",
    "\n",
    "print(all_add(1,2,3,4))\n",
    ">> 10\n",
    "```"
   ]
  },
  {
   "cell_type": "code",
   "execution_count": 8,
   "metadata": {
    "id": "sT9SA77GDxYO"
   },
   "outputs": [],
   "source": [
    "def all_add(*args):\n",
    "    return sum(args)"
   ]
  },
  {
   "cell_type": "markdown",
   "metadata": {
    "id": "E9VEP7SoaWVl"
   },
   "source": [
    "# Q9. str 타입을 입력 받아 문자열 변수의 대문자 character 개수와 소문자 character 개수를 count하고 반환하는 함수(`count_upper_lower_char`)를 작성하시오.\n",
    "\n",
    "**Example**\n",
    "\n",
    "```python\n",
    "print(count_upper_lower_char('Data Science'))\n",
    ">> Uppercase: 2, Lowercase: 9\n",
    "```"
   ]
  },
  {
   "cell_type": "code",
   "execution_count": 9,
   "metadata": {
    "id": "K8ecawtDavck"
   },
   "outputs": [],
   "source": [
    "def count_upper_lower_char(s):\n",
    "    upper = sum(1 for c in s if c.isupper())\n",
    "    lower = sum(1 for c in s if c.islower())\n",
    "\n",
    "    return f'Uppercase: {upper}, Lowercase: {lower}'"
   ]
  },
  {
   "cell_type": "markdown",
   "metadata": {
    "id": "fWCH-Ci9awHY"
   },
   "source": [
    "# Q10. 리스트를 입력 받아 리스트에 속한 value들 중 unique한 value만 list 형으로 반환하는 함수(`get_unique`)를 작성하시오.\n",
    "\n",
    "**Example**\n",
    "\n",
    "```python\n",
    "print(get_unique(['A','A','B','C','D','D'])\n",
    ">> ['B','C']\n",
    "```"
   ]
  },
  {
   "cell_type": "code",
   "execution_count": 10,
   "metadata": {},
   "outputs": [],
   "source": [
    "from collections import Counter\n",
    "\n",
    "def get_unique(l):\n",
    "    counts = Counter(l)\n",
    "\n",
    "    return [k for k, v in counts.items() if v == 1]"
   ]
  },
  {
   "cell_type": "markdown",
   "metadata": {
    "id": "ahzx-PMPbcqo"
   },
   "source": [
    "# Q11. 아래 내용에 맞추어 사각형 넓이와 둘레를 구하는 class(`Rectangle`)을 작성하시오.\n",
    "\n",
    "\n",
    "- class 초기값 설정\n",
    "  - class 변수 `height`와 `width`을 위한 입력값을 받아올 수 있도록 파라미터 설정\n",
    "- 사각형의 넓이를 반환하기 위한 method(`calc_area`) 생성\n",
    "- 사각형의 둘레를 반환하기 위한 method(`calc_perimeter`) 생성\n",
    "\n",
    "**Example**\n",
    "\n",
    "```\n",
    "rec = Rectangle(height=3, width=5)\n",
    "print(rec.calc_area())\n",
    ">> 15\n",
    "\n",
    "print(rec.calc_perimeter())\n",
    ">> 16\n",
    "```"
   ]
  },
  {
   "cell_type": "code",
   "execution_count": 11,
   "metadata": {},
   "outputs": [],
   "source": [
    "class Rectangle:\n",
    "    def __init__(self, height, width):\n",
    "        self.height = height\n",
    "        self.width = width\n",
    "\n",
    "    def calc_area(self):\n",
    "        return self.height * self.width\n",
    "\n",
    "    def calc_perimeter(self):\n",
    "        return 2 * (self.height + self.width)"
   ]
  },
  {
   "cell_type": "markdown",
   "metadata": {
    "id": "SlIo-Hi2h5RJ"
   },
   "source": [
    "# Q12. 아래 내용에 맞추어 계좌 class(`BankAccount`)와 `BankAccount`를 상속받는 class(`SavingAccount`)를 작성하시오.\n",
    "\n",
    "**BankAccount**\n",
    "\n",
    "- class 변수 정의\n",
    "  1. 계좌 주인을 나타내는 class 변수(`owner`) 정의\n",
    "  2. 계좌 잔고를 나타내는 class 변수(`balance`) 정의\n",
    "  - 두 변수의 입력 값을 받아올 파라미터로 `owner`와 `initial_balance` 사용\n",
    "\n",
    "- 계좌 잔고에 금액을 입금하기 위한 method(`deposit`) 생성\n",
    "- 계좌 잔고에서 출금하기 위한 method(`withdraw`) 생성\n",
    "  - 만약 출금하고자 하는 금액이 계좌 잔고보다 많은 경우 \"잔액 부족\" 출력\n",
    "- 현재 계좌 잔고를 반환하는 method(`get_balance`) 생성\n",
    "\n",
    "\n",
    "**SavingAccount**\n",
    "\n",
    "- class 변수 정의\n",
    "  1. 이자율을 나타내는 class 변수(`interest_rate`) 정의\n",
    "  - 이자율의 입력 값을 받아올 파라미터로 `interest_rate` 사용\n",
    "\n",
    "- 현재 잔고에 이자율을 곱한 값을 잔액에 추가하는 method(`add_interest`) 생성\n",
    "\n",
    "\n",
    "**Example**\n",
    "\n",
    "```python\n",
    "account1 = BankAccount(\"이재옹\", 1000)\n",
    "account1.deposit(500)\n",
    "account1.withdraw(200)\n",
    "print(\"잔액:\", account1.get_balance())\n",
    ">> 잔액: 1300\n",
    "\n",
    "# SavingsAccount 클래스 사용 예시\n",
    "account2 = SavingsAccount(\"이제용\", 2000, 0.05)\n",
    "account2.add_interest()\n",
    "print(\"잔액:\", account2.get_balance())\n",
    ">> 잔액: 2100.0\n",
    "```\n"
   ]
  },
  {
   "cell_type": "code",
   "execution_count": 12,
   "metadata": {
    "id": "2JpPBN31j8IR"
   },
   "outputs": [],
   "source": [
    "class BankAccount:\n",
    "    def __init__(self, owner, initial_balance):\n",
    "        self.owner = owner\n",
    "        self.balance = initial_balance\n",
    "\n",
    "    def deposit(self, money):\n",
    "        self.balance += money\n",
    "\n",
    "    def withdraw(self, money):\n",
    "        if money <= self.balance:\n",
    "            self.balance -= money\n",
    "        else:\n",
    "            print('잔액 부족')\n",
    "\n",
    "    def get_balance(self):\n",
    "        return self.balance\n",
    "\n",
    "class SavingAccount(BankAccount):\n",
    "    def __init__(self, owner, initial_balance, interest_rate):\n",
    "        super().__init__(owner, initial_balance)\n",
    "        self.interest_rate = interest_rate\n",
    "\n",
    "    def add_interest(self):\n",
    "        self.balance += self.balance * self.interest_rate        "
   ]
  },
  {
   "cell_type": "markdown",
   "metadata": {
    "id": "zI7ffA7TRMLY"
   },
   "source": [
    "# Q13. 아래 내용에 맞추어 계산기 기능을 하는 class(`Calculator`)를 작성하시오.\n",
    "\n",
    "- class 변수 정의\n",
    "  1. 계산 결과를 나타내는 class 변수(`value`)를 초기값 0으로 지정\n",
    "  2. 계산 상태를 나타내는 class 변수(`stack`)를 초기값 False로 지정\n",
    "- class 변수(`value`)와 입력 숫자의 사칙연산을 반환하는 methods(`_add`, `_minus`, `_multiply`, `_divide`) 작성.\n",
    "  - 사칙연산 method는 하나의 수만 입력으로 받음\n",
    "- 두 수의 사칙연산을 표현하는 문자열을 계산하기 위한 method(`calc`) 생성\n",
    "  - 첫, 계산을 실행한 경우 class 변수(`stack`)을 True로 변경\n",
    "  - 누적해서 추가 계산을 하는 경우 연산기호와 숫자만 입력어야함.\n",
    "  - 만약, 이전 계산 결과가 있는 상태에서 두 수의 사칙연산을 표현하는 문자열로 입력하는 경우 'error' 메세지 출력.\n",
    "\n",
    "- 계산 결과를 초기화 하는 method(`clear`) 생성\n",
    "  - class 변수(`value`)를 0으로 재설정\n",
    "  - class 변수(`stack`)를 False로 재설정\n",
    "\n",
    "**Example**\n",
    "\n",
    "```python\n",
    "calculrator = Calculrator()\n",
    "calculrator.calc('2+3')\n",
    ">> '2 + 3 = 5'\n",
    "\n",
    "calculrator.calc('/5')\n",
    ">> '5 / 5 = 1'\n",
    "\n",
    "calculrator.clear()\n",
    "print(calculrator.value)\n",
    ">> 0\n",
    "```"
   ]
  },
  {
   "cell_type": "code",
   "execution_count": 13,
   "metadata": {
    "id": "hRQaxEZwcikd"
   },
   "outputs": [],
   "source": [
    "from copy import copy\n",
    "\n",
    "class Calculator:\n",
    "    def __init__(self):\n",
    "        self.value = 0\n",
    "        self.stack = False\n",
    "\n",
    "    def _add(self, x):\n",
    "        temp = copy(self.value)\n",
    "        self.value += x\n",
    "        return f'{temp} + {x} = {self.value}'\n",
    "\n",
    "    def _minus(self, x):\n",
    "        temp = copy(self.value)\n",
    "        self.value -= x\n",
    "        return f'{temp} - {x} = {self.value}'\n",
    "        \n",
    "    def _multiply(self, x):\n",
    "        temp = copy(self.value)\n",
    "        self.value *= x\n",
    "        return f'{temp} x {x} = {self.value}'\n",
    "        \n",
    "    def _divide(self, x):\n",
    "        temp = copy(self.value)\n",
    "        self.value /= x\n",
    "        return f'{temp} / {x} = {self.value}'\n",
    "\n",
    "    def calc(self, exp):\n",
    "        if self.stack:\n",
    "            opr = exp[0]\n",
    "            \n",
    "            if opr not in ['+', '-', 'x', '/']:\n",
    "                print('error')\n",
    "            else:\n",
    "                x = int(exp[1:])\n",
    "    \n",
    "                if opr == '+':\n",
    "                    return self._add(x)\n",
    "                elif opr == '-':\n",
    "                    return self._minus(x)\n",
    "                elif opr == 'x':\n",
    "                    return self._multiply(x)\n",
    "                elif opr == '/':\n",
    "                    return self._divide(x)\n",
    "                \n",
    "        else:\n",
    "            if '+' in exp:\n",
    "                x, y = map(int, exp.split('+'))\n",
    "                self.value = x\n",
    "                r = self._add(y)\n",
    "            elif '-' in exp:\n",
    "                x, y = map(int, exp.split('-'))\n",
    "                self.value = x\n",
    "                r = self._minus(y)\n",
    "            elif 'x' in exp:\n",
    "                x, y = map(int, exp.split('x'))\n",
    "                self.value = x\n",
    "                r = self._multiply(y)\n",
    "            elif '/' in exp:\n",
    "                x, y = map(int, exp.split('/'))\n",
    "                self.value = x\n",
    "                r = self._divide(y)\n",
    "                \n",
    "            self.stack = True\n",
    "\n",
    "            return r\n",
    "\n",
    "    def clear(self):\n",
    "        self.value = 0\n",
    "        self.stack = False"
   ]
  }
 ],
 "metadata": {
  "colab": {
   "provenance": [
    {
     "file_id": "1XLuE9jB0loPWedYefvFvUY4T6eAE7K-c",
     "timestamp": 1757923129140
    }
   ]
  },
  "kernelspec": {
   "display_name": "Python 3 (ipykernel)",
   "language": "python",
   "name": "python3"
  },
  "language_info": {
   "codemirror_mode": {
    "name": "ipython",
    "version": 3
   },
   "file_extension": ".py",
   "mimetype": "text/x-python",
   "name": "python",
   "nbconvert_exporter": "python",
   "pygments_lexer": "ipython3",
   "version": "3.11.7"
  }
 },
 "nbformat": 4,
 "nbformat_minor": 4
}
