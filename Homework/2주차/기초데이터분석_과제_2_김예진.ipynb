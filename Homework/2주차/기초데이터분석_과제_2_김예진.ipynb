{
  "nbformat": 4,
  "nbformat_minor": 0,
  "metadata": {
    "colab": {
      "provenance": []
    },
    "kernelspec": {
      "name": "python3",
      "display_name": "Python 3"
    },
    "language_info": {
      "name": "python"
    }
  },
  "cells": [
    {
      "cell_type": "markdown",
      "source": [
        "# Assignment 2\n",
        "\n",
        "**범위**\n",
        "\n",
        "- 3.1 Function\n",
        "- 3.2 Class"
      ],
      "metadata": {
        "id": "UP4WwsDP4A83"
      }
    },
    {
      "cell_type": "markdown",
      "source": [
        "# Q1. 세 가지 입력을 가지는 함수(`add_values`)를 작성하시오. 단, 두 개의 파라미터는 기본값으로 각각 1과 2로 설정하시오.\n",
        "\n",
        "**Example**\n",
        "\n",
        "```python\n",
        "print(add_values(1,2,3))\n",
        ">> 6\n",
        "\n",
        "print(add_values(1))\n",
        ">> 4\n",
        "```"
      ],
      "metadata": {
        "id": "MXYufgxmEm2c"
      }
    },
    {
      "cell_type": "code",
      "source": [
        "def add_values(a, b=1, c=2):\n",
        "    return a + b + c\n",
        "\n",
        "print(add_values(1, 2, 3))\n",
        "print(add_values(1))"
      ],
      "metadata": {
        "id": "dQjq-6XoEmtG",
        "colab": {
          "base_uri": "https://localhost:8080/"
        },
        "outputId": "84fd68f0-3a33-4671-a351-784452c5713b"
      },
      "execution_count": 1,
      "outputs": [
        {
          "output_type": "stream",
          "name": "stdout",
          "text": [
            "6\n",
            "4\n"
          ]
        }
      ]
    },
    {
      "cell_type": "markdown",
      "source": [
        "# Q2. 정수 n을 입력 받아 n이 -2와 5 사이에 있는 값인지 확인하고, 해당 범위 내에 있는 경우 True, 아닌 경우 False를 출력하는 함수(`check_range`)를 작성하시오.\n",
        "\n",
        "**Example**\n",
        "\n",
        "```python\n",
        "print(check_range(n=3))\n",
        ">> True\n",
        "\n",
        "print(check_range(n=10))\n",
        ">> False\n",
        "\n",
        "```"
      ],
      "metadata": {
        "id": "4xSqOmkUaLHR"
      }
    },
    {
      "cell_type": "code",
      "source": [
        "def check_range(n):\n",
        "    return -2 < n < 5\n",
        "\n",
        "print(check_range(n=3))\n",
        "print(check_range(n=10))"
      ],
      "metadata": {
        "id": "-PbYkf6OFYHh",
        "colab": {
          "base_uri": "https://localhost:8080/"
        },
        "outputId": "008c262f-1049-41d0-ed0a-63668fe2e169"
      },
      "execution_count": 2,
      "outputs": [
        {
          "output_type": "stream",
          "name": "stdout",
          "text": [
            "True\n",
            "False\n"
          ]
        }
      ]
    },
    {
      "cell_type": "markdown",
      "source": [
        "# Q3. 리스트를 입력 받아 리스트 내부의 모든 값의 곱을 반환하는 함수(`product_values`)를 작성하시오.\n",
        "\n",
        "**Example**\n",
        "\n",
        "```python\n",
        "a = [1,2,3]\n",
        "v = product_values(a)\n",
        "\n",
        "print(v)\n",
        ">> 6\n",
        "```"
      ],
      "metadata": {
        "id": "EVw3zB6HiFv3"
      }
    },
    {
      "cell_type": "code",
      "source": [
        "def product_values(l):\n",
        "    result = 1\n",
        "    for x in l:\n",
        "        result *= x\n",
        "    return result\n",
        "\n",
        "a = [1, 2, 3]\n",
        "v = product_values(a)\n",
        "print(v)"
      ],
      "metadata": {
        "id": "0wyAhmdq_iTv",
        "colab": {
          "base_uri": "https://localhost:8080/"
        },
        "outputId": "4386483d-b3bf-4ecd-eda2-fd4095d4b9b5"
      },
      "execution_count": 3,
      "outputs": [
        {
          "output_type": "stream",
          "name": "stdout",
          "text": [
            "6\n"
          ]
        }
      ]
    },
    {
      "cell_type": "markdown",
      "source": [
        "# Q4. 리스트를 입력 받아 입력 받은 리스트 중 짝수만 list 형으로 반환하는 함수(`get_even`)를 작성하시오.\n",
        "\n",
        "**Example**\n",
        "\n",
        "```python\n",
        "print(get_even([0,1,2,3,4]))\n",
        ">> [0,2,4]\n",
        "```"
      ],
      "metadata": {
        "id": "T3s_FKyMa7iw"
      }
    },
    {
      "cell_type": "code",
      "source": [
        "def get_even(l):\n",
        "    result = []\n",
        "    for x in l:\n",
        "        if x % 2 == 0:\n",
        "            result.append(x)\n",
        "    return result\n",
        "\n",
        "print(get_even([0, 1, 2, 3, 4]))"
      ],
      "metadata": {
        "id": "6alfZPpMbBma",
        "colab": {
          "base_uri": "https://localhost:8080/"
        },
        "outputId": "7c9da981-2cc3-404a-a7af-2f4e147f44c7"
      },
      "execution_count": 4,
      "outputs": [
        {
          "output_type": "stream",
          "name": "stdout",
          "text": [
            "[0, 2, 4]\n"
          ]
        }
      ]
    },
    {
      "cell_type": "markdown",
      "source": [
        "# Q5. 두 수의 사칙연산을 표현하는 문자열을 입력 받아서 연산 결과를 반환하는 함수(`calc`)을 작성하시오.\n",
        "\n",
        "- 이때, 두 수는 모두 정수\n",
        "\n",
        "**Example**\n",
        "```python\n",
        "print(calc('1+2')) # 더하기\n",
        ">> 3\n",
        "\n",
        "print(calc('1-2')) # 빼기\n",
        ">> -1\n",
        "\n",
        "print(calc('2x3')) # 곱하기\n",
        ">> 6\n",
        "\n",
        "print(calc('3/2')) # 나누기\n",
        ">> 1.5\n",
        "\n",
        "```"
      ],
      "metadata": {
        "id": "wBs1Q66fRpET"
      }
    },
    {
      "cell_type": "code",
      "source": [
        "def calc(s):\n",
        "\n",
        "    if '+' in s:\n",
        "        a, b = s.split('+')\n",
        "        return int(a) + int(b)\n",
        "    elif '-' in s:\n",
        "        a, b = s.split('-')\n",
        "        return int(a) - int(b)\n",
        "    elif 'x' in s:\n",
        "        a, b = s.split('x')\n",
        "        return int(a) * int(b)\n",
        "    elif '/' in s:\n",
        "        a, b = s.split('/')\n",
        "        return int(a) / int(b)\n",
        "\n",
        "print(calc('1+2'))\n",
        "print(calc('1-2'))\n",
        "print(calc('2x3'))\n",
        "print(calc('3/2'))"
      ],
      "metadata": {
        "id": "pHXsvL66Rphb",
        "colab": {
          "base_uri": "https://localhost:8080/"
        },
        "outputId": "ca6c9b60-8500-4d40-ca3e-ff5896ed7074"
      },
      "execution_count": 5,
      "outputs": [
        {
          "output_type": "stream",
          "name": "stdout",
          "text": [
            "3\n",
            "-1\n",
            "6\n",
            "1.5\n"
          ]
        }
      ]
    },
    {
      "cell_type": "markdown",
      "source": [
        "# Q6. Hypen(-)으로 구분되어 있는 str을 입력 받아 각 단어를 오름차순으로 정렬하는 함수(`sort_str`)를 작성하시오.\n",
        "\n",
        "**Example**\n",
        "\n",
        "```python\n",
        "name = 'Data-Science-and-Business-Analytics'\n",
        "print(sort_str(name))\n",
        ">> ['Analytics', 'Business', 'Data', 'Science', 'and']\n",
        "\n",
        "```"
      ],
      "metadata": {
        "id": "0hLESWNUbCGF"
      }
    },
    {
      "cell_type": "code",
      "source": [
        "def sort_str(s):\n",
        "    return sorted(s.split('-'))\n",
        "\n",
        "name = 'Data-Science-and-Business-Analytics'\n",
        "print(sort_str(name))"
      ],
      "metadata": {
        "id": "4ymUegsSHoon",
        "colab": {
          "base_uri": "https://localhost:8080/"
        },
        "outputId": "969fc70c-fd36-4805-a7f3-603a4f703992"
      },
      "execution_count": 6,
      "outputs": [
        {
          "output_type": "stream",
          "name": "stdout",
          "text": [
            "['Analytics', 'Business', 'Data', 'Science', 'and']\n"
          ]
        }
      ]
    },
    {
      "cell_type": "markdown",
      "source": [
        "# Q7. str 타입을 입력 받아 숫자인 경우 정수와 실수를 판단하여 변환한 후 반환하는 함수(`convert_input`)를 작성하시오.\n",
        "\n",
        "**Example**\n",
        "\n",
        "```python\n",
        "a = 'text'\n",
        "print(convert_input(a))\n",
        ">> 'text'\n",
        "\n",
        "a = '223'\n",
        "print(convert_input(a))\n",
        ">> 223\n",
        "\n",
        "a = '223.1234'\n",
        "print(convert_input(a))\n",
        ">> 223.1234\n",
        "\n",
        "a = '0223'\n",
        "print(convert_input(a))\n",
        ">> '0223'\n",
        "```"
      ],
      "metadata": {
        "id": "dXJJN7EkiZFm"
      }
    },
    {
      "cell_type": "code",
      "source": [
        "def convert_input(s):\n",
        "    if s.isdigit():\n",
        "        if s[0] == '0' and len(s) > 1:\n",
        "            return s\n",
        "        return int(s)\n",
        "    try:\n",
        "        return float(s)\n",
        "    except ValueError:\n",
        "        return s\n",
        "\n",
        "a = 'text'\n",
        "print(convert_input(a))\n",
        "\n",
        "a = '223'\n",
        "print(convert_input(a))\n",
        "\n",
        "a = '223.1234'\n",
        "print(convert_input(a))\n",
        "\n",
        "a = '0223'\n",
        "print(convert_input(a))"
      ],
      "metadata": {
        "id": "4dPFVKaoin7T",
        "colab": {
          "base_uri": "https://localhost:8080/"
        },
        "outputId": "3dd09e6c-c168-45f4-e7be-434683eb9ec8"
      },
      "execution_count": 7,
      "outputs": [
        {
          "output_type": "stream",
          "name": "stdout",
          "text": [
            "text\n",
            "223\n",
            "223.1234\n",
            "0223\n"
          ]
        }
      ]
    },
    {
      "cell_type": "markdown",
      "source": [
        "# Q8. Iterable array를 입력으로 받아서 모든 원소를 더하는 함수(`all_add`)를 작성하시오.\n",
        "\n",
        "**Example**\n",
        "\n",
        "```python\n",
        "print(all_add(1,2))\n",
        ">> 3\n",
        "\n",
        "print(all_add(1,2,3,4))\n",
        ">> 10\n",
        "```"
      ],
      "metadata": {
        "id": "vrmmLbfWD05G"
      }
    },
    {
      "cell_type": "code",
      "source": [
        "def all_add(*args):\n",
        "    result = 0\n",
        "    for x in args:\n",
        "        result += x\n",
        "    return result\n",
        "\n",
        "print(all_add(1, 2))\n",
        "print(all_add(1, 2, 3, 4))"
      ],
      "metadata": {
        "id": "sT9SA77GDxYO",
        "colab": {
          "base_uri": "https://localhost:8080/"
        },
        "outputId": "a83833bb-f48a-4552-90c1-9cae9363b8b4"
      },
      "execution_count": 8,
      "outputs": [
        {
          "output_type": "stream",
          "name": "stdout",
          "text": [
            "3\n",
            "10\n"
          ]
        }
      ]
    },
    {
      "cell_type": "markdown",
      "source": [
        "# Q9. str 타입을 입력 받아 문자열 변수의 대문자 character 개수와 소문자 character 개수를 count하고 반환하는 함수(`count_upper_lower_char`)를 작성하시오.\n",
        "\n",
        "**Example**\n",
        "\n",
        "```python\n",
        "print(count_upper_lower_char('Data Science'))\n",
        ">> Uppercase: 2, Lowercase: 9\n",
        "```"
      ],
      "metadata": {
        "id": "E9VEP7SoaWVl"
      }
    },
    {
      "cell_type": "code",
      "source": [
        "def count_upper_lower_char(s):\n",
        "    upper = 0\n",
        "    lower = 0\n",
        "    for ch in s:\n",
        "        if ch.isupper():\n",
        "            upper += 1\n",
        "        elif ch.islower():\n",
        "            lower += 1\n",
        "    return f\"Uppercase: {upper}, Lowercase: {lower}\"\n",
        "\n",
        "print(count_upper_lower_char('Data Science'))"
      ],
      "metadata": {
        "id": "K8ecawtDavck",
        "colab": {
          "base_uri": "https://localhost:8080/"
        },
        "outputId": "d8657e93-af1d-428b-8caa-8552d96e978a"
      },
      "execution_count": 9,
      "outputs": [
        {
          "output_type": "stream",
          "name": "stdout",
          "text": [
            "Uppercase: 2, Lowercase: 9\n"
          ]
        }
      ]
    },
    {
      "cell_type": "markdown",
      "source": [
        "# Q10. 리스트를 입력 받아 리스트에 속한 value들 중 unique한 value만 list 형으로 반환하는 함수(`get_unique`)를 작성하시오.\n",
        "\n",
        "**Example**\n",
        "\n",
        "```python\n",
        "print(get_unique(['A','A','B','C','D','D'])\n",
        ">> ['B','C']\n",
        "```"
      ],
      "metadata": {
        "id": "fWCH-Ci9awHY"
      }
    },
    {
      "cell_type": "code",
      "source": [
        "def get_unique(l):\n",
        "    result = []\n",
        "    for x in l:\n",
        "        if l.count(x) == 1:\n",
        "            result.append(x)\n",
        "    return result\n",
        "\n",
        "print(get_unique(['A','A','B','C','D','D']))"
      ],
      "metadata": {
        "id": "Ky_udf_2yT6J",
        "colab": {
          "base_uri": "https://localhost:8080/"
        },
        "outputId": "42cd6691-e5d6-4a2e-b9f8-1fa5c77ef33f"
      },
      "execution_count": 10,
      "outputs": [
        {
          "output_type": "stream",
          "name": "stdout",
          "text": [
            "['B', 'C']\n"
          ]
        }
      ]
    },
    {
      "cell_type": "markdown",
      "source": [
        "# Q11. 아래 내용에 맞추어 사각형 넓이와 둘레를 구하는 class(`Rectangle`)을 작성하시오.\n",
        "\n",
        "\n",
        "- class 초기값 설정\n",
        "  - class 변수 `height`와 `width`을 위한 입력값을 받아올 수 있도록 파라미터 설정\n",
        "- 사각형의 넓이를 반환하기 위한 method(`calc_area`) 생성\n",
        "- 사각형의 둘레를 반환하기 위한 method(`calc_perimeter`) 생성\n",
        "\n",
        "**Example**\n",
        "\n",
        "```\n",
        "rec = Rectangle(height=3, width=5)\n",
        "print(rec.calc_area())\n",
        ">> 15\n",
        "\n",
        "print(rec.calc_perimeter())\n",
        ">> 16\n",
        "```"
      ],
      "metadata": {
        "id": "ahzx-PMPbcqo"
      }
    },
    {
      "cell_type": "code",
      "source": [
        "class Rectangle:\n",
        "    def __init__(self, height, width):\n",
        "        self.height = height\n",
        "        self.width = width\n",
        "\n",
        "    def calc_area(self):\n",
        "        return self.height * self.width\n",
        "\n",
        "    def calc_perimeter(self):\n",
        "        return 2 * (self.height + self.width)\n",
        "\n",
        "rec = Rectangle(height=3, width=5)\n",
        "print(rec.calc_area())\n",
        "print(rec.calc_perimeter())"
      ],
      "metadata": {
        "id": "9xjBVV0ka6WD",
        "colab": {
          "base_uri": "https://localhost:8080/"
        },
        "outputId": "97286223-d972-4923-aab7-eec00e35eb87"
      },
      "execution_count": 11,
      "outputs": [
        {
          "output_type": "stream",
          "name": "stdout",
          "text": [
            "15\n",
            "16\n"
          ]
        }
      ]
    },
    {
      "cell_type": "markdown",
      "source": [
        "# Q12. 아래 내용에 맞추어 계좌 class(`BankAccount`)와 `BankAccount`를 상속받는 class(`SavingAccount`)를 작성하시오.\n",
        "\n",
        "**BankAccount**\n",
        "\n",
        "- class 변수 정의\n",
        "  1. 계좌 주인을 나타내는 class 변수(`owner`) 정의\n",
        "  2. 계좌 잔고를 나타내는 class 변수(`balance`) 정의\n",
        "  - 두 변수의 입력 값을 받아올 파라미터로 `owner`와 `initial_balance` 사용\n",
        "\n",
        "- 계좌 잔고에 금액을 입금하기 위한 method(`deposit`) 생성\n",
        "- 계좌 잔고에서 출금하기 위한 method(`withdraw`) 생성\n",
        "  - 만약 출금하고자 하는 금액이 계좌 잔고보다 많은 경우 \"잔액 부족\" 출력\n",
        "- 현재 계좌 잔고를 반환하는 method(`get_balance`) 생성\n",
        "\n",
        "\n",
        "**SavingAccount**\n",
        "\n",
        "- class 변수 정의\n",
        "  1. 이자율을 나타내는 class 변수(`interest_rate`) 정의\n",
        "  - 이자율의 입력 값을 받아올 파라미터로 `interest_rate` 사용\n",
        "\n",
        "- 현재 잔고에 이자율을 곱한 값을 잔액에 추가하는 method(`add_interest`) 생성\n",
        "\n",
        "\n",
        "**Example**\n",
        "\n",
        "```python\n",
        "account1 = BankAccount(\"이재옹\", 1000)\n",
        "account1.deposit(500)\n",
        "account1.withdraw(200)\n",
        "print(\"잔액:\", account1.get_balance())\n",
        ">> 잔액: 1300\n",
        "\n",
        "# SavingsAccount 클래스 사용 예시\n",
        "account2 = SavingsAccount(\"이제용\", 2000, 0.05)\n",
        "account2.add_interest()\n",
        "print(\"잔액:\", account2.get_balance())\n",
        ">> 잔액: 2100.0\n",
        "```\n"
      ],
      "metadata": {
        "id": "SlIo-Hi2h5RJ"
      }
    },
    {
      "cell_type": "code",
      "source": [
        "class BankAccount:\n",
        "    def __init__(self, owner, initial_balance):\n",
        "        self.owner = owner\n",
        "        self.balance = initial_balance\n",
        "\n",
        "    def deposit(self, amount):\n",
        "        self.balance += amount\n",
        "\n",
        "    def withdraw(self, amount):\n",
        "        if amount > self.balance:\n",
        "            print(\"잔액 부족\")\n",
        "        else:\n",
        "            self.balance -= amount\n",
        "\n",
        "    def get_balance(self):\n",
        "        return self.balance\n",
        "\n",
        "class SavingsAccount(BankAccount):\n",
        "    def __init__(self, owner, initial_balance, interest_rate):\n",
        "        super().__init__(owner, initial_balance)\n",
        "        self.interest_rate = interest_rate\n",
        "\n",
        "    def add_interest(self):\n",
        "        self.balance += self.balance * self.interest_rate\n",
        "\n",
        "\n",
        "account1 = BankAccount(\"이재옹\", 1000)\n",
        "account1.deposit(500)\n",
        "account1.withdraw(200)\n",
        "print(\"잔액:\", account1.get_balance())\n",
        "\n",
        "account2 = SavingsAccount(\"이제용\", 2000, 0.05)\n",
        "account2.add_interest()\n",
        "print(\"잔액:\", account2.get_balance())"
      ],
      "metadata": {
        "id": "2JpPBN31j8IR",
        "colab": {
          "base_uri": "https://localhost:8080/"
        },
        "outputId": "d9441af4-2a76-42df-99db-a04c1c8886d2"
      },
      "execution_count": 12,
      "outputs": [
        {
          "output_type": "stream",
          "name": "stdout",
          "text": [
            "잔액: 1300\n",
            "잔액: 2100.0\n"
          ]
        }
      ]
    },
    {
      "cell_type": "markdown",
      "source": [
        "# Q13. 아래 내용에 맞추어 계산기 기능을 하는 class(`Calculator`)를 작성하시오.\n",
        "\n",
        "- class 변수 정의\n",
        "  1. 계산 결과를 나타내는 class 변수(`value`)를 초기값 0으로 지정\n",
        "  2. 계산 상태를 나타내는 class 변수(`stack`)를 초기값 False로 지정\n",
        "- class 변수(`value`)와 입력 숫자의 사칙연산을 반환하는 methods(`_add`, `_minus`, `_multiply`, `_divide`) 작성.\n",
        "  - 사칙연산 method는 하나의 수만 입력으로 받음\n",
        "- 두 수의 사칙연산을 표현하는 문자열을 계산하기 위한 method(`calc`) 생성\n",
        "  - 첫, 계산을 실행한 경우 class 변수(`stack`)을 True로 변경\n",
        "  - 누적해서 추가 계산을 하는 경우 연산기호와 숫자만 입력어야함.\n",
        "  - 만약, 이전 계산 결과가 있는 상태에서 두 수의 사칙연산을 표현하는 문자열로 입력하는 경우 'error' 메세지 출력.\n",
        "\n",
        "- 계산 결과를 초기화 하는 method(`clear`) 생성\n",
        "  - class 변수(`value`)를 0으로 재설정\n",
        "  - class 변수(`stack`)를 False로 재설정\n",
        "\n",
        "**Example**\n",
        "\n",
        "```python\n",
        "calculrator = Calculrator()\n",
        "calculrator.calc('2+3')\n",
        ">> '2 + 3 = 5'\n",
        "\n",
        "calculrator.calc('/5')\n",
        ">> '5 / 5 = 1'\n",
        "\n",
        "calculrator.clear()\n",
        "print(calculrator.value)\n",
        ">> 0\n",
        "```"
      ],
      "metadata": {
        "id": "zI7ffA7TRMLY"
      }
    },
    {
      "cell_type": "code",
      "source": [
        "class Calculator:\n",
        "    def __init__(self):\n",
        "        self.value = 0\n",
        "        self.stack = False\n",
        "\n",
        "    def calc(self, expr):\n",
        "        if not self.stack:\n",
        "            for op in ['+', '-', 'x', '/']:\n",
        "                if op in expr:\n",
        "                    a, b = expr.split(op)\n",
        "                    a, b = int(a), int(b)\n",
        "                    if op == '+': self.value = a + b\n",
        "                    elif op == '-': self.value = a - b\n",
        "                    elif op == 'x': self.value = a * b\n",
        "                    elif op == '/': self.value = a / b\n",
        "                    self.stack = True\n",
        "                    return f\"{a} {op} {b} = {self.value}\"\n",
        "        else:\n",
        "            op, num = expr[0], int(expr[1:])\n",
        "            if len(expr) == 1: return \"error\"\n",
        "            old = self.value\n",
        "            if op == '+': self.value += num\n",
        "            elif op == '-': self.value -= num\n",
        "            elif op == 'x': self.value *= num\n",
        "            elif op == '/': self.value /= num\n",
        "            else: return \"error\"\n",
        "            return f\"{old} {op} {num} = {self.value}\"\n",
        "\n",
        "    def clear(self):\n",
        "        self.value, self.stack = 0, False\n",
        "\n",
        "calculator = Calculator()\n",
        "calculator.calc('2+3')"
      ],
      "metadata": {
        "id": "hRQaxEZwcikd",
        "colab": {
          "base_uri": "https://localhost:8080/",
          "height": 35
        },
        "outputId": "869879b1-b293-407e-f2b2-e5b799141777"
      },
      "execution_count": 16,
      "outputs": [
        {
          "output_type": "execute_result",
          "data": {
            "text/plain": [
              "'2 + 3 = 5'"
            ],
            "application/vnd.google.colaboratory.intrinsic+json": {
              "type": "string"
            }
          },
          "metadata": {},
          "execution_count": 16
        }
      ]
    },
    {
      "cell_type": "code",
      "source": [
        "calculator.calc('/5')"
      ],
      "metadata": {
        "colab": {
          "base_uri": "https://localhost:8080/",
          "height": 35
        },
        "id": "Zc3kbjwP6umP",
        "outputId": "793c82e0-dfb7-4fdf-c8fd-5ce67d7599c8"
      },
      "execution_count": 17,
      "outputs": [
        {
          "output_type": "execute_result",
          "data": {
            "text/plain": [
              "'5 / 5 = 1.0'"
            ],
            "application/vnd.google.colaboratory.intrinsic+json": {
              "type": "string"
            }
          },
          "metadata": {},
          "execution_count": 17
        }
      ]
    },
    {
      "cell_type": "code",
      "source": [
        "calculator.clear()\n",
        "print(calculator.value)"
      ],
      "metadata": {
        "colab": {
          "base_uri": "https://localhost:8080/"
        },
        "id": "9XjcbYxB6u-3",
        "outputId": "e934df5e-cab9-484a-ce3c-2a39ab88e274"
      },
      "execution_count": 18,
      "outputs": [
        {
          "output_type": "stream",
          "name": "stdout",
          "text": [
            "0\n"
          ]
        }
      ]
    }
  ]
}