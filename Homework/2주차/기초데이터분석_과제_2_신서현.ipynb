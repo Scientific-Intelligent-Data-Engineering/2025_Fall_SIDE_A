{
  "nbformat": 4,
  "nbformat_minor": 0,
  "metadata": {
    "colab": {
      "provenance": []
    },
    "kernelspec": {
      "name": "python3",
      "display_name": "Python 3"
    },
    "language_info": {
      "name": "python"
    }
  },
  "cells": [
    {
      "cell_type": "markdown",
      "source": [
        "**제출 시 파일 제목에 `이름`을 수정하여 제출할 것!**\n",
        "\n",
        "# Assignment 2\n",
        "\n",
        "**범위**\n",
        "\n",
        "- 3.1 Function\n",
        "- 3.2 Class"
      ],
      "metadata": {
        "id": "UP4WwsDP4A83"
      }
    },
    {
      "cell_type": "markdown",
      "source": [
        "# Q1. 세 가지 입력을 가지는 함수(`add_values`)를 작성하시오. 단, 두 개의 파라미터는 기본값으로 각각 1과 2로 설정하시오.\n",
        "\n",
        "**Example**\n",
        "\n",
        "```python\n",
        "print(add_values(1,2,3))\n",
        ">> 6\n",
        "\n",
        "print(add_values(1))\n",
        ">> 4\n",
        "```"
      ],
      "metadata": {
        "id": "MXYufgxmEm2c"
      }
    },
    {
      "cell_type": "code",
      "source": [
        "def add_values(a, b=1, c=2): #default값 지정된 파라미터를 뒤로 보내기\n",
        "  return a+b+c\n",
        "\n",
        "print(add_values(1,2,3))\n",
        "print(add_values(3))"
      ],
      "metadata": {
        "id": "dQjq-6XoEmtG",
        "colab": {
          "base_uri": "https://localhost:8080/"
        },
        "outputId": "4510da09-9a35-4b84-df15-81233907c3ff"
      },
      "execution_count": null,
      "outputs": [
        {
          "output_type": "stream",
          "name": "stdout",
          "text": [
            "6\n",
            "6\n"
          ]
        }
      ]
    },
    {
      "cell_type": "markdown",
      "source": [
        "# Q2. 정수 n을 입력 받아 n이 -2와 5 사이에 있는 값인지 확인하고, 해당 범위 내에 있는 경우 True, 아닌 경우 False를 출력하는 함수(`check_range`)를 작성하시오.\n",
        "\n",
        "**Example**\n",
        "\n",
        "```python\n",
        "print(check_range(n=3))\n",
        ">> True\n",
        "\n",
        "print(check_range(n=10))\n",
        ">> False\n",
        "\n",
        "```"
      ],
      "metadata": {
        "id": "4xSqOmkUaLHR"
      }
    },
    {
      "cell_type": "code",
      "source": [
        "def check_range(n):\n",
        "  return -2<n<5\n",
        "\n",
        "print(check_range(n=4))"
      ],
      "metadata": {
        "id": "-PbYkf6OFYHh",
        "colab": {
          "base_uri": "https://localhost:8080/"
        },
        "outputId": "4f894c7d-a667-4598-d3e8-c4e8c7f41d94"
      },
      "execution_count": null,
      "outputs": [
        {
          "output_type": "stream",
          "name": "stdout",
          "text": [
            "True\n"
          ]
        }
      ]
    },
    {
      "cell_type": "markdown",
      "source": [
        "# Q3. 리스트를 입력 받아 리스트 내부의 모든 값의 곱을 반환하는 함수(`product_values`)를 작성하시오.\n",
        "\n",
        "**Example**\n",
        "\n",
        "```python\n",
        "a = [1,2,3]\n",
        "v = product_values(a)\n",
        "\n",
        "print(v)\n",
        ">> 6\n",
        "```"
      ],
      "metadata": {
        "id": "EVw3zB6HiFv3"
      }
    },
    {
      "cell_type": "code",
      "source": [
        "def product_values(input_list):\n",
        "  total=1\n",
        "  for number in input_list: #입력받은 리스트 내부의 값을 1에 하나씩 곱하기\n",
        "    total*=number\n",
        "  return total\n",
        "\n",
        "a = [1,2,3]\n",
        "v = product_values(a)\n",
        "\n",
        "print(v)"
      ],
      "metadata": {
        "id": "0wyAhmdq_iTv",
        "colab": {
          "base_uri": "https://localhost:8080/"
        },
        "outputId": "a36f7c44-f786-4dfa-e52b-3bcd1559e3cd"
      },
      "execution_count": null,
      "outputs": [
        {
          "output_type": "stream",
          "name": "stdout",
          "text": [
            "6\n"
          ]
        }
      ]
    },
    {
      "cell_type": "markdown",
      "source": [
        "# Q4. 리스트를 입력 받아 입력 받은 리스트 중 짝수만 list 형으로 반환하는 함수(`get_even`)를 작성하시오.\n",
        "\n",
        "**Example**\n",
        "\n",
        "```python\n",
        "print(get_even([0,1,2,3,4]))\n",
        ">> [0,2,4]\n",
        "```"
      ],
      "metadata": {
        "id": "T3s_FKyMa7iw"
      }
    },
    {
      "cell_type": "code",
      "source": [
        "def get_even(input_list):\n",
        "\n",
        "  even_num=[] #짝수를 담을 빈 리스트\n",
        "\n",
        "  for number in input_list:\n",
        "    if number%2 == 0:\n",
        "      even_num.append(number) #짝수인게 확인 된 후 빈 리스트에 추가\n",
        "  return even_num\n",
        "\n",
        "print(get_even([0,1,2,3,4]))"
      ],
      "metadata": {
        "id": "6alfZPpMbBma",
        "colab": {
          "base_uri": "https://localhost:8080/"
        },
        "outputId": "bd73d77d-a754-4582-ffd9-1349ea760779"
      },
      "execution_count": null,
      "outputs": [
        {
          "output_type": "stream",
          "name": "stdout",
          "text": [
            "[0, 2, 4]\n"
          ]
        }
      ]
    },
    {
      "cell_type": "markdown",
      "source": [
        "# Q5. 두 수의 사칙연산을 표현하는 문자열을 입력 받아서 연산 결과를 반환하는 함수(`calc`)을 작성하시오.\n",
        "\n",
        "- 이때, 두 수는 모두 정수\n",
        "\n",
        "**Example**\n",
        "```python\n",
        "print(calc('1+2')) # 더하기\n",
        ">> 3\n",
        "\n",
        "print(calc('1-2')) # 빼기\n",
        ">> -1\n",
        "\n",
        "print(calc('2x3')) # 곱하기\n",
        ">> 6\n",
        "\n",
        "print(calc('3/2')) # 나누기\n",
        ">> 1.5\n",
        "\n",
        "```"
      ],
      "metadata": {
        "id": "wBs1Q66fRpET"
      }
    },
    {
      "cell_type": "code",
      "source": [
        "def calc(expression): #연산기호를 기준으로 분리\n",
        "  if '+' in expression:\n",
        "    a,b = expression.split('+')\n",
        "    return int(a)+int(b)\n",
        "  elif '-' in expression:\n",
        "    a,b = expression.split('-')\n",
        "    return int(a)-int(b)\n",
        "  elif 'x' in expression:\n",
        "    a,b = expression.split('x')\n",
        "    return int(a)*int(b)\n",
        "  elif '/' in expression:\n",
        "    a,b = expression.split('/')\n",
        "    return int(a)/int(b)\n",
        "\n",
        "print(calc('2x3'))"
      ],
      "metadata": {
        "id": "pHXsvL66Rphb",
        "colab": {
          "base_uri": "https://localhost:8080/"
        },
        "outputId": "ebdd837d-5943-48cf-a698-955f22fabac9"
      },
      "execution_count": null,
      "outputs": [
        {
          "output_type": "stream",
          "name": "stdout",
          "text": [
            "6\n"
          ]
        }
      ]
    },
    {
      "cell_type": "markdown",
      "source": [
        "# Q6. Hypen(-)으로 구분되어 있는 str을 입력 받아 각 단어를 오름차순으로 정렬하는 함수(`sort_str`)를 작성하시오.\n",
        "\n",
        "**Example**\n",
        "\n",
        "```python\n",
        "name = 'Data-Science-and-Business-Analytics'\n",
        "print(sort_str(name))\n",
        ">> ['Analytics', 'Business', 'Data', 'Science', 'and']\n",
        "\n",
        "```"
      ],
      "metadata": {
        "id": "0hLESWNUbCGF"
      }
    },
    {
      "cell_type": "code",
      "source": [
        "def sort_str(input_str):\n",
        "  word = input_str.split('-')\n",
        "  word.sort() #정렬\n",
        "  return word\n",
        "name = 'Data-Science-and-Business-Analytics'\n",
        "print(sort_str(name))"
      ],
      "metadata": {
        "colab": {
          "base_uri": "https://localhost:8080/"
        },
        "id": "EMT7L6aUgBEX",
        "outputId": "23095c38-9eb8-4c26-83c4-968054930ea0"
      },
      "execution_count": null,
      "outputs": [
        {
          "output_type": "stream",
          "name": "stdout",
          "text": [
            "['Analytics', 'Business', 'Data', 'Science', 'and']\n"
          ]
        }
      ]
    },
    {
      "cell_type": "markdown",
      "source": [
        "# Q7. str 타입을 입력 받아 숫자인 경우 정수와 실수를 판단하여 변환한 후 반환하는 함수(`convert_input`)를 작성하시오.\n",
        "\n",
        "**Example**\n",
        "\n",
        "```python\n",
        "a = 'text'\n",
        "print(convert_input(a))\n",
        ">> 'text'\n",
        "\n",
        "a = '223'\n",
        "print(convert_input(a))\n",
        ">> 223\n",
        "\n",
        "a = '223.1234'\n",
        "print(convert_input(a))\n",
        ">> 223.1234\n",
        "\n",
        "a = '0223'\n",
        "print(convert_input(a))\n",
        ">> '0223'\n",
        "```"
      ],
      "metadata": {
        "id": "dXJJN7EkiZFm"
      }
    },
    {
      "cell_type": "code",
      "source": [],
      "metadata": {
        "id": "Tq1RaRugCfri"
      },
      "execution_count": null,
      "outputs": []
    },
    {
      "cell_type": "code",
      "source": [
        "def convert_input(input_str):\n",
        "\n",
        "    # 1. 정수형 문자열인지 확인\n",
        "    if input_str.isdigit():\n",
        "        # '0223'과 같이 0으로 시작하는 두 자리 이상의 정수인지 검사\n",
        "        if len(input_str) > 1 and input_str[0] == '0':\n",
        "            return f\"'{input_str}'\"\n",
        "        return int(input_str)\n",
        "\n",
        "    # 2. 실수형 문자열인지 확인\n",
        "    if '.' in input_str:\n",
        "        parts = input_str.split('.', 1)\n",
        "        # 소수점 양쪽에 모두 숫자가 있는지 확인\n",
        "        if len(parts) == 2 and parts[0].isdigit() and parts[1].isdigit():\n",
        "            # '0223.1234' 같이 앞부분이 0으로 시작하는 경우 검사\n",
        "            if len(parts[0]) > 1 and parts[0][0] == '0':\n",
        "                return f\"'{input_str}'\"\n",
        "            return float(input_str)\n",
        "\n",
        "    # 3. 위 조건에 해당하지 않는 경우 (ex: 'text', '123a')\n",
        "    return f\"'{input_str}'\"\n",
        "\n",
        "\n",
        "\n",
        "a = 'text'\n",
        "print(convert_input(a))\n",
        "a = '223'\n",
        "print(convert_input(a))\n",
        "a = '223.1234'\n",
        "print(convert_input(a))\n",
        "a = '0223'\n",
        "print(convert_input(a))\n",
        "a = '0'\n",
        "print(convert_input(a))"
      ],
      "metadata": {
        "id": "4dPFVKaoin7T",
        "colab": {
          "base_uri": "https://localhost:8080/"
        },
        "outputId": "bc4b0daf-3811-448b-e7f3-70ee2b5798bc"
      },
      "execution_count": 11,
      "outputs": [
        {
          "output_type": "stream",
          "name": "stdout",
          "text": [
            "'text'\n",
            "223\n",
            "223.1234\n",
            "'0223'\n",
            "0\n"
          ]
        }
      ]
    },
    {
      "cell_type": "markdown",
      "source": [
        "# Q8. Iterable array를 입력으로 받아서 모든 원소를 더하는 함수(`all_add`)를 작성하시오.\n",
        "\n",
        "**Example**\n",
        "\n",
        "```python\n",
        "print(all_add(1,2))\n",
        ">> 3\n",
        "\n",
        "print(all_add(1,2,3,4))\n",
        ">> 10\n",
        "```"
      ],
      "metadata": {
        "id": "vrmmLbfWD05G"
      }
    },
    {
      "cell_type": "code",
      "source": [
        "def all_add(*args):\n",
        "    total = 0\n",
        "    for num in args:\n",
        "        total += num\n",
        "    return total\n",
        "print(all_add(1,2))"
      ],
      "metadata": {
        "id": "sT9SA77GDxYO",
        "colab": {
          "base_uri": "https://localhost:8080/"
        },
        "outputId": "47b37840-e470-4abd-b83d-a46ea1517f2f"
      },
      "execution_count": null,
      "outputs": [
        {
          "output_type": "stream",
          "name": "stdout",
          "text": [
            "3\n"
          ]
        }
      ]
    },
    {
      "cell_type": "markdown",
      "source": [
        "# Q9. str 타입을 입력 받아 문자열 변수의 대문자 character 개수와 소문자 character 개수를 count하고 반환하는 함수(`count_upper_lower_char`)를 작성하시오.\n",
        "\n",
        "**Example**\n",
        "\n",
        "```python\n",
        "print(count_upper_lower_char('Data Science'))\n",
        ">> Uppercase: 2, Lowercase: 9\n",
        "```"
      ],
      "metadata": {
        "id": "E9VEP7SoaWVl"
      }
    },
    {
      "cell_type": "code",
      "source": [
        "def count_upper_lower_char(input_str):\n",
        "\n",
        "    uppercase_count = 0\n",
        "    lowercase_count = 0\n",
        "\n",
        "    for char in input_str:\n",
        "        if 'A' <= char <= 'Z':\n",
        "            uppercase_count += 1\n",
        "        elif 'a' <= char <= 'z':\n",
        "            lowercase_count += 1\n",
        "\n",
        "    return uppercase_count, lowercase_count\n",
        "\n",
        "\n",
        "input_string = 'Data Science'\n",
        "upper_count, lower_count = count_upper_lower_char(input_string)\n",
        "\n",
        "print(f\"Uppercase: {upper_count}, Lowercase: {lower_count}\")"
      ],
      "metadata": {
        "id": "K8ecawtDavck",
        "colab": {
          "base_uri": "https://localhost:8080/"
        },
        "outputId": "9e9d424d-2d51-43a8-9e78-4d577ee36d2f"
      },
      "execution_count": null,
      "outputs": [
        {
          "output_type": "stream",
          "name": "stdout",
          "text": [
            "Uppercase: 2, Lowercase: 9\n"
          ]
        }
      ]
    },
    {
      "cell_type": "markdown",
      "source": [
        "# Q10. 리스트를 입력 받아 리스트에 속한 value들 중 unique한 value만 list 형으로 반환하는 함수(`get_unique`)를 작성하시오.\n",
        "\n",
        "**Example**\n",
        "\n",
        "```python\n",
        "print(get_unique(['A','A','B','C','D','D'])\n",
        ">> ['B','C']\n",
        "```"
      ],
      "metadata": {
        "id": "fWCH-Ci9awHY"
      }
    },
    {
      "cell_type": "code",
      "source": [
        "def get_unique(input_list):\n",
        "    unique_values = []\n",
        "    for item in input_list:\n",
        "        if input_list.count(item) == 1:\n",
        "            unique_values.append(item)\n",
        "    return unique_values\n",
        "\n",
        "print(get_unique(['A','A','B','C','D','D']))"
      ],
      "metadata": {
        "colab": {
          "base_uri": "https://localhost:8080/"
        },
        "id": "-ak-Z-D1sm9a",
        "outputId": "1e799c20-2517-4d10-a88a-09813a4873d4"
      },
      "execution_count": null,
      "outputs": [
        {
          "output_type": "stream",
          "name": "stdout",
          "text": [
            "['B', 'C']\n"
          ]
        }
      ]
    },
    {
      "cell_type": "markdown",
      "source": [
        "# Q11. 아래 내용에 맞추어 사각형 넓이와 둘레를 구하는 class(`Rectangle`)을 작성하시오.\n",
        "\n",
        "\n",
        "- class 초기값 설정\n",
        "  - class 변수 `height`와 `width`을 위한 입력값을 받아올 수 있도록 파라미터 설정\n",
        "- 사각형의 넓이를 반환하기 위한 method(`calc_area`) 생성\n",
        "- 사각형의 둘레를 반환하기 위한 method(`calc_perimeter`) 생성\n",
        "\n",
        "**Example**\n",
        "\n",
        "```\n",
        "rec = Rectangle(height=3, width=5)\n",
        "print(rec.calc_area())\n",
        ">> 15\n",
        "\n",
        "print(rec.calc_perimeter())\n",
        ">> 16\n",
        "```"
      ],
      "metadata": {
        "id": "ahzx-PMPbcqo"
      }
    },
    {
      "cell_type": "code",
      "source": [
        "class Rectangle:\n",
        "\n",
        "    def __init__(self, height, width):\n",
        "\n",
        "        self.height = height\n",
        "        self.width = width  #height width 값 받아서 저장\n",
        "\n",
        "    def calc_area(self):\n",
        "        return self.height * self.width  #넓이계산 메서드\n",
        "\n",
        "    def calc_perimeter(self):\n",
        "        return 2 * (self.height + self.width) #둘레계산 메서드. 2(높이+너비)\n",
        "\n",
        "\n",
        "rec = Rectangle(height=3, width=5)\n",
        "print(rec.calc_area())\n",
        "print(rec.calc_perimeter())"
      ],
      "metadata": {
        "id": "9xjBVV0ka6WD",
        "colab": {
          "base_uri": "https://localhost:8080/"
        },
        "outputId": "096cd66a-4d03-470b-9456-eda44a8ce047"
      },
      "execution_count": null,
      "outputs": [
        {
          "output_type": "stream",
          "name": "stdout",
          "text": [
            "15\n",
            "16\n"
          ]
        }
      ]
    },
    {
      "cell_type": "markdown",
      "source": [
        "# Q12. 아래 내용에 맞추어 계좌 class(`BankAccount`)와 `BankAccount`를 상속받는 class(`SavingAccount`)를 작성하시오.\n",
        "\n",
        "**BankAccount**\n",
        "\n",
        "- class 변수 정의\n",
        "  1. 계좌 주인을 나타내는 class 변수(`owner`) 정의\n",
        "  2. 계좌 잔고를 나타내는 class 변수(`balance`) 정의\n",
        "  - 두 변수의 입력 값을 받아올 파라미터로 `owner`와 `initial_balance` 사용\n",
        "\n",
        "- 계좌 잔고에 금액을 입금하기 위한 method(`deposit`) 생성\n",
        "- 계좌 잔고에서 출금하기 위한 method(`withdraw`) 생성\n",
        "  - 만약 출금하고자 하는 금액이 계좌 잔고보다 많은 경우 \"잔액 부족\" 출력\n",
        "- 현재 계좌 잔고를 반환하는 method(`get_balance`) 생성\n",
        "\n",
        "\n",
        "**SavingAccount**\n",
        "\n",
        "- class 변수 정의\n",
        "  1. 이자율을 나타내는 class 변수(`interest_rate`) 정의\n",
        "  - 이자율의 입력 값을 받아올 파라미터로 `interest_rate` 사용\n",
        "\n",
        "- 현재 잔고에 이자율을 곱한 값을 잔액에 추가하는 method(`add_interest`) 생성\n",
        "\n",
        "\n",
        "**Example**\n",
        "\n",
        "```python\n",
        "account1 = BankAccount(\"이재옹\", 1000)\n",
        "account1.deposit(500)\n",
        "account1.withdraw(200)\n",
        "print(\"잔액:\", account1.get_balance())\n",
        ">> 잔액: 1300\n",
        "\n",
        "# SavingsAccount 클래스 사용 예시\n",
        "account2 = SavingsAccount(\"이제용\", 2000, 0.05)\n",
        "account2.add_interest()\n",
        "print(\"잔액:\", account2.get_balance())\n",
        ">> 잔액: 2100.0\n",
        "```\n"
      ],
      "metadata": {
        "id": "SlIo-Hi2h5RJ"
      }
    },
    {
      "cell_type": "code",
      "source": [
        "class BankAccount:\n",
        "\n",
        "    def __init__(self, owner, initial_balance):\n",
        "\n",
        "        self.owner = owner\n",
        "        self.balance = initial_balance\n",
        "\n",
        "    def deposit(self, amount):\n",
        "\n",
        "        self.balance += amount\n",
        "\n",
        "    def withdraw(self, amount):\n",
        "\n",
        "        if amount > self.balance:\n",
        "            print(\"잔액 부족\")\n",
        "        else:\n",
        "            self.balance -= amount\n",
        "\n",
        "    def get_balance(self):  #잔고반환\n",
        "\n",
        "        return self.balance\n",
        "\n",
        "class SavingsAccount(BankAccount): #상속\n",
        "\n",
        "    def __init__(self, owner, initial_balance, interest_rate):\n",
        "\n",
        "        super().__init__(owner, initial_balance)\n",
        "        self.interest_rate = interest_rate\n",
        "\n",
        "    def add_interest(self):\n",
        "\n",
        "        interest_amount = self.balance * self.interest_rate\n",
        "        self.balance += interest_amount #이자 추가\n",
        "\n",
        "# BankAccount  예시\n",
        "print(\"--- BankAccount 예시 ---\")\n",
        "account1 = BankAccount(\"이재옹\", 1000)\n",
        "account1.deposit(500)\n",
        "account1.withdraw(200)\n",
        "print(\"잔액:\", account1.get_balance())\n",
        "\n",
        "# SavingsAccount  예시\n",
        "print(\"\\n--- SavingsAccount 예시 ---\")\n",
        "account2 = SavingsAccount(\"이제용\", 2000, 0.05)\n",
        "account2.add_interest()\n",
        "print(\"잔액:\", account2.get_balance())"
      ],
      "metadata": {
        "id": "2JpPBN31j8IR",
        "colab": {
          "base_uri": "https://localhost:8080/"
        },
        "outputId": "2f92b8f4-d7c1-4ac8-dc7b-14f754684263"
      },
      "execution_count": 3,
      "outputs": [
        {
          "output_type": "stream",
          "name": "stdout",
          "text": [
            "--- BankAccount 예시 ---\n",
            "잔액: 1300\n",
            "\n",
            "--- SavingsAccount 예시 ---\n",
            "잔액: 2100.0\n"
          ]
        }
      ]
    },
    {
      "cell_type": "markdown",
      "source": [
        "# Q13. 아래 내용에 맞추어 계산기 기능을 하는 class(`Calculator`)를 작성하시오.\n",
        "\n",
        "- class 변수 정의\n",
        "  1. 계산 결과를 나타내는 class 변수(`value`)를 초기값 0으로 지정\n",
        "  2. 계산 상태를 나타내는 class 변수(`stack`)를 초기값 False로 지정\n",
        "- class 변수(`value`)와 입력 숫자의 사칙연산을 반환하는 methods(`_add`, `_minus`, `_multiply`, `_divide`) 작성.\n",
        "  - 사칙연산 method는 하나의 수만 입력으로 받음\n",
        "- 두 수의 사칙연산을 표현하는 문자열을 계산하기 위한 method(`calc`) 생성\n",
        "  - 첫, 계산을 실행한 경우 class 변수(`stack`)을 True로 변경\n",
        "  - 누적해서 추가 계산을 하는 경우 연산기호와 숫자만 입력어야함.\n",
        "  - 만약, 이전 계산 결과가 있는 상태에서 두 수의 사칙연산을 표현하는 문자열로 입력하는 경우 'error' 메세지 출력.\n",
        "\n",
        "- 계산 결과를 초기화 하는 method(`clear`) 생성\n",
        "  - class 변수(`value`)를 0으로 재설정\n",
        "  - class 변수(`stack`)를 False로 재설정\n",
        "\n",
        "**Example**\n",
        "\n",
        "```python\n",
        "calculrator = Calculrator()\n",
        "calculrator.calc('2+3')\n",
        ">> '2 + 3 = 5'\n",
        "\n",
        "calculrator.calc('/5')\n",
        ">> '5 / 5 = 1'\n",
        "\n",
        "calculrator.clear()\n",
        "print(calculrator.value)\n",
        ">> 0\n",
        "```"
      ],
      "metadata": {
        "id": "zI7ffA7TRMLY"
      }
    },
    {
      "cell_type": "code",
      "source": [
        "class Calculator:\n",
        "\n",
        "    def __init__(self):\n",
        "\n",
        "        self.value = 0  #계산 결과 저장\n",
        "        self.stack = False\n",
        "\n",
        "    def _add(self, num):  #사칙연산 수행 뒤 저장\n",
        "\n",
        "        self.value += num\n",
        "\n",
        "    def _minus(self, num):\n",
        "\n",
        "        self.value -= num\n",
        "\n",
        "    def _multiply(self, num):\n",
        "\n",
        "        self.value *= num\n",
        "\n",
        "    def _divide(self, num):\n",
        "\n",
        "        if num == 0:\n",
        "            print(\"Error: Division by zero\")\n",
        "            return\n",
        "        self.value /= num\n",
        "\n",
        "    def calc(self, expression):\n",
        "       #self.stack True일경우 누적계산.\n",
        "        if self.stack and ('+' in expression or '-' in expression or '*' in expression or '/' in expression):\n",
        "            if expression[0].isdigit():\n",
        "                print(\"Error\")\n",
        "                return\n",
        "\n",
        "            operator = expression[0]\n",
        "            num = float(expression[1:])\n",
        "\n",
        "            if operator == '+':\n",
        "                self._add(num)\n",
        "                print(f\"{self.value - num} + {num} = {self.value}\")\n",
        "            elif operator == '-':\n",
        "                self._minus(num)\n",
        "                print(f\"{self.value + num} - {num} = {self.value}\")\n",
        "            elif operator == '*':\n",
        "                self._multiply(num)\n",
        "                print(f\"{self.value / num} * {num} = {self.value}\")\n",
        "            elif operator == '/':\n",
        "                if num == 0:\n",
        "                    print(\"Error: Division by zero\")\n",
        "                    return\n",
        "                self._divide(num)\n",
        "                print(f\"{self.value * num} / {num} = {self.value}\")\n",
        "\n",
        "        else: #첫계산일때 연산자가 포함된 기준으로 나눠서 계산 수행\n",
        "            if self.stack:\n",
        "                print(\"Error\")\n",
        "                return\n",
        "\n",
        "            if '+' in expression:\n",
        "                parts = expression.split('+')\n",
        "                self.value = float(parts[0])\n",
        "                self._add(float(parts[1]))\n",
        "                print(f\"{parts[0]} + {parts[1]} = {self.value}\")\n",
        "            elif '-' in expression:\n",
        "                parts = expression.split('-')\n",
        "                self.value = float(parts[0])\n",
        "                self._minus(float(parts[1]))\n",
        "                print(f\"{parts[0]} - {parts[1]} = {self.value}\")\n",
        "            elif '*' in expression:\n",
        "                parts = expression.split('*')\n",
        "                self.value = float(parts[0])\n",
        "                self._multiply(float(parts[1]))\n",
        "                print(f\"{parts[0]} * {parts[1]} = {self.value}\")\n",
        "            elif '/' in expression:\n",
        "                parts = expression.split('/')\n",
        "                self.value = float(parts[0])\n",
        "                self._divide(float(parts[1]))\n",
        "                print(f\"{parts[0]} / {parts[1]} = {self.value}\")\n",
        "            else:\n",
        "                print(\"Error: Invalid expression\")\n",
        "                return\n",
        "\n",
        "            self.stack = True\n",
        "\n",
        "    def clear(self): #초기화\n",
        "\n",
        "        self.value = 0\n",
        "        self.stack = False\n",
        "\n",
        "# Example Usage\n",
        "calculator = Calculator()\n",
        "calculator.calc('2+3')\n",
        "calculator.calc('/5')\n",
        "calculator.clear()\n",
        "print(calculator.value)"
      ],
      "metadata": {
        "id": "hRQaxEZwcikd",
        "colab": {
          "base_uri": "https://localhost:8080/"
        },
        "outputId": "3601fa9d-f7ab-4998-cc90-3d0e5e85490c"
      },
      "execution_count": 4,
      "outputs": [
        {
          "output_type": "stream",
          "name": "stdout",
          "text": [
            "2 + 3 = 5.0\n",
            "5.0 / 5.0 = 1.0\n",
            "0\n"
          ]
        }
      ]
    },
    {
      "cell_type": "code",
      "source": [],
      "metadata": {
        "id": "5SSLUUpZ_eWt"
      },
      "execution_count": 4,
      "outputs": []
    }
  ]
}