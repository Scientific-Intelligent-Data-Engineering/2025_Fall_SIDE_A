{
 "cells": [
  {
   "cell_type": "markdown",
   "metadata": {
    "id": "UP4WwsDP4A83"
   },
   "source": [
    "**제출 시 파일 제목에 `이름`을 수정하여 제출할 것!**\n",
    "\n",
    "# Assignment 2\n",
    "\n",
    "**범위**\n",
    "\n",
    "- 3.1 Function\n",
    "- 3.2 Class"
   ]
  },
  {
   "cell_type": "markdown",
   "metadata": {
    "id": "MXYufgxmEm2c"
   },
   "source": [
    "# Q1. 세 가지 입력을 가지는 함수(`add_values`)를 작성하시오. 단, 두 개의 파라미터는 기본값으로 각각 1과 2로 설정하시오.\n",
    "\n",
    "**Example**\n",
    "\n",
    "```python\n",
    "print(add_values(1,2,3))\n",
    ">> 6\n",
    "\n",
    "print(add_values(1))\n",
    ">> 4\n",
    "```"
   ]
  },
  {
   "cell_type": "code",
   "execution_count": 2,
   "metadata": {
    "id": "dQjq-6XoEmtG"
   },
   "outputs": [
    {
     "name": "stdout",
     "output_type": "stream",
     "text": [
      "6\n",
      "4\n"
     ]
    }
   ],
   "source": [
    "def add_values(a,b = 1, c =2):\n",
    "    return a+b+c\n",
    "\n",
    "print(add_values(1,2,3))\n",
    "print(add_values(1))"
   ]
  },
  {
   "cell_type": "markdown",
   "metadata": {
    "id": "4xSqOmkUaLHR"
   },
   "source": [
    "# Q2. 정수 n을 입력 받아 n이 -2와 5 사이에 있는 값인지 확인하고, 해당 범위 내에 있는 경우 True, 아닌 경우 False를 출력하는 함수(`check_range`)를 작성하시오.\n",
    "\n",
    "**Example**\n",
    "\n",
    "```python\n",
    "print(check_range(n=3))\n",
    ">> True\n",
    "\n",
    "print(check_range(n=10))\n",
    ">> False\n",
    "\n",
    "```"
   ]
  },
  {
   "cell_type": "code",
   "execution_count": 3,
   "metadata": {
    "id": "-PbYkf6OFYHh"
   },
   "outputs": [
    {
     "name": "stdout",
     "output_type": "stream",
     "text": [
      "True\n",
      "False\n"
     ]
    }
   ],
   "source": [
    "def check_range(n):\n",
    "    check = (n>=2) and (n<5)\n",
    "    return check\n",
    "\n",
    "print(check_range(n=3))\n",
    "print(check_range(n=10))"
   ]
  },
  {
   "cell_type": "markdown",
   "metadata": {
    "id": "EVw3zB6HiFv3"
   },
   "source": [
    "# Q3. 리스트를 입력 받아 리스트 내부의 모든 값의 곱을 반환하는 함수(`product_values`)를 작성하시오.\n",
    "\n",
    "**Example**\n",
    "\n",
    "```python\n",
    "a = [1,2,3]\n",
    "v = product_values(a)\n",
    "\n",
    "print(v)\n",
    ">> 6\n",
    "```"
   ]
  },
  {
   "cell_type": "code",
   "execution_count": 8,
   "metadata": {
    "id": "0wyAhmdq_iTv"
   },
   "outputs": [
    {
     "name": "stdout",
     "output_type": "stream",
     "text": [
      "6\n"
     ]
    }
   ],
   "source": [
    "def product_values(t:list) -> float :\n",
    "    result = 1\n",
    "    for k in t:\n",
    "        result *= k\n",
    "\n",
    "    return result\n",
    "\n",
    "a = [1,2,3]\n",
    "v = product_values(a)\n",
    "\n",
    "print(v)"
   ]
  },
  {
   "cell_type": "markdown",
   "metadata": {
    "id": "T3s_FKyMa7iw"
   },
   "source": [
    "# Q4. 리스트를 입력 받아 입력 받은 리스트 중 짝수만 list 형으로 반환하는 함수(`get_even`)를 작성하시오.\n",
    "\n",
    "**Example**\n",
    "\n",
    "```python\n",
    "print(get_even([0,1,2,3,4]))\n",
    ">> [0,2,4]\n",
    "```"
   ]
  },
  {
   "cell_type": "code",
   "execution_count": 34,
   "metadata": {
    "id": "6alfZPpMbBma"
   },
   "outputs": [
    {
     "name": "stdout",
     "output_type": "stream",
     "text": [
      "[0, 2, 4]\n"
     ]
    }
   ],
   "source": [
    "def get_even(l:list):\n",
    "    result = []\n",
    "    for i in l:\n",
    "        if i % 2 == 0:\n",
    "            result.append(i)\n",
    "        else:\n",
    "            continue\n",
    "\n",
    "    return result\n",
    "\n",
    "print(get_even([0,1,2,3,4]))\n"
   ]
  },
  {
   "cell_type": "markdown",
   "metadata": {
    "id": "wBs1Q66fRpET"
   },
   "source": [
    "# Q5. 두 수의 사칙연산을 표현하는 문자열을 입력 받아서 연산 결과를 반환하는 함수(`calc`)을 작성하시오.\n",
    "\n",
    "- 이때, 두 수는 모두 정수\n",
    "\n",
    "**Example**\n",
    "```python\n",
    "print(calc('1+2')) # 더하기\n",
    ">> 3\n",
    "\n",
    "print(calc('1-2')) # 빼기\n",
    ">> -1\n",
    "\n",
    "print(calc('2x3')) # 곱하기\n",
    ">> 6\n",
    "\n",
    "print(calc('3/2')) # 나누기\n",
    ">> 1.5\n",
    "\n",
    "```"
   ]
  },
  {
   "cell_type": "code",
   "execution_count": 14,
   "metadata": {
    "id": "pHXsvL66Rphb"
   },
   "outputs": [
    {
     "name": "stdout",
     "output_type": "stream",
     "text": [
      "3\n",
      "-1\n",
      "6\n",
      "1.5\n"
     ]
    }
   ],
   "source": [
    "def calc(s:str) -> float:\n",
    "    a = int(s[0])\n",
    "    b = int(s[2])\n",
    "    oper = s[1]\n",
    "    \n",
    "    if oper == '+':\n",
    "        return a+b\n",
    "    elif oper == '-':\n",
    "        return a-b\n",
    "    elif oper == 'x':\n",
    "        return a*b\n",
    "    elif oper == '/':\n",
    "        return a/b\n",
    "    \n",
    "print(calc('1+2'))\n",
    "print(calc('1-2'))\n",
    "print(calc('2x3'))\n",
    "print(calc('3/2'))"
   ]
  },
  {
   "cell_type": "markdown",
   "metadata": {
    "id": "0hLESWNUbCGF"
   },
   "source": [
    "# Q6. Hypen(-)으로 구분되어 있는 str을 입력 받아 각 단어를 오름차순으로 정렬하는 함수(`sort_str`)를 작성하시오.\n",
    "\n",
    "**Example**\n",
    "\n",
    "```python\n",
    "name = 'Data-Science-and-Business-Analytics'\n",
    "print(sort_str(name))\n",
    ">> ['Analytics', 'Business', 'Data', 'Science', 'and']\n",
    "\n",
    "```"
   ]
  },
  {
   "cell_type": "code",
   "execution_count": 21,
   "metadata": {
    "id": "4ymUegsSHoon"
   },
   "outputs": [
    {
     "name": "stdout",
     "output_type": "stream",
     "text": [
      "['Analytics', 'Business', 'Data', 'Science', 'and']\n"
     ]
    }
   ],
   "source": [
    "def sort_str(s:str) -> list:\n",
    "    result = sorted(s.split('-'))\n",
    "\n",
    "    return result\n",
    "\n",
    "name = 'Data-Science-and-Business-Analytics'\n",
    "print(sort_str(name))"
   ]
  },
  {
   "cell_type": "markdown",
   "metadata": {
    "id": "dXJJN7EkiZFm"
   },
   "source": [
    "# Q7. str 타입을 입력 받아 숫자인 경우 정수와 실수를 판단하여 변환한 후 반환하는 함수(`convert_input`)를 작성하시오.\n",
    "\n",
    "**Example**\n",
    "\n",
    "```python\n",
    "a = 'text'\n",
    "print(convert_input(a))\n",
    ">> 'text'\n",
    "\n",
    "a = '223'\n",
    "print(convert_input(a))\n",
    ">> 223\n",
    "\n",
    "a = '223.1234'\n",
    "print(convert_input(a))\n",
    ">> 223.1234\n",
    "\n",
    "a = '0223'\n",
    "print(convert_input(a))\n",
    ">> '0223'\n",
    "```"
   ]
  },
  {
   "cell_type": "code",
   "execution_count": 31,
   "metadata": {
    "id": "4dPFVKaoin7T"
   },
   "outputs": [
    {
     "name": "stdout",
     "output_type": "stream",
     "text": [
      "text\n",
      "223\n",
      "223.1234\n",
      "0223\n"
     ]
    }
   ],
   "source": [
    "def convert_input(s: str):\n",
    "    t = s.strip()\n",
    "    if t == \"\":\n",
    "        return s\n",
    "    \n",
    "    sign = \"\"\n",
    "    if t[0] in \"+-\":\n",
    "        sign, t = t[0], t[1:]\n",
    "\n",
    "    if t == \"\":\n",
    "        return s\n",
    "\n",
    "    if t.count(\".\") == 1:\n",
    "        left, right = t.split(\".\")\n",
    "        if left.isdigit() and right.isdigit() and left != \"\" and right != \"\":\n",
    "            if left == \"0\" or left[0] != \"0\":\n",
    "                return float(sign + left + \".\" + right)\n",
    "        return s\n",
    "\n",
    "    if t.isdigit():\n",
    "        if t == \"0\" or t[0] != \"0\":\n",
    "            return int(sign + t)\n",
    "        return s\n",
    "\n",
    "    return s\n",
    "\n",
    "\n",
    "a = 'text'\n",
    "print(convert_input(a))\n",
    "\n",
    "a = '223'\n",
    "print(convert_input(a))\n",
    "\n",
    "a = '223.1234'\n",
    "print(convert_input(a))\n",
    "\n",
    "a = '0223'\n",
    "print(convert_input(a))\n",
    "\n"
   ]
  },
  {
   "cell_type": "markdown",
   "metadata": {
    "id": "vrmmLbfWD05G"
   },
   "source": [
    "# Q8. Iterable array를 입력으로 받아서 모든 원소를 더하는 함수(`all_add`)를 작성하시오.\n",
    "\n",
    "**Example**\n",
    "\n",
    "```python\n",
    "print(all_add(1,2))\n",
    ">> 3\n",
    "\n",
    "print(all_add(1,2,3,4))\n",
    ">> 10\n",
    "```"
   ]
  },
  {
   "cell_type": "code",
   "execution_count": 33,
   "metadata": {
    "id": "sT9SA77GDxYO"
   },
   "outputs": [
    {
     "name": "stdout",
     "output_type": "stream",
     "text": [
      "3\n",
      "10\n"
     ]
    }
   ],
   "source": [
    "def all_add(*args):\n",
    "    result = 0\n",
    "    for i in args:\n",
    "        result += i\n",
    "    return result\n",
    "\n",
    "print(all_add(1,2))\n",
    "print(all_add(1,2,3,4))\n",
    "\n"
   ]
  },
  {
   "cell_type": "markdown",
   "metadata": {
    "id": "E9VEP7SoaWVl"
   },
   "source": [
    "# Q9. str 타입을 입력 받아 문자열 변수의 대문자 character 개수와 소문자 character 개수를 count하고 반환하는 함수(`count_upper_lower_char`)를 작성하시오.\n",
    "\n",
    "**Example**\n",
    "\n",
    "```python\n",
    "print(count_upper_lower_char('Data Science'))\n",
    ">> Uppercase: 2, Lowercase: 9\n",
    "```"
   ]
  },
  {
   "cell_type": "code",
   "execution_count": 50,
   "metadata": {
    "id": "K8ecawtDavck"
   },
   "outputs": [
    {
     "name": "stdout",
     "output_type": "stream",
     "text": [
      "Uppercase: 2 Lowercase: 9\n",
      "(['D', 'S'], ['a', 't', 'a', 'c', 'i', 'e', 'n', 'c', 'e'])\n"
     ]
    }
   ],
   "source": [
    "def count_upper_lower_char(s:str):\n",
    "    uppers = [i for i in s if i.isupper()]\n",
    "    lowers = [j for j in s if j.islower()]\n",
    "\n",
    "    print(f'Uppercase: {len(uppers)} Lowercase: {len(lowers)}')\n",
    "    \n",
    "    return uppers, lowers \n",
    "\n",
    "print(count_upper_lower_char('Data Science'))"
   ]
  },
  {
   "cell_type": "markdown",
   "metadata": {
    "id": "fWCH-Ci9awHY"
   },
   "source": [
    "# Q10. 리스트를 입력 받아 리스트에 속한 value들 중 unique한 value만 list 형으로 반환하는 함수(`get_unique`)를 작성하시오.\n",
    "\n",
    "**Example**\n",
    "\n",
    "```python\n",
    "print(get_unique(['A','A','B','C','D','D'])\n",
    ">> ['B','C']\n",
    "```"
   ]
  },
  {
   "cell_type": "code",
   "execution_count": 53,
   "metadata": {},
   "outputs": [
    {
     "name": "stdout",
     "output_type": "stream",
     "text": [
      "['B', 'C']\n"
     ]
    }
   ],
   "source": [
    "def get_unique(l:list):\n",
    "    result=[]\n",
    "    for i in l:\n",
    "       if l.count(i) == 1:\n",
    "           result.append(i)\n",
    "\n",
    "    return result\n",
    "            \n",
    "print(get_unique(['A','A','B','C','D','D']))"
   ]
  },
  {
   "cell_type": "markdown",
   "metadata": {
    "id": "ahzx-PMPbcqo"
   },
   "source": [
    "# Q11. 아래 내용에 맞추어 사각형 넓이와 둘레를 구하는 class(`Rectangle`)을 작성하시오.\n",
    "\n",
    "\n",
    "- class 초기값 설정\n",
    "  - class 변수 `height`와 `width`을 위한 입력값을 받아올 수 있도록 파라미터 설정\n",
    "- 사각형의 넓이를 반환하기 위한 method(`calc_area`) 생성\n",
    "- 사각형의 둘레를 반환하기 위한 method(`calc_perimeter`) 생성\n",
    "\n",
    "**Example**\n",
    "\n",
    "```\n",
    "rec = Rectangle(height=3, width=5)\n",
    "print(rec.calc_area())\n",
    ">> 15\n",
    "\n",
    "print(rec.calc_perimeter())\n",
    ">> 16\n",
    "```"
   ]
  },
  {
   "cell_type": "code",
   "execution_count": 61,
   "metadata": {
    "id": "9xjBVV0ka6WD"
   },
   "outputs": [
    {
     "name": "stdout",
     "output_type": "stream",
     "text": [
      "15\n",
      "16\n"
     ]
    }
   ],
   "source": [
    "class Rectangle:\n",
    "    def __init__(self, height, width):\n",
    "        self.height = height\n",
    "        self.width = width\n",
    "\n",
    "    def calc_area(self):\n",
    "        return self.height*self.width\n",
    "    \n",
    "    def calc_perimeter(self):\n",
    "        return (self.height+self.width)*2\n",
    "    \n",
    "rec = Rectangle(height=3, width=5)\n",
    "print(rec.calc_area())\n",
    "print(rec.calc_perimeter())"
   ]
  },
  {
   "cell_type": "markdown",
   "metadata": {
    "id": "SlIo-Hi2h5RJ"
   },
   "source": [
    "# Q12. 아래 내용에 맞추어 계좌 class(`BankAccount`)와 `BankAccount`를 상속받는 class(`SavingAccount`)를 작성하시오.\n",
    "\n",
    "**BankAccount**\n",
    "\n",
    "- class 변수 정의\n",
    "  1. 계좌 주인을 나타내는 class 변수(`owner`) 정의\n",
    "  2. 계좌 잔고를 나타내는 class 변수(`balance`) 정의\n",
    "  - 두 변수의 입력 값을 받아올 파라미터로 `owner`와 `initial_balance` 사용\n",
    "\n",
    "- 계좌 잔고에 금액을 입금하기 위한 method(`deposit`) 생성\n",
    "- 계좌 잔고에서 출금하기 위한 method(`withdraw`) 생성\n",
    "  - 만약 출금하고자 하는 금액이 계좌 잔고보다 많은 경우 \"잔액 부족\" 출력\n",
    "- 현재 계좌 잔고를 반환하는 method(`get_balance`) 생성\n",
    "\n",
    "\n",
    "**SavingAccount**\n",
    "\n",
    "- class 변수 정의\n",
    "  1. 이자율을 나타내는 class 변수(`interest_rate`) 정의\n",
    "  - 이자율의 입력 값을 받아올 파라미터로 `interest_rate` 사용\n",
    "\n",
    "- 현재 잔고에 이자율을 곱한 값을 잔액에 추가하는 method(`add_interest`) 생성\n",
    "\n",
    "\n",
    "**Example**\n",
    "\n",
    "```python\n",
    "account1 = BankAccount(\"이재옹\", 1000)\n",
    "account1.deposit(500)\n",
    "account1.withdraw(200)\n",
    "print(\"잔액:\", account1.get_balance())\n",
    ">> 잔액: 1300\n",
    "\n",
    "# SavingsAccount 클래스 사용 예시\n",
    "account2 = SavingsAccount(\"이제용\", 2000, 0.05)\n",
    "account2.add_interest()\n",
    "print(\"잔액:\", account2.get_balance())\n",
    ">> 잔액: 2100.0\n",
    "```\n"
   ]
  },
  {
   "cell_type": "code",
   "execution_count": 77,
   "metadata": {
    "id": "2JpPBN31j8IR"
   },
   "outputs": [
    {
     "name": "stdout",
     "output_type": "stream",
     "text": [
      "잔액: 1300\n",
      "잔액: 2100.0\n"
     ]
    }
   ],
   "source": [
    "class BankAccount:\n",
    "    def __init__(self, owner, initial_balance):\n",
    "        self.owner = owner\n",
    "        self.balance = initial_balance\n",
    "\n",
    "    def deposit(self, x):\n",
    "        self.balance += x\n",
    "        return self.balance\n",
    "\n",
    "    def withdraw(self, y):\n",
    "        if self.balance >= y:\n",
    "           self.balance -= y \n",
    "        else:\n",
    "            print('잔액 부족')\n",
    "\n",
    "    def get_balance(self):\n",
    "        return self.balance\n",
    "\n",
    "class SavingsAccount(BankAccount):\n",
    "    def __init__(self, owner, initial_balance, interest_rate):\n",
    "        super().__init__(owner=owner, initial_balance=initial_balance)\n",
    "        self.interest_rate = interest_rate\n",
    "\n",
    "    def add_interest(self):\n",
    "        self.balance = self.balance * (1 + self.interest_rate)\n",
    "        return self.balance\n",
    "        \n",
    "\n",
    "account1 = BankAccount('이재옹', 1000)\n",
    "account1.deposit(500)\n",
    "account1.withdraw(200)\n",
    "print('잔액:', account1.get_balance())\n",
    "\n",
    "account2 = SavingsAccount(\"이제용\", 2000, 0.05)\n",
    "account2.add_interest()\n",
    "print(\"잔액:\", account2.get_balance())\n",
    "\n"
   ]
  },
  {
   "cell_type": "markdown",
   "metadata": {
    "id": "zI7ffA7TRMLY"
   },
   "source": [
    "# Q13. 아래 내용에 맞추어 계산기 기능을 하는 class(`Calculator`)를 작성하시오.\n",
    "\n",
    "- class 변수 정의\n",
    "  1. 계산 결과를 나타내는 class 변수(`value`)를 초기값 0으로 지정\n",
    "  2. 계산 상태를 나타내는 class 변수(`stack`)를 초기값 False로 지정\n",
    "- class 변수(`value`)와 입력 숫자의 사칙연산을 반환하는 methods(`_add`, `_minus`, `_multiply`, `_divide`) 작성.\n",
    "  - 사칙연산 method는 하나의 수만 입력으로 받음\n",
    "- 두 수의 사칙연산을 표현하는 문자열을 계산하기 위한 method(`calc`) 생성\n",
    "  - 첫, 계산을 실행한 경우 class 변수(`stack`)을 True로 변경\n",
    "  - 누적해서 추가 계산을 하는 경우 연산기호와 숫자만 입력어야함.\n",
    "  - 만약, 이전 계산 결과가 있는 상태에서 두 수의 사칙연산을 표현하는 문자열로 입력하는 경우 'error' 메세지 출력.\n",
    "\n",
    "- 계산 결과를 초기화 하는 method(`clear`) 생성\n",
    "  - class 변수(`value`)를 0으로 재설정\n",
    "  - class 변수(`stack`)를 False로 재설정\n",
    "\n",
    "**Example**\n",
    "\n",
    "```python\n",
    "calculrator = Calculrator()\n",
    "calculrator.calc('2+3')\n",
    ">> '2 + 3 = 5'\n",
    "\n",
    "calculrator.calc('/5')\n",
    ">> '5 / 5 = 1'\n",
    "\n",
    "calculrator.clear()\n",
    "print(calculrator.value)\n",
    ">> 0\n",
    "```"
   ]
  },
  {
   "cell_type": "code",
   "execution_count": null,
   "metadata": {
    "id": "hRQaxEZwcikd"
   },
   "outputs": [
    {
     "name": "stdout",
     "output_type": "stream",
     "text": [
      "2+3 = 5.0\n",
      "1.0/5 = 1.0\n",
      "-9.0-10 = -9.0\n",
      "-900.0x100 = -900.0\n",
      "0\n"
     ]
    }
   ],
   "source": [
    "class Calculrator:\n",
    "    \n",
    "    def __init__(self, value = 0, stack = False):\n",
    "        self.value = value\n",
    "        self.stack = stack\n",
    "\n",
    "    def _add(self, x):\n",
    "        self.value += x\n",
    "        return self.value\n",
    "    \n",
    "    def _minus(self, x):\n",
    "        self.value -= x\n",
    "        return self.value\n",
    "    \n",
    "    def _multiply(self, x):\n",
    "        self.value *= x\n",
    "        return self.value\n",
    "    \n",
    "    def _divide(self, x):        \n",
    "        if x == 0:\n",
    "            print('error')\n",
    "            return self.value\n",
    "        self.value /= x\n",
    "        return self.value\n",
    "    \n",
    "    def calc(self, v):\n",
    "        s = v.replace(\" \",\"\")\n",
    "        if not s:\n",
    "            print('error')\n",
    "            return\n",
    "        \n",
    "        opmap = {\n",
    "            '+': self._add,\n",
    "            '-': self._minus,\n",
    "            'x': self._multiply,\n",
    "            '/': self._divide\n",
    "        }\n",
    "\n",
    "        if self.stack and s[0] in opmap:\n",
    "              op = s[0]\n",
    "              right = s[1:]\n",
    "              if not right:\n",
    "                  print('error')\n",
    "                  return\n",
    "              num = float(right)\n",
    "              result = opmap[op](num)\n",
    "              print(f'{self.value}{s} = {result}')\n",
    "              return result\n",
    "\n",
    "        \n",
    "        if not self.stack:\n",
    "            op_idx = -1\n",
    "            for i, j in enumerate(s):\n",
    "                if j in opmap:\n",
    "                    op_idx = i\n",
    "                    break\n",
    "            if op_idx <= 0 or op_idx >= len(s)-1:\n",
    "                print('error')\n",
    "                return\n",
    "            \n",
    "            left, op, right = s[:op_idx], s[op_idx], s[op_idx+1:]\n",
    "            num1 = float(left)\n",
    "            num2 = float(right)\n",
    "\n",
    "            self.value = num1\n",
    "            result = opmap[op](num2)\n",
    "            self.stack = True\n",
    "            print(f'{s} = {result}')\n",
    "            return result\n",
    "            \n",
    "        print('error')\n",
    "        \n",
    "    def clear(self):\n",
    "            self.value = 0\n",
    "            self.stack = False\n",
    "        \n",
    "\n",
    "calculrator = Calculrator()\n",
    "calculrator.calc('2+3')\n",
    "\n",
    "calculrator.calc('/5')\n",
    "\n",
    "calculrator.calc('-10')\n",
    "\n",
    "calculrator.calc('x100')\n",
    "\n",
    "calculrator.clear()\n",
    "print(calculrator.value)\n",
    "\n",
    "\n",
    "\n"
   ]
  }
 ],
 "metadata": {
  "colab": {
   "provenance": [
    {
     "file_id": "1XLuE9jB0loPWedYefvFvUY4T6eAE7K-c",
     "timestamp": 1757923129140
    }
   ]
  },
  "kernelspec": {
   "display_name": "Python 3",
   "name": "python3"
  },
  "language_info": {
   "codemirror_mode": {
    "name": "ipython",
    "version": 3
   },
   "file_extension": ".py",
   "mimetype": "text/x-python",
   "name": "python",
   "nbconvert_exporter": "python",
   "pygments_lexer": "ipython3",
   "version": "3.12.10"
  }
 },
 "nbformat": 4,
 "nbformat_minor": 0
}
