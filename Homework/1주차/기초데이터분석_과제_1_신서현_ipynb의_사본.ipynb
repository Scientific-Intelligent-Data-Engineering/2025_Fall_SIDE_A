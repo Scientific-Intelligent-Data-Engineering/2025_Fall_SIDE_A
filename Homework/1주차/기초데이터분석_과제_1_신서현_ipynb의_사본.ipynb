{
  "nbformat": 4,
  "nbformat_minor": 0,
  "metadata": {
    "colab": {
      "provenance": []
    },
    "kernelspec": {
      "name": "python3",
      "display_name": "Python 3"
    },
    "language_info": {
      "name": "python"
    }
  },
  "cells": [
    {
      "cell_type": "markdown",
      "source": [
        "**제출 시 파일 제목에 이름을 수정하여 제출할 것!**\n",
        "\n",
        "# Assignment 1\n",
        "\n",
        "**범위**\n",
        "\n",
        "- 1.1 Python Basics\n",
        "- 1.2 Tuple, List, Dictionary, Set\n",
        "- 2.1 Conditions\n",
        "- 2.2 Loops"
      ],
      "metadata": {
        "id": "UP4WwsDP4A83"
      }
    },
    {
      "cell_type": "markdown",
      "source": [
        "# Q1. `range()`를 사용하여 0~9의 값을 가지는 리스트 `q1`을 선언하시오."
      ],
      "metadata": {
        "id": "NLcpEv3J4yED"
      }
    },
    {
      "cell_type": "code",
      "source": [
        "q1= list(range(0,10))\n",
        "print(q1)"
      ],
      "metadata": {
        "id": "qg4ijMbr4qop",
        "colab": {
          "base_uri": "https://localhost:8080/"
        },
        "outputId": "425bbff9-b83c-4bb8-816d-be7b6cd05f03"
      },
      "execution_count": null,
      "outputs": [
        {
          "output_type": "stream",
          "name": "stdout",
          "text": [
            "[0, 1, 2, 3, 4, 5, 6, 7, 8, 9]\n"
          ]
        }
      ]
    },
    {
      "cell_type": "markdown",
      "source": [
        "# Q2. Slicing을 사용하여 `q1`에서 짝수만 출력하시오."
      ],
      "metadata": {
        "id": "fqMvSVUO4zSK"
      }
    },
    {
      "cell_type": "code",
      "execution_count": null,
      "metadata": {
        "id": "qgYMYc_x3y2d",
        "colab": {
          "base_uri": "https://localhost:8080/"
        },
        "outputId": "27ca3cf4-843a-47ff-eec8-b767ffb006ba"
      },
      "outputs": [
        {
          "output_type": "execute_result",
          "data": {
            "text/plain": [
              "[0, 2, 4, 6, 8]"
            ]
          },
          "metadata": {},
          "execution_count": 4
        }
      ],
      "source": [
        "q1[::2]"
      ]
    },
    {
      "cell_type": "markdown",
      "source": [
        "# Q3. Slicing을 사용하여 `q1`에서 홀수만 출력하시오."
      ],
      "metadata": {
        "id": "wecbZTv3476Q"
      }
    },
    {
      "cell_type": "code",
      "source": [
        "q1[1::2]"
      ],
      "metadata": {
        "id": "zPavTUBq4-wJ",
        "colab": {
          "base_uri": "https://localhost:8080/"
        },
        "outputId": "a983aa67-bd9c-4e6f-b21c-a8e79e8f4e29"
      },
      "execution_count": null,
      "outputs": [
        {
          "output_type": "execute_result",
          "data": {
            "text/plain": [
              "[1, 3, 5, 7, 9]"
            ]
          },
          "metadata": {},
          "execution_count": 6
        }
      ]
    },
    {
      "cell_type": "markdown",
      "source": [
        "# Q4. `q1`에서 index 2의 값을 200으로 변경하시오."
      ],
      "metadata": {
        "id": "Q0cIRYuY4_YI"
      }
    },
    {
      "cell_type": "code",
      "source": [
        "q1[2]=200\n",
        "print(q1)"
      ],
      "metadata": {
        "id": "8vfVPUx25GVS",
        "colab": {
          "base_uri": "https://localhost:8080/"
        },
        "outputId": "6e39991d-e961-4c4e-d547-f83d0ca91954"
      },
      "execution_count": null,
      "outputs": [
        {
          "output_type": "stream",
          "name": "stdout",
          "text": [
            "[0, 1, 200, 3, 4, 5, 6, 7, 8, 9]\n"
          ]
        }
      ]
    },
    {
      "cell_type": "markdown",
      "source": [
        "# Q5. 아래 세 가지 방법으로 사용하여 `q1` 리스트 마지막에 100, 200, 300을 하나씩 추가하시오.\n",
        "\n"
      ],
      "metadata": {
        "id": "66A6g6ve5HDy"
      }
    },
    {
      "cell_type": "markdown",
      "source": [
        "## Q5-1 `append` 사용 (100 추가)\n"
      ],
      "metadata": {
        "id": "ryQm8LcZ5pcV"
      }
    },
    {
      "cell_type": "code",
      "source": [
        "q1.append(100)\n",
        "print(q1)"
      ],
      "metadata": {
        "id": "0nxzHYqq7qa6",
        "colab": {
          "base_uri": "https://localhost:8080/"
        },
        "outputId": "f6f0bcaf-a86a-4c20-a445-a8cfbfcb3d37"
      },
      "execution_count": null,
      "outputs": [
        {
          "output_type": "stream",
          "name": "stdout",
          "text": [
            "[0, 1, 200, 3, 4, 5, 6, 7, 8, 9, 100]\n"
          ]
        }
      ]
    },
    {
      "cell_type": "markdown",
      "source": [
        "## Q5-2 `insert` 사용 (200 추가)"
      ],
      "metadata": {
        "id": "Krf9pceH7sPQ"
      }
    },
    {
      "cell_type": "code",
      "source": [
        "q1.insert(11,200)\n",
        "print(q1)"
      ],
      "metadata": {
        "id": "7icbHgxv7tsz",
        "colab": {
          "base_uri": "https://localhost:8080/"
        },
        "outputId": "89871da2-a966-4159-d741-06023ba00b3a"
      },
      "execution_count": null,
      "outputs": [
        {
          "output_type": "stream",
          "name": "stdout",
          "text": [
            "[0, 1, 200, 3, 4, 5, 6, 7, 8, 9, 100, 200]\n"
          ]
        }
      ]
    },
    {
      "cell_type": "markdown",
      "source": [
        "## Q5-3 `+` 연산자 사용 (300 추가)"
      ],
      "metadata": {
        "id": "vBXIritE7uAR"
      }
    },
    {
      "cell_type": "code",
      "source": [
        "q2=[300]\n",
        "q1+q2\n"
      ],
      "metadata": {
        "id": "FQxlcs6F7vHN",
        "colab": {
          "base_uri": "https://localhost:8080/"
        },
        "outputId": "58d03883-9f33-4f4f-8f12-80daeb625b20"
      },
      "execution_count": null,
      "outputs": [
        {
          "output_type": "execute_result",
          "data": {
            "text/plain": [
              "[0, 1, 200, 3, 4, 5, 6, 7, 8, 9, 100, 200, 300]"
            ]
          },
          "metadata": {},
          "execution_count": 13
        }
      ]
    },
    {
      "cell_type": "markdown",
      "source": [
        "# Q6. 'Python is a nice Programming Language'를 띄어쓰기 기준으로 분할하여 리스트 `q6`으로 저장하시오."
      ],
      "metadata": {
        "id": "T05QOoOn5nSW"
      }
    },
    {
      "cell_type": "code",
      "source": [
        "text = 'Python is a nice Programming Language'\n",
        "q6 = text.split(' ')\n",
        "print(q6)"
      ],
      "metadata": {
        "id": "6j7TAh2X5yn2",
        "colab": {
          "base_uri": "https://localhost:8080/"
        },
        "outputId": "c17cc603-f538-4ca5-a192-3fde016668df"
      },
      "execution_count": null,
      "outputs": [
        {
          "output_type": "stream",
          "name": "stdout",
          "text": [
            "['Python', 'is', 'a', 'nice', 'Programming', 'Language']\n"
          ]
        }
      ]
    },
    {
      "cell_type": "markdown",
      "source": [
        "# Q7. `q6`을 문자열 길이를 기준으로 오름차순 정렬하여 `q7`를 선언하시오."
      ],
      "metadata": {
        "id": "hJJ9tWxt5zC2"
      }
    },
    {
      "cell_type": "code",
      "source": [
        "q6.sort(key=len)\n",
        "q6"
      ],
      "metadata": {
        "id": "sag6m5wZ6MUX",
        "colab": {
          "base_uri": "https://localhost:8080/"
        },
        "outputId": "26500f5a-c5fc-49c1-a86e-7d50ff5f95c8"
      },
      "execution_count": null,
      "outputs": [
        {
          "output_type": "execute_result",
          "data": {
            "text/plain": [
              "['a', 'is', 'nice', 'Python', 'Language', 'Programming']"
            ]
          },
          "metadata": {},
          "execution_count": 36
        }
      ]
    },
    {
      "cell_type": "markdown",
      "source": [
        "# Q8. 비어있는 dictionary `dict_q8`을 선언하고, 본인의 이름과 학번을 각각 key와 value로 하여 `dict_q8`에 추가하시오."
      ],
      "metadata": {
        "id": "F7BW2AVP6cMA"
      }
    },
    {
      "cell_type": "code",
      "source": [
        "dict_q8={}\n",
        "dict_q8.update({'신서현': '2025170947'})\n",
        "dict_q8"
      ],
      "metadata": {
        "id": "tC_7_3eR67df",
        "colab": {
          "base_uri": "https://localhost:8080/"
        },
        "outputId": "54bd43c7-4086-4261-9ae3-13988525bb6a"
      },
      "execution_count": null,
      "outputs": [
        {
          "output_type": "execute_result",
          "data": {
            "text/plain": [
              "{'신서현': '2025170947'}"
            ]
          },
          "metadata": {},
          "execution_count": 39
        }
      ]
    },
    {
      "cell_type": "markdown",
      "source": [
        "# Q9. 아래 두 리스트를 선언하고 두 질문에 대하여 답하시오.\n",
        "\n",
        "```python\n",
        "list1 = [1,2,3,4]\n",
        "list2 = [1,2,3,4]\n",
        "```"
      ],
      "metadata": {
        "id": "R7ccGj7a67vg"
      }
    },
    {
      "cell_type": "code",
      "source": [
        "list1 = [1,2,3,4]\n",
        "list2 = [1,2,3,4]"
      ],
      "metadata": {
        "id": "Qfl5-cO77lM9"
      },
      "execution_count": null,
      "outputs": []
    },
    {
      "cell_type": "markdown",
      "source": [
        "## Q9-1 두 리스트의 값이 같음을 보이시오."
      ],
      "metadata": {
        "id": "IGjooPun7ll1"
      }
    },
    {
      "cell_type": "code",
      "source": [
        "print(list1==list2)"
      ],
      "metadata": {
        "id": "kMC7Zapp7niU",
        "colab": {
          "base_uri": "https://localhost:8080/"
        },
        "outputId": "20ad23b0-9f90-4cc8-b3ae-3c0b272e7a92"
      },
      "execution_count": null,
      "outputs": [
        {
          "output_type": "stream",
          "name": "stdout",
          "text": [
            "True\n"
          ]
        }
      ]
    },
    {
      "cell_type": "markdown",
      "source": [
        "## Q9-2 두 리스트의 주소값이 다름을 보이시오."
      ],
      "metadata": {
        "id": "kxBRCVos7nxQ"
      }
    },
    {
      "cell_type": "code",
      "source": [
        "print(id(list1)==id(list2))"
      ],
      "metadata": {
        "id": "llVnirau7oun",
        "colab": {
          "base_uri": "https://localhost:8080/"
        },
        "outputId": "ac25f6bd-0121-43a5-af34-1daa78e4fd38"
      },
      "execution_count": null,
      "outputs": [
        {
          "output_type": "stream",
          "name": "stdout",
          "text": [
            "False\n"
          ]
        }
      ]
    },
    {
      "cell_type": "markdown",
      "source": [
        "# Q10. 변수 `year`에 연도를 선언하여 `year`가 윤년이면 True, 윤년이 아니면 `False`를 출력하는 코드를 작성하시오.\n",
        "\n",
        "**윤년 조건**\n",
        "- 4의 배수이면서 100의 배수는 아닌 경우\n",
        "- 4와 100의 배수이나 400의 배수인 경우"
      ],
      "metadata": {
        "id": "gaObiJM07xSs"
      }
    },
    {
      "cell_type": "code",
      "source": [
        "year=int(input('연도:'))\n",
        "if year%4 ==0 and year%100 != 0:\n",
        "  print('True')\n",
        "elif year%4 ==0 and year%100 == 0 and year%400 ==0:\n",
        "    print('True')\n",
        "else: print('False')\n",
        "\n"
      ],
      "metadata": {
        "id": "z6mrO-CK8Ncz",
        "colab": {
          "base_uri": "https://localhost:8080/"
        },
        "outputId": "dede89d2-0361-4d95-9cc0-b4df6f0210b0"
      },
      "execution_count": null,
      "outputs": [
        {
          "output_type": "stream",
          "name": "stdout",
          "text": [
            "연도:2001\n",
            "False\n"
          ]
        }
      ]
    },
    {
      "cell_type": "markdown",
      "source": [
        "# Q11. 두 개 list인 `names`과 `locations`가 있을 때 아래 질문에 맞게 코드를 작성 후 출력하시오.\n",
        "\n",
        "```python\n",
        "names = ['한상차림', '전주 외할머니댁', '보문수산']\n",
        "locations = ['서울 동대문구 한빛로 28 1층', '서울 동대문구 무학로30길 22', '서울 성북구 보문로 102-6']\n",
        "```\n",
        "\n",
        "1. `names`와 `locations` 리스트를 사용하여 음식점 이름을 key로 하고, 위치를 value로 하는 dictionary를 생성하시오.\n",
        "2. 반복문을 사용하여 음식점 이름과 위치를 출력하시오. 출력 형식은 '`이름`: `위치`' 입니다."
      ],
      "metadata": {
        "id": "V8PUFcfTLyMd"
      }
    },
    {
      "cell_type": "code",
      "source": [
        "\n",
        "names = ['한상차림', '전주 외할머니댁', '보문수산']\n",
        "locations = ['서울 동대문구 한빛로 28 1층', '서울 동대문구 무학로30길 22', '서울 성북구 보문로 102-6']\n",
        "\n",
        "restaurants = dict(zip(names, locations))\n",
        "\n",
        "for name, location in restaurants.items():\n",
        "    print(f\"이름: {name}, 위치: {location}\")"
      ],
      "metadata": {
        "id": "Bvbw_AJKMnlr",
        "colab": {
          "base_uri": "https://localhost:8080/"
        },
        "outputId": "72679900-343e-43e0-97ce-6ba10981d949"
      },
      "execution_count": null,
      "outputs": [
        {
          "output_type": "stream",
          "name": "stdout",
          "text": [
            "이름: 한상차림, 위치: 서울 동대문구 한빛로 28 1층\n",
            "이름: 전주 외할머니댁, 위치: 서울 동대문구 무학로30길 22\n",
            "이름: 보문수산, 위치: 서울 성북구 보문로 102-6\n"
          ]
        }
      ]
    },
    {
      "cell_type": "markdown",
      "source": [
        "# Q11. 아래 python 코드를 한 줄로 나타내시오.\n",
        "\n",
        "```python\n",
        "L = []\n",
        "for k in range(10):\n",
        "    if k % 2 == 1:\n",
        "        L.append(k*k)\n",
        "    else\n",
        "        pass\n",
        "\n",
        "print(L)\n",
        "````"
      ],
      "metadata": {
        "id": "W-0dXNyz8lVR"
      }
    },
    {
      "cell_type": "code",
      "source": [
        "L = [k * k for k in range(10) if k % 2 == 1]\n",
        "print(L)"
      ],
      "metadata": {
        "id": "mmbgAvnY951r",
        "colab": {
          "base_uri": "https://localhost:8080/"
        },
        "outputId": "64af718b-7d1a-44d6-88c8-2ae961c9648d"
      },
      "execution_count": null,
      "outputs": [
        {
          "output_type": "stream",
          "name": "stdout",
          "text": [
            "[1, 9, 25, 49, 81]\n"
          ]
        }
      ]
    },
    {
      "cell_type": "markdown",
      "source": [
        "# Q12. 아래와 같이 두 벡터가 존재할 때 cosine similarity 수식을 참고하여 코드를 통해 유사도를 계산하시오. (수업 시 배운 내용만 참고할 것)\n",
        "\n",
        "```python\n",
        "X = [3,2,1,5,2,3,5]\n",
        "Y = [9,3,1,5,2,4,3]\n",
        "```\n",
        "\n",
        "$$cos(\\theta)=\\frac{\\sum_i^n{X_iY_i}}{\\sqrt{\\sum_i^n{X_i^2}}\\sqrt{\\sum_i^n{Y_i^2}}}$$"
      ],
      "metadata": {
        "id": "Dfrf4zzn9AKU"
      }
    },
    {
      "cell_type": "code",
      "source": [
        "X = [3, 2, 1, 5, 2, 3, 5]\n",
        "Y = [9, 3, 1, 5, 2, 4, 3]\n",
        "\n",
        "\n",
        "sumx = 0\n",
        "sumy = 0\n",
        "dot_product = 0\n",
        "\n",
        "for xval, yval in zip(X, Y):\n",
        "\n",
        "    dot_product += xval * yval\n",
        "\n",
        "    sumx += xval ** 2\n",
        "    sumy += yval ** 2\n",
        "\n",
        "\n",
        "cos_similarity = dot_product / ((sumx ** 0.5) * (sumy ** 0.5))\n",
        "print(f\"코사인 유사도: {cos_similarity}\")"
      ],
      "metadata": {
        "id": "0wyAhmdq_iTv",
        "colab": {
          "base_uri": "https://localhost:8080/"
        },
        "outputId": "49df4b6b-1e20-4840-fd52-9fdc55e92866"
      },
      "execution_count": null,
      "outputs": [
        {
          "output_type": "stream",
          "name": "stdout",
          "text": [
            "코사인 유사도: 0.851751968084951\n"
          ]
        }
      ]
    }
  ]
}