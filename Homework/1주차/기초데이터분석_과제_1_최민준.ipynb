{
  "cells": [
    {
      "cell_type": "markdown",
      "metadata": {
        "id": "UP4WwsDP4A83"
      },
      "source": [
        "**제출 시 파일 제목에 이름을 수정하여 제출할 것!**\n",
        "\n",
        "# Assignment 1\n",
        "\n",
        "**범위**\n",
        "\n",
        "- 1.1 Python Basics\n",
        "- 1.2 Tuple, List, Dictionary, Set\n",
        "- 2.1 Conditions\n",
        "- 2.2 Loops"
      ]
    },
    {
      "cell_type": "markdown",
      "metadata": {
        "id": "NLcpEv3J4yED"
      },
      "source": [
        "# Q1. `range()`를 사용하여 0~9의 값을 가지는 리스트 `q1`을 선언하시오."
      ]
    },
    {
      "cell_type": "code",
      "execution_count": 10,
      "metadata": {
        "id": "qg4ijMbr4qop"
      },
      "outputs": [
        {
          "data": {
            "text/plain": [
              "[0, 1, 2, 3, 4, 5, 6, 7, 8, 9]"
            ]
          },
          "execution_count": 10,
          "metadata": {},
          "output_type": "execute_result"
        }
      ],
      "source": [
        "q1=list(range(10))\n",
        "q1"
      ]
    },
    {
      "cell_type": "markdown",
      "metadata": {
        "id": "fqMvSVUO4zSK"
      },
      "source": [
        "# Q2. Slicing을 사용하여 `q1`에서 짝수만 출력하시오."
      ]
    },
    {
      "cell_type": "code",
      "execution_count": 4,
      "metadata": {
        "id": "qgYMYc_x3y2d"
      },
      "outputs": [
        {
          "name": "stdout",
          "output_type": "stream",
          "text": [
            "[0, 2, 4, 6, 8]\n"
          ]
        }
      ],
      "source": [
        "print(q1[::2])"
      ]
    },
    {
      "cell_type": "markdown",
      "metadata": {
        "id": "wecbZTv3476Q"
      },
      "source": [
        "# Q3. Slicing을 사용하여 `q1`에서 홀수만 출력하시오."
      ]
    },
    {
      "cell_type": "code",
      "execution_count": 5,
      "metadata": {
        "id": "zPavTUBq4-wJ"
      },
      "outputs": [
        {
          "name": "stdout",
          "output_type": "stream",
          "text": [
            "[1, 3, 5, 7, 9]\n"
          ]
        }
      ],
      "source": [
        "print(q1[1::2])"
      ]
    },
    {
      "cell_type": "markdown",
      "metadata": {
        "id": "Q0cIRYuY4_YI"
      },
      "source": [
        "# Q4. `q1`에서 index 2의 값을 200으로 변경하시오."
      ]
    },
    {
      "cell_type": "code",
      "execution_count": 11,
      "metadata": {
        "id": "8vfVPUx25GVS"
      },
      "outputs": [
        {
          "data": {
            "text/plain": [
              "[0, 1, 200, 3, 4, 5, 6, 7, 8, 9]"
            ]
          },
          "execution_count": 11,
          "metadata": {},
          "output_type": "execute_result"
        }
      ],
      "source": [
        "q1[2]=200\n",
        "q1"
      ]
    },
    {
      "cell_type": "markdown",
      "metadata": {
        "id": "66A6g6ve5HDy"
      },
      "source": [
        "# Q5. 아래 세 가지 방법으로 사용하여 `q1` 리스트 마지막에 100, 200, 300을 하나씩 추가하시오.\n",
        "\n"
      ]
    },
    {
      "cell_type": "markdown",
      "metadata": {
        "id": "ryQm8LcZ5pcV"
      },
      "source": [
        "## Q5-1 `append` 사용 (100 추가)\n"
      ]
    },
    {
      "cell_type": "code",
      "execution_count": 12,
      "metadata": {
        "id": "0nxzHYqq7qa6"
      },
      "outputs": [
        {
          "data": {
            "text/plain": [
              "[0, 1, 200, 3, 4, 5, 6, 7, 8, 9, 100]"
            ]
          },
          "execution_count": 12,
          "metadata": {},
          "output_type": "execute_result"
        }
      ],
      "source": [
        "q1.append(100)\n",
        "q1\n"
      ]
    },
    {
      "cell_type": "markdown",
      "metadata": {
        "id": "Krf9pceH7sPQ"
      },
      "source": [
        "## Q5-2 `insert` 사용 (200 추가)"
      ]
    },
    {
      "cell_type": "code",
      "execution_count": 14,
      "metadata": {
        "id": "7icbHgxv7tsz"
      },
      "outputs": [
        {
          "data": {
            "text/plain": [
              "[0, 1, 200, 3, 4, 5, 6, 7, 8, 9, 100, 200]"
            ]
          },
          "execution_count": 14,
          "metadata": {},
          "output_type": "execute_result"
        }
      ],
      "source": [
        "q1.insert(11, 200)\n",
        "q1"
      ]
    },
    {
      "cell_type": "markdown",
      "metadata": {
        "id": "vBXIritE7uAR"
      },
      "source": [
        "## Q5-3 `+` 연산자 사용 (300 추가)"
      ]
    },
    {
      "cell_type": "code",
      "execution_count": 15,
      "metadata": {
        "id": "FQxlcs6F7vHN"
      },
      "outputs": [
        {
          "name": "stdout",
          "output_type": "stream",
          "text": [
            "[0, 1, 200, 3, 4, 5, 6, 7, 8, 9, 100, 200, 300]\n"
          ]
        }
      ],
      "source": [
        "print(q1+[300])"
      ]
    },
    {
      "cell_type": "markdown",
      "metadata": {
        "id": "T05QOoOn5nSW"
      },
      "source": [
        "# Q6. 'Python is a nice Programming Language'를 띄어쓰기 기준으로 분할하여 리스트 `q6`으로 저장하시오."
      ]
    },
    {
      "cell_type": "code",
      "execution_count": 26,
      "metadata": {
        "id": "6j7TAh2X5yn2"
      },
      "outputs": [
        {
          "name": "stdout",
          "output_type": "stream",
          "text": [
            "['Python', 'is', 'a', 'nice', 'Programming', 'Language']\n"
          ]
        }
      ],
      "source": [
        "q6='Python is a nice Programming Language'.split()\n",
        "print(q6)"
      ]
    },
    {
      "cell_type": "markdown",
      "metadata": {
        "id": "hJJ9tWxt5zC2"
      },
      "source": [
        "# Q7. `q6`을 문자열 길이를 기준으로 오름차순 정렬하여 `q7`를 선언하시오."
      ]
    },
    {
      "cell_type": "code",
      "execution_count": null,
      "metadata": {
        "id": "sag6m5wZ6MUX"
      },
      "outputs": [
        {
          "data": {
            "text/plain": [
              "['a', 'is', 'nice', 'Python', 'Language', 'Programming']"
            ]
          },
          "execution_count": 27,
          "metadata": {},
          "output_type": "execute_result"
        }
      ],
      "source": [
        "q6.sort(key=len)\n",
        "q6"
      ]
    },
    {
      "cell_type": "markdown",
      "metadata": {
        "id": "F7BW2AVP6cMA"
      },
      "source": [
        "# Q8. 비어있는 dictionary `dict_q8`을 선언하고, 본인의 이름과 학번을 각각 key와 value로 하여 `dict_q8`에 추가하시오."
      ]
    },
    {
      "cell_type": "code",
      "execution_count": 31,
      "metadata": {
        "id": "tC_7_3eR67df"
      },
      "outputs": [
        {
          "name": "stdout",
          "output_type": "stream",
          "text": [
            "{'최민준': '2025170924'}\n"
          ]
        }
      ],
      "source": [
        "dict_q8={}\n",
        "dict_q8.update({'최민준':'2025170924'})\n",
        "print(dict_q8)"
      ]
    },
    {
      "cell_type": "markdown",
      "metadata": {
        "id": "R7ccGj7a67vg"
      },
      "source": [
        "# Q9. 아래 두 리스트를 선언하고 두 질문에 대하여 답하시오.\n",
        "\n",
        "```python\n",
        "list1 = [1,2,3,4]\n",
        "list2 = [1,2,3,4]\n",
        "```"
      ]
    },
    {
      "cell_type": "code",
      "execution_count": 32,
      "metadata": {
        "id": "Qfl5-cO77lM9"
      },
      "outputs": [],
      "source": [
        "list1=[1,2,3,4]\n",
        "list2=[1,2,3,4]"
      ]
    },
    {
      "cell_type": "markdown",
      "metadata": {
        "id": "IGjooPun7ll1"
      },
      "source": [
        "## Q9-1 두 리스트의 값이 같음을 보이시오."
      ]
    },
    {
      "cell_type": "code",
      "execution_count": 33,
      "metadata": {
        "id": "kMC7Zapp7niU"
      },
      "outputs": [
        {
          "name": "stdout",
          "output_type": "stream",
          "text": [
            "True\n"
          ]
        }
      ],
      "source": [
        "print(list1==list2)"
      ]
    },
    {
      "cell_type": "markdown",
      "metadata": {
        "id": "kxBRCVos7nxQ"
      },
      "source": [
        "## Q9-2 두 리스트의 주소값이 다름을 보이시오."
      ]
    },
    {
      "cell_type": "code",
      "execution_count": 34,
      "metadata": {
        "id": "llVnirau7oun"
      },
      "outputs": [
        {
          "name": "stdout",
          "output_type": "stream",
          "text": [
            "True\n"
          ]
        }
      ],
      "source": [
        "print(id(list1)!=id(list2))"
      ]
    },
    {
      "cell_type": "markdown",
      "metadata": {
        "id": "gaObiJM07xSs"
      },
      "source": [
        "# Q10. 변수 `year`에 연도를 선언하여 `year`가 윤년이면 True, 윤년이 아니면 `False`를 출력하는 코드를 작성하시오.\n",
        "\n",
        "**윤년 조건**\n",
        "- 4의 배수이면서 100의 배수는 아닌 경우\n",
        "- 4와 100의 배수이나 400의 배수인 경우"
      ]
    },
    {
      "cell_type": "code",
      "execution_count": 42,
      "metadata": {
        "id": "z6mrO-CK8Ncz"
      },
      "outputs": [
        {
          "name": "stdout",
          "output_type": "stream",
          "text": [
            "False\n"
          ]
        }
      ],
      "source": [
        "year=int(input('연도를 입력하세요(년)'))\n",
        "\n",
        "if year % 4 == 0 and year % 100 !=0:\n",
        "    print('True')\n",
        "\n",
        "elif year % 4 == 0 and year % 100 == 0 and year % 400 ==0:\n",
        "    print('True')\n",
        "\n",
        "else:\n",
        "    print('False')"
      ]
    },
    {
      "cell_type": "markdown",
      "metadata": {
        "id": "V8PUFcfTLyMd"
      },
      "source": [
        "# Q11. 두 개 list인 `names`과 `locations`가 있을 때 아래 질문에 맞게 코드를 작성 후 출력하시오.\n",
        "\n",
        "```python\n",
        "names = ['한상차림', '전주 외할머니댁', '보문수산']\n",
        "locations = ['서울 동대문구 한빛로 28 1층', '서울 동대문구 무학로30길 22', '서울 성북구 보문로 102-6']\n",
        "```\n",
        "\n",
        "1. `names`와 `locations` 리스트를 사용하여 음식점 이름을 key로 하고, 위치를 value로 하는 dictionary를 생성하시오.\n",
        "2. 반복문을 사용하여 음식점 이름과 위치를 출력하시오. 출력 형식은 '`이름`: `위치`' 입니다."
      ]
    },
    {
      "cell_type": "code",
      "execution_count": 48,
      "metadata": {
        "id": "Bvbw_AJKMnlr"
      },
      "outputs": [
        {
          "name": "stdout",
          "output_type": "stream",
          "text": [
            "{'한상차림': '서울 동대문구 한빛로 28 1층', '전주 외할머니댁': '서울 동대문구 무학로30길 22', '보문수산': '서울 성북구 보문로 102-6'}\n",
            "한상차림 : 서울 동대문구 한빛로 28 1층\n",
            "전주 외할머니댁 : 서울 동대문구 무학로30길 22\n",
            "보문수산 : 서울 성북구 보문로 102-6\n"
          ]
        }
      ],
      "source": [
        "names = ['한상차림', '전주 외할머니댁', '보문수산']\n",
        "locations = ['서울 동대문구 한빛로 28 1층','서울 동대문구 무학로30길 22', '서울 성북구 보문로 102-6']\n",
        "\n",
        "print(dict(zip(names, locations)))\n",
        "\n",
        "for i in range(3):\n",
        "    print(names[i],':', locations[i])"
      ]
    },
    {
      "cell_type": "markdown",
      "metadata": {
        "id": "W-0dXNyz8lVR"
      },
      "source": [
        "# Q11. 아래 python 코드를 한 줄로 나타내시오.\n",
        "\n",
        "```python\n",
        "L = []\n",
        "for k in range(10):\n",
        "    if k % 2 == 1:\n",
        "        L.append(k*k)\n",
        "    else\n",
        "        pass\n",
        "\n",
        "print(L)\n",
        "````"
      ]
    },
    {
      "cell_type": "code",
      "execution_count": 53,
      "metadata": {
        "id": "mmbgAvnY951r"
      },
      "outputs": [
        {
          "name": "stdout",
          "output_type": "stream",
          "text": [
            "[1, 9, 25, 49, 81]\n"
          ]
        }
      ],
      "source": [
        "L = [k*k for k in range(10) if k % 2 == 1] ; print(L)"
      ]
    },
    {
      "cell_type": "markdown",
      "metadata": {
        "id": "Dfrf4zzn9AKU"
      },
      "source": [
        "# Q12. 아래와 같이 두 벡터가 존재할 때 cosine similarity 수식을 참고하여 코드를 통해 유사도를 계산하시오. (수업 시 배운 내용만 참고할 것)\n",
        "\n",
        "```python\n",
        "X = [3,2,1,5,2,3,5]\n",
        "Y = [9,3,1,5,2,4,3]\n",
        "```\n",
        "\n",
        "$$cos(\\theta)=\\frac{\\sum_i^n{X_iY_i}}{\\sqrt{\\sum_i^n{X_i^2}}\\sqrt{\\sum_i^n{Y_i^2}}}$$"
      ]
    },
    {
      "cell_type": "code",
      "execution_count": 52,
      "metadata": {
        "id": "0wyAhmdq_iTv"
      },
      "outputs": [
        {
          "name": "stdout",
          "output_type": "stream",
          "text": [
            "cos(θ)= 0.851751968084951\n"
          ]
        }
      ],
      "source": [
        "X = [3,2,1,5,2,3,5]\n",
        "Y = [9,3,1,5,2,4,3]\n",
        "\n",
        "a=0\n",
        "b=0\n",
        "c=0\n",
        "\n",
        "for i in range(7):\n",
        "    a+=X[i]*Y[i]\n",
        "    b+=X[i]**2\n",
        "    c+=Y[i]**2\n",
        "\n",
        "print('cos(θ)=', a/((b**(1/2))*(c**(1/2))))"
      ]
    }
  ],
  "metadata": {
    "colab": {
      "provenance": []
    },
    "kernelspec": {
      "display_name": "Python 3",
      "name": "python3"
    },
    "language_info": {
      "codemirror_mode": {
        "name": "ipython",
        "version": 3
      },
      "file_extension": ".py",
      "mimetype": "text/x-python",
      "name": "python",
      "nbconvert_exporter": "python",
      "pygments_lexer": "ipython3",
      "version": "3.12.10"
    }
  },
  "nbformat": 4,
  "nbformat_minor": 0
}
