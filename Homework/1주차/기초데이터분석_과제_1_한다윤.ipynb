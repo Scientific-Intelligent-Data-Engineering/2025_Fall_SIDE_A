{
 "cells": [
  {
   "cell_type": "markdown",
   "metadata": {
    "id": "UP4WwsDP4A83"
   },
   "source": [
    "**제출 시 파일 제목에 이름을 수정하여 제출할 것!**\n",
    "\n",
    "# Assignment 1\n",
    "\n",
    "**범위**\n",
    "\n",
    "- 1.1 Python Basics\n",
    "- 1.2 Tuple, List, Dictionary, Set\n",
    "- 2.1 Conditions\n",
    "- 2.2 Loops"
   ]
  },
  {
   "cell_type": "markdown",
   "metadata": {
    "id": "NLcpEv3J4yED"
   },
   "source": [
    "# Q1. `range()`를 사용하여 0~9의 값을 가지는 리스트 `q1`을 선언하시오."
   ]
  },
  {
   "cell_type": "code",
   "execution_count": 31,
   "metadata": {
    "id": "qg4ijMbr4qop"
   },
   "outputs": [],
   "source": [
    "q1 = list(range(10))"
   ]
  },
  {
   "cell_type": "markdown",
   "metadata": {
    "id": "fqMvSVUO4zSK"
   },
   "source": [
    "# Q2. Slicing을 사용하여 `q1`에서 짝수만 출력하시오."
   ]
  },
  {
   "cell_type": "code",
   "execution_count": 32,
   "metadata": {
    "id": "qgYMYc_x3y2d"
   },
   "outputs": [
    {
     "data": {
      "text/plain": [
       "[0, 2, 4, 6, 8]"
      ]
     },
     "execution_count": 32,
     "metadata": {},
     "output_type": "execute_result"
    }
   ],
   "source": [
    "q1[::2]"
   ]
  },
  {
   "cell_type": "markdown",
   "metadata": {
    "id": "wecbZTv3476Q"
   },
   "source": [
    "# Q3. Slicing을 사용하여 `q1`에서 홀수만 출력하시오."
   ]
  },
  {
   "cell_type": "code",
   "execution_count": 33,
   "metadata": {
    "id": "zPavTUBq4-wJ"
   },
   "outputs": [
    {
     "data": {
      "text/plain": [
       "[1, 3, 5, 7, 9]"
      ]
     },
     "execution_count": 33,
     "metadata": {},
     "output_type": "execute_result"
    }
   ],
   "source": [
    "q1[1::2]"
   ]
  },
  {
   "cell_type": "markdown",
   "metadata": {
    "id": "Q0cIRYuY4_YI"
   },
   "source": [
    "# Q4. `q1`에서 index 2의 값을 200으로 변경하시오."
   ]
  },
  {
   "cell_type": "code",
   "execution_count": 34,
   "metadata": {
    "id": "8vfVPUx25GVS"
   },
   "outputs": [],
   "source": [
    "q1[2] = 200"
   ]
  },
  {
   "cell_type": "markdown",
   "metadata": {
    "id": "66A6g6ve5HDy"
   },
   "source": [
    "# Q5. 아래 세 가지 방법으로 사용하여 `q1` 리스트 마지막에 100, 200, 300을 하나씩 추가하시오.\n",
    "\n"
   ]
  },
  {
   "cell_type": "markdown",
   "metadata": {
    "id": "ryQm8LcZ5pcV"
   },
   "source": [
    "## Q5-1 `append` 사용 (100 추가)\n"
   ]
  },
  {
   "cell_type": "code",
   "execution_count": 35,
   "metadata": {
    "id": "0nxzHYqq7qa6"
   },
   "outputs": [],
   "source": [
    "q1.append(100)"
   ]
  },
  {
   "cell_type": "markdown",
   "metadata": {
    "id": "Krf9pceH7sPQ"
   },
   "source": [
    "## Q5-2 `insert` 사용 (200 추가)"
   ]
  },
  {
   "cell_type": "code",
   "execution_count": 36,
   "metadata": {
    "id": "7icbHgxv7tsz"
   },
   "outputs": [],
   "source": [
    "q1.insert(len(q1), 200)"
   ]
  },
  {
   "cell_type": "markdown",
   "metadata": {
    "id": "vBXIritE7uAR"
   },
   "source": [
    "## Q5-3 `+` 연산자 사용 (300 추가)"
   ]
  },
  {
   "cell_type": "code",
   "execution_count": 37,
   "metadata": {
    "id": "FQxlcs6F7vHN"
   },
   "outputs": [],
   "source": [
    "q1 += [300]"
   ]
  },
  {
   "cell_type": "markdown",
   "metadata": {
    "id": "T05QOoOn5nSW"
   },
   "source": [
    "# Q6. 'Python is a nice Programming Language'를 띄어쓰기 기준으로 분할하여 리스트 `q6`으로 저장하시오."
   ]
  },
  {
   "cell_type": "code",
   "execution_count": 12,
   "metadata": {
    "id": "6j7TAh2X5yn2"
   },
   "outputs": [],
   "source": [
    "q6 = 'Python is a nice Programming Language'.split()"
   ]
  },
  {
   "cell_type": "markdown",
   "metadata": {
    "id": "hJJ9tWxt5zC2"
   },
   "source": [
    "# Q7. `q6`을 문자열 길이를 기준으로 오름차순 정렬하여 `q7`를 선언하시오."
   ]
  },
  {
   "cell_type": "code",
   "execution_count": 15,
   "metadata": {
    "id": "sag6m5wZ6MUX"
   },
   "outputs": [],
   "source": [
    "q7 = sorted(q6, key=len)"
   ]
  },
  {
   "cell_type": "markdown",
   "metadata": {
    "id": "F7BW2AVP6cMA"
   },
   "source": [
    "# Q8. 비어있는 dictionary `dict_q8`을 선언하고, 본인의 이름과 학번을 각각 key와 value로 하여 `dict_q8`에 추가하시오."
   ]
  },
  {
   "cell_type": "code",
   "execution_count": 19,
   "metadata": {
    "id": "tC_7_3eR67df"
   },
   "outputs": [],
   "source": [
    "dict_q8 = {}\n",
    "dict_q8.update({'한다윤': '2025170921'})"
   ]
  },
  {
   "cell_type": "markdown",
   "metadata": {
    "id": "R7ccGj7a67vg"
   },
   "source": [
    "# Q9. 아래 두 리스트를 선언하고 두 질문에 대하여 답하시오.\n",
    "\n",
    "```python\n",
    "list1 = [1,2,3,4]\n",
    "list2 = [1,2,3,4]\n",
    "```"
   ]
  },
  {
   "cell_type": "code",
   "execution_count": 7,
   "metadata": {
    "id": "Qfl5-cO77lM9"
   },
   "outputs": [],
   "source": [
    "list1 = [1, 2, 3, 4]\n",
    "list2 = [1, 2, 3, 4]"
   ]
  },
  {
   "cell_type": "markdown",
   "metadata": {
    "id": "IGjooPun7ll1"
   },
   "source": [
    "## Q9-1 두 리스트의 값이 같음을 보이시오."
   ]
  },
  {
   "cell_type": "code",
   "execution_count": 8,
   "metadata": {
    "id": "kMC7Zapp7niU"
   },
   "outputs": [
    {
     "data": {
      "text/plain": [
       "True"
      ]
     },
     "execution_count": 8,
     "metadata": {},
     "output_type": "execute_result"
    }
   ],
   "source": [
    "list1 == list2"
   ]
  },
  {
   "cell_type": "markdown",
   "metadata": {
    "id": "kxBRCVos7nxQ"
   },
   "source": [
    "## Q9-2 두 리스트의 주소값이 다름을 보이시오."
   ]
  },
  {
   "cell_type": "code",
   "execution_count": 9,
   "metadata": {
    "id": "llVnirau7oun"
   },
   "outputs": [
    {
     "data": {
      "text/plain": [
       "False"
      ]
     },
     "execution_count": 9,
     "metadata": {},
     "output_type": "execute_result"
    }
   ],
   "source": [
    "list1 is list2"
   ]
  },
  {
   "cell_type": "markdown",
   "metadata": {
    "id": "gaObiJM07xSs"
   },
   "source": [
    "# Q10. 변수 `year`에 연도를 선언하여 `year`가 윤년이면 True, 윤년이 아니면 `False`를 출력하는 코드를 작성하시오.\n",
    "\n",
    "**윤년 조건**\n",
    "- 4의 배수이면서 100의 배수는 아닌 경우\n",
    "- 4와 100의 배수이나 400의 배수인 경우"
   ]
  },
  {
   "cell_type": "code",
   "execution_count": 25,
   "metadata": {
    "id": "z6mrO-CK8Ncz"
   },
   "outputs": [
    {
     "name": "stdout",
     "output_type": "stream",
     "text": [
      "False\n"
     ]
    }
   ],
   "source": [
    "year = 2025\n",
    "print(True if (year % 4 == 0) and ((year % 100 != 0) or (year % 400 == 0)) else False)"
   ]
  },
  {
   "cell_type": "markdown",
   "metadata": {
    "id": "V8PUFcfTLyMd"
   },
   "source": [
    "# Q11. 두 개 list인 `names`과 `locations`가 있을 때 아래 질문에 맞게 코드를 작성 후 출력하시오.\n",
    "\n",
    "```python\n",
    "names = ['한상차림', '전주 외할머니댁', '보문수산']\n",
    "locations = ['서울 동대문구 한빛로 28 1층', '서울 동대문구 무학로30길 22', '서울 성북구 보문로 102-6']\n",
    "```\n",
    "\n",
    "1. `names`와 `locations` 리스트를 사용하여 음식점 이름을 key로 하고, 위치를 value로 하는 dictionary를 생성하시오.\n",
    "2. 반복문을 사용하여 음식점 이름과 위치를 출력하시오. 출력 형식은 '`이름`: `위치`' 입니다."
   ]
  },
  {
   "cell_type": "code",
   "execution_count": 27,
   "metadata": {
    "id": "Bvbw_AJKMnlr"
   },
   "outputs": [
    {
     "name": "stdout",
     "output_type": "stream",
     "text": [
      "한상차림: 서울 동대문구 한빛로 28 1층\n",
      "전주 외할머니댁: 서울 동대문구 무학로30길 22\n",
      "보문수산: 서울 성북구 보문로 102-6\n"
     ]
    }
   ],
   "source": [
    "names = ['한상차림', '전주 외할머니댁', '보문수산']\n",
    "locations = ['서울 동대문구 한빛로 28 1층', '서울 동대문구 무학로30길 22', '서울 성북구 보문로 102-6']\n",
    "\n",
    "restaurants = dict(zip(names, locations))\n",
    "\n",
    "for n, l in restaurants.items():\n",
    "    print(f'{n}: {l}')"
   ]
  },
  {
   "cell_type": "markdown",
   "metadata": {
    "id": "W-0dXNyz8lVR"
   },
   "source": [
    "# Q11. 아래 python 코드를 한 줄로 나타내시오.\n",
    "\n",
    "```python\n",
    "L = []\n",
    "for k in range(10):\n",
    "    if k % 2 == 1:\n",
    "        L.append(k*k)\n",
    "    else\n",
    "        pass\n",
    "\n",
    "print(L)\n",
    "````"
   ]
  },
  {
   "cell_type": "code",
   "execution_count": 51,
   "metadata": {
    "id": "mmbgAvnY951r"
   },
   "outputs": [],
   "source": [
    "L = [k * k for k in range(10) if k % 2 == 1]"
   ]
  },
  {
   "cell_type": "markdown",
   "metadata": {
    "id": "Dfrf4zzn9AKU"
   },
   "source": [
    "# Q12. 아래와 같이 두 벡터가 존재할 때 cosine similarity 수식을 참고하여 코드를 통해 유사도를 계산하시오. (수업 시 배운 내용만 참고할 것)\n",
    "\n",
    "```python\n",
    "X = [3,2,1,5,2,3,5]\n",
    "Y = [9,3,1,5,2,4,3]\n",
    "```\n",
    "\n",
    "$$cos(\\theta)=\\frac{\\sum_i^n{X_iY_i}}{\\sqrt{\\sum_i^n{X_i^2}}\\sqrt{\\sum_i^n{Y_i^2}}}$$"
   ]
  },
  {
   "cell_type": "code",
   "execution_count": 49,
   "metadata": {
    "id": "0wyAhmdq_iTv"
   },
   "outputs": [],
   "source": [
    "X = [3, 2, 1, 5, 2, 3, 5]\n",
    "Y = [9, 3, 1, 5, 2, 4, 3]\n",
    "\n",
    "xy = 0\n",
    "x_sq = 0\n",
    "y_sq = 0\n",
    "\n",
    "for x, y in zip(X, Y):\n",
    "    xy += x * y\n",
    "    x_sq += x ** 2\n",
    "    y_sq += y ** 2\n",
    "\n",
    "cos = xy / (x_sq ** 0.5 * y_sq ** 0.5)"
   ]
  }
 ],
 "metadata": {
  "colab": {
   "provenance": []
  },
  "kernelspec": {
   "display_name": "Python 3 (ipykernel)",
   "language": "python",
   "name": "python3"
  },
  "language_info": {
   "codemirror_mode": {
    "name": "ipython",
    "version": 3
   },
   "file_extension": ".py",
   "mimetype": "text/x-python",
   "name": "python",
   "nbconvert_exporter": "python",
   "pygments_lexer": "ipython3",
   "version": "3.11.7"
  }
 },
 "nbformat": 4,
 "nbformat_minor": 4
}
