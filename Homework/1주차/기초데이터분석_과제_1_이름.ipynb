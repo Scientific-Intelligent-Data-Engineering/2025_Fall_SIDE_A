{
  "nbformat": 4,
  "nbformat_minor": 0,
  "metadata": {
    "colab": {
      "provenance": []
    },
    "kernelspec": {
      "name": "python3",
      "display_name": "Python 3"
    },
    "language_info": {
      "name": "python"
    }
  },
  "cells": [
    {
      "cell_type": "markdown",
      "source": [
        "**제출 시 파일 제목에 이름을 수정하여 제출할 것!**\n",
        "\n",
        "# Assignment 1\n",
        "\n",
        "**범위**\n",
        "\n",
        "- 1.1 Python Basics\n",
        "- 1.2 Tuple, List, Dictionary, Set\n",
        "- 2.1 Conditions\n",
        "- 2.2 Loops"
      ],
      "metadata": {
        "id": "UP4WwsDP4A83"
      }
    },
    {
      "cell_type": "markdown",
      "source": [
        "# Q1. `range()`를 사용하여 0~9의 값을 가지는 리스트 `q1`을 선언하시오."
      ],
      "metadata": {
        "id": "NLcpEv3J4yED"
      }
    },
    {
      "cell_type": "code",
      "source": [],
      "metadata": {
        "id": "qg4ijMbr4qop"
      },
      "execution_count": null,
      "outputs": []
    },
    {
      "cell_type": "markdown",
      "source": [
        "# Q2. Slicing을 사용하여 `q1`에서 짝수만 출력하시오."
      ],
      "metadata": {
        "id": "fqMvSVUO4zSK"
      }
    },
    {
      "cell_type": "code",
      "execution_count": null,
      "metadata": {
        "id": "qgYMYc_x3y2d"
      },
      "outputs": [],
      "source": []
    },
    {
      "cell_type": "markdown",
      "source": [
        "# Q3. Slicing을 사용하여 `q1`에서 홀수만 출력하시오."
      ],
      "metadata": {
        "id": "wecbZTv3476Q"
      }
    },
    {
      "cell_type": "code",
      "source": [],
      "metadata": {
        "id": "zPavTUBq4-wJ"
      },
      "execution_count": null,
      "outputs": []
    },
    {
      "cell_type": "markdown",
      "source": [
        "# Q4. `q1`에서 index 2의 값을 200으로 변경하시오."
      ],
      "metadata": {
        "id": "Q0cIRYuY4_YI"
      }
    },
    {
      "cell_type": "code",
      "source": [],
      "metadata": {
        "id": "8vfVPUx25GVS"
      },
      "execution_count": null,
      "outputs": []
    },
    {
      "cell_type": "markdown",
      "source": [
        "# Q5. 아래 세 가지 방법으로 사용하여 `q1` 리스트 마지막에 100, 200, 300을 하나씩 추가하시오.\n",
        "\n"
      ],
      "metadata": {
        "id": "66A6g6ve5HDy"
      }
    },
    {
      "cell_type": "markdown",
      "source": [
        "## Q5-1 `append` 사용 (100 추가)\n"
      ],
      "metadata": {
        "id": "ryQm8LcZ5pcV"
      }
    },
    {
      "cell_type": "code",
      "source": [],
      "metadata": {
        "id": "0nxzHYqq7qa6"
      },
      "execution_count": null,
      "outputs": []
    },
    {
      "cell_type": "markdown",
      "source": [
        "## Q5-2 `insert` 사용 (200 추가)"
      ],
      "metadata": {
        "id": "Krf9pceH7sPQ"
      }
    },
    {
      "cell_type": "code",
      "source": [],
      "metadata": {
        "id": "7icbHgxv7tsz"
      },
      "execution_count": null,
      "outputs": []
    },
    {
      "cell_type": "markdown",
      "source": [
        "## Q5-3 `+` 연산자 사용 (300 추가)"
      ],
      "metadata": {
        "id": "vBXIritE7uAR"
      }
    },
    {
      "cell_type": "code",
      "source": [],
      "metadata": {
        "id": "FQxlcs6F7vHN"
      },
      "execution_count": null,
      "outputs": []
    },
    {
      "cell_type": "markdown",
      "source": [
        "# Q6. 'Python is a nice Programming Language'를 띄어쓰기 기준으로 분할하여 리스트 `q6`으로 저장하시오."
      ],
      "metadata": {
        "id": "T05QOoOn5nSW"
      }
    },
    {
      "cell_type": "code",
      "source": [],
      "metadata": {
        "id": "6j7TAh2X5yn2"
      },
      "execution_count": null,
      "outputs": []
    },
    {
      "cell_type": "markdown",
      "source": [
        "# Q7. `q6`을 문자열 길이를 기준으로 오름차순 정렬하여 `q7`를 선언하시오."
      ],
      "metadata": {
        "id": "hJJ9tWxt5zC2"
      }
    },
    {
      "cell_type": "code",
      "source": [],
      "metadata": {
        "id": "sag6m5wZ6MUX"
      },
      "execution_count": null,
      "outputs": []
    },
    {
      "cell_type": "markdown",
      "source": [
        "# Q8. 비어있는 dictionary `dict_q8`을 선언하고, 본인의 이름과 학번을 각각 key와 value로 하여 `dict_q8`에 추가하시오."
      ],
      "metadata": {
        "id": "F7BW2AVP6cMA"
      }
    },
    {
      "cell_type": "code",
      "source": [],
      "metadata": {
        "id": "tC_7_3eR67df"
      },
      "execution_count": null,
      "outputs": []
    },
    {
      "cell_type": "markdown",
      "source": [
        "# Q9. 아래 두 리스트를 선언하고 두 질문에 대하여 답하시오.\n",
        "\n",
        "```python\n",
        "list1 = [1,2,3,4]\n",
        "list2 = [1,2,3,4]\n",
        "```"
      ],
      "metadata": {
        "id": "R7ccGj7a67vg"
      }
    },
    {
      "cell_type": "code",
      "source": [],
      "metadata": {
        "id": "Qfl5-cO77lM9"
      },
      "execution_count": null,
      "outputs": []
    },
    {
      "cell_type": "markdown",
      "source": [
        "## Q9-1 두 리스트의 값이 같음을 보이시오."
      ],
      "metadata": {
        "id": "IGjooPun7ll1"
      }
    },
    {
      "cell_type": "code",
      "source": [],
      "metadata": {
        "id": "kMC7Zapp7niU"
      },
      "execution_count": null,
      "outputs": []
    },
    {
      "cell_type": "markdown",
      "source": [
        "## Q9-2 두 리스트의 주소값이 다름을 보이시오."
      ],
      "metadata": {
        "id": "kxBRCVos7nxQ"
      }
    },
    {
      "cell_type": "code",
      "source": [],
      "metadata": {
        "id": "llVnirau7oun"
      },
      "execution_count": null,
      "outputs": []
    },
    {
      "cell_type": "markdown",
      "source": [
        "# Q10. 변수 `year`에 연도를 선언하여 `year`가 윤년이면 True, 윤년이 아니면 `False`를 출력하는 코드를 작성하시오.\n",
        "\n",
        "**윤년 조건**\n",
        "- 4의 배수이면서 100의 배수는 아닌 경우\n",
        "- 4와 100의 배수이나 400의 배수인 경우"
      ],
      "metadata": {
        "id": "gaObiJM07xSs"
      }
    },
    {
      "cell_type": "code",
      "source": [],
      "metadata": {
        "id": "z6mrO-CK8Ncz"
      },
      "execution_count": null,
      "outputs": []
    },
    {
      "cell_type": "markdown",
      "source": [
        "# Q11. 두 개 list인 `names`과 `locations`가 있을 때 아래 질문에 맞게 코드를 작성 후 출력하시오.\n",
        "\n",
        "```python\n",
        "names = ['한상차림', '전주 외할머니댁', '보문수산']\n",
        "locations = ['서울 동대문구 한빛로 28 1층', '서울 동대문구 무학로30길 22', '서울 성북구 보문로 102-6']\n",
        "```\n",
        "\n",
        "1. `names`와 `locations` 리스트를 사용하여 음식점 이름을 key로 하고, 위치를 value로 하는 dictionary를 생성하시오.\n",
        "2. 반복문을 사용하여 음식점 이름과 위치를 출력하시오. 출력 형식은 '`이름`: `위치`' 입니다."
      ],
      "metadata": {
        "id": "V8PUFcfTLyMd"
      }
    },
    {
      "cell_type": "code",
      "source": [],
      "metadata": {
        "id": "Bvbw_AJKMnlr"
      },
      "execution_count": null,
      "outputs": []
    },
    {
      "cell_type": "markdown",
      "source": [
        "# Q11. 아래 python 코드를 한 줄로 나타내시오.\n",
        "\n",
        "```python\n",
        "L = []\n",
        "for k in range(10):\n",
        "    if k % 2 == 1:\n",
        "        L.append(k*k)\n",
        "    else\n",
        "        pass\n",
        "\n",
        "print(L)\n",
        "````"
      ],
      "metadata": {
        "id": "W-0dXNyz8lVR"
      }
    },
    {
      "cell_type": "code",
      "source": [],
      "metadata": {
        "id": "mmbgAvnY951r"
      },
      "execution_count": null,
      "outputs": []
    },
    {
      "cell_type": "markdown",
      "source": [
        "# Q12. 아래와 같이 두 벡터가 존재할 때 cosine similarity 수식을 참고하여 코드를 통해 유사도를 계산하시오. (수업 시 배운 내용만 참고할 것)\n",
        "\n",
        "```python\n",
        "X = [3,2,1,5,2,3,5]\n",
        "Y = [9,3,1,5,2,4,3]\n",
        "```\n",
        "\n",
        "$$cos(\\theta)=\\frac{\\sum_i^n{X_iY_i}}{\\sqrt{\\sum_i^n{X_i^2}}\\sqrt{\\sum_i^n{Y_i^2}}}$$"
      ],
      "metadata": {
        "id": "Dfrf4zzn9AKU"
      }
    },
    {
      "cell_type": "code",
      "source": [],
      "metadata": {
        "id": "0wyAhmdq_iTv"
      },
      "execution_count": null,
      "outputs": []
    }
  ]
}